{
 "cells": [
  {
   "cell_type": "code",
   "execution_count": 5,
   "metadata": {
    "ExecuteTime": {
     "end_time": "2020-05-26T20:04:13.188079Z",
     "start_time": "2020-05-26T20:04:10.854232Z"
    }
   },
   "outputs": [],
   "source": [
    "import pandas as pd\n",
    "import numpy as np\n",
    "#import torch\n",
    "import os\n",
    "from tqdm.auto import tqdm\n",
    "import json\n",
    "\n",
    "#Pyserini search\n",
    "from pyserini import search\n",
    "from jnius import autoclass\n",
    "\n",
    "#XML parsing\n",
    "import xml.etree.ElementTree as ET\n",
    "\n",
    "#TREC_EVAL\n",
    "from trectools import misc, TrecRun, TrecQrel, procedures\n",
    "\n",
    "from datetime import datetime\n",
    "\n",
    "from sklearn.preprocessing import MinMaxScaler"
   ]
  },
  {
   "cell_type": "code",
   "execution_count": 2,
   "metadata": {
    "ExecuteTime": {
     "end_time": "2020-05-26T20:04:13.217992Z",
     "start_time": "2020-05-26T20:04:13.194080Z"
    }
   },
   "outputs": [],
   "source": [
    "#Code can start here\n",
    "Pyserini_files = r'C:\\Users\\Jimmy Chen\\Box\\COVID19\\CORD19\\Pyserini_Lucene_CORD_index'\n",
    "TREC_COVID_root = r'C:\\Users\\Jimmy Chen\\Box\\COVID19\\CORD19\\TREC_COVID'\n",
    "\n",
    "#Round 2 indexes\n",
    "R2_fulltext = os.path.join(Pyserini_files, 'lucene-index-cord19-full-text-2020-05-01')\n",
    "R2_paragraphs = os.path.join(Pyserini_files, 'lucene-index-cord19-paragraph-2020-05-01')\n",
    "R2_topics= pd.read_csv(os.path.join(Pyserini_files, 'Round2_Topics.csv'))\n",
    "with open(os.path.join(Pyserini_files, 'docids-rnd2.txt')) as f:\n",
    "    R2_valid = f.read().splitlines()\n"
   ]
  },
  {
   "cell_type": "code",
   "execution_count": 157,
   "metadata": {},
   "outputs": [
    {
     "data": {
      "text/html": [
       "<div>\n",
       "<style scoped>\n",
       "    .dataframe tbody tr th:only-of-type {\n",
       "        vertical-align: middle;\n",
       "    }\n",
       "\n",
       "    .dataframe tbody tr th {\n",
       "        vertical-align: top;\n",
       "    }\n",
       "\n",
       "    .dataframe thead th {\n",
       "        text-align: right;\n",
       "    }\n",
       "</style>\n",
       "<table border=\"1\" class=\"dataframe\">\n",
       "  <thead>\n",
       "    <tr style=\"text-align: right;\">\n",
       "      <th></th>\n",
       "      <th>Topic</th>\n",
       "      <th>Q0</th>\n",
       "      <th>docid</th>\n",
       "      <th>relevance</th>\n",
       "    </tr>\n",
       "  </thead>\n",
       "  <tbody>\n",
       "    <tr>\n",
       "      <th>0</th>\n",
       "      <td>1</td>\n",
       "      <td>1.0</td>\n",
       "      <td>02f0opkr</td>\n",
       "      <td>1</td>\n",
       "    </tr>\n",
       "    <tr>\n",
       "      <th>1</th>\n",
       "      <td>1</td>\n",
       "      <td>1.0</td>\n",
       "      <td>04ftw7k9</td>\n",
       "      <td>0</td>\n",
       "    </tr>\n",
       "    <tr>\n",
       "      <th>2</th>\n",
       "      <td>1</td>\n",
       "      <td>1.0</td>\n",
       "      <td>05qglt1f</td>\n",
       "      <td>0</td>\n",
       "    </tr>\n",
       "    <tr>\n",
       "      <th>3</th>\n",
       "      <td>1</td>\n",
       "      <td>1.0</td>\n",
       "      <td>0604jed8</td>\n",
       "      <td>0</td>\n",
       "    </tr>\n",
       "    <tr>\n",
       "      <th>4</th>\n",
       "      <td>1</td>\n",
       "      <td>1.0</td>\n",
       "      <td>084o1dmp</td>\n",
       "      <td>0</td>\n",
       "    </tr>\n",
       "    <tr>\n",
       "      <th>...</th>\n",
       "      <td>...</td>\n",
       "      <td>...</td>\n",
       "      <td>...</td>\n",
       "      <td>...</td>\n",
       "    </tr>\n",
       "    <tr>\n",
       "      <th>8685</th>\n",
       "      <td>30</td>\n",
       "      <td>1.0</td>\n",
       "      <td>za3qypgg</td>\n",
       "      <td>0</td>\n",
       "    </tr>\n",
       "    <tr>\n",
       "      <th>8686</th>\n",
       "      <td>30</td>\n",
       "      <td>0.5</td>\n",
       "      <td>zb434ve3</td>\n",
       "      <td>1</td>\n",
       "    </tr>\n",
       "    <tr>\n",
       "      <th>8687</th>\n",
       "      <td>30</td>\n",
       "      <td>0.5</td>\n",
       "      <td>zio8yhuy</td>\n",
       "      <td>0</td>\n",
       "    </tr>\n",
       "    <tr>\n",
       "      <th>8688</th>\n",
       "      <td>30</td>\n",
       "      <td>1.0</td>\n",
       "      <td>zj34cb6f</td>\n",
       "      <td>0</td>\n",
       "    </tr>\n",
       "    <tr>\n",
       "      <th>8689</th>\n",
       "      <td>30</td>\n",
       "      <td>0.5</td>\n",
       "      <td>zn87f1lk</td>\n",
       "      <td>1</td>\n",
       "    </tr>\n",
       "  </tbody>\n",
       "</table>\n",
       "<p>8690 rows × 4 columns</p>\n",
       "</div>"
      ],
      "text/plain": [
       "      Topic   Q0     docid  relevance\n",
       "0         1  1.0  02f0opkr          1\n",
       "1         1  1.0  04ftw7k9          0\n",
       "2         1  1.0  05qglt1f          0\n",
       "3         1  1.0  0604jed8          0\n",
       "4         1  1.0  084o1dmp          0\n",
       "...     ...  ...       ...        ...\n",
       "8685     30  1.0  za3qypgg          0\n",
       "8686     30  0.5  zb434ve3          1\n",
       "8687     30  0.5  zio8yhuy          0\n",
       "8688     30  1.0  zj34cb6f          0\n",
       "8689     30  0.5  zn87f1lk          1\n",
       "\n",
       "[8690 rows x 4 columns]"
      ]
     },
     "execution_count": 157,
     "metadata": {},
     "output_type": "execute_result"
    }
   ],
   "source": [
    "#Load qrels and extract docids searched already for each topic\n",
    "qrels_file = os.path.join(TREC_COVID_root, 'Round_1_Results', 'qrels-1.txt')\n",
    "qrels_table = pd.read_csv(qrels_file, sep = ' ')\n",
    "qrels_table.columns = ['Topic', 'Q0' , 'Unnamed', 'docid', 'relevance']\n",
    "qrels_table.drop('Unnamed', axis=1, inplace=True)\n",
    "qrels_table"
   ]
  },
  {
   "cell_type": "code",
   "execution_count": 3,
   "metadata": {
    "ExecuteTime": {
     "end_time": "2020-05-26T20:04:19.315687Z",
     "start_time": "2020-05-26T20:04:18.530247Z"
    },
    "code_folding": [
     6,
     57
    ]
   },
   "outputs": [
    {
     "name": "stderr",
     "output_type": "stream",
     "text": [
      "[nltk_data] Downloading package stopwords to C:\\Users\\Jimmy\n",
      "[nltk_data]     Chen\\AppData\\Roaming\\nltk_data...\n",
      "[nltk_data]   Package stopwords is already up-to-date!\n"
     ]
    }
   ],
   "source": [
    "#Query design\n",
    "from pyserini.analysis.pyanalysis import get_lucene_analyzer, Analyzer\n",
    "import nltk\n",
    "from nltk.corpus import stopwords \n",
    "nltk.download('stopwords')\n",
    "\n",
    "#Stopwords for tokenization - manual review\n",
    "stopwords_manual = ['seek', 'seeking', 'look', 'looking', 'studies', 'study', 'information', \n",
    "             'about', 'range', 'studies', 'its', 'coronaviru',\n",
    "            'other', '2', '19', 'well', ' will', 'from', 'have', 'more', 'covid', 'any', 'what', \n",
    "            'should', 'may', 'due', 'help', 'non', 's', 'those', 'people', 'ways', 'all', 'gain',\n",
    "            'possible', 'toward', 'specifically', 'learned', 'number', 'proportion', 'including',\n",
    "            'etc', 'still', 'while', 'human', 'specific', 'result', 'results', 'assess', 'need',\n",
    "            'between', 'take', 'taking', 'patient', 'type', 'cause' ,'frequency', 'less', 'face',\n",
    "            'likely', 'infect', 'upon', 'develop', 'represent', 'promising', 'step', 'related',\n",
    "            'papers', 'describe', 'also', 'relevant', 'who', 'show', 'science', 'basic', 'complete',\n",
    "            'do', 'how', 'been', 'against', 'use', 'to', 'had', 'has', 'approach', 'Studies', 'Stud', 'Inst', 'Divi' ,'Thomae',\n",
    "            'Brigham', 'Young', 'Univ', 'studies', 'volition', 'severe acute respiratory syndrome', 'affect', 'affected',\n",
    "            'focus', 'discuss', 'speculative', 'must', 'include', 'draw', 'everyday', 'person', 'another', 'everyday', 'kind',\n",
    "            'comparison', 'direct', 'previous', 'articles']\n",
    "\n",
    "stopwords = list(set(stopwords.words('english')))\n",
    "stopwords_manual = list(np.append(stopwords_manual, stopwords))\n",
    "\n",
    "token_narrative_list = []\n",
    "\n",
    "#Extract important narrative text\n",
    "for i in range(len(R2_topics)):\n",
    "    analyzer = Analyzer(get_lucene_analyzer(stemmer='krovetz'))\n",
    "    tokens = analyzer.analyze(R2_topics['Narrative'][i])\n",
    "    for i, word in enumerate(tokens):\n",
    "        if ('exclud' in word):\n",
    "            tokens = tokens[:i]\n",
    "            break\n",
    "    #Remove stopwords and duplicates from token\n",
    "    tokens = [w for w in tokens if not w in stopwords_manual]\n",
    "    tokens = list(set(tokens))\n",
    "    #Remove all tokens after exclude\n",
    "    \n",
    "    token_narrative_list.append(tokens)\n",
    "\n",
    "#Tokenize question\n",
    "token_question_list = []\n",
    "\n",
    "#Extract important question text - NOT USED YET\n",
    "for i in range(len(R2_topics)):\n",
    "    analyzer = Analyzer(get_lucene_analyzer(stemmer='krovetz'))\n",
    "    tokens = analyzer.analyze(R2_topics['Question'][i])\n",
    "    #Remove stopwords and duplicates from token\n",
    "    tokens = [w for w in tokens if not w in stopwords_manual]\n",
    "    tokens = list(set(tokens))\n",
    "    token_question_list.append(tokens)\n",
    "\n",
    "#Anserini searcher can take both query and keywords\n",
    "#keywords_list = '2019-nCoV, SARS-CoV-2, COVID-19'\n",
    "keywords_list = 'COVID-19'\n",
    "\n",
    "#Manual keywords\n",
    "manual = [\n",
    "            'originated', #1\n",
    "            'temperature, humidity',\n",
    "            'cross-reactive, crossprotective, cross immunity, specific antibody response, neutralize, adaptive immunity',\n",
    "            'harms, mortality, dead, risk factors',\n",
    "            'non-human',\n",
    "            'identification, detection, PCR, point of care',\n",
    "            'serology, antigen, antibodies',\n",
    "            'ascertainment, underestimate',\n",
    "            'cov, canadian',\n",
    "            'home, restriction, social-distancing', #10\n",
    "            'resources, stratification',\n",
    "            'closure, restricted, movement, gathering',\n",
    "            'source, route, transmitted',\n",
    "            'super-spreader',\n",
    "            'aerosol, contact, droplet',\n",
    "            'live, days, contaminated',\n",
    "            'randomized, randomised, controlled',\n",
    "            'personal, protective, equipment, PPE, face',\n",
    "            'hygiene, alcohol-based',\n",
    "            'ARBs, blocker', #20\n",
    "            'death',\n",
    "            'coronary',\n",
    "            'blood, pressure',\n",
    "            'mellitus',\n",
    "            '',\n",
    "            'onset, new, presentation',\n",
    "            'SARS-CoV-2, 2019-nCoV',\n",
    "            'chloroquine ',\n",
    "            'binding',\n",
    "            '', #30\n",
    "            '', #31\n",
    "            'type', #32\n",
    "            '', #33\n",
    "            'long-term, survivors', #34\n",
    "            '', #35\n",
    "            ]"
   ]
  },
  {
   "cell_type": "code",
   "execution_count": 4,
   "metadata": {
    "ExecuteTime": {
     "end_time": "2020-05-26T20:04:53.197488Z",
     "start_time": "2020-05-26T20:04:22.898684Z"
    }
   },
   "outputs": [],
   "source": [
    "#Create SimpleSearcher for full text and paragraph indexes - Do this for Round 2 data\n",
    "full_searcher = pysearch.SimpleSearcher(R2_fulltext)\n",
    "paragraph_searcher = pysearch.SimpleSearcher(R2_paragraphs)\n",
    "\n",
    "#Tuned hyperparameters\n",
    "full_searcher.set_bm25_similarity(k1=1.5, b=0.4)\n",
    "full_searcher.set_lm_dirichlet_similarity(mu = 2000)\n",
    "full_searcher.set_rm3_reranker(fb_terms=20, fb_docs=10, original_query_weight=0.7)\n",
    "\n",
    "#Tuned hyperparameters\n",
    "paragraph_searcher.set_bm25_similarity(k1=1.5, b=0.4)\n",
    "paragraph_searcher.set_lm_dirichlet_similarity(mu = 2000)\n",
    "paragraph_searcher.set_rm3_reranker(fb_terms=20, fb_docs=10, original_query_weight=0.7)"
   ]
  },
  {
   "cell_type": "code",
   "execution_count": 5,
   "metadata": {},
   "outputs": [],
   "source": [
    "#Extract search results from the searcher\n",
    "def get_search_res_list(index_searcher, n_papers, paragraph = False):\n",
    "    docid_list = []\n",
    "    rank_list = []\n",
    "    score_list = []\n",
    "    topic_id_list = []\n",
    "    title_list = []\n",
    "    doi_list = []\n",
    "    publish_list = []\n",
    "    \n",
    "    if (paragraph == True):\n",
    "        n_papers = n_papers * 20\n",
    "    \n",
    "    #Search all 3 indices (abstract, full text, and paragraphs) using question as a query\n",
    "    for ii, row in R2_topics.iterrows():\n",
    "        query = R2_topics['Query'][ii]\n",
    "        question = R2_topics['Question'][ii]\n",
    "        topic_num = R2_topics['Topic'][ii]\n",
    "        token_topic = ', '.join(token_narrative_list[ii])\n",
    "        token_question = ','.join(token_question_list[ii])\n",
    "        manual_query = manual[ii] \n",
    "        input_query = query + '. ' + token_question + '. ' +  token_topic + ', ' + manual_query + ' . ' + keywords_list \n",
    "    \n",
    "        hits = index_searcher.search(q = input_query, k=n_papers)\n",
    "        print(topic_num)\n",
    "        #Each key is a qid, value is the anserini search list\n",
    "        for i in tqdm(range(0, n_papers), position = 0, leave = True):\n",
    "            topic_id_list.append(topic_num)\n",
    "            if (paragraph == True):\n",
    "                docid_list.append(str(hits[i].docid).split('.')[0])\n",
    "            else:\n",
    "                docid_list.append(hits[i].docid)\n",
    "            rank_list.append(str(i+1))\n",
    "            score_list.append(hits[i].score)\n",
    "            title_list.append(hits[i].lucene_document.get(\"title\"))\n",
    "            doi_list.append('https://doi.org/' + str(hits[i].lucene_document.get(\"doi\")))  \n",
    "            \n",
    "            #Get published date\n",
    "            doc_json = json.loads(hits[i].raw)\n",
    "            metadata = json.loads(doc_json['csv_metadata'])\n",
    "            publish_time_str = metadata['publish_time']\n",
    "            if len(publish_time_str) > 0:\n",
    "                try:\n",
    "                    publish_time = datetime.strptime(publish_time_str, '%Y-%m-%d')\n",
    "                except:\n",
    "                    publish_time = datetime.strptime(publish_time_str, '%Y')\n",
    "            else:\n",
    "                publish_time = ''\n",
    "            \n",
    "            publish_list.append(publish_time)\n",
    "\n",
    "    return topic_id_list, docid_list, rank_list, score_list, title_list, doi_list, publish_list"
   ]
  },
  {
   "cell_type": "code",
   "execution_count": 6,
   "metadata": {
    "scrolled": true
   },
   "outputs": [
    {
     "name": "stdout",
     "output_type": "stream",
     "text": [
      "1\n"
     ]
    },
    {
     "data": {
      "application/vnd.jupyter.widget-view+json": {
       "model_id": "b3c959627aef442f9b66611e4007fa23",
       "version_major": 2,
       "version_minor": 0
      },
      "text/plain": [
       "HBox(children=(FloatProgress(value=0.0, max=2000.0), HTML(value='')))"
      ]
     },
     "metadata": {},
     "output_type": "display_data"
    },
    {
     "name": "stdout",
     "output_type": "stream",
     "text": [
      "\n",
      "2\n"
     ]
    },
    {
     "data": {
      "application/vnd.jupyter.widget-view+json": {
       "model_id": "60ecd122c9054914914db41b3b301760",
       "version_major": 2,
       "version_minor": 0
      },
      "text/plain": [
       "HBox(children=(FloatProgress(value=0.0, max=2000.0), HTML(value='')))"
      ]
     },
     "metadata": {},
     "output_type": "display_data"
    },
    {
     "name": "stdout",
     "output_type": "stream",
     "text": [
      "\n",
      "3\n"
     ]
    },
    {
     "data": {
      "application/vnd.jupyter.widget-view+json": {
       "model_id": "c81e8da401ab41339f8374cae0792197",
       "version_major": 2,
       "version_minor": 0
      },
      "text/plain": [
       "HBox(children=(FloatProgress(value=0.0, max=2000.0), HTML(value='')))"
      ]
     },
     "metadata": {},
     "output_type": "display_data"
    },
    {
     "name": "stdout",
     "output_type": "stream",
     "text": [
      "\n",
      "4\n"
     ]
    },
    {
     "data": {
      "application/vnd.jupyter.widget-view+json": {
       "model_id": "73284fa97c4a49fbb59eba1dec7f06ae",
       "version_major": 2,
       "version_minor": 0
      },
      "text/plain": [
       "HBox(children=(FloatProgress(value=0.0, max=2000.0), HTML(value='')))"
      ]
     },
     "metadata": {},
     "output_type": "display_data"
    },
    {
     "name": "stdout",
     "output_type": "stream",
     "text": [
      "\n",
      "5\n"
     ]
    },
    {
     "data": {
      "application/vnd.jupyter.widget-view+json": {
       "model_id": "dad167eadda0443ba1205896d6f5767f",
       "version_major": 2,
       "version_minor": 0
      },
      "text/plain": [
       "HBox(children=(FloatProgress(value=0.0, max=2000.0), HTML(value='')))"
      ]
     },
     "metadata": {},
     "output_type": "display_data"
    },
    {
     "name": "stdout",
     "output_type": "stream",
     "text": [
      "\n",
      "6\n"
     ]
    },
    {
     "data": {
      "application/vnd.jupyter.widget-view+json": {
       "model_id": "6475252ece5848b8b6f1c1260e6efa88",
       "version_major": 2,
       "version_minor": 0
      },
      "text/plain": [
       "HBox(children=(FloatProgress(value=0.0, max=2000.0), HTML(value='')))"
      ]
     },
     "metadata": {},
     "output_type": "display_data"
    },
    {
     "name": "stdout",
     "output_type": "stream",
     "text": [
      "\n",
      "7\n"
     ]
    },
    {
     "data": {
      "application/vnd.jupyter.widget-view+json": {
       "model_id": "a98c6cc3597a4c4daae29222fbf564d8",
       "version_major": 2,
       "version_minor": 0
      },
      "text/plain": [
       "HBox(children=(FloatProgress(value=0.0, max=2000.0), HTML(value='')))"
      ]
     },
     "metadata": {},
     "output_type": "display_data"
    },
    {
     "name": "stdout",
     "output_type": "stream",
     "text": [
      "\n",
      "8\n"
     ]
    },
    {
     "data": {
      "application/vnd.jupyter.widget-view+json": {
       "model_id": "cf0a4c5bec9a4700908caacae708067a",
       "version_major": 2,
       "version_minor": 0
      },
      "text/plain": [
       "HBox(children=(FloatProgress(value=0.0, max=2000.0), HTML(value='')))"
      ]
     },
     "metadata": {},
     "output_type": "display_data"
    },
    {
     "name": "stdout",
     "output_type": "stream",
     "text": [
      "\n",
      "9\n"
     ]
    },
    {
     "data": {
      "application/vnd.jupyter.widget-view+json": {
       "model_id": "85d20e2745534f25b771b968745f194b",
       "version_major": 2,
       "version_minor": 0
      },
      "text/plain": [
       "HBox(children=(FloatProgress(value=0.0, max=2000.0), HTML(value='')))"
      ]
     },
     "metadata": {},
     "output_type": "display_data"
    },
    {
     "name": "stdout",
     "output_type": "stream",
     "text": [
      "\n",
      "10\n"
     ]
    },
    {
     "data": {
      "application/vnd.jupyter.widget-view+json": {
       "model_id": "12949ead61324efcbfc6522aaac50709",
       "version_major": 2,
       "version_minor": 0
      },
      "text/plain": [
       "HBox(children=(FloatProgress(value=0.0, max=2000.0), HTML(value='')))"
      ]
     },
     "metadata": {},
     "output_type": "display_data"
    },
    {
     "name": "stdout",
     "output_type": "stream",
     "text": [
      "\n",
      "11\n"
     ]
    },
    {
     "data": {
      "application/vnd.jupyter.widget-view+json": {
       "model_id": "52850591f831478e8230b5716bd1ac09",
       "version_major": 2,
       "version_minor": 0
      },
      "text/plain": [
       "HBox(children=(FloatProgress(value=0.0, max=2000.0), HTML(value='')))"
      ]
     },
     "metadata": {},
     "output_type": "display_data"
    },
    {
     "name": "stdout",
     "output_type": "stream",
     "text": [
      "\n",
      "12\n"
     ]
    },
    {
     "data": {
      "application/vnd.jupyter.widget-view+json": {
       "model_id": "d532d1b2edb64f84916f7058aaa56ce8",
       "version_major": 2,
       "version_minor": 0
      },
      "text/plain": [
       "HBox(children=(FloatProgress(value=0.0, max=2000.0), HTML(value='')))"
      ]
     },
     "metadata": {},
     "output_type": "display_data"
    },
    {
     "name": "stdout",
     "output_type": "stream",
     "text": [
      "\n",
      "13\n"
     ]
    },
    {
     "data": {
      "application/vnd.jupyter.widget-view+json": {
       "model_id": "835dfd1145c1470a9a298dc84667ee43",
       "version_major": 2,
       "version_minor": 0
      },
      "text/plain": [
       "HBox(children=(FloatProgress(value=0.0, max=2000.0), HTML(value='')))"
      ]
     },
     "metadata": {},
     "output_type": "display_data"
    },
    {
     "name": "stdout",
     "output_type": "stream",
     "text": [
      "\n",
      "14\n"
     ]
    },
    {
     "data": {
      "application/vnd.jupyter.widget-view+json": {
       "model_id": "f3fa7b827dff4f8f8d984064fb467cbc",
       "version_major": 2,
       "version_minor": 0
      },
      "text/plain": [
       "HBox(children=(FloatProgress(value=0.0, max=2000.0), HTML(value='')))"
      ]
     },
     "metadata": {},
     "output_type": "display_data"
    },
    {
     "name": "stdout",
     "output_type": "stream",
     "text": [
      "\n",
      "15\n"
     ]
    },
    {
     "data": {
      "application/vnd.jupyter.widget-view+json": {
       "model_id": "ad4f96e4ad4c413e9c9d86ca1aed2d0c",
       "version_major": 2,
       "version_minor": 0
      },
      "text/plain": [
       "HBox(children=(FloatProgress(value=0.0, max=2000.0), HTML(value='')))"
      ]
     },
     "metadata": {},
     "output_type": "display_data"
    },
    {
     "name": "stdout",
     "output_type": "stream",
     "text": [
      "\n",
      "16\n"
     ]
    },
    {
     "data": {
      "application/vnd.jupyter.widget-view+json": {
       "model_id": "4810b5526a8f42b0b849da37ea06a252",
       "version_major": 2,
       "version_minor": 0
      },
      "text/plain": [
       "HBox(children=(FloatProgress(value=0.0, max=2000.0), HTML(value='')))"
      ]
     },
     "metadata": {},
     "output_type": "display_data"
    },
    {
     "name": "stdout",
     "output_type": "stream",
     "text": [
      "\n",
      "17\n"
     ]
    },
    {
     "data": {
      "application/vnd.jupyter.widget-view+json": {
       "model_id": "82deb5a1e69547fbad2903cd388226cf",
       "version_major": 2,
       "version_minor": 0
      },
      "text/plain": [
       "HBox(children=(FloatProgress(value=0.0, max=2000.0), HTML(value='')))"
      ]
     },
     "metadata": {},
     "output_type": "display_data"
    },
    {
     "name": "stdout",
     "output_type": "stream",
     "text": [
      "\n",
      "18\n"
     ]
    },
    {
     "data": {
      "application/vnd.jupyter.widget-view+json": {
       "model_id": "43115b48aa1844ecb046550e569bd5fd",
       "version_major": 2,
       "version_minor": 0
      },
      "text/plain": [
       "HBox(children=(FloatProgress(value=0.0, max=2000.0), HTML(value='')))"
      ]
     },
     "metadata": {},
     "output_type": "display_data"
    },
    {
     "name": "stdout",
     "output_type": "stream",
     "text": [
      "\n",
      "19\n"
     ]
    },
    {
     "data": {
      "application/vnd.jupyter.widget-view+json": {
       "model_id": "5b042aab9fb44081ab483c40c064c808",
       "version_major": 2,
       "version_minor": 0
      },
      "text/plain": [
       "HBox(children=(FloatProgress(value=0.0, max=2000.0), HTML(value='')))"
      ]
     },
     "metadata": {},
     "output_type": "display_data"
    },
    {
     "name": "stdout",
     "output_type": "stream",
     "text": [
      "\n",
      "20\n"
     ]
    },
    {
     "data": {
      "application/vnd.jupyter.widget-view+json": {
       "model_id": "884fe9ef9b60479a8a1163fed4a73370",
       "version_major": 2,
       "version_minor": 0
      },
      "text/plain": [
       "HBox(children=(FloatProgress(value=0.0, max=2000.0), HTML(value='')))"
      ]
     },
     "metadata": {},
     "output_type": "display_data"
    },
    {
     "name": "stdout",
     "output_type": "stream",
     "text": [
      "\n",
      "21\n"
     ]
    },
    {
     "data": {
      "application/vnd.jupyter.widget-view+json": {
       "model_id": "5c27099f697e44a982268befbdfbf7eb",
       "version_major": 2,
       "version_minor": 0
      },
      "text/plain": [
       "HBox(children=(FloatProgress(value=0.0, max=2000.0), HTML(value='')))"
      ]
     },
     "metadata": {},
     "output_type": "display_data"
    },
    {
     "name": "stdout",
     "output_type": "stream",
     "text": [
      "\n",
      "22\n"
     ]
    },
    {
     "data": {
      "application/vnd.jupyter.widget-view+json": {
       "model_id": "9abb879351db4176878d7ee9f5317c79",
       "version_major": 2,
       "version_minor": 0
      },
      "text/plain": [
       "HBox(children=(FloatProgress(value=0.0, max=2000.0), HTML(value='')))"
      ]
     },
     "metadata": {},
     "output_type": "display_data"
    },
    {
     "name": "stdout",
     "output_type": "stream",
     "text": [
      "\n",
      "23\n"
     ]
    },
    {
     "data": {
      "application/vnd.jupyter.widget-view+json": {
       "model_id": "00f2a384e1674bddaa12c994694e79b8",
       "version_major": 2,
       "version_minor": 0
      },
      "text/plain": [
       "HBox(children=(FloatProgress(value=0.0, max=2000.0), HTML(value='')))"
      ]
     },
     "metadata": {},
     "output_type": "display_data"
    },
    {
     "name": "stdout",
     "output_type": "stream",
     "text": [
      "\n",
      "24\n"
     ]
    },
    {
     "data": {
      "application/vnd.jupyter.widget-view+json": {
       "model_id": "30df566406514ca2812db40ae0c51b4d",
       "version_major": 2,
       "version_minor": 0
      },
      "text/plain": [
       "HBox(children=(FloatProgress(value=0.0, max=2000.0), HTML(value='')))"
      ]
     },
     "metadata": {},
     "output_type": "display_data"
    },
    {
     "name": "stdout",
     "output_type": "stream",
     "text": [
      "\n",
      "25\n"
     ]
    },
    {
     "data": {
      "application/vnd.jupyter.widget-view+json": {
       "model_id": "c10fd10e94564fada8802f8702bba56a",
       "version_major": 2,
       "version_minor": 0
      },
      "text/plain": [
       "HBox(children=(FloatProgress(value=0.0, max=2000.0), HTML(value='')))"
      ]
     },
     "metadata": {},
     "output_type": "display_data"
    },
    {
     "name": "stdout",
     "output_type": "stream",
     "text": [
      "\n",
      "26\n"
     ]
    },
    {
     "data": {
      "application/vnd.jupyter.widget-view+json": {
       "model_id": "42ad59a1764842638ca34bf366f2ac84",
       "version_major": 2,
       "version_minor": 0
      },
      "text/plain": [
       "HBox(children=(FloatProgress(value=0.0, max=2000.0), HTML(value='')))"
      ]
     },
     "metadata": {},
     "output_type": "display_data"
    },
    {
     "name": "stdout",
     "output_type": "stream",
     "text": [
      "\n",
      "27\n"
     ]
    },
    {
     "data": {
      "application/vnd.jupyter.widget-view+json": {
       "model_id": "08102c2e65fa4d709e7c3d69b96931fe",
       "version_major": 2,
       "version_minor": 0
      },
      "text/plain": [
       "HBox(children=(FloatProgress(value=0.0, max=2000.0), HTML(value='')))"
      ]
     },
     "metadata": {},
     "output_type": "display_data"
    },
    {
     "name": "stdout",
     "output_type": "stream",
     "text": [
      "\n",
      "28\n"
     ]
    },
    {
     "data": {
      "application/vnd.jupyter.widget-view+json": {
       "model_id": "d23cfe4a7d3b4fdba65d94c15b62c810",
       "version_major": 2,
       "version_minor": 0
      },
      "text/plain": [
       "HBox(children=(FloatProgress(value=0.0, max=2000.0), HTML(value='')))"
      ]
     },
     "metadata": {},
     "output_type": "display_data"
    },
    {
     "name": "stdout",
     "output_type": "stream",
     "text": [
      "\n",
      "29\n"
     ]
    },
    {
     "data": {
      "application/vnd.jupyter.widget-view+json": {
       "model_id": "5c4b753ef41c49ff82972985d72660d1",
       "version_major": 2,
       "version_minor": 0
      },
      "text/plain": [
       "HBox(children=(FloatProgress(value=0.0, max=2000.0), HTML(value='')))"
      ]
     },
     "metadata": {},
     "output_type": "display_data"
    },
    {
     "name": "stdout",
     "output_type": "stream",
     "text": [
      "\n",
      "30\n"
     ]
    },
    {
     "data": {
      "application/vnd.jupyter.widget-view+json": {
       "model_id": "f662d8da293649f2a08746d17b16ca83",
       "version_major": 2,
       "version_minor": 0
      },
      "text/plain": [
       "HBox(children=(FloatProgress(value=0.0, max=2000.0), HTML(value='')))"
      ]
     },
     "metadata": {},
     "output_type": "display_data"
    },
    {
     "name": "stdout",
     "output_type": "stream",
     "text": [
      "\n",
      "31\n"
     ]
    },
    {
     "data": {
      "application/vnd.jupyter.widget-view+json": {
       "model_id": "4d4e9becf7154189a3c7b5f73b1f42bd",
       "version_major": 2,
       "version_minor": 0
      },
      "text/plain": [
       "HBox(children=(FloatProgress(value=0.0, max=2000.0), HTML(value='')))"
      ]
     },
     "metadata": {},
     "output_type": "display_data"
    },
    {
     "name": "stdout",
     "output_type": "stream",
     "text": [
      "\n",
      "32\n"
     ]
    },
    {
     "data": {
      "application/vnd.jupyter.widget-view+json": {
       "model_id": "8d3e8a3dc7174be787b268b3ca9c8b8e",
       "version_major": 2,
       "version_minor": 0
      },
      "text/plain": [
       "HBox(children=(FloatProgress(value=0.0, max=2000.0), HTML(value='')))"
      ]
     },
     "metadata": {},
     "output_type": "display_data"
    },
    {
     "name": "stdout",
     "output_type": "stream",
     "text": [
      "\n",
      "33\n"
     ]
    },
    {
     "data": {
      "application/vnd.jupyter.widget-view+json": {
       "model_id": "f460b67eaca543a48d17a5a7608a58ff",
       "version_major": 2,
       "version_minor": 0
      },
      "text/plain": [
       "HBox(children=(FloatProgress(value=0.0, max=2000.0), HTML(value='')))"
      ]
     },
     "metadata": {},
     "output_type": "display_data"
    },
    {
     "name": "stdout",
     "output_type": "stream",
     "text": [
      "\n",
      "34\n"
     ]
    },
    {
     "data": {
      "application/vnd.jupyter.widget-view+json": {
       "model_id": "51e5c3e7d54c4ac288605c483c78f7d3",
       "version_major": 2,
       "version_minor": 0
      },
      "text/plain": [
       "HBox(children=(FloatProgress(value=0.0, max=2000.0), HTML(value='')))"
      ]
     },
     "metadata": {},
     "output_type": "display_data"
    },
    {
     "name": "stdout",
     "output_type": "stream",
     "text": [
      "\n",
      "35\n"
     ]
    },
    {
     "data": {
      "application/vnd.jupyter.widget-view+json": {
       "model_id": "64367039207d40baac9c327b13ed9272",
       "version_major": 2,
       "version_minor": 0
      },
      "text/plain": [
       "HBox(children=(FloatProgress(value=0.0, max=2000.0), HTML(value='')))"
      ]
     },
     "metadata": {},
     "output_type": "display_data"
    },
    {
     "name": "stdout",
     "output_type": "stream",
     "text": [
      "\n",
      "1\n"
     ]
    },
    {
     "data": {
      "application/vnd.jupyter.widget-view+json": {
       "model_id": "567a6e8773234a1c8d92a0def40e1118",
       "version_major": 2,
       "version_minor": 0
      },
      "text/plain": [
       "HBox(children=(FloatProgress(value=0.0, max=40000.0), HTML(value='')))"
      ]
     },
     "metadata": {},
     "output_type": "display_data"
    },
    {
     "name": "stdout",
     "output_type": "stream",
     "text": [
      "\n",
      "2\n"
     ]
    },
    {
     "data": {
      "application/vnd.jupyter.widget-view+json": {
       "model_id": "6d5125a8c8564d21abdf3cdd43478008",
       "version_major": 2,
       "version_minor": 0
      },
      "text/plain": [
       "HBox(children=(FloatProgress(value=0.0, max=40000.0), HTML(value='')))"
      ]
     },
     "metadata": {},
     "output_type": "display_data"
    },
    {
     "name": "stdout",
     "output_type": "stream",
     "text": [
      "\n",
      "3\n"
     ]
    },
    {
     "data": {
      "application/vnd.jupyter.widget-view+json": {
       "model_id": "c78984621a834807b5c093473407fc6d",
       "version_major": 2,
       "version_minor": 0
      },
      "text/plain": [
       "HBox(children=(FloatProgress(value=0.0, max=40000.0), HTML(value='')))"
      ]
     },
     "metadata": {},
     "output_type": "display_data"
    },
    {
     "name": "stdout",
     "output_type": "stream",
     "text": [
      "\n",
      "4\n"
     ]
    },
    {
     "data": {
      "application/vnd.jupyter.widget-view+json": {
       "model_id": "dc50405f267845d79a3f371646a74bf0",
       "version_major": 2,
       "version_minor": 0
      },
      "text/plain": [
       "HBox(children=(FloatProgress(value=0.0, max=40000.0), HTML(value='')))"
      ]
     },
     "metadata": {},
     "output_type": "display_data"
    },
    {
     "name": "stdout",
     "output_type": "stream",
     "text": [
      "\n",
      "5\n"
     ]
    },
    {
     "data": {
      "application/vnd.jupyter.widget-view+json": {
       "model_id": "f023e6fb9cf1401cab5a1b02dadd5b4d",
       "version_major": 2,
       "version_minor": 0
      },
      "text/plain": [
       "HBox(children=(FloatProgress(value=0.0, max=40000.0), HTML(value='')))"
      ]
     },
     "metadata": {},
     "output_type": "display_data"
    },
    {
     "name": "stdout",
     "output_type": "stream",
     "text": [
      "\n",
      "6\n"
     ]
    },
    {
     "data": {
      "application/vnd.jupyter.widget-view+json": {
       "model_id": "0d06b112bb324e32bd339b86fabdbb90",
       "version_major": 2,
       "version_minor": 0
      },
      "text/plain": [
       "HBox(children=(FloatProgress(value=0.0, max=40000.0), HTML(value='')))"
      ]
     },
     "metadata": {},
     "output_type": "display_data"
    },
    {
     "name": "stdout",
     "output_type": "stream",
     "text": [
      "\n",
      "7\n"
     ]
    },
    {
     "data": {
      "application/vnd.jupyter.widget-view+json": {
       "model_id": "daba9045a31f44d9870fa9b263da8ced",
       "version_major": 2,
       "version_minor": 0
      },
      "text/plain": [
       "HBox(children=(FloatProgress(value=0.0, max=40000.0), HTML(value='')))"
      ]
     },
     "metadata": {},
     "output_type": "display_data"
    },
    {
     "name": "stdout",
     "output_type": "stream",
     "text": [
      "\n",
      "8\n"
     ]
    },
    {
     "data": {
      "application/vnd.jupyter.widget-view+json": {
       "model_id": "97d8a6f872e240fe8f23cda33aead41b",
       "version_major": 2,
       "version_minor": 0
      },
      "text/plain": [
       "HBox(children=(FloatProgress(value=0.0, max=40000.0), HTML(value='')))"
      ]
     },
     "metadata": {},
     "output_type": "display_data"
    },
    {
     "name": "stdout",
     "output_type": "stream",
     "text": [
      "\n",
      "9\n"
     ]
    },
    {
     "data": {
      "application/vnd.jupyter.widget-view+json": {
       "model_id": "d98936d37e784317afd266e108af18f0",
       "version_major": 2,
       "version_minor": 0
      },
      "text/plain": [
       "HBox(children=(FloatProgress(value=0.0, max=40000.0), HTML(value='')))"
      ]
     },
     "metadata": {},
     "output_type": "display_data"
    },
    {
     "name": "stdout",
     "output_type": "stream",
     "text": [
      "\n",
      "10\n"
     ]
    },
    {
     "data": {
      "application/vnd.jupyter.widget-view+json": {
       "model_id": "ec398f1f897c4d5bb6a8ec3fa586ec57",
       "version_major": 2,
       "version_minor": 0
      },
      "text/plain": [
       "HBox(children=(FloatProgress(value=0.0, max=40000.0), HTML(value='')))"
      ]
     },
     "metadata": {},
     "output_type": "display_data"
    },
    {
     "name": "stdout",
     "output_type": "stream",
     "text": [
      "\n",
      "11\n"
     ]
    },
    {
     "data": {
      "application/vnd.jupyter.widget-view+json": {
       "model_id": "eba98b66323f48cc92510328ce7cdd67",
       "version_major": 2,
       "version_minor": 0
      },
      "text/plain": [
       "HBox(children=(FloatProgress(value=0.0, max=40000.0), HTML(value='')))"
      ]
     },
     "metadata": {},
     "output_type": "display_data"
    },
    {
     "name": "stdout",
     "output_type": "stream",
     "text": [
      "\n",
      "12\n"
     ]
    },
    {
     "data": {
      "application/vnd.jupyter.widget-view+json": {
       "model_id": "b7b872f161134f2787a7f53fa99c93f4",
       "version_major": 2,
       "version_minor": 0
      },
      "text/plain": [
       "HBox(children=(FloatProgress(value=0.0, max=40000.0), HTML(value='')))"
      ]
     },
     "metadata": {},
     "output_type": "display_data"
    },
    {
     "name": "stdout",
     "output_type": "stream",
     "text": [
      "\n",
      "13\n"
     ]
    },
    {
     "data": {
      "application/vnd.jupyter.widget-view+json": {
       "model_id": "c393c4d5067741d192aa80c349337597",
       "version_major": 2,
       "version_minor": 0
      },
      "text/plain": [
       "HBox(children=(FloatProgress(value=0.0, max=40000.0), HTML(value='')))"
      ]
     },
     "metadata": {},
     "output_type": "display_data"
    },
    {
     "name": "stdout",
     "output_type": "stream",
     "text": [
      "\n",
      "14\n"
     ]
    },
    {
     "data": {
      "application/vnd.jupyter.widget-view+json": {
       "model_id": "cf739b8f9e1247d8ad98703e71ee9e67",
       "version_major": 2,
       "version_minor": 0
      },
      "text/plain": [
       "HBox(children=(FloatProgress(value=0.0, max=40000.0), HTML(value='')))"
      ]
     },
     "metadata": {},
     "output_type": "display_data"
    },
    {
     "name": "stdout",
     "output_type": "stream",
     "text": [
      "\n",
      "15\n"
     ]
    },
    {
     "data": {
      "application/vnd.jupyter.widget-view+json": {
       "model_id": "44662bf8603244e2ba87f986095df96a",
       "version_major": 2,
       "version_minor": 0
      },
      "text/plain": [
       "HBox(children=(FloatProgress(value=0.0, max=40000.0), HTML(value='')))"
      ]
     },
     "metadata": {},
     "output_type": "display_data"
    },
    {
     "name": "stdout",
     "output_type": "stream",
     "text": [
      "\n",
      "16\n"
     ]
    },
    {
     "data": {
      "application/vnd.jupyter.widget-view+json": {
       "model_id": "0269a35f2fca46c6a904d39a9a7b4a54",
       "version_major": 2,
       "version_minor": 0
      },
      "text/plain": [
       "HBox(children=(FloatProgress(value=0.0, max=40000.0), HTML(value='')))"
      ]
     },
     "metadata": {},
     "output_type": "display_data"
    },
    {
     "name": "stdout",
     "output_type": "stream",
     "text": [
      "\n",
      "17\n"
     ]
    },
    {
     "data": {
      "application/vnd.jupyter.widget-view+json": {
       "model_id": "57abf29e6a444e06a0ea692603a71f20",
       "version_major": 2,
       "version_minor": 0
      },
      "text/plain": [
       "HBox(children=(FloatProgress(value=0.0, max=40000.0), HTML(value='')))"
      ]
     },
     "metadata": {},
     "output_type": "display_data"
    },
    {
     "name": "stdout",
     "output_type": "stream",
     "text": [
      "\n",
      "18\n"
     ]
    },
    {
     "data": {
      "application/vnd.jupyter.widget-view+json": {
       "model_id": "d26cabebb6ed4d47a58a0ac86f81bff4",
       "version_major": 2,
       "version_minor": 0
      },
      "text/plain": [
       "HBox(children=(FloatProgress(value=0.0, max=40000.0), HTML(value='')))"
      ]
     },
     "metadata": {},
     "output_type": "display_data"
    },
    {
     "name": "stdout",
     "output_type": "stream",
     "text": [
      "\n",
      "19\n"
     ]
    },
    {
     "data": {
      "application/vnd.jupyter.widget-view+json": {
       "model_id": "e3958f9518a2419aabfd3d2b17e57ab4",
       "version_major": 2,
       "version_minor": 0
      },
      "text/plain": [
       "HBox(children=(FloatProgress(value=0.0, max=40000.0), HTML(value='')))"
      ]
     },
     "metadata": {},
     "output_type": "display_data"
    },
    {
     "name": "stdout",
     "output_type": "stream",
     "text": [
      "\n",
      "20\n"
     ]
    },
    {
     "data": {
      "application/vnd.jupyter.widget-view+json": {
       "model_id": "2342a9f50d704d639df9b9d7ec6b4ff7",
       "version_major": 2,
       "version_minor": 0
      },
      "text/plain": [
       "HBox(children=(FloatProgress(value=0.0, max=40000.0), HTML(value='')))"
      ]
     },
     "metadata": {},
     "output_type": "display_data"
    },
    {
     "name": "stdout",
     "output_type": "stream",
     "text": [
      "\n",
      "21\n"
     ]
    },
    {
     "data": {
      "application/vnd.jupyter.widget-view+json": {
       "model_id": "c97f056fa3764f71841320eb3bcef428",
       "version_major": 2,
       "version_minor": 0
      },
      "text/plain": [
       "HBox(children=(FloatProgress(value=0.0, max=40000.0), HTML(value='')))"
      ]
     },
     "metadata": {},
     "output_type": "display_data"
    },
    {
     "name": "stdout",
     "output_type": "stream",
     "text": [
      "\n",
      "22\n"
     ]
    },
    {
     "data": {
      "application/vnd.jupyter.widget-view+json": {
       "model_id": "48b17a52e4f54725aebc94afc3833c34",
       "version_major": 2,
       "version_minor": 0
      },
      "text/plain": [
       "HBox(children=(FloatProgress(value=0.0, max=40000.0), HTML(value='')))"
      ]
     },
     "metadata": {},
     "output_type": "display_data"
    },
    {
     "name": "stdout",
     "output_type": "stream",
     "text": [
      "\n",
      "23\n"
     ]
    },
    {
     "data": {
      "application/vnd.jupyter.widget-view+json": {
       "model_id": "c448f213c86d43aba004032e453775cb",
       "version_major": 2,
       "version_minor": 0
      },
      "text/plain": [
       "HBox(children=(FloatProgress(value=0.0, max=40000.0), HTML(value='')))"
      ]
     },
     "metadata": {},
     "output_type": "display_data"
    },
    {
     "name": "stdout",
     "output_type": "stream",
     "text": [
      "\n",
      "24\n"
     ]
    },
    {
     "data": {
      "application/vnd.jupyter.widget-view+json": {
       "model_id": "8c4aeaf4584348d880f976f75244506b",
       "version_major": 2,
       "version_minor": 0
      },
      "text/plain": [
       "HBox(children=(FloatProgress(value=0.0, max=40000.0), HTML(value='')))"
      ]
     },
     "metadata": {},
     "output_type": "display_data"
    },
    {
     "name": "stdout",
     "output_type": "stream",
     "text": [
      "\n",
      "25\n"
     ]
    },
    {
     "data": {
      "application/vnd.jupyter.widget-view+json": {
       "model_id": "7ae69a77c0844d7c822650442d56a65f",
       "version_major": 2,
       "version_minor": 0
      },
      "text/plain": [
       "HBox(children=(FloatProgress(value=0.0, max=40000.0), HTML(value='')))"
      ]
     },
     "metadata": {},
     "output_type": "display_data"
    },
    {
     "name": "stdout",
     "output_type": "stream",
     "text": [
      "\n",
      "26\n"
     ]
    },
    {
     "data": {
      "application/vnd.jupyter.widget-view+json": {
       "model_id": "b57d5a35ee494b488c5ef5f8cfe96116",
       "version_major": 2,
       "version_minor": 0
      },
      "text/plain": [
       "HBox(children=(FloatProgress(value=0.0, max=40000.0), HTML(value='')))"
      ]
     },
     "metadata": {},
     "output_type": "display_data"
    },
    {
     "name": "stdout",
     "output_type": "stream",
     "text": [
      "\n",
      "27\n"
     ]
    },
    {
     "data": {
      "application/vnd.jupyter.widget-view+json": {
       "model_id": "86991c2af0b74fecb4f30570e61af4be",
       "version_major": 2,
       "version_minor": 0
      },
      "text/plain": [
       "HBox(children=(FloatProgress(value=0.0, max=40000.0), HTML(value='')))"
      ]
     },
     "metadata": {},
     "output_type": "display_data"
    },
    {
     "name": "stdout",
     "output_type": "stream",
     "text": [
      "\n",
      "28\n"
     ]
    },
    {
     "data": {
      "application/vnd.jupyter.widget-view+json": {
       "model_id": "dbc69f9c86ee41b7a335a2ee67f443a3",
       "version_major": 2,
       "version_minor": 0
      },
      "text/plain": [
       "HBox(children=(FloatProgress(value=0.0, max=40000.0), HTML(value='')))"
      ]
     },
     "metadata": {},
     "output_type": "display_data"
    },
    {
     "name": "stdout",
     "output_type": "stream",
     "text": [
      "\n",
      "29\n"
     ]
    },
    {
     "data": {
      "application/vnd.jupyter.widget-view+json": {
       "model_id": "59d41ce2bd184197bf3ddc25a707c2f4",
       "version_major": 2,
       "version_minor": 0
      },
      "text/plain": [
       "HBox(children=(FloatProgress(value=0.0, max=40000.0), HTML(value='')))"
      ]
     },
     "metadata": {},
     "output_type": "display_data"
    },
    {
     "name": "stdout",
     "output_type": "stream",
     "text": [
      "\n",
      "30\n"
     ]
    },
    {
     "data": {
      "application/vnd.jupyter.widget-view+json": {
       "model_id": "ebb0c00a67c644bd8406fb53bb7db21d",
       "version_major": 2,
       "version_minor": 0
      },
      "text/plain": [
       "HBox(children=(FloatProgress(value=0.0, max=40000.0), HTML(value='')))"
      ]
     },
     "metadata": {},
     "output_type": "display_data"
    },
    {
     "name": "stdout",
     "output_type": "stream",
     "text": [
      "\n",
      "31\n"
     ]
    },
    {
     "data": {
      "application/vnd.jupyter.widget-view+json": {
       "model_id": "3b49ad5377404943ad53b1ef581ed67d",
       "version_major": 2,
       "version_minor": 0
      },
      "text/plain": [
       "HBox(children=(FloatProgress(value=0.0, max=40000.0), HTML(value='')))"
      ]
     },
     "metadata": {},
     "output_type": "display_data"
    },
    {
     "name": "stdout",
     "output_type": "stream",
     "text": [
      "\n",
      "32\n"
     ]
    },
    {
     "data": {
      "application/vnd.jupyter.widget-view+json": {
       "model_id": "a9a74de494c14d429aeacc0d48e48f85",
       "version_major": 2,
       "version_minor": 0
      },
      "text/plain": [
       "HBox(children=(FloatProgress(value=0.0, max=40000.0), HTML(value='')))"
      ]
     },
     "metadata": {},
     "output_type": "display_data"
    },
    {
     "name": "stdout",
     "output_type": "stream",
     "text": [
      "\n",
      "33\n"
     ]
    },
    {
     "data": {
      "application/vnd.jupyter.widget-view+json": {
       "model_id": "5cdb3e10fbbb4883a95ebd356c2f1075",
       "version_major": 2,
       "version_minor": 0
      },
      "text/plain": [
       "HBox(children=(FloatProgress(value=0.0, max=40000.0), HTML(value='')))"
      ]
     },
     "metadata": {},
     "output_type": "display_data"
    },
    {
     "name": "stdout",
     "output_type": "stream",
     "text": [
      "\n",
      "34\n"
     ]
    },
    {
     "data": {
      "application/vnd.jupyter.widget-view+json": {
       "model_id": "acc511868e8842feaf4a3d8e99947e2c",
       "version_major": 2,
       "version_minor": 0
      },
      "text/plain": [
       "HBox(children=(FloatProgress(value=0.0, max=40000.0), HTML(value='')))"
      ]
     },
     "metadata": {},
     "output_type": "display_data"
    },
    {
     "name": "stdout",
     "output_type": "stream",
     "text": [
      "\n",
      "35\n"
     ]
    },
    {
     "data": {
      "application/vnd.jupyter.widget-view+json": {
       "model_id": "6adcf564e0c942bfbdefc9c086b53fa5",
       "version_major": 2,
       "version_minor": 0
      },
      "text/plain": [
       "HBox(children=(FloatProgress(value=0.0, max=40000.0), HTML(value='')))"
      ]
     },
     "metadata": {},
     "output_type": "display_data"
    },
    {
     "name": "stdout",
     "output_type": "stream",
     "text": [
      "\n"
     ]
    }
   ],
   "source": [
    "#Search 2000 so that we have room to remove up to 1000 docs from Round 1\n",
    "#Search extra - will drop duplicates and will use extra for BERT reranking\n",
    "n_papers = 2000\n",
    "\n",
    "#Each key is a qid, value is the anserini search list\n",
    "full_topic, full_docid, full_rank, full_score, full_title, full_doi, full_publish = get_search_res_list(full_searcher, n_papers)\n",
    "paragraph_topic, paragraph_docid, paragraph_rank, paragraph_score, paragraph_title, paragraph_doi, paragraph_publish = get_search_res_list(paragraph_searcher, n_papers, paragraph = True)\n"
   ]
  },
  {
   "cell_type": "code",
   "execution_count": 172,
   "metadata": {},
   "outputs": [],
   "source": [
    "#Make dataframe from lists generated from search\n",
    "def TREC_df(topic_id_list, docid_list, rank_list, score_list, title_list, doi_list, publish_list, run_param, date_param, drop_1000, drop_dups):\n",
    "    #Run-tag for TREC run requirements\n",
    "    Q0 = ['q0'] * len(topic_id_list) \n",
    "    qid = [run_param] * len(topic_id_list)\n",
    "\n",
    "    df  = {'topic': topic_id_list , 'q0':Q0, 'docid':docid_list, 'rank':rank_list, \n",
    "                                 'score':score_list, 'title': title_list, 'doi':doi_list,'date':publish_list, 'qid':qid}\n",
    "    df = pd.DataFrame(df)\n",
    "    df = df[['topic', 'q0', 'docid', 'rank', 'score', 'title', 'doi', 'date', 'qid']]\n",
    "    \n",
    "    #Filter by time\n",
    "    if (date_param == True):\n",
    "        df = df[df['date'].dt.year >= 2020]\n",
    "    \n",
    "    #Remove duplicates\n",
    "    if (drop_dups == True):\n",
    "        df.drop_duplicates(subset=['topic', 'docid'], keep='first', inplace = True)\n",
    "        df.reset_index(drop=True, inplace=True) #Reset indexes to match row\n",
    "    \n",
    "    #Drop judged docids in R1\n",
    "    index_list = []\n",
    "    qrel_topics = qrels_table.groupby('Topic')   \n",
    "    for topic, group in tqdm(qrel_topics, position=0, leave = True):\n",
    "        #Get all docids of that topic from qrels\n",
    "        topic_docid = list(group['docid'])\n",
    "        for i in range(len(df)):\n",
    "            if(topic == int(df['topic'][i]) and df['docid'][i] in topic_docid):\n",
    "                index_list.append(i)\n",
    "    \n",
    "    df.drop(df.index[index_list], inplace=True)\n",
    "    #Make sure all docids are valid\n",
    "    df.reset_index(inplace = True)\n",
    "    index_list = []\n",
    "    for i in range(len(df)):\n",
    "        if(df['docid'][i] not in R2_valid):\n",
    "            index_list.append(i)\n",
    "    \n",
    "    df.drop(df.index[index_list], inplace=True)\n",
    "    #Re-rank\n",
    "    df['rank'] = df.groupby('topic')['score'].rank(ascending=False)\n",
    "    df['rank'] = df['rank'].astype(int)\n",
    "    \n",
    "    #For each topic, save up to 1000 searches (since we drop duplicates)\n",
    "    if (drop_1000 == True):\n",
    "        df = df[df['rank'] <= 1000] \n",
    "    #Reset index\n",
    "    df.reset_index(drop=True, inplace=True)\n",
    "    \n",
    "    #Get columns for submission\n",
    "    df = df[['topic', 'q0', 'docid', 'rank', 'score', 'qid']]\n",
    "    \n",
    "    return df"
   ]
  },
  {
   "cell_type": "code",
   "execution_count": 173,
   "metadata": {},
   "outputs": [
    {
     "data": {
      "application/vnd.jupyter.widget-view+json": {
       "model_id": "f33f335f2cec4222861ac7e389aa9e0a",
       "version_major": 2,
       "version_minor": 0
      },
      "text/plain": [
       "HBox(children=(FloatProgress(value=0.0, max=30.0), HTML(value='')))"
      ]
     },
     "metadata": {},
     "output_type": "display_data"
    },
    {
     "name": "stdout",
     "output_type": "stream",
     "text": [
      "\n"
     ]
    },
    {
     "data": {
      "application/vnd.jupyter.widget-view+json": {
       "model_id": "2814446113794bdba104f2178b3b6f97",
       "version_major": 2,
       "version_minor": 0
      },
      "text/plain": [
       "HBox(children=(FloatProgress(value=0.0, max=30.0), HTML(value='')))"
      ]
     },
     "metadata": {},
     "output_type": "display_data"
    },
    {
     "name": "stdout",
     "output_type": "stream",
     "text": [
      "\n"
     ]
    }
   ],
   "source": [
    "full_df = TREC_df(full_topic, full_docid, full_rank, full_score, full_title, full_doi, full_publish, 'FullTxt_R2_Orig', False, True, True)\n",
    "full_df_time = TREC_df(full_topic, full_docid, full_rank, full_score, full_title, full_doi, full_publish, 'FullTxt_R2_Time', True, True, True)"
   ]
  },
  {
   "cell_type": "code",
   "execution_count": 174,
   "metadata": {},
   "outputs": [
    {
     "data": {
      "application/vnd.jupyter.widget-view+json": {
       "model_id": "4d64d4af2d7b4f4a9b8b8d8006fa2599",
       "version_major": 2,
       "version_minor": 0
      },
      "text/plain": [
       "HBox(children=(FloatProgress(value=0.0, max=30.0), HTML(value='')))"
      ]
     },
     "metadata": {},
     "output_type": "display_data"
    },
    {
     "name": "stdout",
     "output_type": "stream",
     "text": [
      "\n"
     ]
    },
    {
     "data": {
      "application/vnd.jupyter.widget-view+json": {
       "model_id": "8639e03796ac4d7f81d66f1f86d10c95",
       "version_major": 2,
       "version_minor": 0
      },
      "text/plain": [
       "HBox(children=(FloatProgress(value=0.0, max=30.0), HTML(value='')))"
      ]
     },
     "metadata": {},
     "output_type": "display_data"
    },
    {
     "name": "stdout",
     "output_type": "stream",
     "text": [
      "\n"
     ]
    },
    {
     "data": {
      "application/vnd.jupyter.widget-view+json": {
       "model_id": "8ec0f35479254e34ba62e6c2e757d9ce",
       "version_major": 2,
       "version_minor": 0
      },
      "text/plain": [
       "HBox(children=(FloatProgress(value=0.0, max=30.0), HTML(value='')))"
      ]
     },
     "metadata": {},
     "output_type": "display_data"
    },
    {
     "name": "stdout",
     "output_type": "stream",
     "text": [
      "\n"
     ]
    }
   ],
   "source": [
    "#No date filter, don't drop to 1000, remove dups\n",
    "full_df_copy = TREC_df(full_topic, full_docid, full_rank, full_score, full_title, full_doi, full_publish, 'FullTxt_R2_OrigCopy', False, False, True)\n",
    "#Date filter, don't drop to 1000, remove dups\n",
    "full_df_time_copy = TREC_df(full_topic, full_docid, full_rank, full_score, full_title, full_doi, full_publish, 'FullTxt_R2_TimeCopy', True, False, True)\n",
    "#No date filter, don't drop to 1000, Keep dups\n",
    "paragraph_df = TREC_df(paragraph_topic, paragraph_docid, paragraph_rank, paragraph_score, paragraph_title, paragraph_doi, paragraph_publish, 'Paragraph_R2', False, False, False)"
   ]
  },
  {
   "cell_type": "code",
   "execution_count": 175,
   "metadata": {},
   "outputs": [],
   "source": [
    "#Join processed paragraph and dataframe based on score\n",
    "def join_df(full_df, para_df, param):\n",
    "    #In paragraph index, for each topic, average all scores for each paragraph for docids (already stripped of paragraph #)\n",
    "    #Create df with columns topic, docid, score\n",
    "    if (param == 'average'):\n",
    "        new_df = para_df.groupby(['topic', 'docid'])['score'].mean()\n",
    "        new_df = new_df.reset_index()\n",
    "        \n",
    "    #In paragraph index, For each topic, take the max score\n",
    "    if (param == 'max'):\n",
    "        new_df = para_df.drop_duplicates(subset=['topic', 'docid'], keep='first')\n",
    "        new_df.reset_index(drop=True, inplace=True) #Reset indexes to match row\n",
    "        new_df = new_df[['topic', 'docid', 'score']]\n",
    "        \n",
    "    #Merge column to full_df with score from paragraph\n",
    "    new_df.columns = ['topic', 'docid', 'para_score']\n",
    "    new_df.reset_index(inplace=True)\n",
    "    \n",
    "    full_df = full_df.merge(new_df, how='left', left_on=['topic', 'docid'],\n",
    "         right_on = ['topic', 'docid'])\n",
    "    full_df = full_df.drop('index', 1)\n",
    "\n",
    "    return full_df"
   ]
  },
  {
   "cell_type": "code",
   "execution_count": 176,
   "metadata": {},
   "outputs": [],
   "source": [
    "#Paragraph index - Calculate final score to re-rank for average\n",
    "full_df_orig_para_avg = join_df(full_df_copy, paragraph_df, 'average')\n",
    "full_df_time_para_avg = join_df(full_df_time_copy, paragraph_df, 'average')\n",
    "#Paragraph index - Calculate final score to re-rank for max\n",
    "full_df_orig_para_max = join_df(full_df_copy, paragraph_df, 'max')\n",
    "full_df_time_para_max = join_df(full_df_time_copy, paragraph_df, 'max')"
   ]
  },
  {
   "cell_type": "code",
   "execution_count": 177,
   "metadata": {},
   "outputs": [],
   "source": [
    "#Try different ways to combine scores\n",
    "\n",
    "#1 Full + Paragraph score\n",
    "full_df_orig_para_avg['Processed_score_1'] = full_df_orig_para_avg['score'] + full_df_orig_para_avg['para_score']\n",
    "full_df_time_para_avg['Processed_score_1'] = full_df_time_para_avg['score'] + full_df_time_para_avg['para_score']\n",
    "full_df_orig_para_max['Processed_score_1'] = full_df_orig_para_max['score'] + full_df_orig_para_max['para_score']\n",
    "full_df_time_para_max['Processed_score_1'] = full_df_time_para_max['score'] + full_df_time_para_max['para_score']\n",
    "\n",
    "#2. Full + half paragraph \n",
    "full_df_orig_para_avg['Processed_score_2'] = full_df_orig_para_avg['score'] + 0.5 * full_df_orig_para_avg['para_score']\n",
    "full_df_time_para_avg['Processed_score_2'] = full_df_time_para_avg['score'] + 0.5 * full_df_time_para_avg['para_score']\n",
    "full_df_orig_para_max['Processed_score_2'] = full_df_orig_para_max['score'] + 0.5 * full_df_orig_para_max['para_score']\n",
    "full_df_time_para_max['Processed_score_2'] = full_df_time_para_max['score'] + 0.5 * full_df_time_para_max['para_score']\n",
    "\n",
    "#3. Full + Quarter paragraph\n",
    "full_df_orig_para_avg['Processed_score_3'] = full_df_orig_para_avg['score'] + 0.25 * full_df_orig_para_avg['para_score']\n",
    "full_df_time_para_avg['Processed_score_3'] = full_df_time_para_avg['score'] + 0.25 * full_df_time_para_avg['para_score']\n",
    "full_df_orig_para_max['Processed_score_3'] = full_df_orig_para_max['score'] + 0.25 * full_df_orig_para_max['para_score']\n",
    "full_df_time_para_max['Processed_score_3'] = full_df_time_para_max['score'] + 0.25 * full_df_time_para_max['para_score']\n",
    "\n",
    "#4. Half Full + paragraph\n",
    "full_df_orig_para_avg['Processed_score_4'] = 0.5 * full_df_orig_para_avg['score'] + full_df_orig_para_avg['para_score']\n",
    "full_df_time_para_avg['Processed_score_4'] = 0.5 * full_df_time_para_avg['score'] + full_df_time_para_avg['para_score']\n",
    "full_df_orig_para_max['Processed_score_4'] = 0.5 * full_df_orig_para_max['score'] + full_df_orig_para_max['para_score']\n",
    "full_df_time_para_max['Processed_score_4'] = 0.5 * full_df_time_para_max['score'] + full_df_time_para_max['para_score']\n",
    "\n",
    "#5.Quarter Full + paragraph\n",
    "full_df_orig_para_avg['Processed_score_5'] = 0.25 * full_df_orig_para_avg['score'] + full_df_orig_para_avg['para_score']\n",
    "full_df_time_para_avg['Processed_score_5'] = 0.25 * full_df_time_para_avg['score'] + full_df_time_para_avg['para_score']\n",
    "full_df_orig_para_max['Processed_score_5'] = 0.25 * full_df_orig_para_max['score'] + full_df_orig_para_max['para_score']\n",
    "full_df_time_para_max['Processed_score_5'] = 0.25 * full_df_time_para_max['score'] + full_df_time_para_max['para_score']\n"
   ]
  },
  {
   "cell_type": "code",
   "execution_count": 178,
   "metadata": {},
   "outputs": [],
   "source": [
    "#Re-rank \n",
    "def process_combo(df, col_name, run_tag):\n",
    "    #Add run tag\n",
    "    df['qid'] = run_tag\n",
    "    \n",
    "    #Drop duplicates\n",
    "    df.drop_duplicates(subset=['topic', 'docid'], keep='first', inplace = True)\n",
    "    df.reset_index(drop=True, inplace=True) #Reset indexes to match row\n",
    "    \n",
    "    #Re-rank, need to fill NAs\n",
    "    df[col_name] = df[col_name].fillna(0)\n",
    "    df['rank'] = df.groupby('topic')[col_name].rank(ascending=False)\n",
    "    df['rank'] = df['rank'].astype(int)\n",
    "    df = df.groupby('topic').apply(lambda x: x.sort_values('rank'))\n",
    "    \n",
    "    #Limit to 1000\n",
    "    #For each topic, save up to 1000 searches (since we drop duplicates)\n",
    "    df = df[df['rank'] <= 1000] \n",
    "    #Reset index\n",
    "    df.reset_index(drop=True, inplace=True)\n",
    "    \n",
    "    #Select TREC-compliant columns\n",
    "    df = df[['topic', 'q0', 'docid', 'rank', col_name, 'qid']]\n",
    "    \n",
    "    return df"
   ]
  },
  {
   "cell_type": "code",
   "execution_count": 179,
   "metadata": {},
   "outputs": [],
   "source": [
    "pfull_df_orig_para_avg1 = process_combo(full_df_orig_para_avg, 'Processed_score_1', 'Orig_avg_ScorePara')\n",
    "pfull_df_time_para_avg1 = process_combo(full_df_time_para_avg, 'Processed_score_1', 'Time_avg_ScorePara')\n",
    "pfull_df_orig_para_max1 = process_combo(full_df_orig_para_max, 'Processed_score_1', 'Orig_max_ScorePara')\n",
    "pfull_df_time_para_max1 = process_combo(full_df_time_para_max, 'Processed_score_1', 'Time_max_ScorePara')\n",
    "\n",
    "#2. Full + half paragraph \n",
    "pfull_df_orig_para_avg2 = process_combo(full_df_orig_para_avg, 'Processed_score_2', 'Orig_avg_ScoreHalfPara')\n",
    "pfull_df_time_para_avg2 = process_combo(full_df_time_para_avg, 'Processed_score_2', 'Time_avg_ScoreHalfPara')\n",
    "pfull_df_orig_para_max2 = process_combo(full_df_orig_para_max, 'Processed_score_2', 'Orig_max_ScoreHalfPara')\n",
    "pfull_df_time_para_max2 = process_combo(full_df_time_para_max, 'Processed_score_2', 'Time_max_ScoreHalfPara')\n",
    "\n",
    "#3. Full + Quarter paragraph\n",
    "pfull_df_orig_para_avg3 = process_combo(full_df_orig_para_avg, 'Processed_score_3', 'Orig_avg_ScoreQuarterPara')\n",
    "pfull_df_time_para_avg3 = process_combo(full_df_time_para_avg, 'Processed_score_3', 'Time_avg_ScoreQuarterPara')\n",
    "pfull_df_orig_para_max3 = process_combo(full_df_orig_para_max, 'Processed_score_3', 'Orig_max_ScoreQuarterPara')\n",
    "pfull_df_time_para_max3 = process_combo(full_df_time_para_max, 'Processed_score_3', 'Time_max_ScoreQuarterPara')\n",
    "\n",
    "#4. Half Full + paragraph\n",
    "pfull_df_orig_para_avg4 = process_combo(full_df_orig_para_avg, 'Processed_score_4', 'Orig_avg_ScoreHalfFullPara')\n",
    "pfull_df_time_para_avg4 = process_combo(full_df_time_para_avg, 'Processed_score_4', 'Time_avg_ScoreHalfFullPara')\n",
    "pfull_df_orig_para_max4 = process_combo(full_df_orig_para_max, 'Processed_score_4', 'Orig_max_ScoreHalfFullPara')\n",
    "pfull_df_time_para_max4 = process_combo(full_df_time_para_max, 'Processed_score_4', 'Time_max_ScoreHalfFullPara')\n",
    "\n",
    "#5.Quarter Full + paragraph\n",
    "pfull_df_orig_para_avg5 = process_combo(full_df_orig_para_avg, 'Processed_score_5', 'Orig_avg_ScoreQuarterFullPara')\n",
    "pfull_df_time_para_avg5 = process_combo(full_df_time_para_avg, 'Processed_score_5', 'Time_avg_ScoreQuarterFullPara')\n",
    "pfull_df_orig_para_max5 = process_combo(full_df_orig_para_max, 'Processed_score_5', 'Orig_max_ScoreQuarterFullPara')\n",
    "pfull_df_time_para_max5 = process_combo(full_df_time_para_max, 'Processed_score_5', 'Time_max_ScoreQuarterFullPara')\n"
   ]
  },
  {
   "cell_type": "code",
   "execution_count": 180,
   "metadata": {},
   "outputs": [],
   "source": [
    "Results_folder = r'C:\\Users\\Jimmy Chen\\Box\\COVID19\\CORD19\\TREC_COVID\\Round2_Runs'\n",
    "full_df.to_csv(os.path.join(Results_folder, 'OHSU_R2_ORIG_v2.txt'), sep=' ', index=False, header=None)\n",
    "full_df_time.to_csv(os.path.join(Results_folder, 'OHSU_R2_TIME_v2.txt'), sep=' ', index=False, header=None)\n",
    "\n",
    "pfull_df_orig_para_avg1.to_csv(os.path.join(Results_folder, 'pfull_df_orig_para_avg1.txt'), sep=' ', index=False, header=None)\n",
    "pfull_df_time_para_avg1.to_csv(os.path.join(Results_folder, 'pfull_df_time_para_avg1.txt'), sep=' ', index=False, header=None)\n",
    "pfull_df_orig_para_max1.to_csv(os.path.join(Results_folder, 'pfull_df_orig_para_max1.txt'), sep=' ', index=False, header=None)\n",
    "pfull_df_time_para_max1.to_csv(os.path.join(Results_folder, 'pfull_df_time_para_max1.txt'), sep=' ', index=False, header=None)\n",
    "\n",
    "pfull_df_orig_para_avg2.to_csv(os.path.join(Results_folder, 'pfull_df_orig_para_avg2.txt'), sep=' ', index=False, header=None)\n",
    "pfull_df_time_para_avg2.to_csv(os.path.join(Results_folder, 'pfull_df_time_para_avg2.txt'), sep=' ', index=False, header=None)\n",
    "pfull_df_orig_para_max2.to_csv(os.path.join(Results_folder, 'pfull_df_orig_para_max2.txt'), sep=' ', index=False, header=None)\n",
    "pfull_df_time_para_max2.to_csv(os.path.join(Results_folder, 'pfull_df_time_para_max2.txt'), sep=' ', index=False, header=None)\n",
    "\n",
    "pfull_df_orig_para_avg3.to_csv(os.path.join(Results_folder, 'pfull_df_orig_para_avg3.txt'), sep=' ', index=False, header=None)\n",
    "pfull_df_time_para_avg3.to_csv(os.path.join(Results_folder, 'pfull_df_time_para_avg3.txt'), sep=' ', index=False, header=None)\n",
    "pfull_df_orig_para_max3.to_csv(os.path.join(Results_folder, 'pfull_df_orig_para_max3.txt'), sep=' ', index=False, header=None)\n",
    "pfull_df_time_para_max3.to_csv(os.path.join(Results_folder, 'pfull_df_time_para_max3.txt'), sep=' ', index=False, header=None)\n",
    "\n",
    "\n",
    "pfull_df_orig_para_avg4.to_csv(os.path.join(Results_folder, 'pfull_df_orig_para_avg4.txt'), sep=' ', index=False, header=None)\n",
    "pfull_df_time_para_avg4.to_csv(os.path.join(Results_folder, 'pfull_df_time_para_avg4.txt'), sep=' ', index=False, header=None)\n",
    "pfull_df_orig_para_max4.to_csv(os.path.join(Results_folder, 'pfull_df_orig_para_max4.txt'), sep=' ', index=False, header=None)\n",
    "pfull_df_time_para_max4.to_csv(os.path.join(Results_folder, 'pfull_df_time_para_max4.txt'), sep=' ', index=False, header=None)\n",
    "\n",
    "\n",
    "pfull_df_orig_para_avg5.to_csv(os.path.join(Results_folder, 'pfull_df_orig_para_avg5.txt'), sep=' ', index=False, header=None)\n",
    "pfull_df_time_para_avg5.to_csv(os.path.join(Results_folder, 'pfull_df_time_para_avg5.txt'), sep=' ', index=False, header=None)\n",
    "pfull_df_orig_para_max5.to_csv(os.path.join(Results_folder, 'pfull_df_orig_para_max5.txt'), sep=' ', index=False, header=None)\n",
    "pfull_df_time_para_max5.to_csv(os.path.join(Results_folder, 'pfull_df_time_para_max5.txt'), sep=' ', index=False, header=None)\n"
   ]
  },
  {
   "cell_type": "markdown",
   "metadata": {},
   "source": [
    "# TRECTOOLS"
   ]
  },
  {
   "cell_type": "code",
   "execution_count": 15,
   "metadata": {},
   "outputs": [],
   "source": [
    "def trectools_eval(res_fol, qrels_file):\n",
    "    \n",
    "    qrels = TrecQrel(qrels_file)\n",
    "\n",
    "    #Generate metrics for all 3 indices (1000 docs retrieved for each)\n",
    "    runs = procedures.list_of_runs_from_path(res_fol, \"*.txt\")\n",
    "    results = procedures.evaluate_runs(runs, qrels, per_query=True)\n",
    "    p5 = procedures.extract_metric_from_results(results, \"P_5\")\n",
    "    p10 = procedures.extract_metric_from_results(results, \"P_10\")\n",
    "    Bpref = procedures.extract_metric_from_results(results, \"bpref\")\n",
    "    Mean_avgP = procedures.extract_metric_from_results(results, 'map')\n",
    "\n",
    "    #Aggregate results to dataframe\n",
    "    runs_names = [os.path.basename(str(x)).split('.')[0] for x in runs]\n",
    "    p5_list = []\n",
    "    p10_list = []\n",
    "    map_list = []\n",
    "    bpref_list = []\n",
    "    ndcg_list = []\n",
    "\n",
    "    for i in range(len(runs)):\n",
    "        p5_list.append(p5[i][1])\n",
    "        p10_list.append(p10[i][1])\n",
    "        map_list.append(Mean_avgP[i][1])\n",
    "        bpref_list.append(Bpref[i][1])\n",
    "\n",
    "    Result_df  = {'Run':runs_names, 'P@5': p5_list, 'P@10': p10_list, 'MAP': map_list, 'Bpref': bpref_list}\n",
    "    Result_df = pd.DataFrame(Result_df)\n",
    "    \n",
    "    print(Result_df.sort_values('MAP', ascending = False))"
   ]
  },
  {
   "cell_type": "code",
   "execution_count": 18,
   "metadata": {},
   "outputs": [
    {
     "name": "stdout",
     "output_type": "stream",
     "text": [
      "Found 46 runs in path C:\\Users\\Jimmy Chen\\Box\\COVID19\\CORD19\\TREC_COVID\\Round3_Runs\n",
      "                          Run    P@5    P@10       MAP     Bpref\n",
      "16               combo_fusion  0.790  0.7425  0.322697  0.582784\n",
      "17        combo_IOWA_OHSU_run  0.790  0.7425  0.322697  0.582784\n",
      "31  newrd3borda_alltopics_run  0.875  0.8400  0.318511  0.577768\n",
      "42                time_fusion  0.690  0.6275  0.269141  0.571685\n",
      "40             R3_time_fusion  0.690  0.6275  0.269141  0.571685\n",
      "41        R3_time_fusion_1000  0.690  0.6275  0.269141  0.549705\n",
      "43           time_fusion_1000  0.690  0.6275  0.269141  0.549705\n",
      "6                       avg_0  0.610  0.5650  0.242025  0.514498\n",
      "39        R3_orig_fusion_1000  0.690  0.6025  0.240156  0.512049\n",
      "33           orig_fusion_1000  0.690  0.6025  0.240156  0.512049\n",
      "45          total_fusion_1000  0.690  0.6025  0.240156  0.512049\n",
      "7                       avg_0  0.665  0.5850  0.235632  0.506401\n",
      "3       AbstractTxt_time_1000  0.645  0.6025  0.232578  0.481820\n",
      "2            AbstractTxt_time  0.645  0.6025  0.232578  0.483625\n",
      "22                      max_0  0.595  0.5300  0.219973  0.496108\n",
      "37          ParaTxt_time_1000  0.605  0.5375  0.213356  0.512324\n",
      "36               ParaTxt_time  0.605  0.5375  0.213356  0.555855\n",
      "23                      max_0  0.610  0.5500  0.212676  0.479701\n",
      "32                orig_fusion  0.580  0.5225  0.205186  0.533448\n",
      "44               total_fusion  0.580  0.5225  0.205186  0.533448\n",
      "38             R3_orig_fusion  0.580  0.5225  0.205186  0.533448\n",
      "8                       avg_0  0.700  0.6375  0.205124  0.496546\n",
      "24                      max_0  0.630  0.5700  0.200205  0.465646\n",
      "19               FullTxt_1000  0.615  0.5575  0.188683  0.445569\n",
      "20               FullTxt_time  0.615  0.5575  0.188683  0.457279\n",
      "21          FullTxt_time_1000  0.615  0.5575  0.188683  0.445569\n",
      "25                      max_0  0.625  0.5575  0.180301  0.457474\n",
      "4                    anserini  0.380  0.3775  0.175438  0.520830\n",
      "9                       avg_0  0.710  0.6575  0.174776  0.485855\n",
      "0                 AbstractTxt  0.475  0.4550  0.159470  0.497027\n",
      "1            AbstractTxt_1000  0.475  0.4550  0.159470  0.448298\n",
      "18                    FullTxt  0.525  0.4900  0.157727  0.462457\n",
      "26                      max_0  0.580  0.4975  0.155677  0.449230\n",
      "11                      avg_0  0.650  0.6550  0.153970  0.477066\n",
      "10                      avg_0  0.650  0.6550  0.153970  0.477066\n",
      "34                    ParaTxt  0.490  0.4225  0.149316  0.533203\n",
      "35               ParaTxt_1000  0.490  0.4225  0.149316  0.430689\n",
      "5                    anserini  0.345  0.3625  0.147120  0.535081\n",
      "12                      avg_0  0.620  0.5725  0.137059  0.467108\n",
      "27                      max_0  0.455  0.4150  0.127698  0.439952\n",
      "13                      avg_0  0.585  0.5250  0.125458  0.460837\n",
      "14                      avg_0  0.560  0.4900  0.117205  0.454767\n",
      "15                      avg_0  0.540  0.4675  0.111500  0.448894\n",
      "28                      max_0  0.380  0.3075  0.103635  0.432024\n",
      "29                      max_0  0.240  0.2200  0.086163  0.424992\n",
      "30                      max_0  0.190  0.1650  0.075285  0.418675\n"
     ]
    }
   ],
   "source": [
    "trectools_eval(res_fol= r'C:\\Users\\Jimmy Chen\\Box\\COVID19\\CORD19\\TREC_COVID\\Round3_Runs',\n",
    "               qrels_file=r'C:\\Users\\Jimmy Chen\\Box\\COVID19\\CORD19\\Pyserini_Lucene_CORD_index\\qrels-covid_d3_j2.5-3.txt')"
   ]
  }
 ],
 "metadata": {
  "kernelspec": {
   "display_name": "Python 3",
   "language": "python",
   "name": "python3"
  },
  "language_info": {
   "codemirror_mode": {
    "name": "ipython",
    "version": 3
   },
   "file_extension": ".py",
   "mimetype": "text/x-python",
   "name": "python",
   "nbconvert_exporter": "python",
   "pygments_lexer": "ipython3",
   "version": "3.6.10"
  },
  "varInspector": {
   "cols": {
    "lenName": 16,
    "lenType": 16,
    "lenVar": 40
   },
   "kernels_config": {
    "python": {
     "delete_cmd_postfix": "",
     "delete_cmd_prefix": "del ",
     "library": "var_list.py",
     "varRefreshCmd": "print(var_dic_list())"
    },
    "r": {
     "delete_cmd_postfix": ") ",
     "delete_cmd_prefix": "rm(",
     "library": "var_list.r",
     "varRefreshCmd": "cat(var_dic_list()) "
    }
   },
   "types_to_exclude": [
    "module",
    "function",
    "builtin_function_or_method",
    "instance",
    "_Feature"
   ],
   "window_display": false
  }
 },
 "nbformat": 4,
 "nbformat_minor": 4
}
