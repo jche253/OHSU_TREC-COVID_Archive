{
 "cells": [
  {
   "cell_type": "code",
   "execution_count": 1,
   "metadata": {
    "ExecuteTime": {
     "end_time": "2020-06-24T21:19:46.008652Z",
     "start_time": "2020-06-24T21:19:46.003652Z"
    }
   },
   "outputs": [],
   "source": [
    "import pandas as pd\n",
    "import numpy as np\n",
    "import torch\n",
    "import os\n",
    "from tqdm.auto import tqdm\n",
    "import json\n",
    "from datetime import datetime\n",
    "\n",
    "#Pyserini search\n",
    "from pyserini.search import SimpleSearcher, SimpleFusionSearcher\n",
    "from jnius import autoclass\n",
    "\n",
    "#XML parsing\n",
    "import xml.etree.ElementTree as ET\n",
    "\n",
    "#TREC_EVAL\n",
    "from trectools import misc, TrecRun, TrecQrel, procedures, fusion\n"
   ]
  },
  {
   "cell_type": "code",
   "execution_count": 19,
   "metadata": {
    "ExecuteTime": {
     "end_time": "2020-06-24T21:20:39.489565Z",
     "start_time": "2020-06-24T21:20:37.564092Z"
    }
   },
   "outputs": [],
   "source": [
    "#Code can start here\n",
    "Pyserini_files = r'C:\\Users\\Jimmy Chen\\Box\\COVID19\\CORD19\\Pyserini_Lucene_CORD_index'\n",
    "TREC_COVID_root = r'C:\\Users\\Jimmy Chen\\Box\\COVID19\\CORD19\\TREC_COVID'\n",
    "\n",
    "#Round 2 indexes\n",
    "R4_abstract = os.path.join(Pyserini_files, 'lucene-index-cord19-abstract-2020-06-19')\n",
    "R4_fulltext = os.path.join(Pyserini_files, 'lucene-index-cord19-full-text-2020-06-19')\n",
    "R4_paragraphs = os.path.join(Pyserini_files, 'lucene-index-cord19-paragraph-2020-06-19')\n",
    "with open(os.path.join(Pyserini_files, 'docids-rnd4.txt')) as f:\n",
    "    R4_valid = f.read().splitlines()\n",
    "    \n",
    "#Load R1 qrels and extract docids searched already for each topic\n",
    "qrels_file1 = os.path.join(Pyserini_files, 'qrels-1.txt')\n",
    "qrels_file2 = os.path.join(Pyserini_files, 'qrels-rnd2.txt')\n",
    "qrels_file3 = os.path.join(Pyserini_files, 'qrels-covid_d3_j0.5-3.txt')\n",
    "qrels_table1 = pd.read_csv(qrels_file1, sep = ' ', header = None)\n",
    "qrels_table2 = pd.read_csv(qrels_file2, sep = ' ', header = None)\n",
    "qrels_table3 = pd.read_csv(qrels_file3, sep = ' ', header = None)\n",
    "qrels_table = qrels_table1.append(qrels_table2, ignore_index=True)\n",
    "qrels_table.columns = ['Topic', 'Q0' , 'Unnamed', 'docid', 'relevance']\n",
    "qrels_table.drop('Unnamed', axis=1, inplace=True)\n",
    "qrels_table3.columns = ['Topic', 'Q0' , 'docid', 'relevance']\n",
    "qrels_table = qrels_table.append(qrels_table3, ignore_index = True)\n"
   ]
  },
  {
   "cell_type": "code",
   "execution_count": 8,
   "metadata": {
    "ExecuteTime": {
     "end_time": "2020-06-24T21:20:53.128264Z",
     "start_time": "2020-06-24T21:20:53.075076Z"
    }
   },
   "outputs": [
    {
     "data": {
      "text/html": [
       "<div>\n",
       "<style scoped>\n",
       "    .dataframe tbody tr th:only-of-type {\n",
       "        vertical-align: middle;\n",
       "    }\n",
       "\n",
       "    .dataframe tbody tr th {\n",
       "        vertical-align: top;\n",
       "    }\n",
       "\n",
       "    .dataframe thead th {\n",
       "        text-align: right;\n",
       "    }\n",
       "</style>\n",
       "<table border=\"1\" class=\"dataframe\">\n",
       "  <thead>\n",
       "    <tr style=\"text-align: right;\">\n",
       "      <th></th>\n",
       "      <th>Topic</th>\n",
       "      <th>Query</th>\n",
       "      <th>Question</th>\n",
       "      <th>Narrative</th>\n",
       "    </tr>\n",
       "  </thead>\n",
       "  <tbody>\n",
       "    <tr>\n",
       "      <th>0</th>\n",
       "      <td>1</td>\n",
       "      <td>coronavirus origin</td>\n",
       "      <td>what is the origin of COVID-19</td>\n",
       "      <td>seeking range of information about the SARS-Co...</td>\n",
       "    </tr>\n",
       "    <tr>\n",
       "      <th>1</th>\n",
       "      <td>2</td>\n",
       "      <td>coronavirus response to weather changes</td>\n",
       "      <td>how does the coronavirus respond to changes in...</td>\n",
       "      <td>seeking range of information about the SARS-Co...</td>\n",
       "    </tr>\n",
       "    <tr>\n",
       "      <th>2</th>\n",
       "      <td>3</td>\n",
       "      <td>coronavirus immunity</td>\n",
       "      <td>will SARS-CoV2 infected people develop immunit...</td>\n",
       "      <td>seeking studies of immunity developed due to i...</td>\n",
       "    </tr>\n",
       "    <tr>\n",
       "      <th>3</th>\n",
       "      <td>4</td>\n",
       "      <td>how do people die from the coronavirus</td>\n",
       "      <td>what causes death from Covid-19?</td>\n",
       "      <td>Studies looking at mechanisms of death from Co...</td>\n",
       "    </tr>\n",
       "    <tr>\n",
       "      <th>4</th>\n",
       "      <td>5</td>\n",
       "      <td>animal models of COVID-19</td>\n",
       "      <td>what drugs have been active against SARS-CoV o...</td>\n",
       "      <td>Papers that describe the results  of testing d...</td>\n",
       "    </tr>\n",
       "    <tr>\n",
       "      <th>5</th>\n",
       "      <td>6</td>\n",
       "      <td>coronavirus test rapid testing</td>\n",
       "      <td>what types of rapid testing for Covid-19 have ...</td>\n",
       "      <td>Looking for studies identifying ways to diagno...</td>\n",
       "    </tr>\n",
       "    <tr>\n",
       "      <th>6</th>\n",
       "      <td>7</td>\n",
       "      <td>serological tests for coronavirus</td>\n",
       "      <td>are there serological tests that detect antibo...</td>\n",
       "      <td>Looking for assays that measure immune respons...</td>\n",
       "    </tr>\n",
       "    <tr>\n",
       "      <th>7</th>\n",
       "      <td>8</td>\n",
       "      <td>coronavirus under reporting</td>\n",
       "      <td>how has lack of testing availability led to un...</td>\n",
       "      <td>Looking for studies answering questions of imp...</td>\n",
       "    </tr>\n",
       "    <tr>\n",
       "      <th>8</th>\n",
       "      <td>9</td>\n",
       "      <td>coronavirus in Canada</td>\n",
       "      <td>how has COVID-19 affected Canada</td>\n",
       "      <td>seeking data related to infections (confirm, s...</td>\n",
       "    </tr>\n",
       "    <tr>\n",
       "      <th>9</th>\n",
       "      <td>10</td>\n",
       "      <td>coronavirus social distancing impact</td>\n",
       "      <td>has social distancing had an impact on slowing...</td>\n",
       "      <td>seeking specific information on studies that h...</td>\n",
       "    </tr>\n",
       "    <tr>\n",
       "      <th>10</th>\n",
       "      <td>11</td>\n",
       "      <td>coronavirus hospital rationing</td>\n",
       "      <td>what are the guidelines for triaging patients ...</td>\n",
       "      <td>Seeking information on any guidelines for prio...</td>\n",
       "    </tr>\n",
       "    <tr>\n",
       "      <th>11</th>\n",
       "      <td>12</td>\n",
       "      <td>coronavirus quarantine</td>\n",
       "      <td>what are best practices in hospitals and at ho...</td>\n",
       "      <td>Seeking information on best practices for acti...</td>\n",
       "    </tr>\n",
       "    <tr>\n",
       "      <th>12</th>\n",
       "      <td>13</td>\n",
       "      <td>how does coronavirus spread</td>\n",
       "      <td>what are the transmission routes of coronavirus?</td>\n",
       "      <td>Looking for information on all possible ways t...</td>\n",
       "    </tr>\n",
       "    <tr>\n",
       "      <th>13</th>\n",
       "      <td>14</td>\n",
       "      <td>coronavirus super spreaders</td>\n",
       "      <td>what evidence is there related to COVID-19 sup...</td>\n",
       "      <td>seeking range of information related to the nu...</td>\n",
       "    </tr>\n",
       "    <tr>\n",
       "      <th>14</th>\n",
       "      <td>15</td>\n",
       "      <td>coronavirus outside body</td>\n",
       "      <td>how long can the coronavirus live outside the ...</td>\n",
       "      <td>seeking range of information on the SARS-CoV-2...</td>\n",
       "    </tr>\n",
       "    <tr>\n",
       "      <th>15</th>\n",
       "      <td>16</td>\n",
       "      <td>how long does coronavirus survive on surfaces</td>\n",
       "      <td>how long does coronavirus remain stable  on su...</td>\n",
       "      <td>Studies of time SARS-CoV-2 remains stable afte...</td>\n",
       "    </tr>\n",
       "    <tr>\n",
       "      <th>16</th>\n",
       "      <td>17</td>\n",
       "      <td>coronavirus clinical trials</td>\n",
       "      <td>are there any clinical trials available for th...</td>\n",
       "      <td>seeking specific COVID-19 clinical trials rang...</td>\n",
       "    </tr>\n",
       "    <tr>\n",
       "      <th>17</th>\n",
       "      <td>18</td>\n",
       "      <td>masks prevent coronavirus</td>\n",
       "      <td>what are the best masks for preventing infecti...</td>\n",
       "      <td>What types of masks should or should not be us...</td>\n",
       "    </tr>\n",
       "    <tr>\n",
       "      <th>18</th>\n",
       "      <td>19</td>\n",
       "      <td>what alcohol sanitizer kills coronavirus</td>\n",
       "      <td>what type of hand sanitizer is needed to destr...</td>\n",
       "      <td>Studies assessing chemicals and their concentr...</td>\n",
       "    </tr>\n",
       "    <tr>\n",
       "      <th>19</th>\n",
       "      <td>20</td>\n",
       "      <td>coronavirus and ACE inhibitors</td>\n",
       "      <td>are patients taking Angiotensin-converting enz...</td>\n",
       "      <td>Looking for information on interactions betwee...</td>\n",
       "    </tr>\n",
       "    <tr>\n",
       "      <th>20</th>\n",
       "      <td>21</td>\n",
       "      <td>coronavirus mortality</td>\n",
       "      <td>what are the mortality rates overall and in sp...</td>\n",
       "      <td>Seeking  information on COVID-19 fatality rate...</td>\n",
       "    </tr>\n",
       "    <tr>\n",
       "      <th>21</th>\n",
       "      <td>22</td>\n",
       "      <td>coronavirus heart impacts</td>\n",
       "      <td>are cardiac complications likely in patients w...</td>\n",
       "      <td>Seeking information on the types, frequency an...</td>\n",
       "    </tr>\n",
       "    <tr>\n",
       "      <th>22</th>\n",
       "      <td>23</td>\n",
       "      <td>coronavirus hypertension</td>\n",
       "      <td>what kinds of complications related to COVID-1...</td>\n",
       "      <td>seeking specific outcomes that hypertensive  (...</td>\n",
       "    </tr>\n",
       "    <tr>\n",
       "      <th>23</th>\n",
       "      <td>24</td>\n",
       "      <td>coronavirus diabetes</td>\n",
       "      <td>what kinds of complications related to COVID-1...</td>\n",
       "      <td>seeking specific outcomes that diabetic (any t...</td>\n",
       "    </tr>\n",
       "    <tr>\n",
       "      <th>24</th>\n",
       "      <td>25</td>\n",
       "      <td>coronavirus biomarkers</td>\n",
       "      <td>which biomarkers predict the severe clinical c...</td>\n",
       "      <td>Looking for information on biomarkers that pre...</td>\n",
       "    </tr>\n",
       "    <tr>\n",
       "      <th>25</th>\n",
       "      <td>26</td>\n",
       "      <td>coronavirus early symptoms</td>\n",
       "      <td>what are the initial symptoms of Covid-19?</td>\n",
       "      <td>Studies of patients and the first clinical man...</td>\n",
       "    </tr>\n",
       "    <tr>\n",
       "      <th>26</th>\n",
       "      <td>27</td>\n",
       "      <td>coronavirus asymptomatic</td>\n",
       "      <td>what is known about those infected with Covid-...</td>\n",
       "      <td>Studies of people who are known to be infected...</td>\n",
       "    </tr>\n",
       "    <tr>\n",
       "      <th>27</th>\n",
       "      <td>28</td>\n",
       "      <td>coronavirus hydroxychloroquine</td>\n",
       "      <td>what evidence is there for the value of hydrox...</td>\n",
       "      <td>Basic science or clinical studies assessing th...</td>\n",
       "    </tr>\n",
       "    <tr>\n",
       "      <th>28</th>\n",
       "      <td>29</td>\n",
       "      <td>coronavirus drug repurposing</td>\n",
       "      <td>which SARS-CoV-2 proteins-human proteins inter...</td>\n",
       "      <td>Seeking information about protein-protein inte...</td>\n",
       "    </tr>\n",
       "    <tr>\n",
       "      <th>29</th>\n",
       "      <td>30</td>\n",
       "      <td>coronavirus remdesivir</td>\n",
       "      <td>is remdesivir an effective treatment for COVID-19</td>\n",
       "      <td>seeking specific information on clinical outco...</td>\n",
       "    </tr>\n",
       "    <tr>\n",
       "      <th>30</th>\n",
       "      <td>31</td>\n",
       "      <td>difference between coronavirus and flu</td>\n",
       "      <td>How does the coronavirus differ from seasonal ...</td>\n",
       "      <td>Includes studies ranging from those focusing o...</td>\n",
       "    </tr>\n",
       "    <tr>\n",
       "      <th>31</th>\n",
       "      <td>32</td>\n",
       "      <td>coronavirus subtypes</td>\n",
       "      <td>Does SARS-CoV-2 have any subtypes, and if so w...</td>\n",
       "      <td>Papers that discuss subtypes of the virus, fro...</td>\n",
       "    </tr>\n",
       "    <tr>\n",
       "      <th>32</th>\n",
       "      <td>33</td>\n",
       "      <td>coronavirus vaccine candidates</td>\n",
       "      <td>What vaccine candidates are being tested for C...</td>\n",
       "      <td>Seeking studies that discuss possible, but spe...</td>\n",
       "    </tr>\n",
       "    <tr>\n",
       "      <th>33</th>\n",
       "      <td>34</td>\n",
       "      <td>coronavirus recovery</td>\n",
       "      <td>What are the longer-term complications of thos...</td>\n",
       "      <td>Seeking information on the health outcomes for...</td>\n",
       "    </tr>\n",
       "    <tr>\n",
       "      <th>34</th>\n",
       "      <td>35</td>\n",
       "      <td>coronavirus public datasets</td>\n",
       "      <td>What new public datasets are available related...</td>\n",
       "      <td>Seeking articles that specifically release new...</td>\n",
       "    </tr>\n",
       "    <tr>\n",
       "      <th>35</th>\n",
       "      <td>36</td>\n",
       "      <td>SARS-CoV-2 spike structure</td>\n",
       "      <td>What is the protein structure of the SARS-CoV-...</td>\n",
       "      <td>Looking for studies of the structure of the sp...</td>\n",
       "    </tr>\n",
       "    <tr>\n",
       "      <th>36</th>\n",
       "      <td>37</td>\n",
       "      <td>SARS-CoV-2 phylogenetic analysis</td>\n",
       "      <td>What is the result of phylogenetic analysis of...</td>\n",
       "      <td>Looking for a range of studies which provide t...</td>\n",
       "    </tr>\n",
       "    <tr>\n",
       "      <th>37</th>\n",
       "      <td>38</td>\n",
       "      <td>COVID inflammatory response</td>\n",
       "      <td>What is the mechanism of inflammatory response...</td>\n",
       "      <td>Looking for a range of studies which describes...</td>\n",
       "    </tr>\n",
       "    <tr>\n",
       "      <th>38</th>\n",
       "      <td>39</td>\n",
       "      <td>COVID-19 cytokine storm</td>\n",
       "      <td>What is the mechanism of cytokine storm syndro...</td>\n",
       "      <td>Looking for studies that describes mechanism o...</td>\n",
       "    </tr>\n",
       "    <tr>\n",
       "      <th>39</th>\n",
       "      <td>40</td>\n",
       "      <td>coronavirus mutations</td>\n",
       "      <td>What are the observed mutations in the SARS-Co...</td>\n",
       "      <td>Looking for studies that describes the emergen...</td>\n",
       "    </tr>\n",
       "    <tr>\n",
       "      <th>40</th>\n",
       "      <td>41</td>\n",
       "      <td>COVID-19 in African-Americans</td>\n",
       "      <td>What are the impacts of COVID-19 among African...</td>\n",
       "      <td>Looking for studies that analyze burden of ill...</td>\n",
       "    </tr>\n",
       "    <tr>\n",
       "      <th>41</th>\n",
       "      <td>42</td>\n",
       "      <td>Vitamin D and COVID-19</td>\n",
       "      <td>Does Vitamin D impact COVID-19 prevention and ...</td>\n",
       "      <td>This includes studies describing possible role...</td>\n",
       "    </tr>\n",
       "    <tr>\n",
       "      <th>42</th>\n",
       "      <td>43</td>\n",
       "      <td>violence during pandemic</td>\n",
       "      <td>How has the COVID-19 pandemic impacted violenc...</td>\n",
       "      <td>Looking for analyses and data on how the pande...</td>\n",
       "    </tr>\n",
       "    <tr>\n",
       "      <th>43</th>\n",
       "      <td>44</td>\n",
       "      <td>impact of masks on coronavirus transmission</td>\n",
       "      <td>How much impact do masks have on preventing th...</td>\n",
       "      <td>Looking for studies of how masks slow SARS-CoV...</td>\n",
       "    </tr>\n",
       "    <tr>\n",
       "      <th>44</th>\n",
       "      <td>45</td>\n",
       "      <td>coronavirus mental health impact</td>\n",
       "      <td>How has the COVID-19 pandemic impacted mental ...</td>\n",
       "      <td>Includes increasing/decreasing rates of depres...</td>\n",
       "    </tr>\n",
       "  </tbody>\n",
       "</table>\n",
       "</div>"
      ],
      "text/plain": [
       "   Topic                                          Query  \\\n",
       "0      1                             coronavirus origin   \n",
       "1      2        coronavirus response to weather changes   \n",
       "2      3                           coronavirus immunity   \n",
       "3      4         how do people die from the coronavirus   \n",
       "4      5                      animal models of COVID-19   \n",
       "5      6                 coronavirus test rapid testing   \n",
       "6      7              serological tests for coronavirus   \n",
       "7      8                    coronavirus under reporting   \n",
       "8      9                          coronavirus in Canada   \n",
       "9     10           coronavirus social distancing impact   \n",
       "10    11                 coronavirus hospital rationing   \n",
       "11    12                         coronavirus quarantine   \n",
       "12    13                    how does coronavirus spread   \n",
       "13    14                    coronavirus super spreaders   \n",
       "14    15                       coronavirus outside body   \n",
       "15    16  how long does coronavirus survive on surfaces   \n",
       "16    17                    coronavirus clinical trials   \n",
       "17    18                      masks prevent coronavirus   \n",
       "18    19       what alcohol sanitizer kills coronavirus   \n",
       "19    20                 coronavirus and ACE inhibitors   \n",
       "20    21                          coronavirus mortality   \n",
       "21    22                      coronavirus heart impacts   \n",
       "22    23                       coronavirus hypertension   \n",
       "23    24                           coronavirus diabetes   \n",
       "24    25                         coronavirus biomarkers   \n",
       "25    26                     coronavirus early symptoms   \n",
       "26    27                       coronavirus asymptomatic   \n",
       "27    28                 coronavirus hydroxychloroquine   \n",
       "28    29                   coronavirus drug repurposing   \n",
       "29    30                         coronavirus remdesivir   \n",
       "30    31         difference between coronavirus and flu   \n",
       "31    32                           coronavirus subtypes   \n",
       "32    33                 coronavirus vaccine candidates   \n",
       "33    34                           coronavirus recovery   \n",
       "34    35                    coronavirus public datasets   \n",
       "35    36                     SARS-CoV-2 spike structure   \n",
       "36    37               SARS-CoV-2 phylogenetic analysis   \n",
       "37    38                    COVID inflammatory response   \n",
       "38    39                        COVID-19 cytokine storm   \n",
       "39    40                          coronavirus mutations   \n",
       "40    41                  COVID-19 in African-Americans   \n",
       "41    42                         Vitamin D and COVID-19   \n",
       "42    43                       violence during pandemic   \n",
       "43    44    impact of masks on coronavirus transmission   \n",
       "44    45               coronavirus mental health impact   \n",
       "\n",
       "                                             Question  \\\n",
       "0                      what is the origin of COVID-19   \n",
       "1   how does the coronavirus respond to changes in...   \n",
       "2   will SARS-CoV2 infected people develop immunit...   \n",
       "3                    what causes death from Covid-19?   \n",
       "4   what drugs have been active against SARS-CoV o...   \n",
       "5   what types of rapid testing for Covid-19 have ...   \n",
       "6   are there serological tests that detect antibo...   \n",
       "7   how has lack of testing availability led to un...   \n",
       "8                    how has COVID-19 affected Canada   \n",
       "9   has social distancing had an impact on slowing...   \n",
       "10  what are the guidelines for triaging patients ...   \n",
       "11  what are best practices in hospitals and at ho...   \n",
       "12   what are the transmission routes of coronavirus?   \n",
       "13  what evidence is there related to COVID-19 sup...   \n",
       "14  how long can the coronavirus live outside the ...   \n",
       "15  how long does coronavirus remain stable  on su...   \n",
       "16  are there any clinical trials available for th...   \n",
       "17  what are the best masks for preventing infecti...   \n",
       "18  what type of hand sanitizer is needed to destr...   \n",
       "19  are patients taking Angiotensin-converting enz...   \n",
       "20  what are the mortality rates overall and in sp...   \n",
       "21  are cardiac complications likely in patients w...   \n",
       "22  what kinds of complications related to COVID-1...   \n",
       "23  what kinds of complications related to COVID-1...   \n",
       "24  which biomarkers predict the severe clinical c...   \n",
       "25         what are the initial symptoms of Covid-19?   \n",
       "26  what is known about those infected with Covid-...   \n",
       "27  what evidence is there for the value of hydrox...   \n",
       "28  which SARS-CoV-2 proteins-human proteins inter...   \n",
       "29  is remdesivir an effective treatment for COVID-19   \n",
       "30  How does the coronavirus differ from seasonal ...   \n",
       "31  Does SARS-CoV-2 have any subtypes, and if so w...   \n",
       "32  What vaccine candidates are being tested for C...   \n",
       "33  What are the longer-term complications of thos...   \n",
       "34  What new public datasets are available related...   \n",
       "35  What is the protein structure of the SARS-CoV-...   \n",
       "36  What is the result of phylogenetic analysis of...   \n",
       "37  What is the mechanism of inflammatory response...   \n",
       "38  What is the mechanism of cytokine storm syndro...   \n",
       "39  What are the observed mutations in the SARS-Co...   \n",
       "40  What are the impacts of COVID-19 among African...   \n",
       "41  Does Vitamin D impact COVID-19 prevention and ...   \n",
       "42  How has the COVID-19 pandemic impacted violenc...   \n",
       "43  How much impact do masks have on preventing th...   \n",
       "44  How has the COVID-19 pandemic impacted mental ...   \n",
       "\n",
       "                                            Narrative  \n",
       "0   seeking range of information about the SARS-Co...  \n",
       "1   seeking range of information about the SARS-Co...  \n",
       "2   seeking studies of immunity developed due to i...  \n",
       "3   Studies looking at mechanisms of death from Co...  \n",
       "4   Papers that describe the results  of testing d...  \n",
       "5   Looking for studies identifying ways to diagno...  \n",
       "6   Looking for assays that measure immune respons...  \n",
       "7   Looking for studies answering questions of imp...  \n",
       "8   seeking data related to infections (confirm, s...  \n",
       "9   seeking specific information on studies that h...  \n",
       "10  Seeking information on any guidelines for prio...  \n",
       "11  Seeking information on best practices for acti...  \n",
       "12  Looking for information on all possible ways t...  \n",
       "13  seeking range of information related to the nu...  \n",
       "14  seeking range of information on the SARS-CoV-2...  \n",
       "15  Studies of time SARS-CoV-2 remains stable afte...  \n",
       "16  seeking specific COVID-19 clinical trials rang...  \n",
       "17  What types of masks should or should not be us...  \n",
       "18  Studies assessing chemicals and their concentr...  \n",
       "19  Looking for information on interactions betwee...  \n",
       "20  Seeking  information on COVID-19 fatality rate...  \n",
       "21  Seeking information on the types, frequency an...  \n",
       "22  seeking specific outcomes that hypertensive  (...  \n",
       "23  seeking specific outcomes that diabetic (any t...  \n",
       "24  Looking for information on biomarkers that pre...  \n",
       "25  Studies of patients and the first clinical man...  \n",
       "26  Studies of people who are known to be infected...  \n",
       "27  Basic science or clinical studies assessing th...  \n",
       "28  Seeking information about protein-protein inte...  \n",
       "29  seeking specific information on clinical outco...  \n",
       "30  Includes studies ranging from those focusing o...  \n",
       "31  Papers that discuss subtypes of the virus, fro...  \n",
       "32  Seeking studies that discuss possible, but spe...  \n",
       "33  Seeking information on the health outcomes for...  \n",
       "34  Seeking articles that specifically release new...  \n",
       "35  Looking for studies of the structure of the sp...  \n",
       "36  Looking for a range of studies which provide t...  \n",
       "37  Looking for a range of studies which describes...  \n",
       "38  Looking for studies that describes mechanism o...  \n",
       "39  Looking for studies that describes the emergen...  \n",
       "40  Looking for studies that analyze burden of ill...  \n",
       "41  This includes studies describing possible role...  \n",
       "42  Looking for analyses and data on how the pande...  \n",
       "43  Looking for studies of how masks slow SARS-CoV...  \n",
       "44  Includes increasing/decreasing rates of depres...  "
      ]
     },
     "execution_count": 8,
     "metadata": {},
     "output_type": "execute_result"
    }
   ],
   "source": [
    "#Extract topics \n",
    "#XML files for TREC-COVID rounds\n",
    "Topics = os.path.join(Pyserini_files, 'topics-rnd4.xml')\n",
    "Tree = ET.parse(Topics)\n",
    "\n",
    "Root = Tree.getroot()\n",
    "\n",
    "topicid = []\n",
    "query = []\n",
    "question = []\n",
    "narrative = []\n",
    "\n",
    "for child in Root.iter():\n",
    "    tag =child.tag\n",
    "    text = child.text\n",
    "    attrib = child.attrib\n",
    "    if (tag == 'topic'):\n",
    "        topicid.append(attrib['number'])\n",
    "    if (tag == 'query'):\n",
    "        query.append(text)\n",
    "    if (tag == 'question'):\n",
    "        question.append(text)\n",
    "    if (tag == 'narrative'):\n",
    "        narrative.append(text)\n",
    "\n",
    "#Join to CSV\n",
    "Round_dict  = {'Topic':topicid, 'Query':query, 'Question':question , 'Narrative':narrative}\n",
    "Round_df = pd.DataFrame(Round_dict)\n",
    "Round_df = Round_df[['Topic', 'Query', 'Question', 'Narrative']]\n",
    "Round_df.to_csv(os.path.join(Pyserini_files, 'Round4_Topics.csv'), sep = ' ', header = True)\n",
    "Round_df"
   ]
  },
  {
   "cell_type": "code",
   "execution_count": 33,
   "metadata": {
    "ExecuteTime": {
     "end_time": "2020-06-24T22:38:30.402585Z",
     "start_time": "2020-06-24T22:38:30.377502Z"
    },
    "code_folding": []
   },
   "outputs": [],
   "source": [
    "#Udelq query processor\n",
    "Udel4Queries = os.path.join(Pyserini_files, 'topics-rnd4-udel.xml')\n",
    "Tree = ET.parse(Udel4Queries)\n",
    "Root = Tree.getroot()\n",
    "UDel_query = []\n",
    "for child in Root.iter():\n",
    "    tag =child.tag\n",
    "    text = child.text\n",
    "    attrib = child.attrib\n",
    "    if (tag == 'topic number'):\n",
    "        topicid.append(attrib['number'])\n",
    "    if (tag == 'query'):\n",
    "        UDel_query.append(text)\n",
    "        \n",
    "#Save\n",
    "with open(r\"C:\\Users\\Jimmy Chen\\Box\\COVID19\\CORD19\\TREC_COVID\\Search Queries\\Udel4Queries.txt\", \"w\") as outfile:\n",
    "    outfile.write(\"\\n\".join(UDel_query))"
   ]
  },
  {
   "cell_type": "code",
   "execution_count": 11,
   "metadata": {
    "ExecuteTime": {
     "end_time": "2020-06-24T21:52:19.384331Z",
     "start_time": "2020-06-24T21:52:19.294327Z"
    }
   },
   "outputs": [
    {
     "name": "stderr",
     "output_type": "stream",
     "text": [
      "[nltk_data] Downloading package stopwords to C:\\Users\\Jimmy\n",
      "[nltk_data]     Chen\\AppData\\Roaming\\nltk_data...\n",
      "[nltk_data]   Package stopwords is already up-to-date!\n"
     ]
    }
   ],
   "source": [
    "#OHSU Query design\n",
    "from pyserini.analysis import Analyzer, get_lucene_analyzer\n",
    "import nltk\n",
    "from nltk.corpus import stopwords \n",
    "nltk.download('stopwords')\n",
    "\n",
    "#Stopwords for tokenization - manual review\n",
    "stopwords_manual = ['seek', 'seeking', 'look', 'looking', 'studies', 'study', 'information', \n",
    "             'about', 'range', 'studies', 'its', 'coronaviru',\n",
    "            'other', '2', '19', 'well', ' will', 'from', 'have', 'more', 'covid', 'any', 'what', \n",
    "            'should', 'may', 'due', 'help', 'non', 's', 'those', 'people', 'ways', 'all', 'gain',\n",
    "            'possible', 'toward', 'specifically', 'learned', 'number', 'proportion', 'including',\n",
    "            'etc', 'still', 'while', 'human', 'specific', 'result', 'results', 'assess', 'need',\n",
    "            'between', 'take', 'taking', 'patient', 'type', 'cause' ,'frequency', 'less', 'face',\n",
    "            'likely', 'infect', 'upon', 'develop', 'represent', 'promising', 'step', 'related',\n",
    "            'papers', 'describe', 'also', 'relevant', 'who', 'show', 'science', 'basic', 'complete',\n",
    "            'do', 'how', 'been', 'against', 'use', 'to', 'had', 'has', 'approach', 'Studies', 'Stud', 'Inst', 'Divi' ,'Thomae',\n",
    "            'Brigham', 'Young', 'Univ', 'studies', 'volition', 'severe acute respiratory syndrome', 'affect', 'affected',\n",
    "            'focus', 'discuss', 'speculative', 'must', 'include', 'draw', 'everyday', 'person', 'another', 'everyday', 'kind',\n",
    "            'comparison', 'direct', 'previous', 'articles', 'among', 'ncov', 'mechanism', 'implication', 'anti',\n",
    "            'potential', 'occur', 'often','pathogenesi', 'observe', 'provide', 'em', '2019', 'increase', 'decrease', 'rate',\n",
    "            'association', 'contain', 'analyze', 'u.s', 'rest' , 'differ', 'reason', 'drug', 'burden',\n",
    "            'explore', 'sar', 'cov', 'cryo', 'crystallography', 'reference', 'lab']\n",
    "\n",
    "udel_stopwords = [\n",
    "        'a', 'about', 'above', 'according', 'across', 'after', 'afterwards', 'again',\n",
    "        'against', 'albeit', 'all', 'almost', 'alone', 'along', 'already', 'also',\n",
    "        'although', 'always', 'am', 'among', 'amongst', 'an', 'and', 'another',\n",
    "        'any', 'anybody', 'anyhow', 'anyone', 'anything', 'anyway', 'anywhere',\n",
    "        'apart', 'are', 'around', 'as', 'at', 'av', 'be', 'became', 'because',\n",
    "        'become', 'becomes', 'becoming', 'been', 'before', 'beforehand', 'behind',\n",
    "        'being', 'below', 'beside', 'besides', 'between', 'beyond', 'both', 'but',\n",
    "        'by', 'can', 'cannot', 'canst', 'certain', 'cf', 'choose', 'contrariwise',\n",
    "        'cos', 'could', 'cu', 'day', 'do', 'does', 'doesn', 't', 'doing', 'dost',\n",
    "        'doth', 'double', 'down', 'dual', 'during', 'each', 'either', 'else',\n",
    "        'elsewhere', 'enough', 'et', 'etc', 'even', 'ever', 'every', 'everybody',\n",
    "        'everyone', 'everything', 'everywhere', 'except', 'excepted', 'excepting',\n",
    "        'exception', 'exclude', 'excluding', 'exclusive', 'far', 'farther',\n",
    "        'farthest', 'few', 'ff', 'first', 'for', 'formerly', 'forth', 'forward',\n",
    "        'from', 'front', 'further', 'furthermore', 'furthest', 'get', 'go', 'had',\n",
    "        'halves', 'hardly', 'has', 'hast', 'hath', 'have', 'he', 'hence',\n",
    "        'henceforth', 'her', 'here', 'hereabouts', 'hereafter', 'hereby', 'herein',\n",
    "        'hereto', 'hereupon', 'hers', 'herself', 'him', 'himself', 'hindmost', 'his',\n",
    "        'hither', 'hitherto', 'how','however', 'howsoever', 'i', 'ie', 'if', 'in',\n",
    "        'inasmuch', 'inc', 'include', 'included', 'including', 'indeed', 'indoors',\n",
    "        'inside', 'insomuch', 'instead', 'into', 'inward', 'inwards', 'is', 'it',\n",
    "        'its', 'itself', 'just', 'kg', 'kind', 'km', 'last', 'latter', 'latterly',\n",
    "        'less', 'lest', 'let', 'like', 'little', 'ltd', 'many', 'may', 'maybe', 'me',\n",
    "        'meantime', 'meanwhile', 'might', 'more','moreover', 'most', 'mostly', 'mr',\n",
    "        'mrs', 'ms', 'much', 'must', 'my', 'myself', 'namely', 'need', 'neither',\n",
    "        'never', 'nevertheless', 'next', 'no', 'nobody', 'none', 'nonetheless',\n",
    "        'noone', 'nope', 'nor', 'not', 'nothing', 'notwithstanding', 'now',\n",
    "        'nowadays', 'nowhere', 'of', 'off', 'often', 'ok', 'on', 'once', 'one',\n",
    "        'only', 'onto', 'or', 'other', 'others', 'otherwise', 'ought', 'our',\n",
    "        'ours', 'ourselves', 'out', 'outside', 'over', 'own', 'per', 'perhaps',\n",
    "        'plenty', 'provide', 'quite', 'rather', 'really', 'round', 'said', 'sake',\n",
    "        'same', 'sang', 'save', 'saw', 'see', 'seeing', 'seem', 'seemed', 'seeming',\n",
    "        'seems', 'seen', 'seldom', 'selves', 'sent', 'several', 'shalt', 'she',\n",
    "        'should', 'shown', 'sideways', 'since', 'slept', 'slew', 'slung', 'slunk',\n",
    "        'smote', 'so', 'some', 'somebody', 'somehow', 'someone', 'something',\n",
    "        'sometime', 'sometimes', 'somewhat', 'somewhere', 'spake', 'spat', 'spoke',\n",
    "        'spoken', 'sprang', 'sprung', 'stave', 'staves', 'still', 'such', 'supposing',\n",
    "        'than', 'that', 'the', 'thee', 'their', 'them', 'themselves', 'then', 'thence',\n",
    "        'thenceforth', 'there', 'thereabout', 'thereabouts', 'thereafter', 'thereby',\n",
    "        'therefore', 'therein', 'thereof', 'thereon', 'thereto', 'thereupon', 'these',\n",
    "        'they', 'this', 'those', 'thou', 'though', 'thrice', 'through', 'throughout',\n",
    "        'thru', 'thus', 'thy', 'thyself', 'till', 'to', 'together', 'too', 'toward',\n",
    "        'towards', 'ugh', 'unable', 'under', 'underneath', 'unless', 'unlike', 'until',\n",
    "        'up', 'upon', 'upward', 'upwards', 'us', 'use', 'used', 'using', 'very', 'via',\n",
    "        'vs', 'want', 'was', 'we', 'week', 'well', 'were', 'what', 'whatever',\n",
    "        'whatsoever', 'when', 'whence', 'whenever', 'whensoever', 'where', 'whereabouts',\n",
    "        'whereafter', 'whereas', 'whereat', 'whereby', 'wherefore', 'wherefrom',\n",
    "        'wherein', 'whereinto', 'whereof', 'whereon', 'wheresoever', 'whereto', 'whereunto',\n",
    "        'whereupon', 'wherever', 'wherewith', 'whether', 'whew', 'which', 'whichever',\n",
    "        'whichsoever', 'while', 'whilst', 'whither', 'who', 'whoa', 'whoever', 'whole',\n",
    "        'whom', 'whomever', 'whomsoever', 'whose', 'whosoever', 'why', 'will', 'wilt',\n",
    "        'with', 'within', 'without', 'worse', 'worst', 'would', 'wow', 'ye', 'year', 'yet',\n",
    "        'yippee', 'you', 'your', 'yours', 'yourself', 'yourselves'\n",
    "]\n",
    "\n",
    "stopwords = list(set(stopwords.words('english')))\n",
    "stopwords_manual = list(np.append(stopwords_manual, stopwords))\n",
    "stopwords_manual = list(np.append(stopwords_manual, udel_stopwords))\n",
    "\n",
    "token_narrative_list = []\n",
    "\n",
    "#Extract important narrative text\n",
    "for i in range(len(Round_df)):\n",
    "    analyzer = Analyzer(get_lucene_analyzer(stemmer='krovetz'))\n",
    "    tokens = analyzer.analyze(Round_df['Narrative'][i])\n",
    "    for i, word in enumerate(tokens):\n",
    "        if ('exclud' in word):\n",
    "            tokens = tokens[:i]\n",
    "            break\n",
    "    #Remove stopwords and duplicates from token\n",
    "    tokens = [w for w in tokens if not w in stopwords_manual]\n",
    "    tokens = list(set(tokens))\n",
    "    #Remove all tokens after exclude\n",
    "    \n",
    "    token_narrative_list.append(tokens)\n",
    "\n",
    "#Tokenize question\n",
    "token_question_list = []\n",
    "\n",
    "#Extract important question text - NOT USED YET\n",
    "for i in range(len(Round_df)):\n",
    "    analyzer = Analyzer(get_lucene_analyzer(stemmer='krovetz'))\n",
    "    tokens = analyzer.analyze(Round_df['Question'][i])\n",
    "    #Remove stopwords and duplicates from token\n",
    "    tokens = [w for w in tokens if not w in stopwords_manual]\n",
    "    tokens = list(set(tokens))\n",
    "    token_question_list.append(tokens)\n",
    "\n",
    "#Anserini searcher can take both query and keywords\n",
    "#keywords_list = '2019-nCoV, SARS-CoV-2, COVID-19'\n",
    "keywords_list = 'COVID-19'\n",
    "\n",
    "#Manual keywords\n",
    "manual = [\n",
    "            'originated', #1\n",
    "            'temperature, humidity',\n",
    "            'cross-reactive, crossprotective, cross immunity, specific antibody response, neutralize, adaptive immunity',\n",
    "            'harms, mortality, dead, risk factors',\n",
    "            'non-human',\n",
    "            'identification, detection, PCR, point of care',\n",
    "            'serology, antigen, antibodies',\n",
    "            'ascertainment, underestimate',\n",
    "            'cov, canadian',\n",
    "            'home, restriction, social-distancing', #10\n",
    "            'resources, stratification',\n",
    "            'closure, restricted, movement, gathering',\n",
    "            'source, route, transmitted',\n",
    "            'super-spreader',\n",
    "            'aerosol, contact, droplet',\n",
    "            'live, days, contaminated',\n",
    "            'randomized, randomised, controlled',\n",
    "            'personal, protective, equipment, PPE, face',\n",
    "            'hygiene, alcohol-based',\n",
    "            'ARBs, blocker', #20\n",
    "            'death',\n",
    "            'coronary',\n",
    "            'blood, pressure',\n",
    "            'mellitus',\n",
    "            '',\n",
    "            'onset, new, presentation',\n",
    "            'SARS-CoV-2, 2019-nCoV',\n",
    "            'chloroquine ',\n",
    "            'binding',\n",
    "            '', #30\n",
    "            '', #31\n",
    "            'type', #32\n",
    "            '', #33\n",
    "            'long-term, survivors', #34\n",
    "            '', #35\n",
    "            'S-protein, S Protein',\n",
    "            '',\n",
    "            'pathogenesis, immune',\n",
    "            'treatment',\n",
    "            '', #40\n",
    "            '',\n",
    "            '',\n",
    "            'abuse',\n",
    "            'facemask, face masks, face',\n",
    "            '' #45\n",
    "]"
   ]
  },
  {
   "cell_type": "code",
   "execution_count": 16,
   "metadata": {
    "ExecuteTime": {
     "end_time": "2020-06-24T21:52:38.877325Z",
     "start_time": "2020-06-24T21:52:38.832718Z"
    }
   },
   "outputs": [],
   "source": [
    "#Combine preprocessed data to form OHSU queries\n",
    "\n",
    "input_queries = []\n",
    "\n",
    "for ii, row in Round_df.iterrows():\n",
    "    query = Round_df['Query'][ii]\n",
    "    question = Round_df['Question'][ii]\n",
    "    topic_num = Round_df['Topic'][ii]\n",
    "    token_topic = ' '.join(token_narrative_list[ii])\n",
    "    token_question = ' '.join(token_question_list[ii])\n",
    "    manual_query = manual[ii] \n",
    "    input_query = query + '. ' + token_question + '. ' +  token_topic + ' ' + manual_query + ' . ' + keywords_list \n",
    "    input_queries.append(input_query)\n",
    "\n",
    "#Save\n",
    "with open(r\"C:\\Users\\Jimmy Chen\\Box\\COVID19\\CORD19\\TREC_COVID\\Search Queries\\Round4_QQNTokens.txt\", \"w\") as outfile:\n",
    "    outfile.write(\"\\n\".join(input_queries))"
   ]
  },
  {
   "cell_type": "code",
   "execution_count": 96,
   "metadata": {},
   "outputs": [],
   "source": [
    "#Create SimpleSearcher for full text and paragraph indexes - Do this for Round 3 data\n",
    "abstract_searcher = SimpleSearcher(R4_abstract)\n",
    "full_searcher = SimpleSearcher(R4_fulltext)\n",
    "paragraph_searcher = SimpleSearcher(R4_paragraphs)\n",
    "\n",
    "#Tuned hyperparameters\n",
    "abstract_searcher.set_bm25(k1=1.5, b=0.4)\n",
    "abstract_searcher.set_qld(mu = 2000)\n",
    "abstract_searcher.set_rm3(fb_terms=20, fb_docs=10, original_query_weight=0.9) #Pseudo-reranker\n",
    "\n",
    "full_searcher.set_bm25(k1=1.5, b=0.4)\n",
    "full_searcher.set_qld(mu = 2000)\n",
    "full_searcher.set_rm3(fb_terms=20, fb_docs=10, original_query_weight=0.9)\n",
    "\n",
    "paragraph_searcher.set_bm25(k1=1.5, b=0.4)\n",
    "paragraph_searcher.set_qld(mu = 2000)\n",
    "paragraph_searcher.set_rm3(fb_terms=20, fb_docs=10, original_query_weight=0.9)"
   ]
  },
  {
   "cell_type": "code",
   "execution_count": 29,
   "metadata": {},
   "outputs": [],
   "source": [
    "#Extract search results from the searcher using OHSU query generator\n",
    "def get_search_res_list(index_searcher, n_papers, paragraph = False):\n",
    "    docid_list = []\n",
    "    rank_list = []\n",
    "    score_list = []\n",
    "    topic_id_list = []\n",
    "    title_list = []\n",
    "    doi_list = []\n",
    "    publish_list = []\n",
    "    \n",
    "    if (paragraph == True):\n",
    "        n_papers = n_papers * 20\n",
    "    \n",
    "    #Search all 3 indices (abstract, full text, and paragraphs) using question as a query\n",
    "    for ii, row in Round_df.iterrows():\n",
    "        query = Round_df['Query'][ii]\n",
    "        question = Round_df['Question'][ii]\n",
    "        topic_num = Round_df['Topic'][ii]\n",
    "        token_topic = ', '.join(token_narrative_list[ii])\n",
    "        token_question = ','.join(token_question_list[ii])\n",
    "        manual_query = manual[ii] \n",
    "        input_query = query + '. ' + token_question + '. ' +  token_topic + ', ' + manual_query + ' . ' + keywords_list \n",
    "        \n",
    "        hits = index_searcher.search(q = input_query, k=n_papers)\n",
    "        print(topic_num)\n",
    "        #Each key is a qid, value is the anserini search list\n",
    "        for i in tqdm(range(0, n_papers), position = 0, leave = True):\n",
    "            topic_id_list.append(topic_num)\n",
    "            if (paragraph == True):\n",
    "                docid_list.append(str(hits[i].docid).split('.')[0])\n",
    "            else:\n",
    "                docid_list.append(hits[i].docid)\n",
    "            rank_list.append(str(i+1))\n",
    "            score_list.append(hits[i].score)\n",
    "            title_list.append(hits[i].lucene_document.get(\"title\"))\n",
    "            doi_list.append('https://doi.org/' + str(hits[i].lucene_document.get(\"doi\")))  \n",
    "            \n",
    "            #Get published date\n",
    "            doc_json = json.loads(hits[i].raw)\n",
    "            metadata = json.loads(json.dumps(doc_json['csv_metadata']))\n",
    "            publish_time_str = metadata['publish_time']\n",
    "            if len(publish_time_str) > 0:\n",
    "                try:\n",
    "                    publish_time = datetime.strptime(publish_time_str, '%Y-%m-%d')\n",
    "                except:\n",
    "                    publish_time = datetime.strptime(publish_time_str, '%Y')\n",
    "            else:\n",
    "                publish_time = ''\n",
    "            \n",
    "            publish_list.append(publish_time)\n",
    "\n",
    "    return topic_id_list, docid_list, rank_list, score_list, title_list, doi_list, publish_list"
   ]
  },
  {
   "cell_type": "code",
   "execution_count": 66,
   "metadata": {},
   "outputs": [],
   "source": [
    "#Extract search results from the searcher using UDel query generator\n",
    "def search_UDel(index_searcher, n_papers, paragraph = False):\n",
    "    docid_list = []\n",
    "    rank_list = []\n",
    "    score_list = []\n",
    "    topic_id_list = []\n",
    "    title_list = []\n",
    "    doi_list = []\n",
    "    publish_list = []\n",
    "    \n",
    "    if (paragraph == True):\n",
    "        n_papers = n_papers * 20\n",
    "    \n",
    "    #Search all 3 indices (abstract, full text, and paragraphs) using question as a query\n",
    "    for ii, row in Round_df.iterrows():\n",
    "        input_query = UDel_query[ii] \n",
    "        topic_num = Round_df['Topic'][ii]\n",
    "        hits = index_searcher.search(q = input_query, k=n_papers)\n",
    "        print(topic_num)\n",
    "        #Each key is a qid, value is the anserini search list\n",
    "        for i in tqdm(range(0, n_papers), position = 0, leave = True):\n",
    "            topic_id_list.append(topic_num)\n",
    "            if (paragraph == True):\n",
    "                docid_list.append(str(hits[i].docid).split('.')[0])\n",
    "            else:\n",
    "                docid_list.append(hits[i].docid)\n",
    "            rank_list.append(str(i+1))\n",
    "            score_list.append(hits[i].score)\n",
    "            title_list.append(hits[i].lucene_document.get(\"title\"))\n",
    "            doi_list.append('https://doi.org/' + str(hits[i].lucene_document.get(\"doi\")))  \n",
    "            \n",
    "            #Get published date\n",
    "            doc_json = json.loads(hits[i].raw)\n",
    "            metadata = json.loads(json.dumps(doc_json['csv_metadata']))\n",
    "            publish_time_str = metadata['publish_time']\n",
    "            if len(publish_time_str) > 0:\n",
    "                try:\n",
    "                    publish_time = datetime.strptime(publish_time_str, '%Y-%m-%d')\n",
    "                except:\n",
    "                    publish_time = datetime.strptime(publish_time_str, '%Y')\n",
    "            else:\n",
    "                publish_time = ''\n",
    "            \n",
    "            publish_list.append(publish_time)\n",
    "\n",
    "    return topic_id_list, docid_list, rank_list, score_list, title_list, doi_list, publish_list"
   ]
  },
  {
   "cell_type": "code",
   "execution_count": 97,
   "metadata": {},
   "outputs": [
    {
     "name": "stdout",
     "output_type": "stream",
     "text": [
      "1\n"
     ]
    },
    {
     "data": {
      "application/vnd.jupyter.widget-view+json": {
       "model_id": "a7640239ba1e46ed8b0cf4bb694225cf",
       "version_major": 2,
       "version_minor": 0
      },
      "text/plain": [
       "HBox(children=(FloatProgress(value=0.0, max=1400.0), HTML(value='')))"
      ]
     },
     "metadata": {},
     "output_type": "display_data"
    },
    {
     "name": "stdout",
     "output_type": "stream",
     "text": [
      "\n",
      "2\n"
     ]
    },
    {
     "data": {
      "application/vnd.jupyter.widget-view+json": {
       "model_id": "e3245ebfd21a4e888c878a5227b164e1",
       "version_major": 2,
       "version_minor": 0
      },
      "text/plain": [
       "HBox(children=(FloatProgress(value=0.0, max=1400.0), HTML(value='')))"
      ]
     },
     "metadata": {},
     "output_type": "display_data"
    },
    {
     "name": "stdout",
     "output_type": "stream",
     "text": [
      "\n",
      "3\n"
     ]
    },
    {
     "data": {
      "application/vnd.jupyter.widget-view+json": {
       "model_id": "3da374ec3c4f47d2a7ef3a91ada28f88",
       "version_major": 2,
       "version_minor": 0
      },
      "text/plain": [
       "HBox(children=(FloatProgress(value=0.0, max=1400.0), HTML(value='')))"
      ]
     },
     "metadata": {},
     "output_type": "display_data"
    },
    {
     "name": "stdout",
     "output_type": "stream",
     "text": [
      "\n",
      "4\n"
     ]
    },
    {
     "data": {
      "application/vnd.jupyter.widget-view+json": {
       "model_id": "91138be4604c47839ea471c0a71f5b74",
       "version_major": 2,
       "version_minor": 0
      },
      "text/plain": [
       "HBox(children=(FloatProgress(value=0.0, max=1400.0), HTML(value='')))"
      ]
     },
     "metadata": {},
     "output_type": "display_data"
    },
    {
     "name": "stdout",
     "output_type": "stream",
     "text": [
      "\n",
      "5\n"
     ]
    },
    {
     "data": {
      "application/vnd.jupyter.widget-view+json": {
       "model_id": "16bd72fea8f34f8a9541b755c3cd9a5d",
       "version_major": 2,
       "version_minor": 0
      },
      "text/plain": [
       "HBox(children=(FloatProgress(value=0.0, max=1400.0), HTML(value='')))"
      ]
     },
     "metadata": {},
     "output_type": "display_data"
    },
    {
     "name": "stdout",
     "output_type": "stream",
     "text": [
      "\n",
      "6\n"
     ]
    },
    {
     "data": {
      "application/vnd.jupyter.widget-view+json": {
       "model_id": "f5d7de359a514f5dadd0d8d6c7f6ed11",
       "version_major": 2,
       "version_minor": 0
      },
      "text/plain": [
       "HBox(children=(FloatProgress(value=0.0, max=1400.0), HTML(value='')))"
      ]
     },
     "metadata": {},
     "output_type": "display_data"
    },
    {
     "name": "stdout",
     "output_type": "stream",
     "text": [
      "\n",
      "7\n"
     ]
    },
    {
     "data": {
      "application/vnd.jupyter.widget-view+json": {
       "model_id": "561ed9d1a7f34b168c5a2424c96a664c",
       "version_major": 2,
       "version_minor": 0
      },
      "text/plain": [
       "HBox(children=(FloatProgress(value=0.0, max=1400.0), HTML(value='')))"
      ]
     },
     "metadata": {},
     "output_type": "display_data"
    },
    {
     "name": "stdout",
     "output_type": "stream",
     "text": [
      "\n",
      "8\n"
     ]
    },
    {
     "data": {
      "application/vnd.jupyter.widget-view+json": {
       "model_id": "11f0059762a046c781934d8663c9927e",
       "version_major": 2,
       "version_minor": 0
      },
      "text/plain": [
       "HBox(children=(FloatProgress(value=0.0, max=1400.0), HTML(value='')))"
      ]
     },
     "metadata": {},
     "output_type": "display_data"
    },
    {
     "name": "stdout",
     "output_type": "stream",
     "text": [
      "\n",
      "9\n"
     ]
    },
    {
     "data": {
      "application/vnd.jupyter.widget-view+json": {
       "model_id": "c552c989524b4facbc13b65b1d5d5d85",
       "version_major": 2,
       "version_minor": 0
      },
      "text/plain": [
       "HBox(children=(FloatProgress(value=0.0, max=1400.0), HTML(value='')))"
      ]
     },
     "metadata": {},
     "output_type": "display_data"
    },
    {
     "name": "stdout",
     "output_type": "stream",
     "text": [
      "\n",
      "10\n"
     ]
    },
    {
     "data": {
      "application/vnd.jupyter.widget-view+json": {
       "model_id": "0001b73ae8d14e92a288d524dcd7fd0d",
       "version_major": 2,
       "version_minor": 0
      },
      "text/plain": [
       "HBox(children=(FloatProgress(value=0.0, max=1400.0), HTML(value='')))"
      ]
     },
     "metadata": {},
     "output_type": "display_data"
    },
    {
     "name": "stdout",
     "output_type": "stream",
     "text": [
      "\n",
      "11\n"
     ]
    },
    {
     "data": {
      "application/vnd.jupyter.widget-view+json": {
       "model_id": "be7d78ea1e5e40d4893a9b3cf7efa9db",
       "version_major": 2,
       "version_minor": 0
      },
      "text/plain": [
       "HBox(children=(FloatProgress(value=0.0, max=1400.0), HTML(value='')))"
      ]
     },
     "metadata": {},
     "output_type": "display_data"
    },
    {
     "name": "stdout",
     "output_type": "stream",
     "text": [
      "\n",
      "12\n"
     ]
    },
    {
     "data": {
      "application/vnd.jupyter.widget-view+json": {
       "model_id": "fb684731c5b1400f8ea4993c8df0c805",
       "version_major": 2,
       "version_minor": 0
      },
      "text/plain": [
       "HBox(children=(FloatProgress(value=0.0, max=1400.0), HTML(value='')))"
      ]
     },
     "metadata": {},
     "output_type": "display_data"
    },
    {
     "name": "stdout",
     "output_type": "stream",
     "text": [
      "\n",
      "13\n"
     ]
    },
    {
     "data": {
      "application/vnd.jupyter.widget-view+json": {
       "model_id": "fd9777f646a34d4ebaa58b5d7124c7cc",
       "version_major": 2,
       "version_minor": 0
      },
      "text/plain": [
       "HBox(children=(FloatProgress(value=0.0, max=1400.0), HTML(value='')))"
      ]
     },
     "metadata": {},
     "output_type": "display_data"
    },
    {
     "name": "stdout",
     "output_type": "stream",
     "text": [
      "\n",
      "14\n"
     ]
    },
    {
     "data": {
      "application/vnd.jupyter.widget-view+json": {
       "model_id": "8d467b3827e343a18b1137524faed4d8",
       "version_major": 2,
       "version_minor": 0
      },
      "text/plain": [
       "HBox(children=(FloatProgress(value=0.0, max=1400.0), HTML(value='')))"
      ]
     },
     "metadata": {},
     "output_type": "display_data"
    },
    {
     "name": "stdout",
     "output_type": "stream",
     "text": [
      "\n",
      "15\n"
     ]
    },
    {
     "data": {
      "application/vnd.jupyter.widget-view+json": {
       "model_id": "7c1f422651244c82b443b7e786d48d72",
       "version_major": 2,
       "version_minor": 0
      },
      "text/plain": [
       "HBox(children=(FloatProgress(value=0.0, max=1400.0), HTML(value='')))"
      ]
     },
     "metadata": {},
     "output_type": "display_data"
    },
    {
     "name": "stdout",
     "output_type": "stream",
     "text": [
      "\n",
      "16\n"
     ]
    },
    {
     "data": {
      "application/vnd.jupyter.widget-view+json": {
       "model_id": "3c28e47288eb47c29bb1f02bb254d670",
       "version_major": 2,
       "version_minor": 0
      },
      "text/plain": [
       "HBox(children=(FloatProgress(value=0.0, max=1400.0), HTML(value='')))"
      ]
     },
     "metadata": {},
     "output_type": "display_data"
    },
    {
     "name": "stdout",
     "output_type": "stream",
     "text": [
      "\n",
      "17\n"
     ]
    },
    {
     "data": {
      "application/vnd.jupyter.widget-view+json": {
       "model_id": "e9d96155387a4731af00df754492afd0",
       "version_major": 2,
       "version_minor": 0
      },
      "text/plain": [
       "HBox(children=(FloatProgress(value=0.0, max=1400.0), HTML(value='')))"
      ]
     },
     "metadata": {},
     "output_type": "display_data"
    },
    {
     "name": "stdout",
     "output_type": "stream",
     "text": [
      "\n",
      "18\n"
     ]
    },
    {
     "data": {
      "application/vnd.jupyter.widget-view+json": {
       "model_id": "49ed71c9acc148659cee6b2d6d32bf23",
       "version_major": 2,
       "version_minor": 0
      },
      "text/plain": [
       "HBox(children=(FloatProgress(value=0.0, max=1400.0), HTML(value='')))"
      ]
     },
     "metadata": {},
     "output_type": "display_data"
    },
    {
     "name": "stdout",
     "output_type": "stream",
     "text": [
      "\n",
      "19\n"
     ]
    },
    {
     "data": {
      "application/vnd.jupyter.widget-view+json": {
       "model_id": "5d14bb7f636445c8bd011aa91049b9c4",
       "version_major": 2,
       "version_minor": 0
      },
      "text/plain": [
       "HBox(children=(FloatProgress(value=0.0, max=1400.0), HTML(value='')))"
      ]
     },
     "metadata": {},
     "output_type": "display_data"
    },
    {
     "name": "stdout",
     "output_type": "stream",
     "text": [
      "\n",
      "20\n"
     ]
    },
    {
     "data": {
      "application/vnd.jupyter.widget-view+json": {
       "model_id": "401d219a5ba64b73b915fdc95ca86ded",
       "version_major": 2,
       "version_minor": 0
      },
      "text/plain": [
       "HBox(children=(FloatProgress(value=0.0, max=1400.0), HTML(value='')))"
      ]
     },
     "metadata": {},
     "output_type": "display_data"
    },
    {
     "name": "stdout",
     "output_type": "stream",
     "text": [
      "\n",
      "21\n"
     ]
    },
    {
     "data": {
      "application/vnd.jupyter.widget-view+json": {
       "model_id": "89481ec0e5ad4cad83098cb27599e9e1",
       "version_major": 2,
       "version_minor": 0
      },
      "text/plain": [
       "HBox(children=(FloatProgress(value=0.0, max=1400.0), HTML(value='')))"
      ]
     },
     "metadata": {},
     "output_type": "display_data"
    },
    {
     "name": "stdout",
     "output_type": "stream",
     "text": [
      "\n",
      "22\n"
     ]
    },
    {
     "data": {
      "application/vnd.jupyter.widget-view+json": {
       "model_id": "8ce82b0aa7db4354b5e3e8c686119c30",
       "version_major": 2,
       "version_minor": 0
      },
      "text/plain": [
       "HBox(children=(FloatProgress(value=0.0, max=1400.0), HTML(value='')))"
      ]
     },
     "metadata": {},
     "output_type": "display_data"
    },
    {
     "name": "stdout",
     "output_type": "stream",
     "text": [
      "\n",
      "23\n"
     ]
    },
    {
     "data": {
      "application/vnd.jupyter.widget-view+json": {
       "model_id": "f20cd2aac3f54745a9fcf7d011e5029f",
       "version_major": 2,
       "version_minor": 0
      },
      "text/plain": [
       "HBox(children=(FloatProgress(value=0.0, max=1400.0), HTML(value='')))"
      ]
     },
     "metadata": {},
     "output_type": "display_data"
    },
    {
     "name": "stdout",
     "output_type": "stream",
     "text": [
      "\n",
      "24\n"
     ]
    },
    {
     "data": {
      "application/vnd.jupyter.widget-view+json": {
       "model_id": "cd4c6115ab4c4a01bd15e9e3c0c2d92a",
       "version_major": 2,
       "version_minor": 0
      },
      "text/plain": [
       "HBox(children=(FloatProgress(value=0.0, max=1400.0), HTML(value='')))"
      ]
     },
     "metadata": {},
     "output_type": "display_data"
    },
    {
     "name": "stdout",
     "output_type": "stream",
     "text": [
      "\n",
      "25\n"
     ]
    },
    {
     "data": {
      "application/vnd.jupyter.widget-view+json": {
       "model_id": "f03eab37fbeb47e5867ead27881f4b65",
       "version_major": 2,
       "version_minor": 0
      },
      "text/plain": [
       "HBox(children=(FloatProgress(value=0.0, max=1400.0), HTML(value='')))"
      ]
     },
     "metadata": {},
     "output_type": "display_data"
    },
    {
     "name": "stdout",
     "output_type": "stream",
     "text": [
      "\n",
      "26\n"
     ]
    },
    {
     "data": {
      "application/vnd.jupyter.widget-view+json": {
       "model_id": "4ea520d2f8974c1f9bb9fefeeb1754a5",
       "version_major": 2,
       "version_minor": 0
      },
      "text/plain": [
       "HBox(children=(FloatProgress(value=0.0, max=1400.0), HTML(value='')))"
      ]
     },
     "metadata": {},
     "output_type": "display_data"
    },
    {
     "name": "stdout",
     "output_type": "stream",
     "text": [
      "\n",
      "27\n"
     ]
    },
    {
     "data": {
      "application/vnd.jupyter.widget-view+json": {
       "model_id": "3875d91f5fb24222ab8f2a676b504cf0",
       "version_major": 2,
       "version_minor": 0
      },
      "text/plain": [
       "HBox(children=(FloatProgress(value=0.0, max=1400.0), HTML(value='')))"
      ]
     },
     "metadata": {},
     "output_type": "display_data"
    },
    {
     "name": "stdout",
     "output_type": "stream",
     "text": [
      "\n",
      "28\n"
     ]
    },
    {
     "data": {
      "application/vnd.jupyter.widget-view+json": {
       "model_id": "47923f4dff17425e83534a083b22fe54",
       "version_major": 2,
       "version_minor": 0
      },
      "text/plain": [
       "HBox(children=(FloatProgress(value=0.0, max=1400.0), HTML(value='')))"
      ]
     },
     "metadata": {},
     "output_type": "display_data"
    },
    {
     "name": "stdout",
     "output_type": "stream",
     "text": [
      "\n",
      "29\n"
     ]
    },
    {
     "data": {
      "application/vnd.jupyter.widget-view+json": {
       "model_id": "50ab600c93644986b7203893d93a0ab1",
       "version_major": 2,
       "version_minor": 0
      },
      "text/plain": [
       "HBox(children=(FloatProgress(value=0.0, max=1400.0), HTML(value='')))"
      ]
     },
     "metadata": {},
     "output_type": "display_data"
    },
    {
     "name": "stdout",
     "output_type": "stream",
     "text": [
      "\n",
      "30\n"
     ]
    },
    {
     "data": {
      "application/vnd.jupyter.widget-view+json": {
       "model_id": "ed637b96fa93481fbf3db4fc3d1180cd",
       "version_major": 2,
       "version_minor": 0
      },
      "text/plain": [
       "HBox(children=(FloatProgress(value=0.0, max=1400.0), HTML(value='')))"
      ]
     },
     "metadata": {},
     "output_type": "display_data"
    },
    {
     "name": "stdout",
     "output_type": "stream",
     "text": [
      "\n",
      "31\n"
     ]
    },
    {
     "data": {
      "application/vnd.jupyter.widget-view+json": {
       "model_id": "0a97841bd8a34ae1b2fe1bf9ffbf159c",
       "version_major": 2,
       "version_minor": 0
      },
      "text/plain": [
       "HBox(children=(FloatProgress(value=0.0, max=1400.0), HTML(value='')))"
      ]
     },
     "metadata": {},
     "output_type": "display_data"
    },
    {
     "name": "stdout",
     "output_type": "stream",
     "text": [
      "\n",
      "32\n"
     ]
    },
    {
     "data": {
      "application/vnd.jupyter.widget-view+json": {
       "model_id": "97b8eca745ee494e848d7c84f7469c2b",
       "version_major": 2,
       "version_minor": 0
      },
      "text/plain": [
       "HBox(children=(FloatProgress(value=0.0, max=1400.0), HTML(value='')))"
      ]
     },
     "metadata": {},
     "output_type": "display_data"
    },
    {
     "name": "stdout",
     "output_type": "stream",
     "text": [
      "\n",
      "33\n"
     ]
    },
    {
     "data": {
      "application/vnd.jupyter.widget-view+json": {
       "model_id": "63e23f91a2ae452f85fd34cac4ee41e8",
       "version_major": 2,
       "version_minor": 0
      },
      "text/plain": [
       "HBox(children=(FloatProgress(value=0.0, max=1400.0), HTML(value='')))"
      ]
     },
     "metadata": {},
     "output_type": "display_data"
    },
    {
     "name": "stdout",
     "output_type": "stream",
     "text": [
      "\n",
      "34\n"
     ]
    },
    {
     "data": {
      "application/vnd.jupyter.widget-view+json": {
       "model_id": "2638d34e8ada44ae925f1687d308d702",
       "version_major": 2,
       "version_minor": 0
      },
      "text/plain": [
       "HBox(children=(FloatProgress(value=0.0, max=1400.0), HTML(value='')))"
      ]
     },
     "metadata": {},
     "output_type": "display_data"
    },
    {
     "name": "stdout",
     "output_type": "stream",
     "text": [
      "\n",
      "35\n"
     ]
    },
    {
     "data": {
      "application/vnd.jupyter.widget-view+json": {
       "model_id": "96a0ddf8e84b4100b2bf8bbe74f3f48d",
       "version_major": 2,
       "version_minor": 0
      },
      "text/plain": [
       "HBox(children=(FloatProgress(value=0.0, max=1400.0), HTML(value='')))"
      ]
     },
     "metadata": {},
     "output_type": "display_data"
    },
    {
     "name": "stdout",
     "output_type": "stream",
     "text": [
      "\n",
      "36\n"
     ]
    },
    {
     "data": {
      "application/vnd.jupyter.widget-view+json": {
       "model_id": "c643c280c5da48079c0d9bd41066825e",
       "version_major": 2,
       "version_minor": 0
      },
      "text/plain": [
       "HBox(children=(FloatProgress(value=0.0, max=1400.0), HTML(value='')))"
      ]
     },
     "metadata": {},
     "output_type": "display_data"
    },
    {
     "name": "stdout",
     "output_type": "stream",
     "text": [
      "\n",
      "37\n"
     ]
    },
    {
     "data": {
      "application/vnd.jupyter.widget-view+json": {
       "model_id": "6fe46d35ea254ecdb6efa6e1cb020ca2",
       "version_major": 2,
       "version_minor": 0
      },
      "text/plain": [
       "HBox(children=(FloatProgress(value=0.0, max=1400.0), HTML(value='')))"
      ]
     },
     "metadata": {},
     "output_type": "display_data"
    },
    {
     "name": "stdout",
     "output_type": "stream",
     "text": [
      "\n",
      "38\n"
     ]
    },
    {
     "data": {
      "application/vnd.jupyter.widget-view+json": {
       "model_id": "5dbf420a24f54fc78b4a49d982eaad1c",
       "version_major": 2,
       "version_minor": 0
      },
      "text/plain": [
       "HBox(children=(FloatProgress(value=0.0, max=1400.0), HTML(value='')))"
      ]
     },
     "metadata": {},
     "output_type": "display_data"
    },
    {
     "name": "stdout",
     "output_type": "stream",
     "text": [
      "\n",
      "39\n"
     ]
    },
    {
     "data": {
      "application/vnd.jupyter.widget-view+json": {
       "model_id": "31f61c597cff4479b67b8099d35a969d",
       "version_major": 2,
       "version_minor": 0
      },
      "text/plain": [
       "HBox(children=(FloatProgress(value=0.0, max=1400.0), HTML(value='')))"
      ]
     },
     "metadata": {},
     "output_type": "display_data"
    },
    {
     "name": "stdout",
     "output_type": "stream",
     "text": [
      "\n",
      "40\n"
     ]
    },
    {
     "data": {
      "application/vnd.jupyter.widget-view+json": {
       "model_id": "45d94d64937d4e73aba87fb6dbde5226",
       "version_major": 2,
       "version_minor": 0
      },
      "text/plain": [
       "HBox(children=(FloatProgress(value=0.0, max=1400.0), HTML(value='')))"
      ]
     },
     "metadata": {},
     "output_type": "display_data"
    },
    {
     "name": "stdout",
     "output_type": "stream",
     "text": [
      "\n",
      "41\n"
     ]
    },
    {
     "data": {
      "application/vnd.jupyter.widget-view+json": {
       "model_id": "6dfe9ffe4b6f4c77892ad7e9f9ef89c1",
       "version_major": 2,
       "version_minor": 0
      },
      "text/plain": [
       "HBox(children=(FloatProgress(value=0.0, max=1400.0), HTML(value='')))"
      ]
     },
     "metadata": {},
     "output_type": "display_data"
    },
    {
     "name": "stdout",
     "output_type": "stream",
     "text": [
      "\n",
      "42\n"
     ]
    },
    {
     "data": {
      "application/vnd.jupyter.widget-view+json": {
       "model_id": "c0fb74be7cca4cd2b415b338a4fe9c6b",
       "version_major": 2,
       "version_minor": 0
      },
      "text/plain": [
       "HBox(children=(FloatProgress(value=0.0, max=1400.0), HTML(value='')))"
      ]
     },
     "metadata": {},
     "output_type": "display_data"
    },
    {
     "name": "stdout",
     "output_type": "stream",
     "text": [
      "\n",
      "43\n"
     ]
    },
    {
     "data": {
      "application/vnd.jupyter.widget-view+json": {
       "model_id": "3fae5c7accc04162a39905e14a3caeae",
       "version_major": 2,
       "version_minor": 0
      },
      "text/plain": [
       "HBox(children=(FloatProgress(value=0.0, max=1400.0), HTML(value='')))"
      ]
     },
     "metadata": {},
     "output_type": "display_data"
    },
    {
     "name": "stdout",
     "output_type": "stream",
     "text": [
      "\n",
      "44\n"
     ]
    },
    {
     "data": {
      "application/vnd.jupyter.widget-view+json": {
       "model_id": "c3584841beb54e08b8427392e56567e8",
       "version_major": 2,
       "version_minor": 0
      },
      "text/plain": [
       "HBox(children=(FloatProgress(value=0.0, max=1400.0), HTML(value='')))"
      ]
     },
     "metadata": {},
     "output_type": "display_data"
    },
    {
     "name": "stdout",
     "output_type": "stream",
     "text": [
      "\n",
      "45\n"
     ]
    },
    {
     "data": {
      "application/vnd.jupyter.widget-view+json": {
       "model_id": "249c5f99c8cd43bca077ce4229181b1d",
       "version_major": 2,
       "version_minor": 0
      },
      "text/plain": [
       "HBox(children=(FloatProgress(value=0.0, max=1400.0), HTML(value='')))"
      ]
     },
     "metadata": {},
     "output_type": "display_data"
    },
    {
     "name": "stdout",
     "output_type": "stream",
     "text": [
      "\n",
      "1\n"
     ]
    },
    {
     "data": {
      "application/vnd.jupyter.widget-view+json": {
       "model_id": "dfe0f1fa5ebc478fb09a1454d1116e3a",
       "version_major": 2,
       "version_minor": 0
      },
      "text/plain": [
       "HBox(children=(FloatProgress(value=0.0, max=28000.0), HTML(value='')))"
      ]
     },
     "metadata": {},
     "output_type": "display_data"
    },
    {
     "name": "stdout",
     "output_type": "stream",
     "text": [
      "\n",
      "2\n"
     ]
    },
    {
     "data": {
      "application/vnd.jupyter.widget-view+json": {
       "model_id": "1de65d36633c495e861dc5950519826b",
       "version_major": 2,
       "version_minor": 0
      },
      "text/plain": [
       "HBox(children=(FloatProgress(value=0.0, max=28000.0), HTML(value='')))"
      ]
     },
     "metadata": {},
     "output_type": "display_data"
    },
    {
     "name": "stdout",
     "output_type": "stream",
     "text": [
      "\n",
      "3\n"
     ]
    },
    {
     "data": {
      "application/vnd.jupyter.widget-view+json": {
       "model_id": "5ffc81e5f706451bb6836cb7e743bd20",
       "version_major": 2,
       "version_minor": 0
      },
      "text/plain": [
       "HBox(children=(FloatProgress(value=0.0, max=28000.0), HTML(value='')))"
      ]
     },
     "metadata": {},
     "output_type": "display_data"
    },
    {
     "name": "stdout",
     "output_type": "stream",
     "text": [
      "\n",
      "4\n"
     ]
    },
    {
     "data": {
      "application/vnd.jupyter.widget-view+json": {
       "model_id": "6eca5c4c00944241b23cc40306d41cef",
       "version_major": 2,
       "version_minor": 0
      },
      "text/plain": [
       "HBox(children=(FloatProgress(value=0.0, max=28000.0), HTML(value='')))"
      ]
     },
     "metadata": {},
     "output_type": "display_data"
    },
    {
     "name": "stdout",
     "output_type": "stream",
     "text": [
      "\n",
      "5\n"
     ]
    },
    {
     "data": {
      "application/vnd.jupyter.widget-view+json": {
       "model_id": "fc0ce73f93e04c318d6358fc0ac520e4",
       "version_major": 2,
       "version_minor": 0
      },
      "text/plain": [
       "HBox(children=(FloatProgress(value=0.0, max=28000.0), HTML(value='')))"
      ]
     },
     "metadata": {},
     "output_type": "display_data"
    },
    {
     "name": "stdout",
     "output_type": "stream",
     "text": [
      "\n",
      "6\n"
     ]
    },
    {
     "data": {
      "application/vnd.jupyter.widget-view+json": {
       "model_id": "46a7f3007c584fd9bb9b7119f805b9b1",
       "version_major": 2,
       "version_minor": 0
      },
      "text/plain": [
       "HBox(children=(FloatProgress(value=0.0, max=28000.0), HTML(value='')))"
      ]
     },
     "metadata": {},
     "output_type": "display_data"
    },
    {
     "name": "stdout",
     "output_type": "stream",
     "text": [
      "\n",
      "7\n"
     ]
    },
    {
     "data": {
      "application/vnd.jupyter.widget-view+json": {
       "model_id": "73f3d32484fb4e05a6d511f2c1299113",
       "version_major": 2,
       "version_minor": 0
      },
      "text/plain": [
       "HBox(children=(FloatProgress(value=0.0, max=28000.0), HTML(value='')))"
      ]
     },
     "metadata": {},
     "output_type": "display_data"
    },
    {
     "name": "stdout",
     "output_type": "stream",
     "text": [
      "\n",
      "8\n"
     ]
    },
    {
     "data": {
      "application/vnd.jupyter.widget-view+json": {
       "model_id": "340c647220e841e2af6715232cf8661d",
       "version_major": 2,
       "version_minor": 0
      },
      "text/plain": [
       "HBox(children=(FloatProgress(value=0.0, max=28000.0), HTML(value='')))"
      ]
     },
     "metadata": {},
     "output_type": "display_data"
    },
    {
     "name": "stdout",
     "output_type": "stream",
     "text": [
      "\n",
      "9\n"
     ]
    },
    {
     "data": {
      "application/vnd.jupyter.widget-view+json": {
       "model_id": "0f15f26710f14af18abf4d141c117b86",
       "version_major": 2,
       "version_minor": 0
      },
      "text/plain": [
       "HBox(children=(FloatProgress(value=0.0, max=28000.0), HTML(value='')))"
      ]
     },
     "metadata": {},
     "output_type": "display_data"
    },
    {
     "name": "stdout",
     "output_type": "stream",
     "text": [
      "\n",
      "10\n"
     ]
    },
    {
     "data": {
      "application/vnd.jupyter.widget-view+json": {
       "model_id": "697360e3b1844f4784cdab50e0e1c05f",
       "version_major": 2,
       "version_minor": 0
      },
      "text/plain": [
       "HBox(children=(FloatProgress(value=0.0, max=28000.0), HTML(value='')))"
      ]
     },
     "metadata": {},
     "output_type": "display_data"
    },
    {
     "name": "stdout",
     "output_type": "stream",
     "text": [
      "\n",
      "11\n"
     ]
    },
    {
     "data": {
      "application/vnd.jupyter.widget-view+json": {
       "model_id": "956c833b04d44d5ba611c41a11987396",
       "version_major": 2,
       "version_minor": 0
      },
      "text/plain": [
       "HBox(children=(FloatProgress(value=0.0, max=28000.0), HTML(value='')))"
      ]
     },
     "metadata": {},
     "output_type": "display_data"
    },
    {
     "name": "stdout",
     "output_type": "stream",
     "text": [
      "\n",
      "12\n"
     ]
    },
    {
     "data": {
      "application/vnd.jupyter.widget-view+json": {
       "model_id": "24f0ffb757674f419535754f3878597d",
       "version_major": 2,
       "version_minor": 0
      },
      "text/plain": [
       "HBox(children=(FloatProgress(value=0.0, max=28000.0), HTML(value='')))"
      ]
     },
     "metadata": {},
     "output_type": "display_data"
    },
    {
     "name": "stdout",
     "output_type": "stream",
     "text": [
      "\n",
      "13\n"
     ]
    },
    {
     "data": {
      "application/vnd.jupyter.widget-view+json": {
       "model_id": "dcecc3e8a0ec4f1cb0d557acca3a068f",
       "version_major": 2,
       "version_minor": 0
      },
      "text/plain": [
       "HBox(children=(FloatProgress(value=0.0, max=28000.0), HTML(value='')))"
      ]
     },
     "metadata": {},
     "output_type": "display_data"
    },
    {
     "name": "stdout",
     "output_type": "stream",
     "text": [
      "\n",
      "14\n"
     ]
    },
    {
     "data": {
      "application/vnd.jupyter.widget-view+json": {
       "model_id": "206a40437ec9486ea2614eaad73b30c7",
       "version_major": 2,
       "version_minor": 0
      },
      "text/plain": [
       "HBox(children=(FloatProgress(value=0.0, max=28000.0), HTML(value='')))"
      ]
     },
     "metadata": {},
     "output_type": "display_data"
    },
    {
     "name": "stdout",
     "output_type": "stream",
     "text": [
      "\n",
      "15\n"
     ]
    },
    {
     "data": {
      "application/vnd.jupyter.widget-view+json": {
       "model_id": "9b9151a94c354fd79d9d643a1fa3f01a",
       "version_major": 2,
       "version_minor": 0
      },
      "text/plain": [
       "HBox(children=(FloatProgress(value=0.0, max=28000.0), HTML(value='')))"
      ]
     },
     "metadata": {},
     "output_type": "display_data"
    },
    {
     "name": "stdout",
     "output_type": "stream",
     "text": [
      "\n",
      "16\n"
     ]
    },
    {
     "data": {
      "application/vnd.jupyter.widget-view+json": {
       "model_id": "909fab068df24563b76f65765223e44d",
       "version_major": 2,
       "version_minor": 0
      },
      "text/plain": [
       "HBox(children=(FloatProgress(value=0.0, max=28000.0), HTML(value='')))"
      ]
     },
     "metadata": {},
     "output_type": "display_data"
    },
    {
     "name": "stdout",
     "output_type": "stream",
     "text": [
      "\n",
      "17\n"
     ]
    },
    {
     "data": {
      "application/vnd.jupyter.widget-view+json": {
       "model_id": "2dcfcc480ee84bea816b9cc1dda1cc28",
       "version_major": 2,
       "version_minor": 0
      },
      "text/plain": [
       "HBox(children=(FloatProgress(value=0.0, max=28000.0), HTML(value='')))"
      ]
     },
     "metadata": {},
     "output_type": "display_data"
    },
    {
     "name": "stdout",
     "output_type": "stream",
     "text": [
      "\n",
      "18\n"
     ]
    },
    {
     "data": {
      "application/vnd.jupyter.widget-view+json": {
       "model_id": "055f2114f697471eae38a1fea5256aae",
       "version_major": 2,
       "version_minor": 0
      },
      "text/plain": [
       "HBox(children=(FloatProgress(value=0.0, max=28000.0), HTML(value='')))"
      ]
     },
     "metadata": {},
     "output_type": "display_data"
    },
    {
     "name": "stdout",
     "output_type": "stream",
     "text": [
      "\n",
      "19\n"
     ]
    },
    {
     "data": {
      "application/vnd.jupyter.widget-view+json": {
       "model_id": "1aa884895c6347818542723e3c0dedcb",
       "version_major": 2,
       "version_minor": 0
      },
      "text/plain": [
       "HBox(children=(FloatProgress(value=0.0, max=28000.0), HTML(value='')))"
      ]
     },
     "metadata": {},
     "output_type": "display_data"
    },
    {
     "name": "stdout",
     "output_type": "stream",
     "text": [
      "\n",
      "20\n"
     ]
    },
    {
     "data": {
      "application/vnd.jupyter.widget-view+json": {
       "model_id": "0acd2bf0b6604b5a976e21ebc3fabfe1",
       "version_major": 2,
       "version_minor": 0
      },
      "text/plain": [
       "HBox(children=(FloatProgress(value=0.0, max=28000.0), HTML(value='')))"
      ]
     },
     "metadata": {},
     "output_type": "display_data"
    },
    {
     "name": "stdout",
     "output_type": "stream",
     "text": [
      "\n",
      "21\n"
     ]
    },
    {
     "data": {
      "application/vnd.jupyter.widget-view+json": {
       "model_id": "879b4d9fa52140d3b04fd4e3cfd8b606",
       "version_major": 2,
       "version_minor": 0
      },
      "text/plain": [
       "HBox(children=(FloatProgress(value=0.0, max=28000.0), HTML(value='')))"
      ]
     },
     "metadata": {},
     "output_type": "display_data"
    },
    {
     "name": "stdout",
     "output_type": "stream",
     "text": [
      "\n",
      "22\n"
     ]
    },
    {
     "data": {
      "application/vnd.jupyter.widget-view+json": {
       "model_id": "d48b6777e9d34088b243b67932d0d51e",
       "version_major": 2,
       "version_minor": 0
      },
      "text/plain": [
       "HBox(children=(FloatProgress(value=0.0, max=28000.0), HTML(value='')))"
      ]
     },
     "metadata": {},
     "output_type": "display_data"
    },
    {
     "name": "stdout",
     "output_type": "stream",
     "text": [
      "\n",
      "23\n"
     ]
    },
    {
     "data": {
      "application/vnd.jupyter.widget-view+json": {
       "model_id": "db545616da784ce5837e853f8540f448",
       "version_major": 2,
       "version_minor": 0
      },
      "text/plain": [
       "HBox(children=(FloatProgress(value=0.0, max=28000.0), HTML(value='')))"
      ]
     },
     "metadata": {},
     "output_type": "display_data"
    },
    {
     "name": "stdout",
     "output_type": "stream",
     "text": [
      "\n",
      "24\n"
     ]
    },
    {
     "data": {
      "application/vnd.jupyter.widget-view+json": {
       "model_id": "77d451973a42434aaf3fb63e8a3c7675",
       "version_major": 2,
       "version_minor": 0
      },
      "text/plain": [
       "HBox(children=(FloatProgress(value=0.0, max=28000.0), HTML(value='')))"
      ]
     },
     "metadata": {},
     "output_type": "display_data"
    },
    {
     "name": "stdout",
     "output_type": "stream",
     "text": [
      "\n",
      "25\n"
     ]
    },
    {
     "data": {
      "application/vnd.jupyter.widget-view+json": {
       "model_id": "9e67adef1b2e47eb94788e1ca01abd05",
       "version_major": 2,
       "version_minor": 0
      },
      "text/plain": [
       "HBox(children=(FloatProgress(value=0.0, max=28000.0), HTML(value='')))"
      ]
     },
     "metadata": {},
     "output_type": "display_data"
    },
    {
     "name": "stdout",
     "output_type": "stream",
     "text": [
      "\n",
      "26\n"
     ]
    },
    {
     "data": {
      "application/vnd.jupyter.widget-view+json": {
       "model_id": "34fe3eeca2284ab397aea8474fc58a32",
       "version_major": 2,
       "version_minor": 0
      },
      "text/plain": [
       "HBox(children=(FloatProgress(value=0.0, max=28000.0), HTML(value='')))"
      ]
     },
     "metadata": {},
     "output_type": "display_data"
    },
    {
     "name": "stdout",
     "output_type": "stream",
     "text": [
      "\n",
      "27\n"
     ]
    },
    {
     "data": {
      "application/vnd.jupyter.widget-view+json": {
       "model_id": "d073eb5309664377a6974bb0eebacb91",
       "version_major": 2,
       "version_minor": 0
      },
      "text/plain": [
       "HBox(children=(FloatProgress(value=0.0, max=28000.0), HTML(value='')))"
      ]
     },
     "metadata": {},
     "output_type": "display_data"
    },
    {
     "name": "stdout",
     "output_type": "stream",
     "text": [
      "\n",
      "28\n"
     ]
    },
    {
     "data": {
      "application/vnd.jupyter.widget-view+json": {
       "model_id": "86c75f992dbb4d09a8a78f960deccf47",
       "version_major": 2,
       "version_minor": 0
      },
      "text/plain": [
       "HBox(children=(FloatProgress(value=0.0, max=28000.0), HTML(value='')))"
      ]
     },
     "metadata": {},
     "output_type": "display_data"
    },
    {
     "name": "stdout",
     "output_type": "stream",
     "text": [
      "\n",
      "29\n"
     ]
    },
    {
     "data": {
      "application/vnd.jupyter.widget-view+json": {
       "model_id": "27b773725b8c48b3b03b8ec8ed9d4b9e",
       "version_major": 2,
       "version_minor": 0
      },
      "text/plain": [
       "HBox(children=(FloatProgress(value=0.0, max=28000.0), HTML(value='')))"
      ]
     },
     "metadata": {},
     "output_type": "display_data"
    },
    {
     "name": "stdout",
     "output_type": "stream",
     "text": [
      "\n",
      "30\n"
     ]
    },
    {
     "data": {
      "application/vnd.jupyter.widget-view+json": {
       "model_id": "31377268d4224bf3bb5fbf9b1c0280bd",
       "version_major": 2,
       "version_minor": 0
      },
      "text/plain": [
       "HBox(children=(FloatProgress(value=0.0, max=28000.0), HTML(value='')))"
      ]
     },
     "metadata": {},
     "output_type": "display_data"
    },
    {
     "name": "stdout",
     "output_type": "stream",
     "text": [
      "\n",
      "31\n"
     ]
    },
    {
     "data": {
      "application/vnd.jupyter.widget-view+json": {
       "model_id": "647bce29ac6e4a39918e9884d93a8b36",
       "version_major": 2,
       "version_minor": 0
      },
      "text/plain": [
       "HBox(children=(FloatProgress(value=0.0, max=28000.0), HTML(value='')))"
      ]
     },
     "metadata": {},
     "output_type": "display_data"
    },
    {
     "name": "stdout",
     "output_type": "stream",
     "text": [
      "\n",
      "32\n"
     ]
    },
    {
     "data": {
      "application/vnd.jupyter.widget-view+json": {
       "model_id": "6f8e5d27d608472780c7c3d505e73160",
       "version_major": 2,
       "version_minor": 0
      },
      "text/plain": [
       "HBox(children=(FloatProgress(value=0.0, max=28000.0), HTML(value='')))"
      ]
     },
     "metadata": {},
     "output_type": "display_data"
    },
    {
     "name": "stdout",
     "output_type": "stream",
     "text": [
      "\n",
      "33\n"
     ]
    },
    {
     "data": {
      "application/vnd.jupyter.widget-view+json": {
       "model_id": "ae34beb6ea514efd882681c2a988a71f",
       "version_major": 2,
       "version_minor": 0
      },
      "text/plain": [
       "HBox(children=(FloatProgress(value=0.0, max=28000.0), HTML(value='')))"
      ]
     },
     "metadata": {},
     "output_type": "display_data"
    },
    {
     "name": "stdout",
     "output_type": "stream",
     "text": [
      "\n",
      "34\n"
     ]
    },
    {
     "data": {
      "application/vnd.jupyter.widget-view+json": {
       "model_id": "0f5bd32fd49e41a19cab651a8dcec23f",
       "version_major": 2,
       "version_minor": 0
      },
      "text/plain": [
       "HBox(children=(FloatProgress(value=0.0, max=28000.0), HTML(value='')))"
      ]
     },
     "metadata": {},
     "output_type": "display_data"
    },
    {
     "name": "stdout",
     "output_type": "stream",
     "text": [
      "\n",
      "35\n"
     ]
    },
    {
     "data": {
      "application/vnd.jupyter.widget-view+json": {
       "model_id": "2583e2fecf1448d7b864145f0930b456",
       "version_major": 2,
       "version_minor": 0
      },
      "text/plain": [
       "HBox(children=(FloatProgress(value=0.0, max=28000.0), HTML(value='')))"
      ]
     },
     "metadata": {},
     "output_type": "display_data"
    },
    {
     "name": "stdout",
     "output_type": "stream",
     "text": [
      "\n",
      "36\n"
     ]
    },
    {
     "data": {
      "application/vnd.jupyter.widget-view+json": {
       "model_id": "f88e183e06a64cf8a45c94daed922a29",
       "version_major": 2,
       "version_minor": 0
      },
      "text/plain": [
       "HBox(children=(FloatProgress(value=0.0, max=28000.0), HTML(value='')))"
      ]
     },
     "metadata": {},
     "output_type": "display_data"
    },
    {
     "name": "stdout",
     "output_type": "stream",
     "text": [
      "\n",
      "37\n"
     ]
    },
    {
     "data": {
      "application/vnd.jupyter.widget-view+json": {
       "model_id": "3c534ae1e6db42e19e40addfcefd6d88",
       "version_major": 2,
       "version_minor": 0
      },
      "text/plain": [
       "HBox(children=(FloatProgress(value=0.0, max=28000.0), HTML(value='')))"
      ]
     },
     "metadata": {},
     "output_type": "display_data"
    },
    {
     "name": "stdout",
     "output_type": "stream",
     "text": [
      "\n",
      "38\n"
     ]
    },
    {
     "data": {
      "application/vnd.jupyter.widget-view+json": {
       "model_id": "04bf9b1240844bab9c713887cf99eb62",
       "version_major": 2,
       "version_minor": 0
      },
      "text/plain": [
       "HBox(children=(FloatProgress(value=0.0, max=28000.0), HTML(value='')))"
      ]
     },
     "metadata": {},
     "output_type": "display_data"
    },
    {
     "name": "stdout",
     "output_type": "stream",
     "text": [
      "\n",
      "39\n"
     ]
    },
    {
     "data": {
      "application/vnd.jupyter.widget-view+json": {
       "model_id": "25127a6365184b06b18aecbb1cf398a2",
       "version_major": 2,
       "version_minor": 0
      },
      "text/plain": [
       "HBox(children=(FloatProgress(value=0.0, max=28000.0), HTML(value='')))"
      ]
     },
     "metadata": {},
     "output_type": "display_data"
    },
    {
     "name": "stdout",
     "output_type": "stream",
     "text": [
      "\n",
      "40\n"
     ]
    },
    {
     "data": {
      "application/vnd.jupyter.widget-view+json": {
       "model_id": "1ed0af42869e48a2b8c70b92f6d45f7b",
       "version_major": 2,
       "version_minor": 0
      },
      "text/plain": [
       "HBox(children=(FloatProgress(value=0.0, max=28000.0), HTML(value='')))"
      ]
     },
     "metadata": {},
     "output_type": "display_data"
    },
    {
     "name": "stdout",
     "output_type": "stream",
     "text": [
      "\n",
      "41\n"
     ]
    },
    {
     "data": {
      "application/vnd.jupyter.widget-view+json": {
       "model_id": "f9447036241241909b267f6fd6ace111",
       "version_major": 2,
       "version_minor": 0
      },
      "text/plain": [
       "HBox(children=(FloatProgress(value=0.0, max=28000.0), HTML(value='')))"
      ]
     },
     "metadata": {},
     "output_type": "display_data"
    },
    {
     "name": "stdout",
     "output_type": "stream",
     "text": [
      "\n",
      "42\n"
     ]
    },
    {
     "data": {
      "application/vnd.jupyter.widget-view+json": {
       "model_id": "5579435788f14a13b987d716b1e60fc3",
       "version_major": 2,
       "version_minor": 0
      },
      "text/plain": [
       "HBox(children=(FloatProgress(value=0.0, max=28000.0), HTML(value='')))"
      ]
     },
     "metadata": {},
     "output_type": "display_data"
    },
    {
     "name": "stdout",
     "output_type": "stream",
     "text": [
      "\n",
      "43\n"
     ]
    },
    {
     "data": {
      "application/vnd.jupyter.widget-view+json": {
       "model_id": "f64372aeeee44054ae1e21058f6be298",
       "version_major": 2,
       "version_minor": 0
      },
      "text/plain": [
       "HBox(children=(FloatProgress(value=0.0, max=28000.0), HTML(value='')))"
      ]
     },
     "metadata": {},
     "output_type": "display_data"
    },
    {
     "name": "stdout",
     "output_type": "stream",
     "text": [
      "\n",
      "44\n"
     ]
    },
    {
     "data": {
      "application/vnd.jupyter.widget-view+json": {
       "model_id": "fcf9919a53d14a4b8386c9d26e95d507",
       "version_major": 2,
       "version_minor": 0
      },
      "text/plain": [
       "HBox(children=(FloatProgress(value=0.0, max=28000.0), HTML(value='')))"
      ]
     },
     "metadata": {},
     "output_type": "display_data"
    },
    {
     "name": "stdout",
     "output_type": "stream",
     "text": [
      "\n",
      "45\n"
     ]
    },
    {
     "data": {
      "application/vnd.jupyter.widget-view+json": {
       "model_id": "20ad84a54b69473d9f6615246f6d52c2",
       "version_major": 2,
       "version_minor": 0
      },
      "text/plain": [
       "HBox(children=(FloatProgress(value=0.0, max=28000.0), HTML(value='')))"
      ]
     },
     "metadata": {},
     "output_type": "display_data"
    },
    {
     "name": "stdout",
     "output_type": "stream",
     "text": [
      "\n",
      "1\n"
     ]
    },
    {
     "data": {
      "application/vnd.jupyter.widget-view+json": {
       "model_id": "55259933d5da4c6284ec048518fd16e6",
       "version_major": 2,
       "version_minor": 0
      },
      "text/plain": [
       "HBox(children=(FloatProgress(value=0.0, max=1400.0), HTML(value='')))"
      ]
     },
     "metadata": {},
     "output_type": "display_data"
    },
    {
     "name": "stdout",
     "output_type": "stream",
     "text": [
      "\n",
      "2\n"
     ]
    },
    {
     "data": {
      "application/vnd.jupyter.widget-view+json": {
       "model_id": "4bfe1d18cfa1412e82a16f69911bf7f3",
       "version_major": 2,
       "version_minor": 0
      },
      "text/plain": [
       "HBox(children=(FloatProgress(value=0.0, max=1400.0), HTML(value='')))"
      ]
     },
     "metadata": {},
     "output_type": "display_data"
    },
    {
     "name": "stdout",
     "output_type": "stream",
     "text": [
      "\n",
      "3\n"
     ]
    },
    {
     "data": {
      "application/vnd.jupyter.widget-view+json": {
       "model_id": "94d090fcc2084827a80de6fb5041e877",
       "version_major": 2,
       "version_minor": 0
      },
      "text/plain": [
       "HBox(children=(FloatProgress(value=0.0, max=1400.0), HTML(value='')))"
      ]
     },
     "metadata": {},
     "output_type": "display_data"
    },
    {
     "name": "stdout",
     "output_type": "stream",
     "text": [
      "\n",
      "4\n"
     ]
    },
    {
     "data": {
      "application/vnd.jupyter.widget-view+json": {
       "model_id": "52fcd8f1c6a14d809d6d2237fa66151c",
       "version_major": 2,
       "version_minor": 0
      },
      "text/plain": [
       "HBox(children=(FloatProgress(value=0.0, max=1400.0), HTML(value='')))"
      ]
     },
     "metadata": {},
     "output_type": "display_data"
    },
    {
     "name": "stdout",
     "output_type": "stream",
     "text": [
      "\n",
      "5\n"
     ]
    },
    {
     "data": {
      "application/vnd.jupyter.widget-view+json": {
       "model_id": "63d1d75ba89345ac8a57f5b4af85d03a",
       "version_major": 2,
       "version_minor": 0
      },
      "text/plain": [
       "HBox(children=(FloatProgress(value=0.0, max=1400.0), HTML(value='')))"
      ]
     },
     "metadata": {},
     "output_type": "display_data"
    },
    {
     "name": "stdout",
     "output_type": "stream",
     "text": [
      "\n",
      "6\n"
     ]
    },
    {
     "data": {
      "application/vnd.jupyter.widget-view+json": {
       "model_id": "809d25fc767c4e34946686fd1557c7a4",
       "version_major": 2,
       "version_minor": 0
      },
      "text/plain": [
       "HBox(children=(FloatProgress(value=0.0, max=1400.0), HTML(value='')))"
      ]
     },
     "metadata": {},
     "output_type": "display_data"
    },
    {
     "name": "stdout",
     "output_type": "stream",
     "text": [
      "\n",
      "7\n"
     ]
    },
    {
     "data": {
      "application/vnd.jupyter.widget-view+json": {
       "model_id": "0b821f63fe7d4d5fbcafd6201b2719b7",
       "version_major": 2,
       "version_minor": 0
      },
      "text/plain": [
       "HBox(children=(FloatProgress(value=0.0, max=1400.0), HTML(value='')))"
      ]
     },
     "metadata": {},
     "output_type": "display_data"
    },
    {
     "name": "stdout",
     "output_type": "stream",
     "text": [
      "\n",
      "8\n"
     ]
    },
    {
     "data": {
      "application/vnd.jupyter.widget-view+json": {
       "model_id": "cad52e331a5a4010bc79ebacd3069676",
       "version_major": 2,
       "version_minor": 0
      },
      "text/plain": [
       "HBox(children=(FloatProgress(value=0.0, max=1400.0), HTML(value='')))"
      ]
     },
     "metadata": {},
     "output_type": "display_data"
    },
    {
     "name": "stdout",
     "output_type": "stream",
     "text": [
      "\n",
      "9\n"
     ]
    },
    {
     "data": {
      "application/vnd.jupyter.widget-view+json": {
       "model_id": "9d1112dfc1a64f60b71308766b6b1cfd",
       "version_major": 2,
       "version_minor": 0
      },
      "text/plain": [
       "HBox(children=(FloatProgress(value=0.0, max=1400.0), HTML(value='')))"
      ]
     },
     "metadata": {},
     "output_type": "display_data"
    },
    {
     "name": "stdout",
     "output_type": "stream",
     "text": [
      "\n",
      "10\n"
     ]
    },
    {
     "data": {
      "application/vnd.jupyter.widget-view+json": {
       "model_id": "ebcee9b171a34c3c8510f8f665ede0b4",
       "version_major": 2,
       "version_minor": 0
      },
      "text/plain": [
       "HBox(children=(FloatProgress(value=0.0, max=1400.0), HTML(value='')))"
      ]
     },
     "metadata": {},
     "output_type": "display_data"
    },
    {
     "name": "stdout",
     "output_type": "stream",
     "text": [
      "\n",
      "11\n"
     ]
    },
    {
     "data": {
      "application/vnd.jupyter.widget-view+json": {
       "model_id": "604709826f084bc4a2ed3494b514e166",
       "version_major": 2,
       "version_minor": 0
      },
      "text/plain": [
       "HBox(children=(FloatProgress(value=0.0, max=1400.0), HTML(value='')))"
      ]
     },
     "metadata": {},
     "output_type": "display_data"
    },
    {
     "name": "stdout",
     "output_type": "stream",
     "text": [
      "\n",
      "12\n"
     ]
    },
    {
     "data": {
      "application/vnd.jupyter.widget-view+json": {
       "model_id": "442a889a6d874e69bc6a7f34b22e3a84",
       "version_major": 2,
       "version_minor": 0
      },
      "text/plain": [
       "HBox(children=(FloatProgress(value=0.0, max=1400.0), HTML(value='')))"
      ]
     },
     "metadata": {},
     "output_type": "display_data"
    },
    {
     "name": "stdout",
     "output_type": "stream",
     "text": [
      "\n",
      "13\n"
     ]
    },
    {
     "data": {
      "application/vnd.jupyter.widget-view+json": {
       "model_id": "b61eb50ec6ef4ef6929f702036c4ef3b",
       "version_major": 2,
       "version_minor": 0
      },
      "text/plain": [
       "HBox(children=(FloatProgress(value=0.0, max=1400.0), HTML(value='')))"
      ]
     },
     "metadata": {},
     "output_type": "display_data"
    },
    {
     "name": "stdout",
     "output_type": "stream",
     "text": [
      "\n",
      "14\n"
     ]
    },
    {
     "data": {
      "application/vnd.jupyter.widget-view+json": {
       "model_id": "0b1d90a6aab7422b887b59e0fa0f573f",
       "version_major": 2,
       "version_minor": 0
      },
      "text/plain": [
       "HBox(children=(FloatProgress(value=0.0, max=1400.0), HTML(value='')))"
      ]
     },
     "metadata": {},
     "output_type": "display_data"
    },
    {
     "name": "stdout",
     "output_type": "stream",
     "text": [
      "\n",
      "15\n"
     ]
    },
    {
     "data": {
      "application/vnd.jupyter.widget-view+json": {
       "model_id": "e1c2a63617144d2ba41dfcc20fcde8e0",
       "version_major": 2,
       "version_minor": 0
      },
      "text/plain": [
       "HBox(children=(FloatProgress(value=0.0, max=1400.0), HTML(value='')))"
      ]
     },
     "metadata": {},
     "output_type": "display_data"
    },
    {
     "name": "stdout",
     "output_type": "stream",
     "text": [
      "\n",
      "16\n"
     ]
    },
    {
     "data": {
      "application/vnd.jupyter.widget-view+json": {
       "model_id": "b036283c279746858019f0df3ff845e9",
       "version_major": 2,
       "version_minor": 0
      },
      "text/plain": [
       "HBox(children=(FloatProgress(value=0.0, max=1400.0), HTML(value='')))"
      ]
     },
     "metadata": {},
     "output_type": "display_data"
    },
    {
     "name": "stdout",
     "output_type": "stream",
     "text": [
      "\n",
      "17\n"
     ]
    },
    {
     "data": {
      "application/vnd.jupyter.widget-view+json": {
       "model_id": "5015369f92f54b41ada4d0b6bca0c7ce",
       "version_major": 2,
       "version_minor": 0
      },
      "text/plain": [
       "HBox(children=(FloatProgress(value=0.0, max=1400.0), HTML(value='')))"
      ]
     },
     "metadata": {},
     "output_type": "display_data"
    },
    {
     "name": "stdout",
     "output_type": "stream",
     "text": [
      "\n",
      "18\n"
     ]
    },
    {
     "data": {
      "application/vnd.jupyter.widget-view+json": {
       "model_id": "e6847dc11cba4fa68bff833861bbd6d8",
       "version_major": 2,
       "version_minor": 0
      },
      "text/plain": [
       "HBox(children=(FloatProgress(value=0.0, max=1400.0), HTML(value='')))"
      ]
     },
     "metadata": {},
     "output_type": "display_data"
    },
    {
     "name": "stdout",
     "output_type": "stream",
     "text": [
      "\n",
      "19\n"
     ]
    },
    {
     "data": {
      "application/vnd.jupyter.widget-view+json": {
       "model_id": "fb9885e028144ac8b5ad5898c8062f99",
       "version_major": 2,
       "version_minor": 0
      },
      "text/plain": [
       "HBox(children=(FloatProgress(value=0.0, max=1400.0), HTML(value='')))"
      ]
     },
     "metadata": {},
     "output_type": "display_data"
    },
    {
     "name": "stdout",
     "output_type": "stream",
     "text": [
      "\n",
      "20\n"
     ]
    },
    {
     "data": {
      "application/vnd.jupyter.widget-view+json": {
       "model_id": "230a55a005db45d185dfc2dc915f2fc3",
       "version_major": 2,
       "version_minor": 0
      },
      "text/plain": [
       "HBox(children=(FloatProgress(value=0.0, max=1400.0), HTML(value='')))"
      ]
     },
     "metadata": {},
     "output_type": "display_data"
    },
    {
     "name": "stdout",
     "output_type": "stream",
     "text": [
      "\n",
      "21\n"
     ]
    },
    {
     "data": {
      "application/vnd.jupyter.widget-view+json": {
       "model_id": "3ebb512f1a0242bdaa73f1aececc3aaf",
       "version_major": 2,
       "version_minor": 0
      },
      "text/plain": [
       "HBox(children=(FloatProgress(value=0.0, max=1400.0), HTML(value='')))"
      ]
     },
     "metadata": {},
     "output_type": "display_data"
    },
    {
     "name": "stdout",
     "output_type": "stream",
     "text": [
      "\n",
      "22\n"
     ]
    },
    {
     "data": {
      "application/vnd.jupyter.widget-view+json": {
       "model_id": "64c8a2d633f440148dc2148dad63a750",
       "version_major": 2,
       "version_minor": 0
      },
      "text/plain": [
       "HBox(children=(FloatProgress(value=0.0, max=1400.0), HTML(value='')))"
      ]
     },
     "metadata": {},
     "output_type": "display_data"
    },
    {
     "name": "stdout",
     "output_type": "stream",
     "text": [
      "\n",
      "23\n"
     ]
    },
    {
     "data": {
      "application/vnd.jupyter.widget-view+json": {
       "model_id": "17f328b2fdfb44ba9c211bcfc262b0b6",
       "version_major": 2,
       "version_minor": 0
      },
      "text/plain": [
       "HBox(children=(FloatProgress(value=0.0, max=1400.0), HTML(value='')))"
      ]
     },
     "metadata": {},
     "output_type": "display_data"
    },
    {
     "name": "stdout",
     "output_type": "stream",
     "text": [
      "\n",
      "24\n"
     ]
    },
    {
     "data": {
      "application/vnd.jupyter.widget-view+json": {
       "model_id": "a12e2ab92bb940749e0aa8ee71f9d622",
       "version_major": 2,
       "version_minor": 0
      },
      "text/plain": [
       "HBox(children=(FloatProgress(value=0.0, max=1400.0), HTML(value='')))"
      ]
     },
     "metadata": {},
     "output_type": "display_data"
    },
    {
     "name": "stdout",
     "output_type": "stream",
     "text": [
      "\n",
      "25\n"
     ]
    },
    {
     "data": {
      "application/vnd.jupyter.widget-view+json": {
       "model_id": "5134d4d853b14b07b03366d986ced41e",
       "version_major": 2,
       "version_minor": 0
      },
      "text/plain": [
       "HBox(children=(FloatProgress(value=0.0, max=1400.0), HTML(value='')))"
      ]
     },
     "metadata": {},
     "output_type": "display_data"
    },
    {
     "name": "stdout",
     "output_type": "stream",
     "text": [
      "\n",
      "26\n"
     ]
    },
    {
     "data": {
      "application/vnd.jupyter.widget-view+json": {
       "model_id": "c78e0aee7f3b4dcdb530adf848415c98",
       "version_major": 2,
       "version_minor": 0
      },
      "text/plain": [
       "HBox(children=(FloatProgress(value=0.0, max=1400.0), HTML(value='')))"
      ]
     },
     "metadata": {},
     "output_type": "display_data"
    },
    {
     "name": "stdout",
     "output_type": "stream",
     "text": [
      "\n",
      "27\n"
     ]
    },
    {
     "data": {
      "application/vnd.jupyter.widget-view+json": {
       "model_id": "24776a3b99c643bdbb7b312304f73785",
       "version_major": 2,
       "version_minor": 0
      },
      "text/plain": [
       "HBox(children=(FloatProgress(value=0.0, max=1400.0), HTML(value='')))"
      ]
     },
     "metadata": {},
     "output_type": "display_data"
    },
    {
     "name": "stdout",
     "output_type": "stream",
     "text": [
      "\n",
      "28\n"
     ]
    },
    {
     "data": {
      "application/vnd.jupyter.widget-view+json": {
       "model_id": "d0f9b640c4c74b76b392083570dc1a2f",
       "version_major": 2,
       "version_minor": 0
      },
      "text/plain": [
       "HBox(children=(FloatProgress(value=0.0, max=1400.0), HTML(value='')))"
      ]
     },
     "metadata": {},
     "output_type": "display_data"
    },
    {
     "name": "stdout",
     "output_type": "stream",
     "text": [
      "\n",
      "29\n"
     ]
    },
    {
     "data": {
      "application/vnd.jupyter.widget-view+json": {
       "model_id": "b528a3af411646eeb9ac53388045781c",
       "version_major": 2,
       "version_minor": 0
      },
      "text/plain": [
       "HBox(children=(FloatProgress(value=0.0, max=1400.0), HTML(value='')))"
      ]
     },
     "metadata": {},
     "output_type": "display_data"
    },
    {
     "name": "stdout",
     "output_type": "stream",
     "text": [
      "\n",
      "30\n"
     ]
    },
    {
     "data": {
      "application/vnd.jupyter.widget-view+json": {
       "model_id": "5861145c2960449fb010ed58478ecdfa",
       "version_major": 2,
       "version_minor": 0
      },
      "text/plain": [
       "HBox(children=(FloatProgress(value=0.0, max=1400.0), HTML(value='')))"
      ]
     },
     "metadata": {},
     "output_type": "display_data"
    },
    {
     "name": "stdout",
     "output_type": "stream",
     "text": [
      "\n",
      "31\n"
     ]
    },
    {
     "data": {
      "application/vnd.jupyter.widget-view+json": {
       "model_id": "810933671d7f48fe8846d863577ebcfd",
       "version_major": 2,
       "version_minor": 0
      },
      "text/plain": [
       "HBox(children=(FloatProgress(value=0.0, max=1400.0), HTML(value='')))"
      ]
     },
     "metadata": {},
     "output_type": "display_data"
    },
    {
     "name": "stdout",
     "output_type": "stream",
     "text": [
      "\n",
      "32\n"
     ]
    },
    {
     "data": {
      "application/vnd.jupyter.widget-view+json": {
       "model_id": "ecab1d96b27846d1a9804bdf17b6584a",
       "version_major": 2,
       "version_minor": 0
      },
      "text/plain": [
       "HBox(children=(FloatProgress(value=0.0, max=1400.0), HTML(value='')))"
      ]
     },
     "metadata": {},
     "output_type": "display_data"
    },
    {
     "name": "stdout",
     "output_type": "stream",
     "text": [
      "\n",
      "33\n"
     ]
    },
    {
     "data": {
      "application/vnd.jupyter.widget-view+json": {
       "model_id": "f09ea55496974680b22d985523dcc8cb",
       "version_major": 2,
       "version_minor": 0
      },
      "text/plain": [
       "HBox(children=(FloatProgress(value=0.0, max=1400.0), HTML(value='')))"
      ]
     },
     "metadata": {},
     "output_type": "display_data"
    },
    {
     "name": "stdout",
     "output_type": "stream",
     "text": [
      "\n",
      "34\n"
     ]
    },
    {
     "data": {
      "application/vnd.jupyter.widget-view+json": {
       "model_id": "262badb74faf44788809c8d3629647aa",
       "version_major": 2,
       "version_minor": 0
      },
      "text/plain": [
       "HBox(children=(FloatProgress(value=0.0, max=1400.0), HTML(value='')))"
      ]
     },
     "metadata": {},
     "output_type": "display_data"
    },
    {
     "name": "stdout",
     "output_type": "stream",
     "text": [
      "\n",
      "35\n"
     ]
    },
    {
     "data": {
      "application/vnd.jupyter.widget-view+json": {
       "model_id": "d0b22f6beba248e8999684eb8d6cb387",
       "version_major": 2,
       "version_minor": 0
      },
      "text/plain": [
       "HBox(children=(FloatProgress(value=0.0, max=1400.0), HTML(value='')))"
      ]
     },
     "metadata": {},
     "output_type": "display_data"
    },
    {
     "name": "stdout",
     "output_type": "stream",
     "text": [
      "\n",
      "36\n"
     ]
    },
    {
     "data": {
      "application/vnd.jupyter.widget-view+json": {
       "model_id": "885808497ddb48beb690d7dee82cfed0",
       "version_major": 2,
       "version_minor": 0
      },
      "text/plain": [
       "HBox(children=(FloatProgress(value=0.0, max=1400.0), HTML(value='')))"
      ]
     },
     "metadata": {},
     "output_type": "display_data"
    },
    {
     "name": "stdout",
     "output_type": "stream",
     "text": [
      "\n",
      "37\n"
     ]
    },
    {
     "data": {
      "application/vnd.jupyter.widget-view+json": {
       "model_id": "f7d93c0cca414648b7859c98270364fc",
       "version_major": 2,
       "version_minor": 0
      },
      "text/plain": [
       "HBox(children=(FloatProgress(value=0.0, max=1400.0), HTML(value='')))"
      ]
     },
     "metadata": {},
     "output_type": "display_data"
    },
    {
     "name": "stdout",
     "output_type": "stream",
     "text": [
      "\n",
      "38\n"
     ]
    },
    {
     "data": {
      "application/vnd.jupyter.widget-view+json": {
       "model_id": "31e77b1b16cc4f68afd5eb2870e190c4",
       "version_major": 2,
       "version_minor": 0
      },
      "text/plain": [
       "HBox(children=(FloatProgress(value=0.0, max=1400.0), HTML(value='')))"
      ]
     },
     "metadata": {},
     "output_type": "display_data"
    },
    {
     "name": "stdout",
     "output_type": "stream",
     "text": [
      "\n",
      "39\n"
     ]
    },
    {
     "data": {
      "application/vnd.jupyter.widget-view+json": {
       "model_id": "49d98d97a7074b8c9458b64cde749713",
       "version_major": 2,
       "version_minor": 0
      },
      "text/plain": [
       "HBox(children=(FloatProgress(value=0.0, max=1400.0), HTML(value='')))"
      ]
     },
     "metadata": {},
     "output_type": "display_data"
    },
    {
     "name": "stdout",
     "output_type": "stream",
     "text": [
      "\n",
      "40\n"
     ]
    },
    {
     "data": {
      "application/vnd.jupyter.widget-view+json": {
       "model_id": "527f609403604339ab91176afb369f13",
       "version_major": 2,
       "version_minor": 0
      },
      "text/plain": [
       "HBox(children=(FloatProgress(value=0.0, max=1400.0), HTML(value='')))"
      ]
     },
     "metadata": {},
     "output_type": "display_data"
    },
    {
     "name": "stdout",
     "output_type": "stream",
     "text": [
      "\n",
      "41\n"
     ]
    },
    {
     "data": {
      "application/vnd.jupyter.widget-view+json": {
       "model_id": "3747021d77074583aeff5409aea8b6d0",
       "version_major": 2,
       "version_minor": 0
      },
      "text/plain": [
       "HBox(children=(FloatProgress(value=0.0, max=1400.0), HTML(value='')))"
      ]
     },
     "metadata": {},
     "output_type": "display_data"
    },
    {
     "name": "stdout",
     "output_type": "stream",
     "text": [
      "\n",
      "42\n"
     ]
    },
    {
     "data": {
      "application/vnd.jupyter.widget-view+json": {
       "model_id": "49bd8db9c0ed4783ad4f1464346c736d",
       "version_major": 2,
       "version_minor": 0
      },
      "text/plain": [
       "HBox(children=(FloatProgress(value=0.0, max=1400.0), HTML(value='')))"
      ]
     },
     "metadata": {},
     "output_type": "display_data"
    },
    {
     "name": "stdout",
     "output_type": "stream",
     "text": [
      "\n",
      "43\n"
     ]
    },
    {
     "data": {
      "application/vnd.jupyter.widget-view+json": {
       "model_id": "180f5fc8b2e6492f92f972de59ec9d34",
       "version_major": 2,
       "version_minor": 0
      },
      "text/plain": [
       "HBox(children=(FloatProgress(value=0.0, max=1400.0), HTML(value='')))"
      ]
     },
     "metadata": {},
     "output_type": "display_data"
    },
    {
     "name": "stdout",
     "output_type": "stream",
     "text": [
      "\n",
      "44\n"
     ]
    },
    {
     "data": {
      "application/vnd.jupyter.widget-view+json": {
       "model_id": "34dc7a891bed490e976683e20ac13131",
       "version_major": 2,
       "version_minor": 0
      },
      "text/plain": [
       "HBox(children=(FloatProgress(value=0.0, max=1400.0), HTML(value='')))"
      ]
     },
     "metadata": {},
     "output_type": "display_data"
    },
    {
     "name": "stdout",
     "output_type": "stream",
     "text": [
      "\n",
      "45\n"
     ]
    },
    {
     "data": {
      "application/vnd.jupyter.widget-view+json": {
       "model_id": "0bd9c70e86fc45468c8f553c7c683cee",
       "version_major": 2,
       "version_minor": 0
      },
      "text/plain": [
       "HBox(children=(FloatProgress(value=0.0, max=1400.0), HTML(value='')))"
      ]
     },
     "metadata": {},
     "output_type": "display_data"
    },
    {
     "name": "stdout",
     "output_type": "stream",
     "text": [
      "\n"
     ]
    }
   ],
   "source": [
    "#Search 1400 so that we have room to remove up to 1000 docs from Round 1\n",
    "n_papers = 1400\n",
    "\n",
    "#Each key is a qid, value is the anserini search list\n",
    "full_topic, full_docid, full_rank, full_score, full_title, full_doi, full_publish = get_search_res_list(full_searcher, n_papers)\n",
    "paragraph_topic, paragraph_docid, paragraph_rank, paragraph_score, paragraph_title, paragraph_doi, paragraph_publish = get_search_res_list(paragraph_searcher, n_papers, paragraph = True)\n",
    "abstract_topic, abstract_docid, abstract_rank, abstract_score, abstract_title, abstract_doi, abstract_publish = get_search_res_list(abstract_searcher, n_papers)\n"
   ]
  },
  {
   "cell_type": "code",
   "execution_count": 98,
   "metadata": {
    "scrolled": true
   },
   "outputs": [
    {
     "name": "stdout",
     "output_type": "stream",
     "text": [
      "1\n"
     ]
    },
    {
     "data": {
      "application/vnd.jupyter.widget-view+json": {
       "model_id": "b05e54dcc0234c83b3b7994081cd2ef5",
       "version_major": 2,
       "version_minor": 0
      },
      "text/plain": [
       "HBox(children=(FloatProgress(value=0.0, max=1400.0), HTML(value='')))"
      ]
     },
     "metadata": {},
     "output_type": "display_data"
    },
    {
     "name": "stdout",
     "output_type": "stream",
     "text": [
      "\n",
      "2\n"
     ]
    },
    {
     "data": {
      "application/vnd.jupyter.widget-view+json": {
       "model_id": "bd0393e726a747e4b6b09e7ae30f6412",
       "version_major": 2,
       "version_minor": 0
      },
      "text/plain": [
       "HBox(children=(FloatProgress(value=0.0, max=1400.0), HTML(value='')))"
      ]
     },
     "metadata": {},
     "output_type": "display_data"
    },
    {
     "name": "stdout",
     "output_type": "stream",
     "text": [
      "\n",
      "3\n"
     ]
    },
    {
     "data": {
      "application/vnd.jupyter.widget-view+json": {
       "model_id": "032c367cb92040f5aa9bba5b44950b7d",
       "version_major": 2,
       "version_minor": 0
      },
      "text/plain": [
       "HBox(children=(FloatProgress(value=0.0, max=1400.0), HTML(value='')))"
      ]
     },
     "metadata": {},
     "output_type": "display_data"
    },
    {
     "name": "stdout",
     "output_type": "stream",
     "text": [
      "\n",
      "4\n"
     ]
    },
    {
     "data": {
      "application/vnd.jupyter.widget-view+json": {
       "model_id": "9af6df334a3d4eba848cf5bee6a495b3",
       "version_major": 2,
       "version_minor": 0
      },
      "text/plain": [
       "HBox(children=(FloatProgress(value=0.0, max=1400.0), HTML(value='')))"
      ]
     },
     "metadata": {},
     "output_type": "display_data"
    },
    {
     "name": "stdout",
     "output_type": "stream",
     "text": [
      "\n",
      "5\n"
     ]
    },
    {
     "data": {
      "application/vnd.jupyter.widget-view+json": {
       "model_id": "6077fcb1582e4be3b56147dd73b7fd2d",
       "version_major": 2,
       "version_minor": 0
      },
      "text/plain": [
       "HBox(children=(FloatProgress(value=0.0, max=1400.0), HTML(value='')))"
      ]
     },
     "metadata": {},
     "output_type": "display_data"
    },
    {
     "name": "stdout",
     "output_type": "stream",
     "text": [
      "\n",
      "6\n"
     ]
    },
    {
     "data": {
      "application/vnd.jupyter.widget-view+json": {
       "model_id": "17e38f2e69284d86a8abe17675943a94",
       "version_major": 2,
       "version_minor": 0
      },
      "text/plain": [
       "HBox(children=(FloatProgress(value=0.0, max=1400.0), HTML(value='')))"
      ]
     },
     "metadata": {},
     "output_type": "display_data"
    },
    {
     "name": "stdout",
     "output_type": "stream",
     "text": [
      "\n",
      "7\n"
     ]
    },
    {
     "data": {
      "application/vnd.jupyter.widget-view+json": {
       "model_id": "93436dd755e24aa58fecb32bce0b7d95",
       "version_major": 2,
       "version_minor": 0
      },
      "text/plain": [
       "HBox(children=(FloatProgress(value=0.0, max=1400.0), HTML(value='')))"
      ]
     },
     "metadata": {},
     "output_type": "display_data"
    },
    {
     "name": "stdout",
     "output_type": "stream",
     "text": [
      "\n",
      "8\n"
     ]
    },
    {
     "data": {
      "application/vnd.jupyter.widget-view+json": {
       "model_id": "73e69e5f99f742e2a4ca4ef81387c42b",
       "version_major": 2,
       "version_minor": 0
      },
      "text/plain": [
       "HBox(children=(FloatProgress(value=0.0, max=1400.0), HTML(value='')))"
      ]
     },
     "metadata": {},
     "output_type": "display_data"
    },
    {
     "name": "stdout",
     "output_type": "stream",
     "text": [
      "\n",
      "9\n"
     ]
    },
    {
     "data": {
      "application/vnd.jupyter.widget-view+json": {
       "model_id": "f474565632ed46b3a2c51f78634a74f4",
       "version_major": 2,
       "version_minor": 0
      },
      "text/plain": [
       "HBox(children=(FloatProgress(value=0.0, max=1400.0), HTML(value='')))"
      ]
     },
     "metadata": {},
     "output_type": "display_data"
    },
    {
     "name": "stdout",
     "output_type": "stream",
     "text": [
      "\n",
      "10\n"
     ]
    },
    {
     "data": {
      "application/vnd.jupyter.widget-view+json": {
       "model_id": "1d8a676c697d47a4913400ddd94c2142",
       "version_major": 2,
       "version_minor": 0
      },
      "text/plain": [
       "HBox(children=(FloatProgress(value=0.0, max=1400.0), HTML(value='')))"
      ]
     },
     "metadata": {},
     "output_type": "display_data"
    },
    {
     "name": "stdout",
     "output_type": "stream",
     "text": [
      "\n",
      "11\n"
     ]
    },
    {
     "data": {
      "application/vnd.jupyter.widget-view+json": {
       "model_id": "4deaf0a29d9844919f2801bc2b22b3d5",
       "version_major": 2,
       "version_minor": 0
      },
      "text/plain": [
       "HBox(children=(FloatProgress(value=0.0, max=1400.0), HTML(value='')))"
      ]
     },
     "metadata": {},
     "output_type": "display_data"
    },
    {
     "name": "stdout",
     "output_type": "stream",
     "text": [
      "\n",
      "12\n"
     ]
    },
    {
     "data": {
      "application/vnd.jupyter.widget-view+json": {
       "model_id": "c35dbcde8d4f48d98133ad7ced4cc6f8",
       "version_major": 2,
       "version_minor": 0
      },
      "text/plain": [
       "HBox(children=(FloatProgress(value=0.0, max=1400.0), HTML(value='')))"
      ]
     },
     "metadata": {},
     "output_type": "display_data"
    },
    {
     "name": "stdout",
     "output_type": "stream",
     "text": [
      "\n",
      "13\n"
     ]
    },
    {
     "data": {
      "application/vnd.jupyter.widget-view+json": {
       "model_id": "581a5a280b74442189af1ab2863d5006",
       "version_major": 2,
       "version_minor": 0
      },
      "text/plain": [
       "HBox(children=(FloatProgress(value=0.0, max=1400.0), HTML(value='')))"
      ]
     },
     "metadata": {},
     "output_type": "display_data"
    },
    {
     "name": "stdout",
     "output_type": "stream",
     "text": [
      "\n",
      "14\n"
     ]
    },
    {
     "data": {
      "application/vnd.jupyter.widget-view+json": {
       "model_id": "c14f5c6caf2b44968f98db84c5d3188f",
       "version_major": 2,
       "version_minor": 0
      },
      "text/plain": [
       "HBox(children=(FloatProgress(value=0.0, max=1400.0), HTML(value='')))"
      ]
     },
     "metadata": {},
     "output_type": "display_data"
    },
    {
     "name": "stdout",
     "output_type": "stream",
     "text": [
      "\n",
      "15\n"
     ]
    },
    {
     "data": {
      "application/vnd.jupyter.widget-view+json": {
       "model_id": "88aabd01b0b5480f8d9aad5208ceff46",
       "version_major": 2,
       "version_minor": 0
      },
      "text/plain": [
       "HBox(children=(FloatProgress(value=0.0, max=1400.0), HTML(value='')))"
      ]
     },
     "metadata": {},
     "output_type": "display_data"
    },
    {
     "name": "stdout",
     "output_type": "stream",
     "text": [
      "\n",
      "16\n"
     ]
    },
    {
     "data": {
      "application/vnd.jupyter.widget-view+json": {
       "model_id": "1754106a0d9c48009f82552d443d9656",
       "version_major": 2,
       "version_minor": 0
      },
      "text/plain": [
       "HBox(children=(FloatProgress(value=0.0, max=1400.0), HTML(value='')))"
      ]
     },
     "metadata": {},
     "output_type": "display_data"
    },
    {
     "name": "stdout",
     "output_type": "stream",
     "text": [
      "\n",
      "17\n"
     ]
    },
    {
     "data": {
      "application/vnd.jupyter.widget-view+json": {
       "model_id": "96f87faeed0d49db89a530ebbd0d3684",
       "version_major": 2,
       "version_minor": 0
      },
      "text/plain": [
       "HBox(children=(FloatProgress(value=0.0, max=1400.0), HTML(value='')))"
      ]
     },
     "metadata": {},
     "output_type": "display_data"
    },
    {
     "name": "stdout",
     "output_type": "stream",
     "text": [
      "\n",
      "18\n"
     ]
    },
    {
     "data": {
      "application/vnd.jupyter.widget-view+json": {
       "model_id": "dd975df3a2d5435580b70b87ef899d8a",
       "version_major": 2,
       "version_minor": 0
      },
      "text/plain": [
       "HBox(children=(FloatProgress(value=0.0, max=1400.0), HTML(value='')))"
      ]
     },
     "metadata": {},
     "output_type": "display_data"
    },
    {
     "name": "stdout",
     "output_type": "stream",
     "text": [
      "\n",
      "19\n"
     ]
    },
    {
     "data": {
      "application/vnd.jupyter.widget-view+json": {
       "model_id": "4ce4d92fdc3f454bad12b5a8c02ece05",
       "version_major": 2,
       "version_minor": 0
      },
      "text/plain": [
       "HBox(children=(FloatProgress(value=0.0, max=1400.0), HTML(value='')))"
      ]
     },
     "metadata": {},
     "output_type": "display_data"
    },
    {
     "name": "stdout",
     "output_type": "stream",
     "text": [
      "\n",
      "20\n"
     ]
    },
    {
     "data": {
      "application/vnd.jupyter.widget-view+json": {
       "model_id": "109c03847a3e4545ba49755cf9ece6c2",
       "version_major": 2,
       "version_minor": 0
      },
      "text/plain": [
       "HBox(children=(FloatProgress(value=0.0, max=1400.0), HTML(value='')))"
      ]
     },
     "metadata": {},
     "output_type": "display_data"
    },
    {
     "name": "stdout",
     "output_type": "stream",
     "text": [
      "\n",
      "21\n"
     ]
    },
    {
     "data": {
      "application/vnd.jupyter.widget-view+json": {
       "model_id": "d7f220a9a8e546a9b799a972dba03201",
       "version_major": 2,
       "version_minor": 0
      },
      "text/plain": [
       "HBox(children=(FloatProgress(value=0.0, max=1400.0), HTML(value='')))"
      ]
     },
     "metadata": {},
     "output_type": "display_data"
    },
    {
     "name": "stdout",
     "output_type": "stream",
     "text": [
      "\n",
      "22\n"
     ]
    },
    {
     "data": {
      "application/vnd.jupyter.widget-view+json": {
       "model_id": "af6f34afd1274db3b487f6247ae7c271",
       "version_major": 2,
       "version_minor": 0
      },
      "text/plain": [
       "HBox(children=(FloatProgress(value=0.0, max=1400.0), HTML(value='')))"
      ]
     },
     "metadata": {},
     "output_type": "display_data"
    },
    {
     "name": "stdout",
     "output_type": "stream",
     "text": [
      "\n",
      "23\n"
     ]
    },
    {
     "data": {
      "application/vnd.jupyter.widget-view+json": {
       "model_id": "7c35d516536142fc8c160ee139f683c5",
       "version_major": 2,
       "version_minor": 0
      },
      "text/plain": [
       "HBox(children=(FloatProgress(value=0.0, max=1400.0), HTML(value='')))"
      ]
     },
     "metadata": {},
     "output_type": "display_data"
    },
    {
     "name": "stdout",
     "output_type": "stream",
     "text": [
      "\n",
      "24\n"
     ]
    },
    {
     "data": {
      "application/vnd.jupyter.widget-view+json": {
       "model_id": "43726036f461498f94c748935de24386",
       "version_major": 2,
       "version_minor": 0
      },
      "text/plain": [
       "HBox(children=(FloatProgress(value=0.0, max=1400.0), HTML(value='')))"
      ]
     },
     "metadata": {},
     "output_type": "display_data"
    },
    {
     "name": "stdout",
     "output_type": "stream",
     "text": [
      "\n",
      "25\n"
     ]
    },
    {
     "data": {
      "application/vnd.jupyter.widget-view+json": {
       "model_id": "677a67e516a142a0b419aeae919da017",
       "version_major": 2,
       "version_minor": 0
      },
      "text/plain": [
       "HBox(children=(FloatProgress(value=0.0, max=1400.0), HTML(value='')))"
      ]
     },
     "metadata": {},
     "output_type": "display_data"
    },
    {
     "name": "stdout",
     "output_type": "stream",
     "text": [
      "\n",
      "26\n"
     ]
    },
    {
     "data": {
      "application/vnd.jupyter.widget-view+json": {
       "model_id": "04cb02eb82f045269802deb1108e9dfb",
       "version_major": 2,
       "version_minor": 0
      },
      "text/plain": [
       "HBox(children=(FloatProgress(value=0.0, max=1400.0), HTML(value='')))"
      ]
     },
     "metadata": {},
     "output_type": "display_data"
    },
    {
     "name": "stdout",
     "output_type": "stream",
     "text": [
      "\n",
      "27\n"
     ]
    },
    {
     "data": {
      "application/vnd.jupyter.widget-view+json": {
       "model_id": "2525f7ad70fe4da8852e4c80c8c04455",
       "version_major": 2,
       "version_minor": 0
      },
      "text/plain": [
       "HBox(children=(FloatProgress(value=0.0, max=1400.0), HTML(value='')))"
      ]
     },
     "metadata": {},
     "output_type": "display_data"
    },
    {
     "name": "stdout",
     "output_type": "stream",
     "text": [
      "\n",
      "28\n"
     ]
    },
    {
     "data": {
      "application/vnd.jupyter.widget-view+json": {
       "model_id": "0b1ba7796b6d4344ad2111838a6377c3",
       "version_major": 2,
       "version_minor": 0
      },
      "text/plain": [
       "HBox(children=(FloatProgress(value=0.0, max=1400.0), HTML(value='')))"
      ]
     },
     "metadata": {},
     "output_type": "display_data"
    },
    {
     "name": "stdout",
     "output_type": "stream",
     "text": [
      "\n",
      "29\n"
     ]
    },
    {
     "data": {
      "application/vnd.jupyter.widget-view+json": {
       "model_id": "97d5d55dfe314e6eb42b5f771d3a9709",
       "version_major": 2,
       "version_minor": 0
      },
      "text/plain": [
       "HBox(children=(FloatProgress(value=0.0, max=1400.0), HTML(value='')))"
      ]
     },
     "metadata": {},
     "output_type": "display_data"
    },
    {
     "name": "stdout",
     "output_type": "stream",
     "text": [
      "\n",
      "30\n"
     ]
    },
    {
     "data": {
      "application/vnd.jupyter.widget-view+json": {
       "model_id": "b44f25d853fb45c1bd316bd676f1abdf",
       "version_major": 2,
       "version_minor": 0
      },
      "text/plain": [
       "HBox(children=(FloatProgress(value=0.0, max=1400.0), HTML(value='')))"
      ]
     },
     "metadata": {},
     "output_type": "display_data"
    },
    {
     "name": "stdout",
     "output_type": "stream",
     "text": [
      "\n",
      "31\n"
     ]
    },
    {
     "data": {
      "application/vnd.jupyter.widget-view+json": {
       "model_id": "e519d0d286ff40ef862503def6a23ff7",
       "version_major": 2,
       "version_minor": 0
      },
      "text/plain": [
       "HBox(children=(FloatProgress(value=0.0, max=1400.0), HTML(value='')))"
      ]
     },
     "metadata": {},
     "output_type": "display_data"
    },
    {
     "name": "stdout",
     "output_type": "stream",
     "text": [
      "\n",
      "32\n"
     ]
    },
    {
     "data": {
      "application/vnd.jupyter.widget-view+json": {
       "model_id": "b9b394e8baff4c21abd3e54738e26aba",
       "version_major": 2,
       "version_minor": 0
      },
      "text/plain": [
       "HBox(children=(FloatProgress(value=0.0, max=1400.0), HTML(value='')))"
      ]
     },
     "metadata": {},
     "output_type": "display_data"
    },
    {
     "name": "stdout",
     "output_type": "stream",
     "text": [
      "\n",
      "33\n"
     ]
    },
    {
     "data": {
      "application/vnd.jupyter.widget-view+json": {
       "model_id": "5b23cfa322494e95b5f47f0c29aa8f36",
       "version_major": 2,
       "version_minor": 0
      },
      "text/plain": [
       "HBox(children=(FloatProgress(value=0.0, max=1400.0), HTML(value='')))"
      ]
     },
     "metadata": {},
     "output_type": "display_data"
    },
    {
     "name": "stdout",
     "output_type": "stream",
     "text": [
      "\n",
      "34\n"
     ]
    },
    {
     "data": {
      "application/vnd.jupyter.widget-view+json": {
       "model_id": "c2a621bc017249e6b6522f2101f4a58a",
       "version_major": 2,
       "version_minor": 0
      },
      "text/plain": [
       "HBox(children=(FloatProgress(value=0.0, max=1400.0), HTML(value='')))"
      ]
     },
     "metadata": {},
     "output_type": "display_data"
    },
    {
     "name": "stdout",
     "output_type": "stream",
     "text": [
      "\n",
      "35\n"
     ]
    },
    {
     "data": {
      "application/vnd.jupyter.widget-view+json": {
       "model_id": "a9ed6e0044e5479a88db6e1a4464d0b3",
       "version_major": 2,
       "version_minor": 0
      },
      "text/plain": [
       "HBox(children=(FloatProgress(value=0.0, max=1400.0), HTML(value='')))"
      ]
     },
     "metadata": {},
     "output_type": "display_data"
    },
    {
     "name": "stdout",
     "output_type": "stream",
     "text": [
      "\n",
      "36\n"
     ]
    },
    {
     "data": {
      "application/vnd.jupyter.widget-view+json": {
       "model_id": "37606392de6345478e296853a08ab794",
       "version_major": 2,
       "version_minor": 0
      },
      "text/plain": [
       "HBox(children=(FloatProgress(value=0.0, max=1400.0), HTML(value='')))"
      ]
     },
     "metadata": {},
     "output_type": "display_data"
    },
    {
     "name": "stdout",
     "output_type": "stream",
     "text": [
      "\n",
      "37\n"
     ]
    },
    {
     "data": {
      "application/vnd.jupyter.widget-view+json": {
       "model_id": "45ba534407e743fb9f3c4f4c73114229",
       "version_major": 2,
       "version_minor": 0
      },
      "text/plain": [
       "HBox(children=(FloatProgress(value=0.0, max=1400.0), HTML(value='')))"
      ]
     },
     "metadata": {},
     "output_type": "display_data"
    },
    {
     "name": "stdout",
     "output_type": "stream",
     "text": [
      "\n",
      "38\n"
     ]
    },
    {
     "data": {
      "application/vnd.jupyter.widget-view+json": {
       "model_id": "258c4b4a7cf54a729eb398eee4ed5253",
       "version_major": 2,
       "version_minor": 0
      },
      "text/plain": [
       "HBox(children=(FloatProgress(value=0.0, max=1400.0), HTML(value='')))"
      ]
     },
     "metadata": {},
     "output_type": "display_data"
    },
    {
     "name": "stdout",
     "output_type": "stream",
     "text": [
      "\n",
      "39\n"
     ]
    },
    {
     "data": {
      "application/vnd.jupyter.widget-view+json": {
       "model_id": "76591d90ceda40e298564e6c098ba433",
       "version_major": 2,
       "version_minor": 0
      },
      "text/plain": [
       "HBox(children=(FloatProgress(value=0.0, max=1400.0), HTML(value='')))"
      ]
     },
     "metadata": {},
     "output_type": "display_data"
    },
    {
     "name": "stdout",
     "output_type": "stream",
     "text": [
      "\n",
      "40\n"
     ]
    },
    {
     "data": {
      "application/vnd.jupyter.widget-view+json": {
       "model_id": "247c99736aa04cbd8bd5b00fe822e807",
       "version_major": 2,
       "version_minor": 0
      },
      "text/plain": [
       "HBox(children=(FloatProgress(value=0.0, max=1400.0), HTML(value='')))"
      ]
     },
     "metadata": {},
     "output_type": "display_data"
    },
    {
     "name": "stdout",
     "output_type": "stream",
     "text": [
      "\n",
      "41\n"
     ]
    },
    {
     "data": {
      "application/vnd.jupyter.widget-view+json": {
       "model_id": "3652f3927cfc43f3aff09ce516a037e5",
       "version_major": 2,
       "version_minor": 0
      },
      "text/plain": [
       "HBox(children=(FloatProgress(value=0.0, max=1400.0), HTML(value='')))"
      ]
     },
     "metadata": {},
     "output_type": "display_data"
    },
    {
     "name": "stdout",
     "output_type": "stream",
     "text": [
      "\n",
      "42\n"
     ]
    },
    {
     "data": {
      "application/vnd.jupyter.widget-view+json": {
       "model_id": "59f2e297039548d29d5073d298c915e4",
       "version_major": 2,
       "version_minor": 0
      },
      "text/plain": [
       "HBox(children=(FloatProgress(value=0.0, max=1400.0), HTML(value='')))"
      ]
     },
     "metadata": {},
     "output_type": "display_data"
    },
    {
     "name": "stdout",
     "output_type": "stream",
     "text": [
      "\n",
      "43\n"
     ]
    },
    {
     "data": {
      "application/vnd.jupyter.widget-view+json": {
       "model_id": "555d0f369709482882437f69752e575c",
       "version_major": 2,
       "version_minor": 0
      },
      "text/plain": [
       "HBox(children=(FloatProgress(value=0.0, max=1400.0), HTML(value='')))"
      ]
     },
     "metadata": {},
     "output_type": "display_data"
    },
    {
     "name": "stdout",
     "output_type": "stream",
     "text": [
      "\n",
      "44\n"
     ]
    },
    {
     "data": {
      "application/vnd.jupyter.widget-view+json": {
       "model_id": "531d5345050348f68ff7246a2bbc8210",
       "version_major": 2,
       "version_minor": 0
      },
      "text/plain": [
       "HBox(children=(FloatProgress(value=0.0, max=1400.0), HTML(value='')))"
      ]
     },
     "metadata": {},
     "output_type": "display_data"
    },
    {
     "name": "stdout",
     "output_type": "stream",
     "text": [
      "\n",
      "45\n"
     ]
    },
    {
     "data": {
      "application/vnd.jupyter.widget-view+json": {
       "model_id": "36ab5bf0669f49ed9d36bb9aea525c1c",
       "version_major": 2,
       "version_minor": 0
      },
      "text/plain": [
       "HBox(children=(FloatProgress(value=0.0, max=1400.0), HTML(value='')))"
      ]
     },
     "metadata": {},
     "output_type": "display_data"
    },
    {
     "name": "stdout",
     "output_type": "stream",
     "text": [
      "\n",
      "1\n"
     ]
    },
    {
     "data": {
      "application/vnd.jupyter.widget-view+json": {
       "model_id": "7669bfb703e74c7ebe9c012bd57d23c0",
       "version_major": 2,
       "version_minor": 0
      },
      "text/plain": [
       "HBox(children=(FloatProgress(value=0.0, max=28000.0), HTML(value='')))"
      ]
     },
     "metadata": {},
     "output_type": "display_data"
    },
    {
     "name": "stdout",
     "output_type": "stream",
     "text": [
      "\n",
      "2\n"
     ]
    },
    {
     "data": {
      "application/vnd.jupyter.widget-view+json": {
       "model_id": "33dfd67d9c6047ae9854bb5832f1231b",
       "version_major": 2,
       "version_minor": 0
      },
      "text/plain": [
       "HBox(children=(FloatProgress(value=0.0, max=28000.0), HTML(value='')))"
      ]
     },
     "metadata": {},
     "output_type": "display_data"
    },
    {
     "name": "stdout",
     "output_type": "stream",
     "text": [
      "\n",
      "3\n"
     ]
    },
    {
     "data": {
      "application/vnd.jupyter.widget-view+json": {
       "model_id": "82ceb96ab2bc47779ac307bc0047ff29",
       "version_major": 2,
       "version_minor": 0
      },
      "text/plain": [
       "HBox(children=(FloatProgress(value=0.0, max=28000.0), HTML(value='')))"
      ]
     },
     "metadata": {},
     "output_type": "display_data"
    },
    {
     "name": "stdout",
     "output_type": "stream",
     "text": [
      "\n",
      "4\n"
     ]
    },
    {
     "data": {
      "application/vnd.jupyter.widget-view+json": {
       "model_id": "f99bc2bf81bc4401bb8ac5b00130dccd",
       "version_major": 2,
       "version_minor": 0
      },
      "text/plain": [
       "HBox(children=(FloatProgress(value=0.0, max=28000.0), HTML(value='')))"
      ]
     },
     "metadata": {},
     "output_type": "display_data"
    },
    {
     "name": "stdout",
     "output_type": "stream",
     "text": [
      "\n",
      "5\n"
     ]
    },
    {
     "data": {
      "application/vnd.jupyter.widget-view+json": {
       "model_id": "4700b59b49db4ef689ce7a7e69830481",
       "version_major": 2,
       "version_minor": 0
      },
      "text/plain": [
       "HBox(children=(FloatProgress(value=0.0, max=28000.0), HTML(value='')))"
      ]
     },
     "metadata": {},
     "output_type": "display_data"
    },
    {
     "name": "stdout",
     "output_type": "stream",
     "text": [
      "\n",
      "6\n"
     ]
    },
    {
     "data": {
      "application/vnd.jupyter.widget-view+json": {
       "model_id": "0c252af9a1de477a8ab7f3fba4ab5b99",
       "version_major": 2,
       "version_minor": 0
      },
      "text/plain": [
       "HBox(children=(FloatProgress(value=0.0, max=28000.0), HTML(value='')))"
      ]
     },
     "metadata": {},
     "output_type": "display_data"
    },
    {
     "name": "stdout",
     "output_type": "stream",
     "text": [
      "\n",
      "7\n"
     ]
    },
    {
     "data": {
      "application/vnd.jupyter.widget-view+json": {
       "model_id": "83cf0545cd2d4208aacbc40f9f449eff",
       "version_major": 2,
       "version_minor": 0
      },
      "text/plain": [
       "HBox(children=(FloatProgress(value=0.0, max=28000.0), HTML(value='')))"
      ]
     },
     "metadata": {},
     "output_type": "display_data"
    },
    {
     "name": "stdout",
     "output_type": "stream",
     "text": [
      "\n",
      "8\n"
     ]
    },
    {
     "data": {
      "application/vnd.jupyter.widget-view+json": {
       "model_id": "0033f3dc25144e7d85b09b3336ea60be",
       "version_major": 2,
       "version_minor": 0
      },
      "text/plain": [
       "HBox(children=(FloatProgress(value=0.0, max=28000.0), HTML(value='')))"
      ]
     },
     "metadata": {},
     "output_type": "display_data"
    },
    {
     "name": "stdout",
     "output_type": "stream",
     "text": [
      "\n",
      "9\n"
     ]
    },
    {
     "data": {
      "application/vnd.jupyter.widget-view+json": {
       "model_id": "0ab25c55f2a24791bbf46dd2fed4ccd1",
       "version_major": 2,
       "version_minor": 0
      },
      "text/plain": [
       "HBox(children=(FloatProgress(value=0.0, max=28000.0), HTML(value='')))"
      ]
     },
     "metadata": {},
     "output_type": "display_data"
    },
    {
     "name": "stdout",
     "output_type": "stream",
     "text": [
      "\n",
      "10\n"
     ]
    },
    {
     "data": {
      "application/vnd.jupyter.widget-view+json": {
       "model_id": "ffbaf6b625c9492d94b9b59c85f54b1e",
       "version_major": 2,
       "version_minor": 0
      },
      "text/plain": [
       "HBox(children=(FloatProgress(value=0.0, max=28000.0), HTML(value='')))"
      ]
     },
     "metadata": {},
     "output_type": "display_data"
    },
    {
     "name": "stdout",
     "output_type": "stream",
     "text": [
      "\n",
      "11\n"
     ]
    },
    {
     "data": {
      "application/vnd.jupyter.widget-view+json": {
       "model_id": "efcb1643b39c4fdbbbb01b167236d0ab",
       "version_major": 2,
       "version_minor": 0
      },
      "text/plain": [
       "HBox(children=(FloatProgress(value=0.0, max=28000.0), HTML(value='')))"
      ]
     },
     "metadata": {},
     "output_type": "display_data"
    },
    {
     "name": "stdout",
     "output_type": "stream",
     "text": [
      "\n",
      "12\n"
     ]
    },
    {
     "data": {
      "application/vnd.jupyter.widget-view+json": {
       "model_id": "7a9349e9afa3470cb3593b958d4a70fa",
       "version_major": 2,
       "version_minor": 0
      },
      "text/plain": [
       "HBox(children=(FloatProgress(value=0.0, max=28000.0), HTML(value='')))"
      ]
     },
     "metadata": {},
     "output_type": "display_data"
    },
    {
     "name": "stdout",
     "output_type": "stream",
     "text": [
      "\n",
      "13\n"
     ]
    },
    {
     "data": {
      "application/vnd.jupyter.widget-view+json": {
       "model_id": "6d4ee199b3044ddca17c73b2bfe72f3e",
       "version_major": 2,
       "version_minor": 0
      },
      "text/plain": [
       "HBox(children=(FloatProgress(value=0.0, max=28000.0), HTML(value='')))"
      ]
     },
     "metadata": {},
     "output_type": "display_data"
    },
    {
     "name": "stdout",
     "output_type": "stream",
     "text": [
      "\n",
      "14\n"
     ]
    },
    {
     "data": {
      "application/vnd.jupyter.widget-view+json": {
       "model_id": "685b28831de542f0ba56c510ef700967",
       "version_major": 2,
       "version_minor": 0
      },
      "text/plain": [
       "HBox(children=(FloatProgress(value=0.0, max=28000.0), HTML(value='')))"
      ]
     },
     "metadata": {},
     "output_type": "display_data"
    },
    {
     "name": "stdout",
     "output_type": "stream",
     "text": [
      "\n",
      "15\n"
     ]
    },
    {
     "data": {
      "application/vnd.jupyter.widget-view+json": {
       "model_id": "2a72a8f2223c4329b1acf818ee9f70f2",
       "version_major": 2,
       "version_minor": 0
      },
      "text/plain": [
       "HBox(children=(FloatProgress(value=0.0, max=28000.0), HTML(value='')))"
      ]
     },
     "metadata": {},
     "output_type": "display_data"
    },
    {
     "name": "stdout",
     "output_type": "stream",
     "text": [
      "\n",
      "16\n"
     ]
    },
    {
     "data": {
      "application/vnd.jupyter.widget-view+json": {
       "model_id": "9fa67af8d58d43be8c6e7742db87aad4",
       "version_major": 2,
       "version_minor": 0
      },
      "text/plain": [
       "HBox(children=(FloatProgress(value=0.0, max=28000.0), HTML(value='')))"
      ]
     },
     "metadata": {},
     "output_type": "display_data"
    },
    {
     "name": "stdout",
     "output_type": "stream",
     "text": [
      "\n",
      "17\n"
     ]
    },
    {
     "data": {
      "application/vnd.jupyter.widget-view+json": {
       "model_id": "1e19b0bf7f0b4d8fa91eccf2ad630fe2",
       "version_major": 2,
       "version_minor": 0
      },
      "text/plain": [
       "HBox(children=(FloatProgress(value=0.0, max=28000.0), HTML(value='')))"
      ]
     },
     "metadata": {},
     "output_type": "display_data"
    },
    {
     "name": "stdout",
     "output_type": "stream",
     "text": [
      "\n",
      "18\n"
     ]
    },
    {
     "data": {
      "application/vnd.jupyter.widget-view+json": {
       "model_id": "6c731ea34ae7422fbf310ad3f6bd7812",
       "version_major": 2,
       "version_minor": 0
      },
      "text/plain": [
       "HBox(children=(FloatProgress(value=0.0, max=28000.0), HTML(value='')))"
      ]
     },
     "metadata": {},
     "output_type": "display_data"
    },
    {
     "name": "stdout",
     "output_type": "stream",
     "text": [
      "\n",
      "19\n"
     ]
    },
    {
     "data": {
      "application/vnd.jupyter.widget-view+json": {
       "model_id": "86ca76024fe64d9590b62e8f105c1aa7",
       "version_major": 2,
       "version_minor": 0
      },
      "text/plain": [
       "HBox(children=(FloatProgress(value=0.0, max=28000.0), HTML(value='')))"
      ]
     },
     "metadata": {},
     "output_type": "display_data"
    },
    {
     "name": "stdout",
     "output_type": "stream",
     "text": [
      "\n",
      "20\n"
     ]
    },
    {
     "data": {
      "application/vnd.jupyter.widget-view+json": {
       "model_id": "e134bed7fb144bd690ecc836b4204caf",
       "version_major": 2,
       "version_minor": 0
      },
      "text/plain": [
       "HBox(children=(FloatProgress(value=0.0, max=28000.0), HTML(value='')))"
      ]
     },
     "metadata": {},
     "output_type": "display_data"
    },
    {
     "name": "stdout",
     "output_type": "stream",
     "text": [
      "\n",
      "21\n"
     ]
    },
    {
     "data": {
      "application/vnd.jupyter.widget-view+json": {
       "model_id": "54844f423ab141c488803a15af2071ba",
       "version_major": 2,
       "version_minor": 0
      },
      "text/plain": [
       "HBox(children=(FloatProgress(value=0.0, max=28000.0), HTML(value='')))"
      ]
     },
     "metadata": {},
     "output_type": "display_data"
    },
    {
     "name": "stdout",
     "output_type": "stream",
     "text": [
      "\n",
      "22\n"
     ]
    },
    {
     "data": {
      "application/vnd.jupyter.widget-view+json": {
       "model_id": "e871117628fd41538ec42a0fd5a6f60e",
       "version_major": 2,
       "version_minor": 0
      },
      "text/plain": [
       "HBox(children=(FloatProgress(value=0.0, max=28000.0), HTML(value='')))"
      ]
     },
     "metadata": {},
     "output_type": "display_data"
    },
    {
     "name": "stdout",
     "output_type": "stream",
     "text": [
      "\n",
      "23\n"
     ]
    },
    {
     "data": {
      "application/vnd.jupyter.widget-view+json": {
       "model_id": "9f07f54c50d04bb3b7b3a2fca0e705ec",
       "version_major": 2,
       "version_minor": 0
      },
      "text/plain": [
       "HBox(children=(FloatProgress(value=0.0, max=28000.0), HTML(value='')))"
      ]
     },
     "metadata": {},
     "output_type": "display_data"
    },
    {
     "name": "stdout",
     "output_type": "stream",
     "text": [
      "\n",
      "24\n"
     ]
    },
    {
     "data": {
      "application/vnd.jupyter.widget-view+json": {
       "model_id": "f2a650569abe4c4b8f2938b1a43ee1b8",
       "version_major": 2,
       "version_minor": 0
      },
      "text/plain": [
       "HBox(children=(FloatProgress(value=0.0, max=28000.0), HTML(value='')))"
      ]
     },
     "metadata": {},
     "output_type": "display_data"
    },
    {
     "name": "stdout",
     "output_type": "stream",
     "text": [
      "\n",
      "25\n"
     ]
    },
    {
     "data": {
      "application/vnd.jupyter.widget-view+json": {
       "model_id": "893a5821fd184cc08bbc3a20c47407b8",
       "version_major": 2,
       "version_minor": 0
      },
      "text/plain": [
       "HBox(children=(FloatProgress(value=0.0, max=28000.0), HTML(value='')))"
      ]
     },
     "metadata": {},
     "output_type": "display_data"
    },
    {
     "name": "stdout",
     "output_type": "stream",
     "text": [
      "\n",
      "26\n"
     ]
    },
    {
     "data": {
      "application/vnd.jupyter.widget-view+json": {
       "model_id": "f1173185872f443a81f85f04a0f0dd7f",
       "version_major": 2,
       "version_minor": 0
      },
      "text/plain": [
       "HBox(children=(FloatProgress(value=0.0, max=28000.0), HTML(value='')))"
      ]
     },
     "metadata": {},
     "output_type": "display_data"
    },
    {
     "name": "stdout",
     "output_type": "stream",
     "text": [
      "\n",
      "27\n"
     ]
    },
    {
     "data": {
      "application/vnd.jupyter.widget-view+json": {
       "model_id": "16048e80d9914ed5803ce4a6e7c7d9e0",
       "version_major": 2,
       "version_minor": 0
      },
      "text/plain": [
       "HBox(children=(FloatProgress(value=0.0, max=28000.0), HTML(value='')))"
      ]
     },
     "metadata": {},
     "output_type": "display_data"
    },
    {
     "name": "stdout",
     "output_type": "stream",
     "text": [
      "\n",
      "28\n"
     ]
    },
    {
     "data": {
      "application/vnd.jupyter.widget-view+json": {
       "model_id": "08b7b783a6444c84a3bbe1e7fb63e526",
       "version_major": 2,
       "version_minor": 0
      },
      "text/plain": [
       "HBox(children=(FloatProgress(value=0.0, max=28000.0), HTML(value='')))"
      ]
     },
     "metadata": {},
     "output_type": "display_data"
    },
    {
     "name": "stdout",
     "output_type": "stream",
     "text": [
      "\n",
      "29\n"
     ]
    },
    {
     "data": {
      "application/vnd.jupyter.widget-view+json": {
       "model_id": "8fc541b8f0564fa1a9945c90da248b38",
       "version_major": 2,
       "version_minor": 0
      },
      "text/plain": [
       "HBox(children=(FloatProgress(value=0.0, max=28000.0), HTML(value='')))"
      ]
     },
     "metadata": {},
     "output_type": "display_data"
    },
    {
     "name": "stdout",
     "output_type": "stream",
     "text": [
      "\n",
      "30\n"
     ]
    },
    {
     "data": {
      "application/vnd.jupyter.widget-view+json": {
       "model_id": "d43a3bdae7154cbebdd519642fde1ae9",
       "version_major": 2,
       "version_minor": 0
      },
      "text/plain": [
       "HBox(children=(FloatProgress(value=0.0, max=28000.0), HTML(value='')))"
      ]
     },
     "metadata": {},
     "output_type": "display_data"
    },
    {
     "name": "stdout",
     "output_type": "stream",
     "text": [
      "\n",
      "31\n"
     ]
    },
    {
     "data": {
      "application/vnd.jupyter.widget-view+json": {
       "model_id": "e527b28a312f4bfd9050f18895b53893",
       "version_major": 2,
       "version_minor": 0
      },
      "text/plain": [
       "HBox(children=(FloatProgress(value=0.0, max=28000.0), HTML(value='')))"
      ]
     },
     "metadata": {},
     "output_type": "display_data"
    },
    {
     "name": "stdout",
     "output_type": "stream",
     "text": [
      "\n",
      "32\n"
     ]
    },
    {
     "data": {
      "application/vnd.jupyter.widget-view+json": {
       "model_id": "dd092808127443c187f5b9aac21b5387",
       "version_major": 2,
       "version_minor": 0
      },
      "text/plain": [
       "HBox(children=(FloatProgress(value=0.0, max=28000.0), HTML(value='')))"
      ]
     },
     "metadata": {},
     "output_type": "display_data"
    },
    {
     "name": "stdout",
     "output_type": "stream",
     "text": [
      "\n",
      "33\n"
     ]
    },
    {
     "data": {
      "application/vnd.jupyter.widget-view+json": {
       "model_id": "c4cfa60f74ff4ea6aa6332aeceba0d0b",
       "version_major": 2,
       "version_minor": 0
      },
      "text/plain": [
       "HBox(children=(FloatProgress(value=0.0, max=28000.0), HTML(value='')))"
      ]
     },
     "metadata": {},
     "output_type": "display_data"
    },
    {
     "name": "stdout",
     "output_type": "stream",
     "text": [
      "\n",
      "34\n"
     ]
    },
    {
     "data": {
      "application/vnd.jupyter.widget-view+json": {
       "model_id": "39444f8acc3b4ee7bc22f662f01cf8de",
       "version_major": 2,
       "version_minor": 0
      },
      "text/plain": [
       "HBox(children=(FloatProgress(value=0.0, max=28000.0), HTML(value='')))"
      ]
     },
     "metadata": {},
     "output_type": "display_data"
    },
    {
     "name": "stdout",
     "output_type": "stream",
     "text": [
      "\n",
      "35\n"
     ]
    },
    {
     "data": {
      "application/vnd.jupyter.widget-view+json": {
       "model_id": "81df8017f5f0461492d93e7cb110aaf5",
       "version_major": 2,
       "version_minor": 0
      },
      "text/plain": [
       "HBox(children=(FloatProgress(value=0.0, max=28000.0), HTML(value='')))"
      ]
     },
     "metadata": {},
     "output_type": "display_data"
    },
    {
     "name": "stdout",
     "output_type": "stream",
     "text": [
      "\n",
      "36\n"
     ]
    },
    {
     "data": {
      "application/vnd.jupyter.widget-view+json": {
       "model_id": "281e24d6b213415385adddc3b5102911",
       "version_major": 2,
       "version_minor": 0
      },
      "text/plain": [
       "HBox(children=(FloatProgress(value=0.0, max=28000.0), HTML(value='')))"
      ]
     },
     "metadata": {},
     "output_type": "display_data"
    },
    {
     "name": "stdout",
     "output_type": "stream",
     "text": [
      "\n",
      "37\n"
     ]
    },
    {
     "data": {
      "application/vnd.jupyter.widget-view+json": {
       "model_id": "64bb4b3a124344428a6c873811945a28",
       "version_major": 2,
       "version_minor": 0
      },
      "text/plain": [
       "HBox(children=(FloatProgress(value=0.0, max=28000.0), HTML(value='')))"
      ]
     },
     "metadata": {},
     "output_type": "display_data"
    },
    {
     "name": "stdout",
     "output_type": "stream",
     "text": [
      "\n",
      "38\n"
     ]
    },
    {
     "data": {
      "application/vnd.jupyter.widget-view+json": {
       "model_id": "0f0f3cd3010944589d672d75dd67ff2b",
       "version_major": 2,
       "version_minor": 0
      },
      "text/plain": [
       "HBox(children=(FloatProgress(value=0.0, max=28000.0), HTML(value='')))"
      ]
     },
     "metadata": {},
     "output_type": "display_data"
    },
    {
     "name": "stdout",
     "output_type": "stream",
     "text": [
      "\n",
      "39\n"
     ]
    },
    {
     "data": {
      "application/vnd.jupyter.widget-view+json": {
       "model_id": "c12cfb058fcd49d69693a98ff96584fe",
       "version_major": 2,
       "version_minor": 0
      },
      "text/plain": [
       "HBox(children=(FloatProgress(value=0.0, max=28000.0), HTML(value='')))"
      ]
     },
     "metadata": {},
     "output_type": "display_data"
    },
    {
     "name": "stdout",
     "output_type": "stream",
     "text": [
      "\n",
      "40\n"
     ]
    },
    {
     "data": {
      "application/vnd.jupyter.widget-view+json": {
       "model_id": "f85fd366acc34061afad984df49a0a70",
       "version_major": 2,
       "version_minor": 0
      },
      "text/plain": [
       "HBox(children=(FloatProgress(value=0.0, max=28000.0), HTML(value='')))"
      ]
     },
     "metadata": {},
     "output_type": "display_data"
    },
    {
     "name": "stdout",
     "output_type": "stream",
     "text": [
      "\n",
      "41\n"
     ]
    },
    {
     "data": {
      "application/vnd.jupyter.widget-view+json": {
       "model_id": "4b8ea240a67b40e7afe24f102e42b6da",
       "version_major": 2,
       "version_minor": 0
      },
      "text/plain": [
       "HBox(children=(FloatProgress(value=0.0, max=28000.0), HTML(value='')))"
      ]
     },
     "metadata": {},
     "output_type": "display_data"
    },
    {
     "name": "stdout",
     "output_type": "stream",
     "text": [
      "\n",
      "42\n"
     ]
    },
    {
     "data": {
      "application/vnd.jupyter.widget-view+json": {
       "model_id": "6724beb80cb34e549850c78ce0c071cd",
       "version_major": 2,
       "version_minor": 0
      },
      "text/plain": [
       "HBox(children=(FloatProgress(value=0.0, max=28000.0), HTML(value='')))"
      ]
     },
     "metadata": {},
     "output_type": "display_data"
    },
    {
     "name": "stdout",
     "output_type": "stream",
     "text": [
      "\n",
      "43\n"
     ]
    },
    {
     "data": {
      "application/vnd.jupyter.widget-view+json": {
       "model_id": "3c3eb1937d3d4ffc8cf9e3b8ca7073d0",
       "version_major": 2,
       "version_minor": 0
      },
      "text/plain": [
       "HBox(children=(FloatProgress(value=0.0, max=28000.0), HTML(value='')))"
      ]
     },
     "metadata": {},
     "output_type": "display_data"
    },
    {
     "name": "stdout",
     "output_type": "stream",
     "text": [
      "\n",
      "44\n"
     ]
    },
    {
     "data": {
      "application/vnd.jupyter.widget-view+json": {
       "model_id": "82d4875b658840b9b95f63c975f44b7f",
       "version_major": 2,
       "version_minor": 0
      },
      "text/plain": [
       "HBox(children=(FloatProgress(value=0.0, max=28000.0), HTML(value='')))"
      ]
     },
     "metadata": {},
     "output_type": "display_data"
    },
    {
     "name": "stdout",
     "output_type": "stream",
     "text": [
      "\n",
      "45\n"
     ]
    },
    {
     "data": {
      "application/vnd.jupyter.widget-view+json": {
       "model_id": "6424a2ed1fa6492f9c725780e2c9712d",
       "version_major": 2,
       "version_minor": 0
      },
      "text/plain": [
       "HBox(children=(FloatProgress(value=0.0, max=28000.0), HTML(value='')))"
      ]
     },
     "metadata": {},
     "output_type": "display_data"
    },
    {
     "name": "stdout",
     "output_type": "stream",
     "text": [
      "\n",
      "1\n"
     ]
    },
    {
     "data": {
      "application/vnd.jupyter.widget-view+json": {
       "model_id": "393eedd2deec4d27b33786ed84eaf445",
       "version_major": 2,
       "version_minor": 0
      },
      "text/plain": [
       "HBox(children=(FloatProgress(value=0.0, max=1400.0), HTML(value='')))"
      ]
     },
     "metadata": {},
     "output_type": "display_data"
    },
    {
     "name": "stdout",
     "output_type": "stream",
     "text": [
      "\n",
      "2\n"
     ]
    },
    {
     "data": {
      "application/vnd.jupyter.widget-view+json": {
       "model_id": "b23cbb63d3fe421db619437006cbc0e4",
       "version_major": 2,
       "version_minor": 0
      },
      "text/plain": [
       "HBox(children=(FloatProgress(value=0.0, max=1400.0), HTML(value='')))"
      ]
     },
     "metadata": {},
     "output_type": "display_data"
    },
    {
     "name": "stdout",
     "output_type": "stream",
     "text": [
      "\n",
      "3\n"
     ]
    },
    {
     "data": {
      "application/vnd.jupyter.widget-view+json": {
       "model_id": "0a2b079084b44148b784dcf35aa7d2e1",
       "version_major": 2,
       "version_minor": 0
      },
      "text/plain": [
       "HBox(children=(FloatProgress(value=0.0, max=1400.0), HTML(value='')))"
      ]
     },
     "metadata": {},
     "output_type": "display_data"
    },
    {
     "name": "stdout",
     "output_type": "stream",
     "text": [
      "\n",
      "4\n"
     ]
    },
    {
     "data": {
      "application/vnd.jupyter.widget-view+json": {
       "model_id": "400f8e39c1bc4a65ad49357a049379b2",
       "version_major": 2,
       "version_minor": 0
      },
      "text/plain": [
       "HBox(children=(FloatProgress(value=0.0, max=1400.0), HTML(value='')))"
      ]
     },
     "metadata": {},
     "output_type": "display_data"
    },
    {
     "name": "stdout",
     "output_type": "stream",
     "text": [
      "\n",
      "5\n"
     ]
    },
    {
     "data": {
      "application/vnd.jupyter.widget-view+json": {
       "model_id": "7dc254bce1e2474b8451d63d25ccf803",
       "version_major": 2,
       "version_minor": 0
      },
      "text/plain": [
       "HBox(children=(FloatProgress(value=0.0, max=1400.0), HTML(value='')))"
      ]
     },
     "metadata": {},
     "output_type": "display_data"
    },
    {
     "name": "stdout",
     "output_type": "stream",
     "text": [
      "\n",
      "6\n"
     ]
    },
    {
     "data": {
      "application/vnd.jupyter.widget-view+json": {
       "model_id": "8865323354a7426aacd9a2f495b6a913",
       "version_major": 2,
       "version_minor": 0
      },
      "text/plain": [
       "HBox(children=(FloatProgress(value=0.0, max=1400.0), HTML(value='')))"
      ]
     },
     "metadata": {},
     "output_type": "display_data"
    },
    {
     "name": "stdout",
     "output_type": "stream",
     "text": [
      "\n",
      "7\n"
     ]
    },
    {
     "data": {
      "application/vnd.jupyter.widget-view+json": {
       "model_id": "f9aac498260c48d5b53a929f98473706",
       "version_major": 2,
       "version_minor": 0
      },
      "text/plain": [
       "HBox(children=(FloatProgress(value=0.0, max=1400.0), HTML(value='')))"
      ]
     },
     "metadata": {},
     "output_type": "display_data"
    },
    {
     "name": "stdout",
     "output_type": "stream",
     "text": [
      "\n",
      "8\n"
     ]
    },
    {
     "data": {
      "application/vnd.jupyter.widget-view+json": {
       "model_id": "eb5f83fe73d44eacaa309d07af2b415b",
       "version_major": 2,
       "version_minor": 0
      },
      "text/plain": [
       "HBox(children=(FloatProgress(value=0.0, max=1400.0), HTML(value='')))"
      ]
     },
     "metadata": {},
     "output_type": "display_data"
    },
    {
     "name": "stdout",
     "output_type": "stream",
     "text": [
      "\n",
      "9\n"
     ]
    },
    {
     "data": {
      "application/vnd.jupyter.widget-view+json": {
       "model_id": "99bdc09adb8749b6b9e4c814a87aba33",
       "version_major": 2,
       "version_minor": 0
      },
      "text/plain": [
       "HBox(children=(FloatProgress(value=0.0, max=1400.0), HTML(value='')))"
      ]
     },
     "metadata": {},
     "output_type": "display_data"
    },
    {
     "name": "stdout",
     "output_type": "stream",
     "text": [
      "\n",
      "10\n"
     ]
    },
    {
     "data": {
      "application/vnd.jupyter.widget-view+json": {
       "model_id": "cb49c8863c0f4723bcc7beac2d482846",
       "version_major": 2,
       "version_minor": 0
      },
      "text/plain": [
       "HBox(children=(FloatProgress(value=0.0, max=1400.0), HTML(value='')))"
      ]
     },
     "metadata": {},
     "output_type": "display_data"
    },
    {
     "name": "stdout",
     "output_type": "stream",
     "text": [
      "\n",
      "11\n"
     ]
    },
    {
     "data": {
      "application/vnd.jupyter.widget-view+json": {
       "model_id": "861f66f15a7a47a08bb5e299ad25eff9",
       "version_major": 2,
       "version_minor": 0
      },
      "text/plain": [
       "HBox(children=(FloatProgress(value=0.0, max=1400.0), HTML(value='')))"
      ]
     },
     "metadata": {},
     "output_type": "display_data"
    },
    {
     "name": "stdout",
     "output_type": "stream",
     "text": [
      "\n",
      "12\n"
     ]
    },
    {
     "data": {
      "application/vnd.jupyter.widget-view+json": {
       "model_id": "0f6b57638ffd497ab34f7cc3350c0195",
       "version_major": 2,
       "version_minor": 0
      },
      "text/plain": [
       "HBox(children=(FloatProgress(value=0.0, max=1400.0), HTML(value='')))"
      ]
     },
     "metadata": {},
     "output_type": "display_data"
    },
    {
     "name": "stdout",
     "output_type": "stream",
     "text": [
      "\n",
      "13\n"
     ]
    },
    {
     "data": {
      "application/vnd.jupyter.widget-view+json": {
       "model_id": "f7ffc125105b49c09c06338eb3a3ad95",
       "version_major": 2,
       "version_minor": 0
      },
      "text/plain": [
       "HBox(children=(FloatProgress(value=0.0, max=1400.0), HTML(value='')))"
      ]
     },
     "metadata": {},
     "output_type": "display_data"
    },
    {
     "name": "stdout",
     "output_type": "stream",
     "text": [
      "\n",
      "14\n"
     ]
    },
    {
     "data": {
      "application/vnd.jupyter.widget-view+json": {
       "model_id": "433423e4fe394b61863f48f9668ef623",
       "version_major": 2,
       "version_minor": 0
      },
      "text/plain": [
       "HBox(children=(FloatProgress(value=0.0, max=1400.0), HTML(value='')))"
      ]
     },
     "metadata": {},
     "output_type": "display_data"
    },
    {
     "name": "stdout",
     "output_type": "stream",
     "text": [
      "\n",
      "15\n"
     ]
    },
    {
     "data": {
      "application/vnd.jupyter.widget-view+json": {
       "model_id": "f6a026a09436429d8cb222e1a4834e70",
       "version_major": 2,
       "version_minor": 0
      },
      "text/plain": [
       "HBox(children=(FloatProgress(value=0.0, max=1400.0), HTML(value='')))"
      ]
     },
     "metadata": {},
     "output_type": "display_data"
    },
    {
     "name": "stdout",
     "output_type": "stream",
     "text": [
      "\n",
      "16\n"
     ]
    },
    {
     "data": {
      "application/vnd.jupyter.widget-view+json": {
       "model_id": "24349053534543f4909d34092fce90bc",
       "version_major": 2,
       "version_minor": 0
      },
      "text/plain": [
       "HBox(children=(FloatProgress(value=0.0, max=1400.0), HTML(value='')))"
      ]
     },
     "metadata": {},
     "output_type": "display_data"
    },
    {
     "name": "stdout",
     "output_type": "stream",
     "text": [
      "\n",
      "17\n"
     ]
    },
    {
     "data": {
      "application/vnd.jupyter.widget-view+json": {
       "model_id": "7248f7c356594ff7a5dd1cee4f79bd8e",
       "version_major": 2,
       "version_minor": 0
      },
      "text/plain": [
       "HBox(children=(FloatProgress(value=0.0, max=1400.0), HTML(value='')))"
      ]
     },
     "metadata": {},
     "output_type": "display_data"
    },
    {
     "name": "stdout",
     "output_type": "stream",
     "text": [
      "\n",
      "18\n"
     ]
    },
    {
     "data": {
      "application/vnd.jupyter.widget-view+json": {
       "model_id": "9b3dd81e050e4953b047145c2e5bb73a",
       "version_major": 2,
       "version_minor": 0
      },
      "text/plain": [
       "HBox(children=(FloatProgress(value=0.0, max=1400.0), HTML(value='')))"
      ]
     },
     "metadata": {},
     "output_type": "display_data"
    },
    {
     "name": "stdout",
     "output_type": "stream",
     "text": [
      "\n",
      "19\n"
     ]
    },
    {
     "data": {
      "application/vnd.jupyter.widget-view+json": {
       "model_id": "87457255a9a94746b74bb12b6aa64741",
       "version_major": 2,
       "version_minor": 0
      },
      "text/plain": [
       "HBox(children=(FloatProgress(value=0.0, max=1400.0), HTML(value='')))"
      ]
     },
     "metadata": {},
     "output_type": "display_data"
    },
    {
     "name": "stdout",
     "output_type": "stream",
     "text": [
      "\n",
      "20\n"
     ]
    },
    {
     "data": {
      "application/vnd.jupyter.widget-view+json": {
       "model_id": "d3802b9a0f954aa380894502b3450e57",
       "version_major": 2,
       "version_minor": 0
      },
      "text/plain": [
       "HBox(children=(FloatProgress(value=0.0, max=1400.0), HTML(value='')))"
      ]
     },
     "metadata": {},
     "output_type": "display_data"
    },
    {
     "name": "stdout",
     "output_type": "stream",
     "text": [
      "\n",
      "21\n"
     ]
    },
    {
     "data": {
      "application/vnd.jupyter.widget-view+json": {
       "model_id": "c24ac6cda14942f99cdab536af5360be",
       "version_major": 2,
       "version_minor": 0
      },
      "text/plain": [
       "HBox(children=(FloatProgress(value=0.0, max=1400.0), HTML(value='')))"
      ]
     },
     "metadata": {},
     "output_type": "display_data"
    },
    {
     "name": "stdout",
     "output_type": "stream",
     "text": [
      "\n",
      "22\n"
     ]
    },
    {
     "data": {
      "application/vnd.jupyter.widget-view+json": {
       "model_id": "eabcc2b235584e6caa612c174b7947f1",
       "version_major": 2,
       "version_minor": 0
      },
      "text/plain": [
       "HBox(children=(FloatProgress(value=0.0, max=1400.0), HTML(value='')))"
      ]
     },
     "metadata": {},
     "output_type": "display_data"
    },
    {
     "name": "stdout",
     "output_type": "stream",
     "text": [
      "\n",
      "23\n"
     ]
    },
    {
     "data": {
      "application/vnd.jupyter.widget-view+json": {
       "model_id": "3bff2351b06b4805ae5fd73d0b13aafb",
       "version_major": 2,
       "version_minor": 0
      },
      "text/plain": [
       "HBox(children=(FloatProgress(value=0.0, max=1400.0), HTML(value='')))"
      ]
     },
     "metadata": {},
     "output_type": "display_data"
    },
    {
     "name": "stdout",
     "output_type": "stream",
     "text": [
      "\n",
      "24\n"
     ]
    },
    {
     "data": {
      "application/vnd.jupyter.widget-view+json": {
       "model_id": "a17e13d5234241208916c756dd8773c0",
       "version_major": 2,
       "version_minor": 0
      },
      "text/plain": [
       "HBox(children=(FloatProgress(value=0.0, max=1400.0), HTML(value='')))"
      ]
     },
     "metadata": {},
     "output_type": "display_data"
    },
    {
     "name": "stdout",
     "output_type": "stream",
     "text": [
      "\n",
      "25\n"
     ]
    },
    {
     "data": {
      "application/vnd.jupyter.widget-view+json": {
       "model_id": "2e42e87a1e3b43b7884d8d1c78cfef67",
       "version_major": 2,
       "version_minor": 0
      },
      "text/plain": [
       "HBox(children=(FloatProgress(value=0.0, max=1400.0), HTML(value='')))"
      ]
     },
     "metadata": {},
     "output_type": "display_data"
    },
    {
     "name": "stdout",
     "output_type": "stream",
     "text": [
      "\n",
      "26\n"
     ]
    },
    {
     "data": {
      "application/vnd.jupyter.widget-view+json": {
       "model_id": "4a683f33319946feb52e1a8254ba689f",
       "version_major": 2,
       "version_minor": 0
      },
      "text/plain": [
       "HBox(children=(FloatProgress(value=0.0, max=1400.0), HTML(value='')))"
      ]
     },
     "metadata": {},
     "output_type": "display_data"
    },
    {
     "name": "stdout",
     "output_type": "stream",
     "text": [
      "\n",
      "27\n"
     ]
    },
    {
     "data": {
      "application/vnd.jupyter.widget-view+json": {
       "model_id": "bc9271975d4a486db220ba0def847665",
       "version_major": 2,
       "version_minor": 0
      },
      "text/plain": [
       "HBox(children=(FloatProgress(value=0.0, max=1400.0), HTML(value='')))"
      ]
     },
     "metadata": {},
     "output_type": "display_data"
    },
    {
     "name": "stdout",
     "output_type": "stream",
     "text": [
      "\n",
      "28\n"
     ]
    },
    {
     "data": {
      "application/vnd.jupyter.widget-view+json": {
       "model_id": "6ade1ce944ff4956957955df31ceac63",
       "version_major": 2,
       "version_minor": 0
      },
      "text/plain": [
       "HBox(children=(FloatProgress(value=0.0, max=1400.0), HTML(value='')))"
      ]
     },
     "metadata": {},
     "output_type": "display_data"
    },
    {
     "name": "stdout",
     "output_type": "stream",
     "text": [
      "\n",
      "29\n"
     ]
    },
    {
     "data": {
      "application/vnd.jupyter.widget-view+json": {
       "model_id": "4ab30f51341840b6bc1a1078c75396a6",
       "version_major": 2,
       "version_minor": 0
      },
      "text/plain": [
       "HBox(children=(FloatProgress(value=0.0, max=1400.0), HTML(value='')))"
      ]
     },
     "metadata": {},
     "output_type": "display_data"
    },
    {
     "name": "stdout",
     "output_type": "stream",
     "text": [
      "\n",
      "30\n"
     ]
    },
    {
     "data": {
      "application/vnd.jupyter.widget-view+json": {
       "model_id": "633b01c5ccac4f81b8d897ecc8131b9a",
       "version_major": 2,
       "version_minor": 0
      },
      "text/plain": [
       "HBox(children=(FloatProgress(value=0.0, max=1400.0), HTML(value='')))"
      ]
     },
     "metadata": {},
     "output_type": "display_data"
    },
    {
     "name": "stdout",
     "output_type": "stream",
     "text": [
      "\n",
      "31\n"
     ]
    },
    {
     "data": {
      "application/vnd.jupyter.widget-view+json": {
       "model_id": "55915087b86b41518a0f76819930f2cf",
       "version_major": 2,
       "version_minor": 0
      },
      "text/plain": [
       "HBox(children=(FloatProgress(value=0.0, max=1400.0), HTML(value='')))"
      ]
     },
     "metadata": {},
     "output_type": "display_data"
    },
    {
     "name": "stdout",
     "output_type": "stream",
     "text": [
      "\n",
      "32\n"
     ]
    },
    {
     "data": {
      "application/vnd.jupyter.widget-view+json": {
       "model_id": "a268198f464e43a98e61437a17f96713",
       "version_major": 2,
       "version_minor": 0
      },
      "text/plain": [
       "HBox(children=(FloatProgress(value=0.0, max=1400.0), HTML(value='')))"
      ]
     },
     "metadata": {},
     "output_type": "display_data"
    },
    {
     "name": "stdout",
     "output_type": "stream",
     "text": [
      "\n",
      "33\n"
     ]
    },
    {
     "data": {
      "application/vnd.jupyter.widget-view+json": {
       "model_id": "652a73e4bfd344b89a9454977023c28c",
       "version_major": 2,
       "version_minor": 0
      },
      "text/plain": [
       "HBox(children=(FloatProgress(value=0.0, max=1400.0), HTML(value='')))"
      ]
     },
     "metadata": {},
     "output_type": "display_data"
    },
    {
     "name": "stdout",
     "output_type": "stream",
     "text": [
      "\n",
      "34\n"
     ]
    },
    {
     "data": {
      "application/vnd.jupyter.widget-view+json": {
       "model_id": "953890eae4b14ec78e51207e594339db",
       "version_major": 2,
       "version_minor": 0
      },
      "text/plain": [
       "HBox(children=(FloatProgress(value=0.0, max=1400.0), HTML(value='')))"
      ]
     },
     "metadata": {},
     "output_type": "display_data"
    },
    {
     "name": "stdout",
     "output_type": "stream",
     "text": [
      "\n",
      "35\n"
     ]
    },
    {
     "data": {
      "application/vnd.jupyter.widget-view+json": {
       "model_id": "0bc29927ce8b4fa3868371d2d2f8acfe",
       "version_major": 2,
       "version_minor": 0
      },
      "text/plain": [
       "HBox(children=(FloatProgress(value=0.0, max=1400.0), HTML(value='')))"
      ]
     },
     "metadata": {},
     "output_type": "display_data"
    },
    {
     "name": "stdout",
     "output_type": "stream",
     "text": [
      "\n",
      "36\n"
     ]
    },
    {
     "data": {
      "application/vnd.jupyter.widget-view+json": {
       "model_id": "c18ef5a5fb7544c48b91d9cf88e07102",
       "version_major": 2,
       "version_minor": 0
      },
      "text/plain": [
       "HBox(children=(FloatProgress(value=0.0, max=1400.0), HTML(value='')))"
      ]
     },
     "metadata": {},
     "output_type": "display_data"
    },
    {
     "name": "stdout",
     "output_type": "stream",
     "text": [
      "\n",
      "37\n"
     ]
    },
    {
     "data": {
      "application/vnd.jupyter.widget-view+json": {
       "model_id": "3bcdca5e18bf4fcaa7eabfa682e458f6",
       "version_major": 2,
       "version_minor": 0
      },
      "text/plain": [
       "HBox(children=(FloatProgress(value=0.0, max=1400.0), HTML(value='')))"
      ]
     },
     "metadata": {},
     "output_type": "display_data"
    },
    {
     "name": "stdout",
     "output_type": "stream",
     "text": [
      "\n",
      "38\n"
     ]
    },
    {
     "data": {
      "application/vnd.jupyter.widget-view+json": {
       "model_id": "02f2ae55b94d4f28825a6178bbd5eb44",
       "version_major": 2,
       "version_minor": 0
      },
      "text/plain": [
       "HBox(children=(FloatProgress(value=0.0, max=1400.0), HTML(value='')))"
      ]
     },
     "metadata": {},
     "output_type": "display_data"
    },
    {
     "name": "stdout",
     "output_type": "stream",
     "text": [
      "\n",
      "39\n"
     ]
    },
    {
     "data": {
      "application/vnd.jupyter.widget-view+json": {
       "model_id": "334a2898389a4dcd98ce8596a0e9cf5c",
       "version_major": 2,
       "version_minor": 0
      },
      "text/plain": [
       "HBox(children=(FloatProgress(value=0.0, max=1400.0), HTML(value='')))"
      ]
     },
     "metadata": {},
     "output_type": "display_data"
    },
    {
     "name": "stdout",
     "output_type": "stream",
     "text": [
      "\n",
      "40\n"
     ]
    },
    {
     "data": {
      "application/vnd.jupyter.widget-view+json": {
       "model_id": "7bd56651b52640fa830b560366ed19da",
       "version_major": 2,
       "version_minor": 0
      },
      "text/plain": [
       "HBox(children=(FloatProgress(value=0.0, max=1400.0), HTML(value='')))"
      ]
     },
     "metadata": {},
     "output_type": "display_data"
    },
    {
     "name": "stdout",
     "output_type": "stream",
     "text": [
      "\n",
      "41\n"
     ]
    },
    {
     "data": {
      "application/vnd.jupyter.widget-view+json": {
       "model_id": "0030d9dffbbc4e008f2b5144098a7edc",
       "version_major": 2,
       "version_minor": 0
      },
      "text/plain": [
       "HBox(children=(FloatProgress(value=0.0, max=1400.0), HTML(value='')))"
      ]
     },
     "metadata": {},
     "output_type": "display_data"
    },
    {
     "name": "stdout",
     "output_type": "stream",
     "text": [
      "\n",
      "42\n"
     ]
    },
    {
     "data": {
      "application/vnd.jupyter.widget-view+json": {
       "model_id": "ca44bdfb4f5f4028a8a8cff3b6f74da8",
       "version_major": 2,
       "version_minor": 0
      },
      "text/plain": [
       "HBox(children=(FloatProgress(value=0.0, max=1400.0), HTML(value='')))"
      ]
     },
     "metadata": {},
     "output_type": "display_data"
    },
    {
     "name": "stdout",
     "output_type": "stream",
     "text": [
      "\n",
      "43\n"
     ]
    },
    {
     "data": {
      "application/vnd.jupyter.widget-view+json": {
       "model_id": "c633a7ada8fd4e15986f251af95e77a3",
       "version_major": 2,
       "version_minor": 0
      },
      "text/plain": [
       "HBox(children=(FloatProgress(value=0.0, max=1400.0), HTML(value='')))"
      ]
     },
     "metadata": {},
     "output_type": "display_data"
    },
    {
     "name": "stdout",
     "output_type": "stream",
     "text": [
      "\n",
      "44\n"
     ]
    },
    {
     "data": {
      "application/vnd.jupyter.widget-view+json": {
       "model_id": "903ab1dae17f4d8a91328346bd4e7c59",
       "version_major": 2,
       "version_minor": 0
      },
      "text/plain": [
       "HBox(children=(FloatProgress(value=0.0, max=1400.0), HTML(value='')))"
      ]
     },
     "metadata": {},
     "output_type": "display_data"
    },
    {
     "name": "stdout",
     "output_type": "stream",
     "text": [
      "\n",
      "45\n"
     ]
    },
    {
     "data": {
      "application/vnd.jupyter.widget-view+json": {
       "model_id": "48b0b1b42f144a54ae1bb4be7a8a2771",
       "version_major": 2,
       "version_minor": 0
      },
      "text/plain": [
       "HBox(children=(FloatProgress(value=0.0, max=1400.0), HTML(value='')))"
      ]
     },
     "metadata": {},
     "output_type": "display_data"
    },
    {
     "name": "stdout",
     "output_type": "stream",
     "text": [
      "\n"
     ]
    }
   ],
   "source": [
    "#Search 1400 so that we have room to remove up to 1000 docs from Round 1\n",
    "n_papers = 1400\n",
    "\n",
    "#Each key is a qid, value is the anserini search list\n",
    "full_topic_UDel, full_docid_UDel, full_rank_UDel, full_score_UDel, full_title_UDel, full_doi_UDel, full_publish_UDel = search_UDel(full_searcher, n_papers)\n",
    "paragraph_topic_UDel, paragraph_docid_UDel, paragraph_rank_UDel, paragraph_score_UDel, paragraph_title_UDel, paragraph_doi_UDel, paragraph_publish_UDel = search_UDel(paragraph_searcher, n_papers, paragraph = True)\n",
    "abstract_topic_UDel, abstract_docid_UDel, abstract_rank_UDel, abstract_score_UDel, abstract_title_UDel, abstract_doi_UDel, abstract_publish_UDel = search_UDel(abstract_searcher, n_papers)\n"
   ]
  },
  {
   "cell_type": "code",
   "execution_count": 43,
   "metadata": {},
   "outputs": [],
   "source": [
    "#Make dataframe from lists generated from search\n",
    "def TREC_df(topic_id_list, docid_list, rank_list, score_list, title_list, doi_list, publish_list, run_param, date_param, drop_1000, drop_dups):\n",
    "    #Run-tag for TREC run requirements\n",
    "    Q0 = ['q0'] * len(topic_id_list) \n",
    "    qid = [run_param] * len(topic_id_list)\n",
    "\n",
    "    df  = {'topic': topic_id_list , 'q0':Q0, 'docid':docid_list, 'rank':rank_list, \n",
    "                                 'score':score_list, 'title': title_list, 'doi':doi_list,'date':publish_list, 'qid':qid}\n",
    "    df = pd.DataFrame(df)\n",
    "    df = df[['topic', 'q0', 'docid', 'rank', 'score', 'title', 'doi', 'date', 'qid']]\n",
    "    \n",
    "    #Filter by time\n",
    "    if (date_param == True):\n",
    "        df = df[df['date'].dt.year >= 2020]\n",
    "    \n",
    "    #Remove duplicates\n",
    "    if (drop_dups == True):\n",
    "        df.drop_duplicates(subset=['topic', 'docid'], keep='first', inplace = True)\n",
    "        df.reset_index(drop=True, inplace=True) #Reset indexes to match row\n",
    "    \n",
    "    #Drop judged docids in R1-3\n",
    "    index_list = []\n",
    "    qrel_topics = qrels_table.groupby('Topic')   \n",
    "    for topic, group in tqdm(qrel_topics, position=0, leave = True):\n",
    "        #Get all docids of that topic from qrels\n",
    "        topic_docid = list(group['docid'])\n",
    "        for i in range(len(df)):\n",
    "            if(topic == int(df['topic'][i]) and df['docid'][i] in topic_docid):\n",
    "                index_list.append(i)\n",
    "    \n",
    "    df.drop(df.index[index_list], inplace=True)\n",
    "    \n",
    "    #Make sure all docids are valid\n",
    "    df.reset_index(inplace = True)\n",
    "    index_list = []\n",
    "    for i in range(len(df)):\n",
    "        if(df['docid'][i] not in R4_valid):\n",
    "            index_list.append(i)\n",
    "    \n",
    "    df.drop(df.index[index_list], inplace=True)\n",
    "    #Re-rank\n",
    "    df['rank'] = df.groupby('topic')['score'].rank(ascending=False)\n",
    "    df['rank'] = df['rank'].astype(int)\n",
    "    \n",
    "    #For each topic, save up to 1000 searches (since we drop duplicates)\n",
    "    if (drop_1000 == True):\n",
    "        df = df[df['rank'] <= 1000] \n",
    "    #Reset index\n",
    "    df.reset_index(drop=True, inplace=True)\n",
    "    \n",
    "    #Sort rank by topic\n",
    "    df.sort_values(['topic','rank'],ascending=False)\n",
    "    \n",
    "    #Get columns for submission\n",
    "    df = df[['topic', 'q0', 'docid', 'rank', 'score', 'qid']]\n",
    "    \n",
    "    return df"
   ]
  },
  {
   "cell_type": "code",
   "execution_count": 99,
   "metadata": {
    "scrolled": true
   },
   "outputs": [
    {
     "data": {
      "application/vnd.jupyter.widget-view+json": {
       "model_id": "31411db0a004469580bd9b6c0756a7ed",
       "version_major": 2,
       "version_minor": 0
      },
      "text/plain": [
       "HBox(children=(FloatProgress(value=0.0, max=40.0), HTML(value='')))"
      ]
     },
     "metadata": {},
     "output_type": "display_data"
    },
    {
     "name": "stdout",
     "output_type": "stream",
     "text": [
      "\n"
     ]
    },
    {
     "data": {
      "application/vnd.jupyter.widget-view+json": {
       "model_id": "8fcfe8c53189471fa87755494d322abd",
       "version_major": 2,
       "version_minor": 0
      },
      "text/plain": [
       "HBox(children=(FloatProgress(value=0.0, max=40.0), HTML(value='')))"
      ]
     },
     "metadata": {},
     "output_type": "display_data"
    },
    {
     "name": "stdout",
     "output_type": "stream",
     "text": [
      "\n"
     ]
    },
    {
     "data": {
      "application/vnd.jupyter.widget-view+json": {
       "model_id": "f1f72dfd8b4148ea9c681d4ea204c06e",
       "version_major": 2,
       "version_minor": 0
      },
      "text/plain": [
       "HBox(children=(FloatProgress(value=0.0, max=40.0), HTML(value='')))"
      ]
     },
     "metadata": {},
     "output_type": "display_data"
    },
    {
     "name": "stdout",
     "output_type": "stream",
     "text": [
      "\n"
     ]
    },
    {
     "data": {
      "application/vnd.jupyter.widget-view+json": {
       "model_id": "659b316e369e4d4f9c493904bb2b8102",
       "version_major": 2,
       "version_minor": 0
      },
      "text/plain": [
       "HBox(children=(FloatProgress(value=0.0, max=40.0), HTML(value='')))"
      ]
     },
     "metadata": {},
     "output_type": "display_data"
    },
    {
     "name": "stdout",
     "output_type": "stream",
     "text": [
      "\n"
     ]
    },
    {
     "data": {
      "application/vnd.jupyter.widget-view+json": {
       "model_id": "8f5384258db0437e9ff5080ea405f61b",
       "version_major": 2,
       "version_minor": 0
      },
      "text/plain": [
       "HBox(children=(FloatProgress(value=0.0, max=40.0), HTML(value='')))"
      ]
     },
     "metadata": {},
     "output_type": "display_data"
    },
    {
     "name": "stdout",
     "output_type": "stream",
     "text": [
      "\n"
     ]
    },
    {
     "data": {
      "application/vnd.jupyter.widget-view+json": {
       "model_id": "b9d44661ff5e4a63842655eb3b9b5a37",
       "version_major": 2,
       "version_minor": 0
      },
      "text/plain": [
       "HBox(children=(FloatProgress(value=0.0, max=40.0), HTML(value='')))"
      ]
     },
     "metadata": {},
     "output_type": "display_data"
    },
    {
     "name": "stdout",
     "output_type": "stream",
     "text": [
      "\n"
     ]
    }
   ],
   "source": [
    "#OHSU\n",
    "full_df_OHSU = TREC_df(full_topic, full_docid, full_rank, full_score, full_title, full_doi, full_publish, 'FullR4_OHSU', False, False, True)\n",
    "full_df_OHSU_time = TREC_df(full_topic, full_docid, full_rank, full_score, full_title, full_doi, full_publish, 'FullR4_OHSU_Time', True, False, True)\n",
    "paragraph_df_OHSU = TREC_df(paragraph_topic, paragraph_docid, paragraph_rank, paragraph_score, paragraph_title, paragraph_doi, paragraph_publish, 'paragraphR4_OHSU', False, False, True)\n",
    "paragraph_df_OHSU_time = TREC_df(paragraph_topic, paragraph_docid, paragraph_rank, paragraph_score, paragraph_title, paragraph_doi, paragraph_publish, 'paragraphR4_OHSU_Time', True, False, True)\n",
    "abstract_df_OHSU = TREC_df(abstract_topic, abstract_docid, abstract_rank, abstract_score, abstract_title, abstract_doi, abstract_publish, 'abstractR4_OHSU', False, False, True)\n",
    "abstract_df_OHSU_time = TREC_df(abstract_topic, abstract_docid, abstract_rank, abstract_score, abstract_title, abstract_doi, abstract_publish, 'abstractR4_OHSU_Time', True, False, True)"
   ]
  },
  {
   "cell_type": "code",
   "execution_count": 100,
   "metadata": {},
   "outputs": [
    {
     "data": {
      "application/vnd.jupyter.widget-view+json": {
       "model_id": "93c3392671834367bf3917fc9a367bec",
       "version_major": 2,
       "version_minor": 0
      },
      "text/plain": [
       "HBox(children=(FloatProgress(value=0.0, max=40.0), HTML(value='')))"
      ]
     },
     "metadata": {},
     "output_type": "display_data"
    },
    {
     "name": "stdout",
     "output_type": "stream",
     "text": [
      "\n"
     ]
    },
    {
     "data": {
      "application/vnd.jupyter.widget-view+json": {
       "model_id": "5cb8a15a930e4ae782a0fbb94ea231fc",
       "version_major": 2,
       "version_minor": 0
      },
      "text/plain": [
       "HBox(children=(FloatProgress(value=0.0, max=40.0), HTML(value='')))"
      ]
     },
     "metadata": {},
     "output_type": "display_data"
    },
    {
     "name": "stdout",
     "output_type": "stream",
     "text": [
      "\n"
     ]
    },
    {
     "data": {
      "application/vnd.jupyter.widget-view+json": {
       "model_id": "8a2ba63dab2e470c86165e017e78bc67",
       "version_major": 2,
       "version_minor": 0
      },
      "text/plain": [
       "HBox(children=(FloatProgress(value=0.0, max=40.0), HTML(value='')))"
      ]
     },
     "metadata": {},
     "output_type": "display_data"
    },
    {
     "name": "stdout",
     "output_type": "stream",
     "text": [
      "\n"
     ]
    },
    {
     "data": {
      "application/vnd.jupyter.widget-view+json": {
       "model_id": "409cf8f156b744508fa0fe0dc27620c6",
       "version_major": 2,
       "version_minor": 0
      },
      "text/plain": [
       "HBox(children=(FloatProgress(value=0.0, max=40.0), HTML(value='')))"
      ]
     },
     "metadata": {},
     "output_type": "display_data"
    },
    {
     "name": "stdout",
     "output_type": "stream",
     "text": [
      "\n"
     ]
    },
    {
     "data": {
      "application/vnd.jupyter.widget-view+json": {
       "model_id": "6873fa314bfd47e486b3b0850c5d7d46",
       "version_major": 2,
       "version_minor": 0
      },
      "text/plain": [
       "HBox(children=(FloatProgress(value=0.0, max=40.0), HTML(value='')))"
      ]
     },
     "metadata": {},
     "output_type": "display_data"
    },
    {
     "name": "stdout",
     "output_type": "stream",
     "text": [
      "\n"
     ]
    },
    {
     "data": {
      "application/vnd.jupyter.widget-view+json": {
       "model_id": "7bb5fad53d1e4d05a2ef85776b424e73",
       "version_major": 2,
       "version_minor": 0
      },
      "text/plain": [
       "HBox(children=(FloatProgress(value=0.0, max=40.0), HTML(value='')))"
      ]
     },
     "metadata": {},
     "output_type": "display_data"
    },
    {
     "name": "stdout",
     "output_type": "stream",
     "text": [
      "\n"
     ]
    }
   ],
   "source": [
    "#UDel\n",
    "full_df_UDel = TREC_df(full_topic_UDel, full_docid_UDel, full_rank_UDel, full_score_UDel, full_title_UDel, full_doi_UDel, full_publish_UDel, 'FullR4_UDel', False, False, True)\n",
    "full_df_UDel_time = TREC_df(full_topic_UDel, full_docid_UDel, full_rank_UDel, full_score_UDel, full_title_UDel, full_doi_UDel, full_publish_UDel, 'FullR4_UDel_Time', True, False, True)\n",
    "paragraph_df_UDel = TREC_df(paragraph_topic_UDel, paragraph_docid_UDel, paragraph_rank_UDel, paragraph_score_UDel, paragraph_title_UDel, paragraph_doi_UDel, paragraph_publish_UDel, 'paragraphR4_UDel', False, False, True)\n",
    "paragraph_df_UDel_time = TREC_df(paragraph_topic_UDel, paragraph_docid_UDel, paragraph_rank_UDel, paragraph_score_UDel, paragraph_title_UDel, paragraph_doi_UDel, paragraph_publish_UDel, 'paragraphR4_UDel_Time', True, False, True)\n",
    "abstract_df_UDel = TREC_df(abstract_topic_UDel, abstract_docid_UDel, abstract_rank_UDel, abstract_score_UDel, abstract_title_UDel, abstract_doi_UDel, abstract_publish_UDel, 'abstractR4_UDel', False, False, True)\n",
    "abstract_df_UDel_time = TREC_df(abstract_topic_UDel, abstract_docid_UDel, abstract_rank_UDel, abstract_score_UDel, abstract_title_UDel, abstract_doi_UDel, abstract_publish_UDel, 'abstractR4_UDel_Time', True, False, True)"
   ]
  },
  {
   "cell_type": "code",
   "execution_count": 101,
   "metadata": {},
   "outputs": [],
   "source": [
    "#For  runs\n",
    "Results_folder = r'C:\\Users\\Jimmy Chen\\Box\\COVID19\\CORD19\\TREC_COVID\\Round4_Runs_LessRM3'\n",
    "if(os.path.exists(Results_folder) == False):\n",
    "    os.mkdir(Results_folder)\n",
    "    \n",
    "full_df_OHSU.to_csv(os.path.join(Results_folder, 'FullOHSU.txt'), sep=' ', index=False, header=None)\n",
    "full_df_OHSU_time.to_csv(os.path.join(Results_folder, 'FullOHSU_time.txt'), sep=' ', index=False, header=None)\n",
    "\n",
    "paragraph_df_OHSU.to_csv(os.path.join(Results_folder, 'ParaOHSU.txt'), sep=' ', index=False, header=None)\n",
    "paragraph_df_OHSU_time.to_csv(os.path.join(Results_folder, 'ParaOHSU_time.txt'), sep=' ', index=False, header=None)\n",
    "\n",
    "abstract_df_OHSU.to_csv(os.path.join(Results_folder, 'AbstractOHSU.txt'), sep=' ', index=False, header=None)\n",
    "abstract_df_OHSU_time.to_csv(os.path.join(Results_folder, 'AbstractOHSU_time.txt'), sep=' ', index=False, header=None)"
   ]
  },
  {
   "cell_type": "code",
   "execution_count": 102,
   "metadata": {},
   "outputs": [],
   "source": [
    "full_df_UDel.to_csv(os.path.join(Results_folder, 'FullUDel.txt'), sep=' ', index=False, header=None)\n",
    "full_df_UDel_time.to_csv(os.path.join(Results_folder, 'FullUDel_time.txt'), sep=' ', index=False, header=None)\n",
    "\n",
    "paragraph_df_UDel.to_csv(os.path.join(Results_folder, 'ParaUDel.txt'), sep=' ', index=False, header=None)\n",
    "paragraph_df_UDel_time.to_csv(os.path.join(Results_folder, 'ParaUDel_time.txt'), sep=' ', index=False, header=None)\n",
    "\n",
    "abstract_df_UDel.to_csv(os.path.join(Results_folder, 'AbstractUDel.txt'), sep=' ', index=False, header=None)\n",
    "abstract_df_UDel_time.to_csv(os.path.join(Results_folder, 'AbstractUDel_time.txt'), sep=' ', index=False, header=None)"
   ]
  },
  {
   "cell_type": "code",
   "execution_count": 48,
   "metadata": {},
   "outputs": [],
   "source": [
    "#Perform fusion on 3 df\n",
    "def fuse_runs(path1, path2, path3, output_name, max_docs = 1000):\n",
    "    r1 = TrecRun(path1)\n",
    "    r2 = TrecRun(path2)\n",
    "    r3 = TrecRun(path3)\n",
    "\n",
    "    # Easy way to create new baselines by fusing existing runs:\n",
    "    fused_run = fusion.reciprocal_rank_fusion([r1, r2, r3], max_docs=max_docs)\n",
    "    \n",
    "    fused_run.print_subset(os.path.join(Results_folder, str(output_name) + '.txt'), topics=fused_run.topics())\n",
    "\n",
    "    return os.path.join(Results_folder, str(output_name) + '.txt')\n",
    "\n",
    "#Perform fusion on 3 df\n",
    "def fuse_runs2(path1, path2, path3,path4, path5, path6, output_name, max_docs = 1000):\n",
    "    r1 = TrecRun(path1)\n",
    "    r2 = TrecRun(path2)\n",
    "    r3 = TrecRun(path3)\n",
    "    r4 = TrecRun(path4)\n",
    "    r5 = TrecRun(path5)\n",
    "    r6 = TrecRun(path6)\n",
    "\n",
    "    # Easy way to create new baselines by fusing existing runs:\n",
    "    fused_run = fusion.reciprocal_rank_fusion([r1, r2, r3], max_docs=max_docs)\n",
    "    \n",
    "    fused_run.print_subset(os.path.join(Results_folder, str(output_name) + '.txt'), topics=fused_run.topics())\n",
    "\n",
    "    return os.path.join(Results_folder, str(output_name) + '.txt')"
   ]
  },
  {
   "cell_type": "code",
   "execution_count": 103,
   "metadata": {},
   "outputs": [
    {
     "name": "stdout",
     "output_type": "stream",
     "text": [
      "File C:\\Users\\Jimmy Chen\\Box\\COVID19\\CORD19\\TREC_COVID\\Round4_Runs_LessRM3\\orig_fusion_OHSU.txt writen.\n",
      "File C:\\Users\\Jimmy Chen\\Box\\COVID19\\CORD19\\TREC_COVID\\Round4_Runs_LessRM3\\time_fusion_OHSU.txt writen.\n",
      "File C:\\Users\\Jimmy Chen\\Box\\COVID19\\CORD19\\TREC_COVID\\Round4_Runs_LessRM3\\total_fusion_OHSU.txt writen.\n"
     ]
    }
   ],
   "source": [
    "#OHSU\n",
    "orig_fusion_OHSU = fuse_runs(\n",
    "    os.path.join(Results_folder, 'FullOHSU.txt'), os.path.join(Results_folder, 'ParaOHSU.txt'), os.path.join(Results_folder, 'AbstractOHSU.txt'),\n",
    "    'orig_fusion_OHSU', max_docs = 1000\n",
    ")\n",
    "\n",
    "#OHSU Time\n",
    "time_fusion_OHSU = fuse_runs(\n",
    "    os.path.join(Results_folder, 'FullOHSU_time.txt'), os.path.join(Results_folder, 'ParaOHSU_time.txt'), os.path.join(Results_folder, 'AbstractOHSU_time.txt'),\n",
    "    'time_fusion_OHSU', max_docs = 1000                                                                                                              \n",
    ")\n",
    "                                                                \n",
    "#OHSU All 6 fusion\n",
    "total_fusion_OHSU = fuse_runs2(\n",
    "    os.path.join(Results_folder, 'FullOHSU.txt'), os.path.join(Results_folder, 'ParaOHSU.txt'), os.path.join(Results_folder, 'AbstractOHSU.txt'),\n",
    "    os.path.join(Results_folder, 'FullOHSU_time.txt'), os.path.join(Results_folder, 'ParaOHSU_time.txt'), os.path.join(Results_folder, 'AbstractOHSU_time.txt'),\n",
    "    'total_fusion_OHSU', max_docs = 1000\n",
    ")"
   ]
  },
  {
   "cell_type": "code",
   "execution_count": 104,
   "metadata": {},
   "outputs": [
    {
     "name": "stdout",
     "output_type": "stream",
     "text": [
      "File C:\\Users\\Jimmy Chen\\Box\\COVID19\\CORD19\\TREC_COVID\\Round4_Runs_LessRM3\\orig_fusion_UDel.txt writen.\n",
      "File C:\\Users\\Jimmy Chen\\Box\\COVID19\\CORD19\\TREC_COVID\\Round4_Runs_LessRM3\\time_fusion_UDel.txt writen.\n",
      "File C:\\Users\\Jimmy Chen\\Box\\COVID19\\CORD19\\TREC_COVID\\Round4_Runs_LessRM3\\total_fusion_UDel.txt writen.\n"
     ]
    }
   ],
   "source": [
    "#UDel\n",
    "orig_fusion_UDel = fuse_runs(\n",
    "    os.path.join(Results_folder, 'FullUDel.txt'), os.path.join(Results_folder, 'ParaUDel.txt'), os.path.join(Results_folder, 'AbstractUDel.txt'),\n",
    "    'orig_fusion_UDel', max_docs = 1000\n",
    ")\n",
    "\n",
    "#UDel Time\n",
    "time_fusion_UDel = fuse_runs(\n",
    "    os.path.join(Results_folder, 'FullUDel_time.txt'), os.path.join(Results_folder, 'ParaUDel_time.txt'), os.path.join(Results_folder, 'AbstractUDel_time.txt'),\n",
    "    'time_fusion_UDel', max_docs = 1000                                                                                                              \n",
    ")\n",
    "                                                                \n",
    "#UDel All 6 fusion\n",
    "total_fusion_UDel = fuse_runs2(\n",
    "    os.path.join(Results_folder, 'FullUDel.txt'), os.path.join(Results_folder, 'ParaUDel.txt'), os.path.join(Results_folder, 'AbstractUDel.txt'),\n",
    "    os.path.join(Results_folder, 'FullUDel_time.txt'), os.path.join(Results_folder, 'ParaUDel_time.txt'), os.path.join(Results_folder, 'AbstractUDel_time.txt'),\n",
    "    'total_fusion_UDel', max_docs = 1000\n",
    ")"
   ]
  },
  {
   "cell_type": "code",
   "execution_count": 105,
   "metadata": {},
   "outputs": [],
   "source": [
    "#Load fused files\n",
    "orig_fusion_OHSU_csv = pd.read_csv(orig_fusion_OHSU, sep = ' ', header = None)\n",
    "time_fusion_OHSU_csv = pd.read_csv(time_fusion_OHSU, sep = ' ', header = None)\n",
    "total_fusion_OHSU_csv = pd.read_csv(total_fusion_OHSU, sep = ' ', header = None)\n",
    "orig_fusion_UDel_csv = pd.read_csv(orig_fusion_UDel, sep = ' ', header = None)\n",
    "time_fusion_UDel_csv = pd.read_csv(time_fusion_UDel, sep = ' ', header = None)\n",
    "total_fusion_UDel_csv = pd.read_csv(total_fusion_UDel, sep = ' ', header = None)\n",
    "\n",
    "#Re-name fusion runtags\n",
    "orig_fusion_OHSU_csv[5] = 'OHSU_R4_origfusion'\n",
    "time_fusion_OHSU_csv[5] = 'OHSU_R4_timefusion'\n",
    "total_fusion_OHSU_csv[5] = 'OHSU_R4_totalfusion'\n",
    "orig_fusion_UDel_csv[5] = 'OHSU_R4_origfusion_Udelgen'\n",
    "time_fusion_UDel_csv[5] = 'OHSU_R4_timefusion_Udelgen'\n",
    "total_fusion_UDel_csv[5] = 'OHSU_R4_totalfusion_Udelgen'\n",
    "\n",
    "#Save csvs again\n",
    "orig_fusion_OHSU_csv.to_csv(os.path.join(Results_folder, 'R4_orig_fusion.txt'), sep=' ', index=False, header=None)\n",
    "time_fusion_OHSU_csv.to_csv(os.path.join(Results_folder, 'R4_time_fusion.txt'), sep=' ', index=False, header=None)\n",
    "total_fusion_OHSU_csv.to_csv(os.path.join(Results_folder, 'R4_total_fusion.txt'), sep=' ', index=False, header=None)\n",
    "orig_fusion_UDel_csv.to_csv(os.path.join(Results_folder, 'R4_orig_fusion_Udelgen.txt'), sep=' ', index=False, header=None)\n",
    "time_fusion_UDel_csv.to_csv(os.path.join(Results_folder, 'R4_time_fusion_Udelgen.txt'), sep=' ', index=False, header=None)\n",
    "total_fusion_UDel_csv.to_csv(os.path.join(Results_folder, 'R4_total_fusion_Udelgen.txt'), sep=' ', index=False, header=None)"
   ]
  },
  {
   "cell_type": "code",
   "execution_count": 108,
   "metadata": {},
   "outputs": [],
   "source": [
    "#Add headers for reranking\n",
    "orig_fusion_OHSU_csv.columns = ['topic', 'Q0' , 'docid', 'rank', 'score', 'qid']\n",
    "time_fusion_OHSU_csv.columns = ['topic', 'Q0' , 'docid', 'rank', 'score', 'qid']\n",
    "total_fusion_OHSU_csv.columns = ['topic', 'Q0' , 'docid', 'rank', 'score', 'qid']\n",
    "orig_fusion_UDel_csv.columns = ['topic', 'Q0' , 'docid', 'rank', 'score', 'qid']\n",
    "time_fusion_UDel_csv.columns = ['topic', 'Q0' , 'docid', 'rank', 'score', 'qid']\n",
    "total_fusion_UDel_csv.columns = ['topic', 'Q0' , 'docid', 'rank', 'score', 'qid']\n",
    "\n",
    "orig_fusion_OHSU_csv.to_csv(os.path.join(Results_folder, 'R4_orig_fusion_header.txt'), sep=' ', index=False, header=True)\n",
    "time_fusion_OHSU_csv.to_csv(os.path.join(Results_folder, 'R4_time_fusion_header.txt'), sep=' ', index=False, header=True)\n",
    "total_fusion_OHSU_csv.to_csv(os.path.join(Results_folder, 'R4_total_fusion_header.txt'), sep=' ', index=False, header=True)\n",
    "orig_fusion_UDel_csv.to_csv(os.path.join(Results_folder, 'R4_orig_fusion_Udelgen_header.txt'), sep=' ', index=False, header=True)\n",
    "time_fusion_UDel_csv.to_csv(os.path.join(Results_folder, 'R4_time_fusion_Udelgen_header.txt'), sep=' ', index=False, header=True)\n",
    "total_fusion_UDel_csv.to_csv(os.path.join(Results_folder, 'R4_total_fusion_Udelgen_header.txt'), sep=' ', index=False, header=True)"
   ]
  },
  {
   "cell_type": "code",
   "execution_count": 95,
   "metadata": {},
   "outputs": [
    {
     "data": {
      "text/plain": [
       "'{\"paper_id\":\"0dc4c9c4851bb6fc41b70b449a9fc27dcec3f002\",\"metadata\":{\"title\":\"Transmission dynamics of the COVID-19 epidemic in India, and evaluating the impact of asymptomatic carriers and role of expanded testing in the lockdown exit strategy: a modelling approach Original Research Article\",\"authors\":[{\"first\":\"Mohak\",\"middle\":[],\"last\":\"Gupta\",\"suffix\":\"\",\"affiliation\":{},\"email\":\"xmohakgupta@gmail.com\"},{\"first\":\"Saptarshi\",\"middle\":[],\"last\":\"Soham\",\"suffix\":\"\",\"affiliation\":{},\"email\":\"\"},{\"first\":\"Mohanta\",\"middle\":[],\"last\":\"2#\",\"suffix\":\"\",\"affiliation\":{\"laboratory\":\"\",\"institution\":\"Indian Institute of Science Education and Research (IISER)\",\"location\":{\"settlement\":\"Pune\"}},\"email\":\"\"},{\"first\":\"Aditi\",\"middle\":[],\"last\":\"Rao\",\"suffix\":\"\",\"affiliation\":{},\"email\":\"\"},{\"first\":\"Giridara\",\"middle\":[],\"last\":\"Gopal Parameswaran\",\"suffix\":\"\",\"affiliation\":{},\"email\":\"\"},{\"first\":\"Mudit\",\"middle\":[],\"last\":\"Agarwal\",\"suffix\":\"\",\"affiliation\":{},\"email\":\"\"},{\"first\":\"Mehak\",\"middle\":[],\"last\":\"Arora\",\"suffix\":\"\",\"affiliation\":{},\"email\":\"\"},{\"first\":\"Archisman\",\"middle\":[],\"last\":\"Mazumder\",\"suffix\":\"\",\"affiliation\":{},\"email\":\"\"},{\"first\":\"Ayush\",\"middle\":[],\"last\":\"Lohiya\",\"suffix\":\"\",\"affiliation\":{\"laboratory\":\"\",\"institution\":\"Super Specialty Cancer Institute & Hospital\",\"location\":{\"settlement\":\"Lucknow\"}},\"email\":\"\"},{\"first\":\"Priyamadhaba\",\"middle\":[],\"last\":\"Behera\",\"suffix\":\"\",\"affiliation\":{},\"email\":\"\"},{\"first\":\"Agam\",\"middle\":[],\"last\":\"Bansal\",\"suffix\":\"\",\"affiliation\":{\"laboratory\":\"Scientist C, Centre for Community Medicine All\",\"institution\":\"Cleveland Clinic\",\"location\":{\"settlement\":\"New Delhi\",\"region\":\"Ohio\",\"country\":\"United States, India, India, India\"}},\"email\":\"\"},{\"first\":\"Rohit\",\"middle\":[],\"last\":\"Kumar\",\"suffix\":\"\",\"affiliation\":{},\"email\":\"\"},{\"first\":\"Ved\",\"middle\":[\"Prakash\"],\"last\":\"Meena\",\"suffix\":\"\",\"affiliation\":{},\"email\":\"\"},{\"first\":\"Pawan\",\"middle\":[],\"last\":\"Tiwari\",\"suffix\":\"\",\"affiliation\":{},\"email\":\"\"},{\"first\":\"Anant\",\"middle\":[],\"last\":\"Mohan\",\"suffix\":\"\",\"affiliation\":{},\"email\":\"\"},{\"first\":\"Sushma\",\"middle\":[],\"last\":\"Bhatnagar\",\"suffix\":\"\",\"affiliation\":{},\"email\":\"\"},{\"first\":\"Gopal\",\"middle\":[],\"last\":\"Giridara\",\"suffix\":\"\",\"affiliation\":{},\"email\":\"drgiridaragopal@gmail.com\"},{\"first\":\"\",\"middle\":[],\"last\":\"Parameswaran\",\"suffix\":\"\",\"affiliation\":{},\"email\":\"\"},{\"first\":\"\",\"middle\":[],\"last\":\"Scholar\",\"suffix\":\"\",\"affiliation\":{},\"email\":\"\"}]},\"abstract\":[{\"text\":\"The coronavirus disease 2019 (COVID19) has caused over 3 200 000 cases and 230 000 deaths as on 2 May 2020, and has quickly become an unprecedented global health threat. India with its unique challenges in fighting this pandemic, imposed one of the world\\'s strictest and largest populationwide lockdown on 25 March 2020. Here, we estimated key epidemiological parameters and evaluated the effect of control measures on the COVID19 epidemic in India and its states. Through a modeling approach which accounted for asymptomatics, we assessed the impact of lockdown relaxation and increased testing.\",\"cite_spans\":[],\"ref_spans\":[],\"section\":\"Abstract\"},{\"text\":\"We estimated the basic reproduction number and effective reproduction number at a national and state level in India after adjusting for imported cases and reporting lag, using timeseries data from 4 March to 25 April 2020. Using a dynamic SEIRQDPA model fitted to data from India, we forecasted the size and temporality of the ongoing first wave while accounting for the interventions in place. We used the model to simulate lockdown relaxation under various scenarios to evaluate its effect on the size and temporality of the second wave. We also evaluated the feasibility of increased testing as a containment strategy after restrictions are relaxed and its impact on epidemic size and resumption of socioeconomic activities, while taking into account the changes in transmission dynamics brought about by asymptomatic carriers.\",\"cite_spans\":[],\"ref_spans\":[],\"section\":\"Abstract\"},{\"text\":\"The median delay from symptom onset to detection (reporting lag) was estimated to be 2•68 days (95% CI 2•00-3•00) with an IQR of 2•03 days (95% CI 1•003•00). The R 0 for India was estimated to be 2•083 (95% CI 2•044-2•122; R 2 = 0•972), while the R t gradually down trended from 1•665 (95%CI 1•5391•789) on 30\",\"cite_spans\":[],\"ref_spans\":[],\"section\":\"Abstract\"},{\"text\":\"March to 1•159 (95% CI 1•1281•189) on 21 April. 60•7% of confirmed COVID19 cases in our sample were found to be asymptomatic. We observed that delaying the lockdown relaxation increases the time to new rise in active cases after the relaxation in a linear fashion. If lockdown was reintroduced after a fixed relaxation period, the magnitude of the second peak could be reduced by delaying the relaxation and decreasing the duration of relaxation. These benefits were greater in case of a gradual relaxation as compared to a sudden lifting of lockdown. We found that detecting a higher proportion of cases through testing significantly decreases the total infections in future. This positive impact of testing progressively increased at higher transmission rates when restrictions were relaxed. We found that similar containment targets could be achieved by both, a combination of high testing and less social restrictions, and a combination of lower testing with intensive social distancing.\",\"cite_spans\":[],\"ref_spans\":[],\"section\":\"Abstract\"},{\"text\":\"The nationwide social distancing interventions in India since 25 March have reduced the effective transmission levels, though subthreshold R t remains to be achieved. If lockdown is to be extended, additional benefits for mitigating the second wave can be achieved if it is extended farther after the peak of active cases has passed. Intensive social distancing is inherently enough to contain the epidemic, however testing will play a pivotal role in the lockdown exit strategy by impeding the epidemic growth enough to allow for greater resumption of socioeconomic activities, thus minimizing the social and economic fallout resulting from severe restrictions. Considering that asymptomatics play an undeniable role in transmission of COVID19, dependence on presence of symptoms for control strategies, behavioral changes and testing should be reduced.\",\"cite_spans\":[],\"ref_spans\":[],\"section\":\"Abstract\"}],\"body_text\":[{\"text\":\"No funding was received for this study.\",\"cite_spans\":[],\"ref_spans\":[],\"section\":\"Funding:\"},{\"text\":\"Evidence before this study A nationwide lockdown was imposed in India on 25 March 2020, about three weeks after the first locally transmitted case of novel coronavirus disease (COVID19) was detected. The lockdown effectively confined 1.3 billion people to their homes, wherein all nonessential activities including offices and schools were shut down, mass gatherings banned, interstate travel highly restricted, and all international borders sealed. We searched PubMed and preprint archives for articles published up to May 2, 2020, using the terms \\\\\"coronavirus\\\\\", \\\\\"2019 nCoV\\\\\", \\\\\"COVID19\\\\\", AND \\\\\"reproduction number\\\\\", \\\\\"transmission\\\\\", \\\\\"lockdown\\\\\", \\\\\"interventions\\\\\", AND \\\\\"India\\\\\". We found two studies that reported the timevarying reproduction number (R t ) of COVID19 based on timeseries data from India till earlyApril, but none accounted for imported cases and reporting lag in the estimation and none analysed the effect of interventions on the reproduction number. We could not identify any study which modelled the role of asymptomatic carriers and the impact of increased testing as a lockdown exit strategy.\",\"cite_spans\":[{\"start\":73,\"end\":75,\"text\":\"25\",\"ref_id\":\"BIBREF26\"}],\"ref_spans\":[],\"section\":\"Research in context\"},{\"text\":\"Our study provides reliable estimates of R 0 and R t for India and states after correcting for importations and delay to detection. The trend of R t upto 22 March indicates that control measures implemented across India have been effective in reducing the transmission of COVID19, though subthreshold Rt remains to be achieved. Through a modelling approach which accounts for asymptomatic transmission, we evaluated various lockdown exit strategies, including the effect of onset and duration of lockdown relaxation on the second wave, and the impact of increased testing on epidemic size and resumption of socioeconomic activities. We found that extending lockdown farther beyond the first peak has additional benefits in mitigating the second wave. Expanded testing significantly reduced transmission, and we found that this impact was greater at higher transmission rates which will be seen once restrictions are relaxed.\",\"cite_spans\":[{\"start\":154,\"end\":156,\"text\":\"22\",\"ref_id\":\"BIBREF23\"}],\"ref_spans\":[],\"section\":\"Added value of this study\"},{\"text\":\"To avoid a resurgence in cases, a flexible relaxation approach guided by regional monitoring of effective reproduction numbers is recommended, and this relaxation should be farther beyond the peak of the first wave as feasible. As restrictions are relaxed, increased detection through expanded testing will be essential in limiting the resurgence of cases and will allow greater resumption of socioeconomic activities, thus authorities should consider scaling up testing capacity preemptively before lifting restrictions. Considering that asymptomatics play an undeniable role in transmission of COVID19, dependence on presence of symptoms for control strategies, behavioral changes and testing should be reduced. Further research to determine the asymptomatic proportion and quantify their transmission potential is needed to better inform future control strategies.\",\"cite_spans\":[],\"ref_spans\":[],\"section\":\"Implications of all the available evidence\"},{\"text\":\"Originating out of Wuhan, China in December 2019, 1 the coronavirus disease 2019 (COVID19) was declared a pandemic by the WHO on March 11 2020. 2 As of 2 May 2020, there have been more than 3 200 000 cases and 230 000 deaths worldwide, and close to 40 000 cases and 1200 deaths in India. 3 India reported its first COVID 19 case on 30 January 2020, although actual epidemic growth started from early March. 4 For any novel infectious disease, the scale of its public health impact is determined by the basic reproduction number \\'R 0 \\' which is the average number of secondary infections generated by an infectious index case in a wholly susceptible population. The R 0 of an infection determines its potential to start an outbreak, the severity of control measures needed to contain the spread, and the fraction of the population that will be infected in the absence of interventions. 5 However, once an outbreak is underway, the timevarying effective reproduction number \\'R t \\' is more relevant as it tracks the subsequent changes in transmission, and can thus be used to monitor the efficacy of control measures and adjust them accordingly. [6] [7] [8] However, any given transmission event is reflected in the data only after a delay, which must be accounted for in the estimation of such indicators for accurate interpretation. 7 Previous studies have shown that a severe epidemic with R 0~2 •4 can be contained by combining effective quarantine, behavioral change to reduce social mixing, targeted antiviral prophylaxis, and prevaccination. 5 However, in the absence of targeted therapeutics and vaccination for COVID19, an unprecedented onethird of the world\\'s population is currently under lockdowns -with the primary target of reducing the R t below the threshold of 1. 6, 9 India responded to the COVID19 pandemic rapidly and decisively by imposing a nationwide lockdown on 25\",\"cite_spans\":[{\"start\":144,\"end\":145,\"text\":\"2\",\"ref_id\":null},{\"start\":288,\"end\":289,\"text\":\"3\",\"ref_id\":null},{\"start\":407,\"end\":408,\"text\":\"4\",\"ref_id\":null},{\"start\":885,\"end\":886,\"text\":\"5\",\"ref_id\":null},{\"start\":1143,\"end\":1146,\"text\":\"[6]\",\"ref_id\":null},{\"start\":1147,\"end\":1150,\"text\":\"[7]\",\"ref_id\":null},{\"start\":1151,\"end\":1154,\"text\":\"[8]\",\"ref_id\":null},{\"start\":1332,\"end\":1333,\"text\":\"7\",\"ref_id\":null},{\"start\":1546,\"end\":1547,\"text\":\"5\",\"ref_id\":null},{\"start\":1778,\"end\":1780,\"text\":\"6,\",\"ref_id\":null},{\"start\":1781,\"end\":1782,\"text\":\"9\",\"ref_id\":null}],\"ref_spans\":[],\"section\":\"Introduction\"},{\"text\":\"March 2020, when there were 536 cases and 10 deaths. 3, 10 This \\'suppression strategy\\', though effective, has its limitations the social and economic cost of such populationwide social distancing is huge, which limits the long term implementation of these measures. 9, 11 Additionally, containing COVID19 in India is a unique challenge due to its high population density, underprepared healthcare system, and wide socioeconomic disparity. 12 A large proportion of India\\'s labour force works as dailywage laborers or migrant workers, and are especially affected during such times, making lockdowns untenable without parallel social support. 13 There could be yet unseen adverse effects in the form of nonCOVID19 morbidity and mortality due to aggravation of malnutrition, chronic diseases and lack of access to healthcare during this time. 14 At the same time, premature withdrawal of lockdowns without adequately planned interventions for the postlockdown phase may lead to reemergence later, or the second wave. 6, 9 Thus there arises a need to create a balance to ensure that the disease is contained and the healthcare system remains well prepared while minimizing the collateral damage from intensive blanket interventions. Comprehensive lockdown exit strategies will be central to the future course of the pandemic. 10 In such scenarios with limited primary information, dynamic mathematical models can provide actionable insights for researchers and policymakers. 7, 9, 15 Evidence suggests that COVID19 has a wide clinical spectrum which ranges from asymptomatic to fatal infections, which coupled with high infectivity can lead to a large number of infections and deaths. 16 It may be possible that COVID19 transmission is driven significantly by undetected asymptomatics while fatality is driven by severe cases a devastating combination. 17, 18 Some have deemed asymptomatic transmission as the \\\\\"Achilles\\'\",\"cite_spans\":[{\"start\":53,\"end\":55,\"text\":\"3,\",\"ref_id\":null},{\"start\":56,\"end\":58,\"text\":\"10\",\"ref_id\":null},{\"start\":266,\"end\":268,\"text\":\"9,\",\"ref_id\":null},{\"start\":269,\"end\":271,\"text\":\"11\",\"ref_id\":null},{\"start\":439,\"end\":441,\"text\":\"12\",\"ref_id\":null},{\"start\":640,\"end\":642,\"text\":\"13\",\"ref_id\":null},{\"start\":839,\"end\":841,\"text\":\"14\",\"ref_id\":null},{\"start\":1013,\"end\":1015,\"text\":\"6,\",\"ref_id\":null},{\"start\":1016,\"end\":1017,\"text\":\"9\",\"ref_id\":null},{\"start\":1321,\"end\":1323,\"text\":\"10\",\"ref_id\":null},{\"start\":1470,\"end\":1472,\"text\":\"7,\",\"ref_id\":null},{\"start\":1473,\"end\":1475,\"text\":\"9,\",\"ref_id\":null},{\"start\":1476,\"end\":1478,\"text\":\"15\",\"ref_id\":null},{\"start\":1680,\"end\":1682,\"text\":\"16\",\"ref_id\":\"BIBREF15\"},{\"start\":1848,\"end\":1851,\"text\":\"17,\",\"ref_id\":\"BIBREF17\"},{\"start\":1852,\"end\":1854,\"text\":\"18\",\"ref_id\":\"BIBREF18\"}],\"ref_spans\":[],\"section\":\"Introduction\"},{\"text\":\"Heel\\\\\" of the current control strategies against COVID19. 19 In this study, we estimate the key transmission parameters for COVID19 in India and its states, and analyse how interventions affected transmission levels across time. Considering that blanket lockdowns are an initial rather than a final step in controlling this pandemic, we model the effect of relaxing public health interventions at various timepoints. We evaluate the efficacy of increased detection of asymptomatics through wider testing as a viable lockdown exit strategy, through a modelling approach.\",\"cite_spans\":[{\"start\":57,\"end\":59,\"text\":\"19\",\"ref_id\":\"BIBREF19\"}],\"ref_spans\":[],\"section\":\"Introduction\"},{\"text\":\"For estimating the Basic Reproduction Number (R 0 ) and Effective Reproduction Number (R t ) for India and various states, we used the publicly available dataset from COVID19India from 04 March to 25 April 2020. 4 For estimating the proportion of asymptomatic cases and the delay from symptom onset to confirmation, we obtained data for 140 COVID19 patients admitted to a tertiary care hospital near Delhi, which included duration from symptom onset to date of admission for symptomatic patients (appendix p5). We used data from Johns Hopkins University (JHU) COVID19 database on daily cumulative cases, daily cumulative deaths, and daily cumulative recoveries in India from 16 March to 18 April 2020 for model fitting and parameter estimation. 3 We used the World Bank\",\"cite_spans\":[{\"start\":212,\"end\":213,\"text\":\"4\",\"ref_id\":null},{\"start\":675,\"end\":677,\"text\":\"16\",\"ref_id\":\"BIBREF15\"},{\"start\":745,\"end\":746,\"text\":\"3\",\"ref_id\":null}],\"ref_spans\":[],\"section\":\"Data sources\"},{\"text\":\"Population Database for population data for India. 20 A laboratory confirmed case irrespective of symptoms is counted as a confirmed COVID19 case in India. Testing criteria are provided in appendix p9.\",\"cite_spans\":[{\"start\":51,\"end\":53,\"text\":\"20\",\"ref_id\":\"BIBREF20\"}],\"ref_spans\":[],\"section\":\"Data sources\"},{\"text\":\"The bestfit R 0 was calculated for the national and state level incidence data using the R 0 package in R 3•6•3 using two independent methods: Maximum Likelihood (ML) method and the Exponential Growth (EG) method after adjusting the incidence data for imported cases. [21] [22] [23] We assumed the serial interval to be gamma distributed with a mean of 3•96 days (95% CI 3•53-4•39) and a SD of 4•75 days (95% CI 4•46-5•07). 24 We analysed the sensitivity of the estimated R 0 to the choice of the time period over which the R0 was estimated and the serial interval (appendix p8).\",\"cite_spans\":[{\"start\":268,\"end\":272,\"text\":\"[21]\",\"ref_id\":\"BIBREF21\"},{\"start\":273,\"end\":277,\"text\":\"[22]\",\"ref_id\":\"BIBREF23\"},{\"start\":278,\"end\":282,\"text\":\"[23]\",\"ref_id\":\"BIBREF24\"},{\"start\":424,\"end\":426,\"text\":\"24\",\"ref_id\":\"BIBREF25\"}],\"ref_spans\":[],\"section\":\"Estimation of basic reproduction number (R0)\"},{\"text\":\"A variable delay occurs from symptom onset to COVID19 confirmation (henceforth referred to as the reporting lag) which is attributed to multiple factors including time taken to seek care (patient dependent) and time taken to detect and test the case (healthcaresystem dependent). Since all included patients were tested and confirmed positive within a day of admission, the time from symptom onset to admission obtained from data approximates the reporting lag of these cases. We fitted appropriate distributions to the data and the best fit distribution was chosen. Due to lack of data, we assume that the reporting lag for India and for each state is statistically the same as the estimated reporting lag for the 53 patients from Delhi whose onset date was known. For each reported case, onset dates were sampled to generate 1000 lagadjusted datasets for incidence by onset (appendix p56).\",\"cite_spans\":[],\"ref_spans\":[],\"section\":\"Estimation of reporting lag, lag adjusted incidence, and time-varying effective reproduction number (Rt)\"},{\"text\":\"Using the reporting lag adjusted incidence, the timevarying R t was calculated using EpiEstim package in R 3•6•3 which uses the Time Dependent Maximum Likelihood approach. 25, 26 The same serial interval distribution was used as for R 0 estimation. Cases in the dataset not explicitly labeled as \\'imported\\' were considered to be locally transmitted. We determined both the imported cases adjusted Rt and unadjusted Rt for India. The Rt trends were overlaid with major epidemic events in the country and mobility information from Google Community Mobility\",\"cite_spans\":[{\"start\":172,\"end\":175,\"text\":\"25,\",\"ref_id\":\"BIBREF26\"},{\"start\":176,\"end\":178,\"text\":\"26\",\"ref_id\":\"BIBREF27\"}],\"ref_spans\":[],\"section\":\"Estimation of reporting lag, lag adjusted incidence, and time-varying effective reproduction number (Rt)\"},{\"text\":\"Reports to analyse the correlation between social mobility and transmission rate, if any. 27 Modelling the pandemic using dynamical compartmental models In order to model the spread of SARSCoV2 in the population, we generalize the extensively used SEIR model for epidemics, 28 which can fit the early dynamics of the COVID19 pandemic well it but lacks important social and biological factors that play a critical role in determining the disease\\'s progression. For introducing the required complexities, we build a model as shown in Figure 1 . Model parameters are defined in Table 1 .\",\"cite_spans\":[{\"start\":90,\"end\":92,\"text\":\"27\",\"ref_id\":\"BIBREF28\"},{\"start\":274,\"end\":276,\"text\":\"28\",\"ref_id\":\"BIBREF29\"}],\"ref_spans\":[{\"start\":532,\"end\":540,\"text\":\"Figure 1\",\"ref_id\":null},{\"start\":575,\"end\":582,\"text\":\"Table 1\",\"ref_id\":\"TABREF0\"}],\"section\":\"Estimation of reporting lag, lag adjusted incidence, and time-varying effective reproduction number (Rt)\"},{\"text\":\"Compartments include S(susceptible), E(infected but not yet infectious), Ia(undetected asymptomatic; infectious), Is(undetected symptomatic; infectious), Qa(detected and quarantined asymptomatic), Qs(detected and quarantined symptomatic), Ru(undetected recovered asymptomatic), Ra(recovered detected asymptomatic), Rs(recovered detected symptomatic), D(dead), and P(protected; nonsusceptible). Compartments in red are fitted to data; Q=Qa+Qs to active cases, R=Ra+Rs to total recovered cases, and D to total deaths. Transition rates in red are inputs to the model, while others are estimated (Table   1) .\",\"cite_spans\":[],\"ref_spans\":[{\"start\":592,\"end\":603,\"text\":\"(Table   1)\",\"ref_id\":\"TABREF0\"}],\"section\":\"Figure 1: Schematic for SEIR-QDPA model\"},{\"text\":\". CC-BY-NC 4.0 International license It is made available under a is the author/funder, who has granted medRxiv a license to display the preprint in perpetuity. (which was not certified by peer review) Tested Sensitivity analysis to the choice of assumed parameters ai, fa, and pa was performed for the fitted parameters α, β, δs 1 , κ and λ in appendix p1618.\",\"cite_spans\":[],\"ref_spans\":[],\"section\":\"Figure 1: Schematic for SEIR-QDPA model\"},{\"text\":\"Confidence intervals for incubation period and asymptomatic infectious period have not been included since these parameters are fixed and not sampled.\",\"cite_spans\":[],\"ref_spans\":[],\"section\":\"Figure 1: Schematic for SEIR-QDPA model\"},{\"text\":\"Through a positive protection rate (α), the susceptible population gradually decreases to account for the effect of increasingly intensive social distancing policies and improved public behaviour in reaction to the epidemic. 36 We introduce a deprotection rate (σ) which increases the susceptible pool once social distancing policies are relaxed.\",\"cite_spans\":[{\"start\":225,\"end\":227,\"text\":\"36\",\"ref_id\":null}],\"ref_spans\":[],\"section\":\"Figure 1: Schematic for SEIR-QDPA model\"},{\"text\":\"We set the probability of infected case being asymptomatic (p a ) to 0•2, 0•4, 0•6, 0•8, as reported estimates for the percent of infections that are asymptomatic range widely from 18%80%. 17, 18, [32] [33] [34] We consider that asymptomatic cases do not exhibit coughing, sneezing or sputum production and are thus expected to show lower infectivity than symptomatics. We conservatively assume an asymptomatic patient is 50% as infective as a symptomatic patient (a i =0•5). We set the fraction of detected asymptomatics (f a ) at baseline to 0•1, 35 the incubation period (γ 1 ) to 5•1 days, 29 and the infectious period for asymptomatics (δ a 1 ) to 8 days based on virologic and epidemiologic studies. 30, 31 We assume that all symptomatics are detected, and that no asymptomatic dies from the disease.\",\"cite_spans\":[{\"start\":189,\"end\":192,\"text\":\"17,\",\"ref_id\":\"BIBREF17\"},{\"start\":193,\"end\":196,\"text\":\"18,\",\"ref_id\":\"BIBREF18\"},{\"start\":197,\"end\":201,\"text\":\"[32]\",\"ref_id\":null},{\"start\":202,\"end\":206,\"text\":\"[33]\",\"ref_id\":null},{\"start\":207,\"end\":211,\"text\":\"[34]\",\"ref_id\":null},{\"start\":594,\"end\":596,\"text\":\"29\",\"ref_id\":\"BIBREF30\"},{\"start\":706,\"end\":709,\"text\":\"30,\",\"ref_id\":null},{\"start\":710,\"end\":712,\"text\":\"31\",\"ref_id\":null}],\"ref_spans\":[],\"section\":\"Figure 1: Schematic for SEIR-QDPA model\"},{\"text\":\"Further details regarding the construction of the model, including the governing equations are available in appendix p34.\",\"cite_spans\":[],\"ref_spans\":[],\"section\":\"Figure 1: Schematic for SEIR-QDPA model\"},{\"text\":\". CC-BY-NC 4.0 International license It is made available under a is the author/funder, who has granted medRxiv a license to display the preprint in perpetuity. (which was not certified by peer review)\",\"cite_spans\":[],\"ref_spans\":[],\"section\":\"Figure 1: Schematic for SEIR-QDPA model\"},{\"text\":\"The copyright holder for this preprint this version posted May 18, 2020. . https://doi.org/10.1101/2020.05. 13.20096826 doi: medRxiv preprint We fitted for the values of transmission rate (β), protection rate (α), reporting lag (δ s 1 ), recovery rate (λ), mortality rate (κ), and the initial values of exposed (E 0 ) and infected (I 0 ) individuals in the population. We estimated the unknown parameters of the model by fitting time series data for active cases (given by cumulative confirmed casescumulative recoveriescumulative deaths), cumulative recoveries and cumulative deaths to the Q(t) = Q s (t) + Q a (t), R(t) = R s (t) + R a (t), and D(t) compartments respectively.\",\"cite_spans\":[{\"start\":108,\"end\":141,\"text\":\"13.20096826 doi: medRxiv preprint\",\"ref_id\":null}],\"ref_spans\":[],\"section\":\"Figure 1: Schematic for SEIR-QDPA model\"},{\"text\":\"We then simulate the model with the estimated parameters to predict the key time points and the number of expected cases in the ongoing first wave. We define and predict three key time points which are inherent to epidemic progression time at peak of daily new reported cases (t1), time at peak of active cases (t2), and time when recovered cases > active cases (t3). Note that these predictions do not take into account the change in transmission dynamics due to relaxation of lockdown. Sensitivity of our results to assumptions of p a , f a and a i was analysed.\",\"cite_spans\":[],\"ref_spans\":[],\"section\":\"Figure 1: Schematic for SEIR-QDPA model\"},{\"text\":\"In the article, we have used the following operational definitions obtained by combining values of various compartments: \\'Symptomatic cases\\' cumulative detected symptomatic cases; \\'Detected cases\\' cumulative detected cases including symptomatic and asymptomatic cases; \\'Total infections\\' cumulative infections including detected cases and undetected asymptomatic infections.\",\"cite_spans\":[],\"ref_spans\":[],\"section\":\"Figure 1: Schematic for SEIR-QDPA model\"},{\"text\":\"To model complete lifting of the nationwide lockdown, α is set to zero and σ is set to a large value such that the entire protected population is emptied into the susceptible population in a short interval (t ½~1 •0 day). We trigger this change on 4 May 2020 (tentative date of lockdown relaxation in India) and 7day intervals thereafter, to compare outcomes if lockdown is lifted at different dates. We also consider the scenario where the lockdown is reenforced after a fixed relaxation period which we model by setting σ to zero and reenforcing the same α as before lockdown relaxation. Alternatively, we model a comparatively gradual lockdown relaxation by setting σ=α.\",\"cite_spans\":[],\"ref_spans\":[],\"section\":\"Simulating the effect of lockdown relaxation\"},{\"text\":\"To model the effect of increased testing capacity and subsequent improved detection, we assume that it will increase the asymptomatic detection rate f a from 0•1 in lockdown, to 0•2, 0•3, 0•4, 0•5, 0•6, and 0•8 after lockdown relaxation starting May 4. To model the effect of varying levels of reduced social mixing and positive behavior change after the lockdown is lifted, we change the effective transmission rate to 90%, 80%, 70%, 60%, 50% and 30% of the original β, starting May 4. Varying levels of social mixing influences the contact rate, while behaviour changes like wearing masks and hand washing decrease transmissibility given a contact the transmission rate β captures both these changes. We hypothesise that increased testing after lockdown relaxation will decrease the epidemic growth enough to allow for greater resumption of normal social mixing, thus minimising the social and economic fallout resulting from vigorous restrictions, and that this effect will be proportional to the amount of testing done.\",\"cite_spans\":[],\"ref_spans\":[],\"section\":\"Simulating the effect of increased testing\"},{\"text\":\". CC-BY-NC 4.0 International license It is made available under a is the author/funder, who has granted medRxiv a license to display the preprint in perpetuity. (which was not certified by peer review)\",\"cite_spans\":[],\"ref_spans\":[],\"section\":\"Simulating the effect of increased testing\"},{\"text\":\"The copyright holder for this preprint this version posted May 18, 2020. .\",\"cite_spans\":[],\"ref_spans\":[],\"section\":\"Simulating the effect of increased testing\"},{\"text\":\"The funder of the study had no role in study design, data collection, data analysis, data interpretation, or writing of the article. The corresponding author had full access to all the data in the study and had final responsibility for the decision to submit for publication.\",\"cite_spans\":[],\"ref_spans\":[],\"section\":\"Role of the funding source\"},{\"text\":\"The exponential growth (EG) method had a better bestfit R 2 over a larger time period and was less sensitive to the choice of the time period (appendix p78). The best fit R 0 for India was found to be 2•083 (95% CI 2•044-2•122; R 2 = 0•972). Taking into consideration the uncertainty in reported serial intervals, the R 0 ranged from 2-2•5 for serial intervals ranging from 4-4•6 days. 24, [37] [38] [39] Results were found to be sensitive to the serial interval (SI) distribution, thus we provide R 0 estimates based on the most reliable serial interval from 468 infectorinfectee pairs in China, 24 and also consider a range of possible serial intervals based on other studies. Figure 2A ).\",\"cite_spans\":[{\"start\":386,\"end\":389,\"text\":\"24,\",\"ref_id\":\"BIBREF25\"},{\"start\":390,\"end\":394,\"text\":\"[37]\",\"ref_id\":null},{\"start\":395,\"end\":399,\"text\":\"[38]\",\"ref_id\":null},{\"start\":400,\"end\":404,\"text\":\"[39]\",\"ref_id\":null},{\"start\":597,\"end\":599,\"text\":\"24\",\"ref_id\":\"BIBREF25\"}],\"ref_spans\":[{\"start\":679,\"end\":688,\"text\":\"Figure 2A\",\"ref_id\":\"FIGREF0\"}],\"section\":\"Basic Reproduction Number \\'R0\\' for India\"},{\"text\":\"Incidence by onset and timevarying R t could be ascertained upto 22 April 2020 since some cases with onset after this date may not have been reported yet in the data, due to the reporting lag. The R t trends for India showed visible fluctuations over time ( Figure 2B ). The first uptick in unadjusted R t (blue band) starting around 13 March 2020 was presumed to be an artifact due to imported cases, since it coincided with increasing imported case onsets, and was not accompanied by a concurrent uptick in import adjusted R t (pink band is the author/funder, who has granted medRxiv a license to display the preprint in perpetuity. (which was not certified by peer review)\",\"cite_spans\":[],\"ref_spans\":[{\"start\":258,\"end\":267,\"text\":\"Figure 2B\",\"ref_id\":\"FIGREF0\"}],\"section\":\"Basic Reproduction Number \\'R0\\' for India\"},{\"text\":\"The copyright holder for this preprint this version posted May 18, 2020. . https://doi.org/10.1101/2020.05. 13.20096826 doi: medRxiv preprint on 25 March, except for a rise in residential neighbourhood mobility ( Figure 2C ). The daily R t values for India, and R t trends for states of India are provided in appendix p1114. CC-BY-NC 4.0 International license It is made available under a is the author/funder, who has granted medRxiv a license to display the preprint in perpetuity. (which was not certified by peer review)\",\"cite_spans\":[{\"start\":108,\"end\":119,\"text\":\"13.20096826\",\"ref_id\":null}],\"ref_spans\":[{\"start\":213,\"end\":222,\"text\":\"Figure 2C\",\"ref_id\":\"FIGREF0\"}],\"section\":\"Basic Reproduction Number \\'R0\\' for India\"},{\"text\":\"The copyright holder for this preprint this version posted May 18, 2020. . https://doi.org/10.1101/2020.05.13.20096826 doi: medRxiv preprint 22 April 2020 in India stratified as imported (red) and local (light blue), along with the instantaneous effective reproduction number Rt adjusted for importations (pink) and without adjusting for importations (blue). Dark bands indicate 50% confidence interval and light bands indicate 95% confidence interval for estimated Rt. Similar graphs for states of India are provided in appendix.\",\"cite_spans\":[],\"ref_spans\":[],\"section\":\"Basic Reproduction Number \\'R0\\' for India\"},{\"text\":\"[C] Mobility trends in India, compared to a baseline median value for the corresponding day of the week, during the 5week period Jan 3-Feb 6, 2020. Holiday due to the Holi festival on 10 March 2020 caused a dip in mobility.\",\"cite_spans\":[],\"ref_spans\":[],\"section\":\"Basic Reproduction Number \\'R0\\' for India\"},{\"text\":\"A sharp dip in mobility is noted at the voluntary public curfew on 22 March and after the nationwide lockdown was enforced on 25 March, except for a rise in residential neighbourhood mobility. The weekly rise in workplace mobility appears to be an artifact due to comparison with normal weekends at the baseline. Source Google community mobility reports. 27 Major interventions are shown, the effects of which are best correlated with Rt trend and mobility changes, since these changes occur in realtime. Rt= timevarying effective reproduction number Estimated model parameters from data The model was able to fit the data well for the early exponential phase of the growth and also captured the recent slowdown in epidemic growth through the protection rate. Table 2 shows the bestfit parameter estimates for the base assumptions of p a =0•6 (chosen based upon the asymptomatic proportion estimated from primary patient data), a i = 0•5, and f a = 0•1. The reporting lag estimated from model fit was 2•12 days (95% CI 2•07-2•20), which was in agreement with the reporting lag of 2•68 days (95% CI 2•00-3•00) estimated from primary patient data.\",\"cite_spans\":[{\"start\":355,\"end\":357,\"text\":\"27\",\"ref_id\":\"BIBREF28\"}],\"ref_spans\":[{\"start\":760,\"end\":767,\"text\":\"Table 2\",\"ref_id\":\"TABREF3\"}],\"section\":\"Basic Reproduction Number \\'R0\\' for India\"},{\"text\":\"The sensitivity of the fit parameters to our assumptions was evaluated (appendix p1518). Initial Symptomatic Infected (I0) 40 Estimates are for base assumptions (ai= 0•5, pa= 0•6, fa= 0•1).\",\"cite_spans\":[],\"ref_spans\":[],\"section\":\"Basic Reproduction Number \\'R0\\' for India\"},{\"text\":\". CC-BY-NC 4.0 International license It is made available under a is the author/funder, who has granted medRxiv a license to display the preprint in perpetuity. (which was not certified by peer review)\",\"cite_spans\":[],\"ref_spans\":[],\"section\":\"Basic Reproduction Number \\'R0\\' for India\"},{\"text\":\"The copyright holder for this preprint this version posted May 18, 2020. . After comparing with recent data, we note that the model underpredicted the first wave because it did not consider a parallel leakage of protected compartment back into the susceptible compartment, which tends to happen in reality as lockdowns are not absolute. This also leads to a higher estimated transmission rate (to account for transmission otherwise caused by leakage of protected people), and thus our modeling results for lockdown relaxation and impact of testing should be considered as worstcase scenarios. . CC-BY-NC 4.0 International license It is made available under a is the author/funder, who has granted medRxiv a license to display the preprint in perpetuity.\",\"cite_spans\":[{\"start\":59,\"end\":74,\"text\":\"May 18, 2020. .\",\"ref_id\":null}],\"ref_spans\":[],\"section\":\"Basic Reproduction Number \\'R0\\' for India\"},{\"text\":\"The copyright holder for this preprint this version posted May 18, 2020. .\",\"cite_spans\":[],\"ref_spans\":[],\"section\":\"(which was not certified by peer review)\"},{\"text\":\"On a complete removal of the lockdown irrespective of the date of relaxation, we observed that the number of active cases will start to rise exponentially after a variable delay ( Figure 4A ). We varied the time when the lockdown relaxation was initiated from 4th May to 13th July at one week intervals and quantified the delay (from the relaxation date) after which the number of active cases started rising again. We observed that delaying the lockdown relaxation increases the time to new rise in a linear fashion, with Pearson\\'s R = 0•997 (95% CI 0•989-0•999; p<0•0001) ( Figure 4B ).\",\"cite_spans\":[],\"ref_spans\":[{\"start\":180,\"end\":189,\"text\":\"Figure 4A\",\"ref_id\":\"FIGREF3\"},{\"start\":576,\"end\":585,\"text\":\"Figure 4B\",\"ref_id\":\"FIGREF3\"}],\"section\":\"Impact of Lockdown relaxation and its temporality\"},{\"text\":\"When we simulated limited time duration relaxation periods, we found that there is a rise in active cases observed in all simulations but the extent of the rise is highly dependent on when the relaxation was started and the duration of the relaxation period ( Figure 4C and 4D). Both delays in the lockdown relaxation and smaller relaxation periods reduced the number of active cases at the peak, suggesting that small relaxation periods enacted once the peak has been crossed may help reduce the number of active cases at any future point in time. is the author/funder, who has granted medRxiv a license to display the preprint in perpetuity.\",\"cite_spans\":[],\"ref_spans\":[{\"start\":260,\"end\":269,\"text\":\"Figure 4C\",\"ref_id\":\"FIGREF3\"}],\"section\":\"Impact of Lockdown relaxation and its temporality\"},{\"text\":\"The copyright holder for this preprint this version posted May 18, 2020. . https://doi.org/10.1101/2020.05. 13.20096826 doi: medRxiv preprint the mean lag for 1000 bootstrapped simulations, and bands represent 95% confidence intervals. In the case of a gradual lockdown release, we found that there was both a delay to new rise in active cases and the reduction in the second peak was more pronounced (appendix p2627). The results shown in Figure 4 consider that the peak of active cases is expected to be on 4 May 2020. Since our model underpredicted the first wave, the actual peak of active cases may occur later than 4 May. The findings remain unaffected in essence, though these results will be better interpreted in the context of the actual peak.\",\"cite_spans\":[{\"start\":108,\"end\":119,\"text\":\"13.20096826\",\"ref_id\":null}],\"ref_spans\":[{\"start\":440,\"end\":448,\"text\":\"Figure 4\",\"ref_id\":\"FIGREF3\"}],\"section\":\"(which was not certified by peer review)\"},{\"text\":\"We observed that both increased testing and increasingly vigorous social distancing have a positive impact on reducing the number of total infections and symptomatic cases. With increased testing, the fraction of total infections that were detected increased, ie, the ascertainment rate improved ( Figure 5A and 5B). Although the number of detected cases may remain almost constant in some scenarios of increased testing, a lower proportion of the same are symptomatic, which highlights the significance of detecting more asymptomatic infections.\",\"cite_spans\":[],\"ref_spans\":[{\"start\":298,\"end\":307,\"text\":\"Figure 5A\",\"ref_id\":\"FIGREF5\"}],\"section\":\"Effect of improved testing on epidemic control and restoration of normal social mixing\"},{\"text\":\"We further found that the positive impact of increased testing becomes more prominent at progressively higher values of transmission rate β ( Figure 5C ). In the baseline scenario with detection increased from 10% to 20% for 15 days-for every extra asymptomatic detected by increased testing, the number of infections prevented are 8•3 at β, 6•4 at 0•8β and 3•5 at 0•5β, while the number of symptomatic cases prevented are 1 at β, 0•9 at 0•8β, 0•6 at 0•5β. This benefit increases further with higher increases in testing. For an increase in detection from 10% to 20%, the symptomatic cases decreased by 6•6% at β, by 5•5% at 0•8β, and by 3% at 0•5β. For an increase in testing from 10% to 50%, the symptomatic cases decreased by 32•3% at β, by 26•8% at 0•8β, and by 14•5% at 0•5β.\",\"cite_spans\":[],\"ref_spans\":[{\"start\":142,\"end\":151,\"text\":\"Figure 5C\",\"ref_id\":\"FIGREF5\"}],\"section\":\"Effect of improved testing on epidemic control and restoration of normal social mixing\"},{\"text\":\"After lockdown relaxation, lower levels of social restrictions (high β) when coupled with increased testing, can achieve similar results as a more restrictive social distancing regime where testing was not increased ( Figure 5D ).\",\"cite_spans\":[],\"ref_spans\":[{\"start\":218,\"end\":227,\"text\":\"Figure 5D\",\"ref_id\":\"FIGREF5\"}],\"section\":\"Effect of improved testing on epidemic control and restoration of normal social mixing\"},{\"text\":\"That is, increased testing allowed greater resumption of normal social mixing after lockdown relaxation. An example of a feasible combination of testing and social restrictions is indicated by the area between two watershed lines (grey) in Figure 5D . Due to uncertainty in the percent of infections that are asymptomatic, we evaluated the effect of testing across the range of p a (appendix p2225).\",\"cite_spans\":[],\"ref_spans\":[{\"start\":240,\"end\":249,\"text\":\"Figure 5D\",\"ref_id\":\"FIGREF5\"}],\"section\":\"Effect of improved testing on epidemic control and restoration of normal social mixing\"},{\"text\":\". CC-BY-NC 4.0 International license It is made available under a is the author/funder, who has granted medRxiv a license to display the preprint in perpetuity.\",\"cite_spans\":[],\"ref_spans\":[],\"section\":\"Effect of improved testing on epidemic control and restoration of normal social mixing\"},{\"text\":\"The copyright holder for this preprint this version posted May 18, 2020. . for a containment target of 50,000100,000 cases. Similar heatmap for total infections is given in appendix p24.\",\"cite_spans\":[],\"ref_spans\":[],\"section\":\"(which was not certified by peer review)\"},{\"text\":\"The trend of effective reproduction number (R t ) of COVID19 in India indicates that control measures have been effective in slowing down the spread of COVID19 across the country. To achieve sustained suppression, monitoring of the time varying R t at district, state and national level should be done to reach and maintain an R t close to the threshold value of 1. If lockdown is to be extended, additional benefits can be achieved if it is extended farther after the peak of active cases has passed. As these restrictions are relaxed, increased detection through testing will be essential in limiting the resurgence of cases and thus testing capacity should be ramped up . CC-BY-NC 4.0 International license It is made available under a is the author/funder, who has granted medRxiv a license to display the preprint in perpetuity.\",\"cite_spans\":[],\"ref_spans\":[],\"section\":\"Discussion\"},{\"text\":\"The copyright holder for this preprint this version posted May 18, 2020. . preemptively before lifting restrictions. Considering that asymptomatics play an undeniable role in transmission of COVID19, dependence on presence of symptoms for control strategies, behavioral changes and testing should be reduced.\",\"cite_spans\":[{\"start\":59,\"end\":74,\"text\":\"May 18, 2020. .\",\"ref_id\":null}],\"ref_spans\":[],\"section\":\"(which was not certified by peer review)\"},{\"text\":\"The range of R 0 of SARSCoV2 in India was found to be 2-2•5, with 2•083 being the best fit. Our results align with recent studies which estimate the R 0 to be 2-2•7. 42-44 In comparison, the R 0 was 1•4-1•6 for the 2009 influenza (H1N1) pandemic, 2•0-3•3 for the 2003 SARS epidemic, and 2•0-3•0 for the 1918 Spanish flu pandemic, which reflects the seriousness of the current pandemic. [45] [46] [47] The proportion of population that must become immune in order to halt the epidemic is given by 1 -1/R 0 , the herd immunity threshold. 48 For COVID19, our estimates imply that approximately 50-60% of the population must be infected or vaccinated in order to attain longterm epidemic control. In reality, this threshold is usually higher due to nonhomogenous mixing in populations. 48 In early stages of the epidemic in India, we found that restrictions on international travel were effective in limiting the number of imported cases in India, although this is of limited importance once local chains of transmission had been established. 49 Since testing of travelers was based on appearance of symptoms, 41 asymptomatic imported infections that remained undetected may have played some role in the early spread of COVID19.\",\"cite_spans\":[{\"start\":386,\"end\":390,\"text\":\"[45]\",\"ref_id\":null},{\"start\":391,\"end\":395,\"text\":\"[46]\",\"ref_id\":null},{\"start\":396,\"end\":400,\"text\":\"[47]\",\"ref_id\":null},{\"start\":536,\"end\":538,\"text\":\"48\",\"ref_id\":null},{\"start\":782,\"end\":784,\"text\":\"48\",\"ref_id\":null},{\"start\":1039,\"end\":1041,\"text\":\"49\",\"ref_id\":null}],\"ref_spans\":[],\"section\":\"(which was not certified by peer review)\"},{\"text\":\"A \\'suppression\\' strategy (eg: lockdown) aims to arrest epidemic growth by reducing R t below 1. 6, 9 After the nationwide lockdown was imposed on 25 March 2020, the mobility levels quickly dropped to low levels, but the R t continued to increase till 30 March ( Figure 2 ) probably due to inflation of estimated transmission by the is of particular interest and it remains to be seen, as to whether the R t can reach subthreshold levels (below 1) before the lockdown is relaxed.\",\"cite_spans\":[{\"start\":96,\"end\":98,\"text\":\"6,\",\"ref_id\":null},{\"start\":99,\"end\":100,\"text\":\"9\",\"ref_id\":null}],\"ref_spans\":[{\"start\":262,\"end\":270,\"text\":\"Figure 2\",\"ref_id\":\"FIGREF0\"}],\"section\":\"(which was not certified by peer review)\"},{\"text\":\"India is under one of the strictest lockdowns in the world for more than five weeks now, 52 and a comprehensive lockdown exit strategy will be needed to consolidate and build upon the gains achieved this far. A sudden and complete lifting of the ongoing nationwide lockdown is not a feasible option since it will lead to a rapid exponential increase in cases due to absence of herd immunity. A lockdown of adequate length and efficacy eventually causes . CC-BY-NC 4.0 International license It is made available under a is the author/funder, who has granted medRxiv a license to display the preprint in perpetuity.\",\"cite_spans\":[],\"ref_spans\":[],\"section\":\"(which was not certified by peer review)\"},{\"text\":\"The copyright holder for this preprint this version posted May 18, 2020. . https://doi.org/10.1101/2020.05. 13.20096826 doi: medRxiv preprint the active cases to peak and then gradually decrease. Once the peak of active cases is reached, extending lockdown farther beyond the peak may have additional benefits due to progressive exhaustion of the infectious pool in the population, which is practically comparable to a lower prerelaxation prevalence of COVID19. This has 2 effects-first, the rebound epidemic growth is initially slower which delays the resurgent rise in cases after relaxation of lockdown. This seems to imply that though extending lockdown inherently buys time for preparation, it also adds progressively longer preparation time after the lockdown is relaxed. Second, we find that if lockdown is to be reimposed after a fixed relaxation period, the magnitude of the second peak can be reduced by relaxing the lockdown farther from the first peak. This is of particular interest if an intermittent lockdown strategy is implemented in the future, where measures need to be imposed and relaxed repeatedly. The time gained should be used to strengthen surveillance systems, rampup testing capacity and increase healthsystem preparedness.\",\"cite_spans\":[{\"start\":108,\"end\":119,\"text\":\"13.20096826\",\"ref_id\":null}],\"ref_spans\":[],\"section\":\"(which was not certified by peer review)\"},{\"text\":\"It is optimal to prevent a second wave from occurring at all, by finetuning lockdown relaxation based on serial monitoring of R t to keep its value under 1. 6, 8 In this scenario, a later relaxation will allow stabilisation of disease prevalence at a lower value, which can provide a buffer for response if and when a resurgent rise in cases is seen (maintaining R t =1 implies that the prevalence will remain constant at the prerelaxation level). These observations may increase the benefit of lockdowns above what is widely known, and can better inform the delicate balance of cost and benefits of such intensive policies.\",\"cite_spans\":[{\"start\":157,\"end\":159,\"text\":\"6,\",\"ref_id\":null},{\"start\":160,\"end\":161,\"text\":\"8\",\"ref_id\":null}],\"ref_spans\":[],\"section\":\"(which was not certified by peer review)\"},{\"text\":\"Massive scaling up of testing has been proposed as a lockdown exit strategy. 17, 53 In this study, we present quantitative evidence based on modelling for the same. Extremely low transmission rates during intensive restrictions are inherently enough to contain the epidemic. However, as transmission rates increase with progressive restoration of normal socioeconomic activities post lockdown relaxation, testing assumes an increasingly substantial role in containment. The extent of relaxation that will be possible without causing an untenable rebound in infections, will highly depend on the amount of testing that is done, especially after lockdown relaxation. While having both intensive social distancing policies and very expansive testing may be nonviable, combining the effects of both to a feasible extent can effectively keep the epidemic under control. Our findings align with results seen in countries with an aggressive testing approach, like South Korea and Taiwan where severe restrictions have been avoided. 54 Even if the amount of testing being done during lockdown is deemed to be sufficient, a rapid and massive scaling up of testing capacity is needed preferably before relaxing restrictions.\",\"cite_spans\":[{\"start\":77,\"end\":80,\"text\":\"17,\",\"ref_id\":\"BIBREF17\"},{\"start\":81,\"end\":83,\"text\":\"53\",\"ref_id\":\"BIBREF42\"},{\"start\":1025,\"end\":1027,\"text\":\"54\",\"ref_id\":\"BIBREF44\"}],\"ref_spans\":[],\"section\":\"(which was not certified by peer review)\"},{\"text\":\"The monetary cost of expanding testing even at a large scale, is expected to be smaller than the cost of implementing intensive social distancing for long periods. 11 In addition to supporting the economy, this approach can ameliorate the humongous social and humanitarian implications of imposing populationwide lockdowns, especially in a country such as India. 12, 13 Blanket testing of HCWs can be a judicious use of the expanded capacity, considering they are highly exposed personnel, and risk spreading the infection to patients, coworkers and family members if infected. This will limit . CC-BY-NC 4.0 International license It is made available under a is the author/funder, who has granted medRxiv a license to display the preprint in perpetuity.\",\"cite_spans\":[{\"start\":164,\"end\":166,\"text\":\"11\",\"ref_id\":null},{\"start\":363,\"end\":366,\"text\":\"12,\",\"ref_id\":null},{\"start\":367,\"end\":369,\"text\":\"13\",\"ref_id\":null}],\"ref_spans\":[],\"section\":\"(which was not certified by peer review)\"},{\"text\":\"The copyright holder for this preprint this version posted May 18, 2020. . depletion of an already scarce workforce due to unnecessary quarantine, while also reducing spread from unrecognised asymptomatic infections in HCWs. 55 Other essential workforce like law enforcement personnel, grocery vendors, sanitation workers, etc with high contact rates should also be considered.\",\"cite_spans\":[{\"start\":59,\"end\":74,\"text\":\"May 18, 2020. .\",\"ref_id\":null},{\"start\":225,\"end\":227,\"text\":\"55\",\"ref_id\":null}],\"ref_spans\":[],\"section\":\"(which was not certified by peer review)\"},{\"text\":\"SARSCoV1 did not reach the scale of SARSCoV2 despite a comparable R 0 due to low community transmissibility and onset of infectivity well after symptom onset which allowed optimal efficacy of traditional control measures like symptomtriggered isolation and contact tracing. 19, 47 Presymptomatic transmission occurs before the onset of symptoms in an eventually symptomatic patient, while asymptomatic transmission occurs through patients who never become symptomatic. Presence of both these features in COVID19 is a significant deterrent for control strategies. 16, 19, 37, 56 In such a scenario and R 0~2 .5, modeling studies indicate that controlling COVID19 outbreaks through contact tracing and isolation alone is not possible. 15 However, contact tracing systems should be strengthened since they are a prerequisite for expanded testing of contacts, and they may achieve significant containment at lower R t .\",\"cite_spans\":[{\"start\":274,\"end\":277,\"text\":\"19,\",\"ref_id\":\"BIBREF19\"},{\"start\":278,\"end\":280,\"text\":\"47\",\"ref_id\":null},{\"start\":563,\"end\":566,\"text\":\"16,\",\"ref_id\":\"BIBREF15\"},{\"start\":567,\"end\":570,\"text\":\"19,\",\"ref_id\":\"BIBREF19\"},{\"start\":571,\"end\":574,\"text\":\"37,\",\"ref_id\":null},{\"start\":575,\"end\":577,\"text\":\"56\",\"ref_id\":null},{\"start\":733,\"end\":735,\"text\":\"15\",\"ref_id\":null}],\"ref_spans\":[],\"section\":\"(which was not certified by peer review)\"},{\"text\":\"Based on our findings, it is possible that detecting more asymptomatics through testing impedes transmission to an extent where the total number of infections and thus the number of symptomatic cases decreases ( Figure 5 ), relieving burden upon the healthcare system and reducing mortality. This finding will increasingly approximate reality if asymptomatics play a larger role in transmission. A case in point is a blanket testing study done in a small town of Italy which achieved almost complete outbreak control. 17 Although blanket testing is not practical for larger implementation, it further highlights the importance of detecting and isolating asymptomatics in controlling COVID19 outbreaks.\",\"cite_spans\":[{\"start\":518,\"end\":520,\"text\":\"17\",\"ref_id\":\"BIBREF17\"}],\"ref_spans\":[{\"start\":212,\"end\":220,\"text\":\"Figure 5\",\"ref_id\":\"FIGREF5\"}],\"section\":\"(which was not certified by peer review)\"},{\"text\":\"A symptombased monitoring approach during quarantine will miss asymptomatic infections, who will escape the quarantine net and go on to spread the disease. With emerging evidence of infectious asymptomatics, it is prudent to modify the public health response to address these concerns. Thus, all contacts should ideally be tested at the end of quarantine irrespective of symptoms. In settings where testing all contacts is not yet possible, extended quarantine periods upto 28 days may be considered, which have twofold benefits. First, almost all asymptomatics finish their infectious period before 28 days, and second, more symptomatics can be detected by day 28 (only 2 out of 10000 symptomatic cases are missed by day 28, compared to 101 cases by day 14). 29 Such extended quarantines are already in place in certain parts of India and China. 57,58 Currently, a 14 day quarantine is recommended based on studies of incubation period of COVID19, 29 ,42 but studying the incubation period inherently assumes an onset of symptoms. It is encouraging to note that the need for expanded testing can be supported by highthroughput machines and by pooling of samples. 41 Pooling can also be used for community surveillance, and has the potential to drastically increase detection capabilities while saving costs and resources and should be used wherever possible, while also enhancing research to boost pool size and testing accuracy. 59 . CC-BY-NC 4.0 International license It is made available under a is the author/funder, who has granted medRxiv a license to display the preprint in perpetuity.\",\"cite_spans\":[{\"start\":760,\"end\":762,\"text\":\"29\",\"ref_id\":\"BIBREF30\"},{\"start\":949,\"end\":951,\"text\":\"29\",\"ref_id\":\"BIBREF30\"}],\"ref_spans\":[],\"section\":\"(which was not certified by peer review)\"},{\"text\":\"The copyright holder for this preprint this version posted May 18, 2020. . https://doi.org/10.1101/2020.05. 13.20096826 doi: medRxiv preprint While contact tracing, isolation and testing are important, the role of behaviour change in reducing transmission must not be underestimated. Asymptomatic people are themselves less likely to take appropriate precautions, and people use less caution around other people who don\\'t have symptoms. Universal mask wearing in public spaces should be encouraged, and mandated by policy if required. 60 Since ensuring longterm compliance of citizens to health advisories and public restrictions will be another challenge, transparent and proactive communication by authorities along with continued social support for vulnerable groups will be essential.\",\"cite_spans\":[{\"start\":108,\"end\":141,\"text\":\"13.20096826 doi: medRxiv preprint\",\"ref_id\":null},{\"start\":535,\"end\":537,\"text\":\"60\",\"ref_id\":null}],\"ref_spans\":[],\"section\":\"(which was not certified by peer review)\"},{\"text\":\"There is looming uncertainty regarding the burden of asymptomatics and the role they play in transmission.\",\"cite_spans\":[],\"ref_spans\":[],\"section\":\"(which was not certified by peer review)\"},{\"text\":\"Estimates for asymptomatics range from 18% to 80% of total infections. 17, 18, [32] [33] [34] With India and China reporting asymptomatics in the higher ranges, it may be possible that young and developing countries have a high proportion of asymptomatic carriers. These estimates are crosssectional, and thus do not differentiate asymptomatics from presymptomatics. It is only retrospectively that the true burden of asymptomatics can be ascertained through serological studies, which will also help us to understand the true fatality rate of COVID19. 61\",\"cite_spans\":[{\"start\":71,\"end\":74,\"text\":\"17,\",\"ref_id\":\"BIBREF17\"},{\"start\":75,\"end\":78,\"text\":\"18,\",\"ref_id\":\"BIBREF18\"},{\"start\":79,\"end\":83,\"text\":\"[32]\",\"ref_id\":null},{\"start\":84,\"end\":88,\"text\":\"[33]\",\"ref_id\":null},{\"start\":89,\"end\":93,\"text\":\"[34]\",\"ref_id\":null}],\"ref_spans\":[],\"section\":\"(which was not certified by peer review)\"},{\"text\":\"Epidemiologic and virologic studies have established that asymptomatics are infectious, and have similar upper respiratory viral loads as symptomatic patients. 16, 17, 30, 31 This is in comparison to influenza, where asymptomatics have lower viral loads and thus are less infectious. 19 Studies to evaluate presymptomatic transmission of COVID 19 have shown that 25-50% of total transmission occurred before the index case showed symptoms, 31,56 although quantitative evidence of asymptomatic transmission is lacking and deserves further research. There is an urgent need to identify these gaps in the understanding of SARSCoV2 in order to grasp the true size and severity of this pandemic and plan future strategies accordingly.\",\"cite_spans\":[{\"start\":160,\"end\":163,\"text\":\"16,\",\"ref_id\":\"BIBREF15\"},{\"start\":164,\"end\":167,\"text\":\"17,\",\"ref_id\":\"BIBREF17\"},{\"start\":168,\"end\":171,\"text\":\"30,\",\"ref_id\":null},{\"start\":172,\"end\":174,\"text\":\"31\",\"ref_id\":null},{\"start\":284,\"end\":286,\"text\":\"19\",\"ref_id\":\"BIBREF19\"},{\"start\":344,\"end\":346,\"text\":\"19\",\"ref_id\":\"BIBREF19\"}],\"ref_spans\":[],\"section\":\"(which was not certified by peer review)\"},{\"text\":\"Blanket interventions have been effective to suppress the pandemic till now, but targeted interventions will be key as we move forward. Various interventions need to be stratified based on how effectively they suppress viral transmission and the amount of disruption they cause. Cost effectiveness analysis must be done, and bundles of interventions that together achieve high efficacy with least accompanying disruption should be deployed. Highly effective and disruptive interventions should be targeted to areas with active hotspots and high community transmission. It will be essential to build robust disease surveillance systems to assess the relative impact of each intervention in realtime and reduce the time delay to response. Expanded testing and strengthened contact tracing will enable this by reducing the reporting lag and rapidly detecting any surge in cases. Instead of adopting an intermittent lockdown policy, where lockdowns are treated as either \\'on\\' or \\'off\\', 9 some countries have adopted a staged alert system for responding to the COVID19 pandemic, 62 where a geographical area may move up and down alert levels, to reflect the level of suppression that the local outbreak situation demands. Similarly, India has recently stratified its districts into red, orange and green zones based on surveillance trends, in preparation for a . CC-BY-NC 4.0 International license It is made available under a is the author/funder, who has granted medRxiv a license to display the preprint in perpetuity.\",\"cite_spans\":[{\"start\":982,\"end\":983,\"text\":\"9\",\"ref_id\":null}],\"ref_spans\":[],\"section\":\"(which was not certified by peer review)\"},{\"text\":\"The copyright holder for this preprint this version posted May 18, 2020. . https://doi.org/10.1101/2020.05. 13.20096826 doi: medRxiv preprint staggered relaxation of lockdown. 63 Such social distancing policies which are dynamic with respect to geography and time are direly needed as we move into a time of relative uncertainty post lockdown relaxation.\",\"cite_spans\":[{\"start\":108,\"end\":119,\"text\":\"13.20096826\",\"ref_id\":null}],\"ref_spans\":[],\"section\":\"(which was not certified by peer review)\"},{\"text\":\"Several limitations of our study should be noted. First, we assumed the delay from symptom onset to confirmation to be similar to the delay from symptom onset to isolation due to lack of data, and that this delay is uniform across India. Though the latter approximates the former, further studies to ascertain the true reporting lag in India are needed since it is critical for identifying R t changes at correct points in time. 6 Second, our model does not factor in presymptomatic transmission, which along with a short estimated reporting lag may underestimate the transmission by symptomatic cases and thus inflate the effect of detecting asymptomatics. Third, since our primary goal was to evaluate the effect of identifying asymptomatics, we assumed that increased testing increases the detection of asymptomatics only, while in reality it would detect more cases across the clinical spectrum.\",\"cite_spans\":[{\"start\":429,\"end\":430,\"text\":\"6\",\"ref_id\":null}],\"ref_spans\":[],\"section\":\"(which was not certified by peer review)\"},{\"text\":\"However, the interpretations regarding impact of increased testing are not sensitive to this assumption, which has been discussed through an alternate interpretation of the model (appendix p4). Fourth, we assumed a constant death rate (κ), in contrast to reality where the death rate gradually decreases during an epidemic to ultimately converge at the nearactual death rate 61 . Thus, we refrained from forecasting deaths due to obvious bias in the prevailing death rate.\",\"cite_spans\":[],\"ref_spans\":[],\"section\":\"(which was not certified by peer review)\"},{\"text\":\"Notwithstanding the limitations, this study reports a reporting delay estimate from India for the first time, which can be used in future modeling studies. Here, we built a mathematical model which can account for the dynamics of lockdown imposition and relaxation, varying levels of case detection, lag to symptom onset and case reporting, while simultaneously allowing to test the range of asymptomatic burden and transmissibility. Since we have presented findings across the range of uncertainty regarding asymptomatics (appendix), our results are robust to emerging evidence. Though our model is fitted to data from India, we expect the insights into lockdown relaxation and testing impact to be generalisable.\",\"cite_spans\":[],\"ref_spans\":[],\"section\":\"(which was not certified by peer review)\"},{\"text\":\"In conclusion, though disruptive, the world\\'s largest lockdown in India has been effective in reducing the transmission levels of COVID19. To avoid a resurgence in cases, a dynamic relaxation approach guided by regional monitoring of effective reproduction numbers is recommended, and this relaxation should be farther from the peak of active cases as feasible. Asymptomatic infectives could be a considerable challenge to longterm containment efforts, and increased detection will play an increasingly pivotal role once restrictions start to be lifted. The amount of testing will dictate the extent of resumption of socioeconomic activities, and authorities should scaleup testing capacity as a priority. Further, control measures should be appropriate in the social context of the population, as this pandemic brings a humanitarian crisis in addition to a public health one, especially in vulnerable populations across the world.\",\"cite_spans\":[],\"ref_spans\":[],\"section\":\"(which was not certified by peer review)\"},{\"text\":\". CC-BY-NC 4.0 International license It is made available under a is the author/funder, who has granted medRxiv a license to display the preprint in perpetuity. \",\"cite_spans\":[],\"ref_spans\":[],\"section\":\"(which was not certified by peer review)\"},{\"text\":\"The code for the simulations and detailed results are available at the following GitHub repository: https://github.com/technosap/SEIR_QDPA-COVID_19. The primary data for calculation of reporting lag is available in the appendix. All other data is from publicly available datasets.\",\"cite_spans\":[],\"ref_spans\":[],\"section\":\"Data sharing and Code availability:\"},{\"text\":\"We declare no competing interests.\",\"cite_spans\":[],\"ref_spans\":[],\"section\":\"Declaration of interests\"},{\"text\":\"We thank all members of the India COVID19 Apex Research Team (iCART) for sharing their expertise. We thank our professors at the All India Institute of Medical Sciences (AIIMS), New Delhi for their mentorship. SSM received a KVPY fellowship and support from IISER Pune. We thank Dr Hemant Deepak Shewade from the International Union Against Tuberculosis and Lung Disease (The Union) for his valuable inputs. The views expressed in this publication are those of the authors and not necessarily those of their affiliated institutes. We express our gratitude to all personnel who are at the frontlines of this pandemic across the globe. . CC-BY-NC 4.0 International license It is made available under a is the author/funder, who has granted medRxiv a license to display the preprint in perpetuity.\",\"cite_spans\":[],\"ref_spans\":[],\"section\":\"Acknowledgements\"},{\"text\":\"The copyright holder for this preprint this version posted May 18, 2020. is the author/funder, who has granted medRxiv a license to display the preprint in perpetuity.\",\"cite_spans\":[],\"ref_spans\":[],\"section\":\"(which was not certified by peer review)\"},{\"text\":\"The copyright holder for this preprint this version posted May 18, 2020. . . CC-BY-NC 4.0 International license It is made available under a is the author/funder, who has granted medRxiv a license to display the preprint in perpetuity.\",\"cite_spans\":[],\"ref_spans\":[],\"section\":\"(which was not certified by peer review)\"},{\"text\":\"The copyright holder for this preprint this version posted May 18, 2020. Table S8 . Rt point estimates for national COVID-19 incidence data (without import adjustment) 5.5. Table S9 . Rt point estimates for national COVID-19 incidence data (import adjusted 5.6. Figure S2 : Incidence by onset and effective reproduction rates (Rt) up to 11 April 2020 for Indian states of Maharashtra, Gujarat, Kerala, Delhi, Rajasthan, and Madhya Pradesh.\",\"cite_spans\":[],\"ref_spans\":[{\"start\":73,\"end\":81,\"text\":\"Table S8\",\"ref_id\":null},{\"start\":173,\"end\":181,\"text\":\"Table S9\",\"ref_id\":null},{\"start\":262,\"end\":271,\"text\":\"Figure S2\",\"ref_id\":\"FIGREF0\"}],\"section\":\"(which was not certified by peer review)\"},{\"text\":\". CC-BY-NC 4.0 International license It is made available under a is the author/funder, who has granted medRxiv a license to display the preprint in perpetuity.\",\"cite_spans\":[],\"ref_spans\":[],\"section\":\"(which was not certified by peer review)\"},{\"text\":\"The copyright holder for this preprint this version posted May 18, 2020. . https://doi.org/10.1101/2020.05.13.20096826 doi: medRxiv preprint 5.7. Figure S3 . Rt for other Indian States up to 11 April 2020.\",\"cite_spans\":[],\"ref_spans\":[{\"start\":146,\"end\":155,\"text\":\"Figure S3\",\"ref_id\":\"FIGREF2\"}],\"section\":\"(which was not certified by peer review)\"},{\"text\":\"Model fitting and Fit Sensitivity Analysis 6.1. Fitting Methods, Initial Conditions and Uncertainty estimation 6.2. Figure S4 . Best Fit to Data for Base Assumptions (ai = 0·5, pa = 0·6, fa = 0·1). 6.3.\",\"cite_spans\":[],\"ref_spans\":[{\"start\":116,\"end\":125,\"text\":\"Figure S4\",\"ref_id\":\"FIGREF3\"}],\"section\":\"6.\"},{\"text\":\"Assumption of constant Recovery Rate and Mortality Rate 6.4.\",\"cite_spans\":[],\"ref_spans\":[],\"section\":\"6.\"},{\"text\":\"Sensitivity of estimated parameters to assumptions of ai, pa, and fa 6.5. Figure S5 . Sensitivity of fit parameters α, β, δs to assumptions of ai, pa, and fa. 6.6. Figure S6 . Sensitivity of fit parameters λ and κ to assumptions of ai, pa, and fa. 6.7. Figure S7 . Sensitivity of fit parameters δs to assumptions of ai, pa, and fa 7. Prediction Sensitivity 7.1. Figure S8 . Sensitivity of predictions to assumptions of ai, pa, and fa.\",\"cite_spans\":[],\"ref_spans\":[{\"start\":74,\"end\":83,\"text\":\"Figure S5\",\"ref_id\":\"FIGREF5\"},{\"start\":164,\"end\":173,\"text\":\"Figure S6\",\"ref_id\":null},{\"start\":253,\"end\":262,\"text\":\"Figure S7\",\"ref_id\":null},{\"start\":362,\"end\":371,\"text\":\"Figure S8\",\"ref_id\":null}],\"section\":\"6.\"},{\"text\":\"Calculation of R0 from the Model Parameters 8.1. Calculating R0 from SEIR-QDPA Model 8.2. Figure S9 . Estimation and Sensitivity of Model R0 to assumptions.\",\"cite_spans\":[],\"ref_spans\":[{\"start\":90,\"end\":99,\"text\":\"Figure S9\",\"ref_id\":null}],\"section\":\"8.\"},{\"text\":\"Sensitivity Analysis of the effect of testing rate and social distancing policies 9.1. Figure S10 . Sensitivity of effect of testing rate and social distancing policies on total symptomatic cases to probability of asymptomaticity at 15 days after lockdown relaxation. 9.2. Figure S11 . Sensitivity of effect of testing rate and social distancing policies on total symptomatic cases to probability of asymptomaticity at 45 days after lockdown relaxation. 9.3. Figure S12 . Sensitivity of the number of symptomatic cases to probability of asymptomaticity over a 75-day period after lockdown relaxation if the testing rate and social distancing policies are not changed after relaxation. 9.4. Figure S13 . Sensitivity of effect of testing rate and social distancing policies on total infections to probability of asymptomaticity at 15 days after lockdown relaxation. 9.5. Figure S14 . Sensitivity of effect of testing rate and social distancing policies on total infections to probability of asymptomaticity at 45 days after lockdown relaxation.\",\"cite_spans\":[],\"ref_spans\":[{\"start\":87,\"end\":97,\"text\":\"Figure S10\",\"ref_id\":null},{\"start\":273,\"end\":283,\"text\":\"Figure S11\",\"ref_id\":null},{\"start\":459,\"end\":469,\"text\":\"Figure S12\",\"ref_id\":\"FIGREF0\"},{\"start\":690,\"end\":700,\"text\":\"Figure S13\",\"ref_id\":\"FIGREF2\"},{\"start\":869,\"end\":879,\"text\":\"Figure S14\",\"ref_id\":\"FIGREF3\"}],\"section\":\"9.\"},{\"text\":\"Effect of Gradual Lockdown Relaxation 10.1. Simulating gradual lockdown relaxation 10.2. Figure S15 . Gradual complete lockdown relaxation at three different points of time. 10.3. Figure S16 . Lag before new rise in active case after Slow Lockdown Relaxation. 10.4. Figure S17 . Gradual lockdown relaxation for 14 days at two different points of time.\",\"cite_spans\":[],\"ref_spans\":[{\"start\":89,\"end\":99,\"text\":\"Figure S15\",\"ref_id\":\"FIGREF5\"},{\"start\":180,\"end\":190,\"text\":\"Figure S16\",\"ref_id\":null},{\"start\":266,\"end\":276,\"text\":\"Figure S17\",\"ref_id\":null}],\"section\":\"10.\"},{\"text\":\"Lockdown Relaxation and the Healthcare System Capacity 11.1. Estimating the Indian Healthcare System Capacity 11.2.\",\"cite_spans\":[],\"ref_spans\":[],\"section\":\"11.\"},{\"text\":\"Estimating the time taken to reach the Healthcare system capacity under lockdown relaxation scenarios. 11.3. Figure S18 . Time taken to reach the healthcare system capacity under lockdown relaxation scenarios.\",\"cite_spans\":[],\"ref_spans\":[{\"start\":109,\"end\":119,\"text\":\"Figure S18\",\"ref_id\":null}],\"section\":\"11.\"},{\"text\":\"Google COVID-19 Mobility Reports 12.1. Background Information on how Google\\'s mobility reports are generated . CC-BY-NC 4.0 International license It is made available under a is the author/funder, who has granted medRxiv a license to display the preprint in perpetuity.\",\"cite_spans\":[],\"ref_spans\":[],\"section\":\"12.\"},{\"text\":\"The copyright holder for this preprint this version posted May 18, 2020. . https://doi.org/10.1101/2020.05.13.20096826 doi: medRxiv preprint\",\"cite_spans\":[],\"ref_spans\":[],\"section\":\"(which was not certified by peer review)\"},{\"text\":\"In order to accurately describe the progression of the epidemic in the population, we generalize and redefine the 4 compartments of a SEIR model ie. [S(t), E(t), I(t), R(t)]. We redefine the I(t) compartment as the number of undetected infective people and split it into two compartments signifying the undetected symptomatic infectives Is(t) and undetected asymptomatic infectives Ia(t). Exposed patients go to either of the compartments at a fixed ratio of asymptomatics to symptomatics given by r = pa/(1-pa) where pa is the probability of being asymptomatic. We set the rates of transition from E(t) to Ia(t) and Is(t) as rγ and γ respectively. This results in the distribution of exposed cases into the two infective compartments such that for each symptomatic case, there are r asymptomatic cases, causing a fixed fraction (pa) of the cases being asymptomatic.\",\"cite_spans\":[],\"ref_spans\":[],\"section\":\"From SEIR to SEIR-QDPA Model\"},{\"text\":\"In our model, we further assume that a fixed fraction of asymptomatic infectious cases gets detected (fa) and go to the asymptomatic quarantine compartment Qa(t) with detection rate atδa where at = fa/(1-fa), and the rest go into an undetected recovery compartment Ru(t) with recovery rate for asymptomatics δa. The choice of rates leads to the distribution of asymptomatics into detected quarantined and undetected recovered in the ratio of at, i.e. a fixed fraction (fa) of asymptomatics are detected.\",\"cite_spans\":[],\"ref_spans\":[],\"section\":\"From SEIR to SEIR-QDPA Model\"},{\"text\":\"He et. al. determined that infectiousness declines significantly after a period of 7 days by studying the distributions of incubation period and serial interval. 1 Wölfel et al found that live virus could not be isolated after day 8 in spite of continuing high viral loads in young cases with mild symptoms. 2 Backed by both epidemiological and biological evidence, we set the time spent by an asymptomatic being infectious as 8 days. The δa then becomes ⅛ days -1 .\",\"cite_spans\":[{\"start\":162,\"end\":163,\"text\":\"1\",\"ref_id\":null}],\"ref_spans\":[],\"section\":\"From SEIR to SEIR-QDPA Model\"},{\"text\":\"We assume that all symptomatic cases get detected with an average reporting lag δs -1 after which they go to the symptomatic quarantine compartment Qs(t). We refer to the symptomatic and asymptomatic quarantine compartment together as the quarantine compartment Q(t). We assume that transition of a case from Ia(t) and Is(t) to Q(t) entails isolating, testing and reporting the case and that this isolation is 100% effective. From the symptomatic quarantine compartment, cases go to either the Rs(t) or D(t) denoting symptomatic recovered cases and fatal cases with recovery rate λ and mortality rate κ respectively. We assume that the recovery of asymptomatic cases in quarantine occurs at the same rate as symptomatics. Thus, from the asymptomatic quarantine compartment, cases go to Ra(t) denoting detected asymptomatic recovered cases with the recovery rate λ. We assume here that no asymptomatic case dies due to the infection. We refer to the symptomatic and detected asymptomatic recovered compartment together as the recovered compartment R(t).\",\"cite_spans\":[],\"ref_spans\":[],\"section\":\"From SEIR to SEIR-QDPA Model\"},{\"text\":\"Finally, we introduce an extension previously described by Peng et al where a new compartment P(t) is added to account for the combined effect of social-distancing by individuals and lockdown of infected regions within the country thus reducing the pool of susceptible individuals in the population at a protection rate α. 3 Further, to model the effect of the relaxation of such measures, we introduce a deprotection rate σ with which individuals can leave the P(t) compartment thus increasing the susceptible population S(t). The value of σ is set to zero till any preventive policies are withdrawn.\",\"cite_spans\":[{\"start\":323,\"end\":324,\"text\":\"3\",\"ref_id\":null}],\"ref_spans\":[],\"section\":\"Q(t) = Qa(t)+Qs(t) R(t) = Ra(t)+Rs(t)\"},{\"text\":\"The dynamics of the model are described by the following ordinary differential equations (ODEs):\",\"cite_spans\":[],\"ref_spans\":[],\"section\":\"Q(t) = Qa(t)+Qs(t) R(t) = Ra(t)+Rs(t)\"},{\"text\":\"where N is the total population of the country and is assumed to be constant. The compartments [S(t), E(t), Is(t), Ia(t), Qs(t), Qa(t), Rs(t), Ra(t), D(t), Ru(t), P(t)] denote the susceptible, exposed, undetected symptomatic, undetected asymptomatic, quarantined symptomatic, quarantined asymptomatic, recovered symptomatic, recovered asymptomatic, fatalities, undetected recovered, and protected individuals respectively at time t.\",\"cite_spans\":[],\"ref_spans\":[],\"section\":\"Q(t) = Qa(t)+Qs(t) R(t) = Ra(t)+Rs(t)\"},{\"text\":\". CC-BY-NC 4.0 International license It is made available under a is the author/funder, who has granted medRxiv a license to display the preprint in perpetuity.\",\"cite_spans\":[],\"ref_spans\":[],\"section\":\"Q(t) = Qa(t)+Qs(t) R(t) = Ra(t)+Rs(t)\"},{\"text\":\"The copyright holder for this preprint this version posted May 18, 2020. . https://doi.org/10.1101/2020.05.13.20096826 doi: medRxiv preprint\",\"cite_spans\":[],\"ref_spans\":[],\"section\":\"(which was not certified by peer review)\"},{\"text\":\"An increase in testing criteria and capacity would naturally have the largest impact on increasing the detection of infections with no or mild symptoms, considering that most infections with moderate-severe symptoms are more likely to be detected even at baseline testing. Since our primary goal in this study was to evaluate the effect of detecting more asymptomatics, we assumed that increased testing increases the detection of asymptomatics only, while in reality it would detect more cases across the clinical spectrum. However, the interpretations regarding impact of increased testing are not sensitive to this assumption, which has been discussed here through an alternate interpretation of the model.\",\"cite_spans\":[],\"ref_spans\":[],\"section\":\"An alternate interpretation of testing in our model\"},{\"text\":\"Our 11-compartment model allows some flexibility in terms of interpretation. If instead of interpreting the Is and Ia compartment as the Symptomatic and Asymptomatic infected individuals, we consider them as the Detectable and Undetectable infections (irrespective of symptoms), our model parameter pa now represents 1-ascertainment proportion (ascertainment proportion is the proportion of total infections that are considered detectable at baseline) and increasing the fa now becomes equivalent to improving the testing by reducing the bias towards detectable cases and improves detection of all cases irrespective of symptoms. Our model takes into account that undetected infected spend more time in an infective state in the population(δa -1 ) compared to the detected cases(δs -1 ), which reflects reality.\",\"cite_spans\":[],\"ref_spans\":[],\"section\":\"An alternate interpretation of testing in our model\"},{\"text\":\"Thus, this alternate view allows us to generalize our results with respect to how the testing policies affect the epidemic after lockdown relaxations. One limitation of this interpretation is that we assume asymptomatic cases (here, undetectable cases) have lower infectivity than symptomatics (here, detectable cases) in a homogenous social mixing environment. Although undetectable cases are more likely to be asymptomatic, this assumption does not necessarily hold true in this alternate interpretation. Still, this limitation would result in an underestimation of the impact of testing rather than an overestimation.\",\"cite_spans\":[],\"ref_spans\":[],\"section\":\"An alternate interpretation of testing in our model\"},{\"text\":\". CC-BY-NC 4.0 International license It is made available under a is the author/funder, who has granted medRxiv a license to display the preprint in perpetuity.\",\"cite_spans\":[],\"ref_spans\":[],\"section\":\"An alternate interpretation of testing in our model\"},{\"text\":\"The copyright holder for this preprint this version posted May 18, 2020. Delay from onset to admission was available for 53 out of 55 symptomatic patients.\",\"cite_spans\":[],\"ref_spans\":[],\"section\":\"(which was not certified by peer review)\"},{\"text\":\"Gamma and Exponential distributions were fit to the Reporting Lag data with Maximum Likelihood Estimation using the fitdistrplus package in R 3·6·3. 4 Due to the small sample size and lack of reliable prior information about the distribution of reporting lag, the maximum likelihood method was chosen. Since the data was found to have a heavy tail, we chose to fit gamma and exponential distributions. The goodness of fit was estimated using the Akaike information criterion (AIC) and Bayesian Information Criterion (BIC).\",\"cite_spans\":[{\"start\":149,\"end\":150,\"text\":\"4\",\"ref_id\":null}],\"ref_spans\":[],\"section\":\"Methodology for choosing the best fit distribution\"},{\"text\":\"The distribution with a better BIC was selected as the appropriate descriptor of the Reporting Lag distribution.\",\"cite_spans\":[],\"ref_spans\":[],\"section\":\"Methodology for choosing the best fit distribution\"},{\"text\":\". CC-BY-NC 4.0 International license It is made available under a is the author/funder, who has granted medRxiv a license to display the preprint in perpetuity.\",\"cite_spans\":[],\"ref_spans\":[],\"section\":\"Methodology for choosing the best fit distribution\"},{\"text\":\"The copyright holder for this preprint this version posted May 18, 2020. The distribution was found to have a heavy tail and was fit on a very small number of samples likely leading to high uncertainty observed in the fits.\",\"cite_spans\":[],\"ref_spans\":[],\"section\":\"(which was not certified by peer review)\"},{\"text\":\"Kolmogorov-Smirnov statistic 0·2314472 0·3884527\",\"cite_spans\":[],\"ref_spans\":[],\"section\":\"Goodness-of-fit statistics Gamma Distribution Exponential Distribution\"},{\"text\":\"Cramer-von Mises statistic 0·5809448 1·2872294\",\"cite_spans\":[],\"ref_spans\":[],\"section\":\"Goodness-of-fit statistics Gamma Distribution Exponential Distribution\"},{\"text\":\"Anderson-Darling statistic 3·1523223 6·5702843\",\"cite_spans\":[],\"ref_spans\":[],\"section\":\"Goodness-of-fit statistics Gamma Distribution Exponential Distribution\"},{\"text\":\"Akaike\\'s Information Criterion 208·8763 237·6025\",\"cite_spans\":[],\"ref_spans\":[],\"section\":\"Goodness-of-fit criteria Gamma Distribution Exponential Distribution\"},{\"text\":\"Bayesian Information Criterion 212·8169 239·5728 δ BIC > 10 and δ AIC > 10. The difference in fit is very strong suggesting the gamma distribution is a much better fit.\",\"cite_spans\":[],\"ref_spans\":[],\"section\":\"Goodness-of-fit criteria Gamma Distribution Exponential Distribution\"},{\"text\":\"From the estimated distribution of Reporting Lag, 1000 samples of the fitted distribution parameters (φi) were drawn taking into account the uncertainty in the distribution parameters ie. shape and scale for the gamma distribution and rate for the exponential distribution to serve as the posterior distribution of reporting lag. For each of the 1000 samples of fitted parameters, the reporting dates (ri) were transformed to give the symptom onset date (oi) by the formula: oi = ri -li where li ~ Gamma(φi) or Exp(φi) resulting in 1000 lag adjusted datasets. This process was applied to the reporting incidence data for the nation and the different states.\",\"cite_spans\":[],\"ref_spans\":[],\"section\":\"Sampling of Lag-adjusted Onset Dates\"},{\"text\":\". CC-BY-NC 4.0 International license It is made available under a is the author/funder, who has granted medRxiv a license to display the preprint in perpetuity.\",\"cite_spans\":[],\"ref_spans\":[],\"section\":\"Sampling of Lag-adjusted Onset Dates\"},{\"text\":\"The copyright holder for this preprint this version posted May 18, 2020. . https://doi.org/10.1101/2020.05.13.20096826 doi: medRxiv preprint 3. R0 Estimates with both EG and ML methods and R0 for states of India\",\"cite_spans\":[],\"ref_spans\":[],\"section\":\"(which was not certified by peer review)\"},{\"text\":\"For the estimation of R0, we use Maximum Likelihood (ML) method as described by White & Pagano and the Exponential Growth (EG) method as described by Wallinga & Lipsitch in R 3·6·3 using the R0 package. 5, 6 The best fit time period was chosen for calculation of confidence intervals for R0. As we had adjusted for imported cases, we reported the results of the method which gave a more reliable fit with a better R 2 score as the R0. We also analysed the sensitivity of R0 to the serial interval distribution chosen by keeping standard deviation fixed at 3 and varying the mean from 2 days to 7 days.\",\"cite_spans\":[{\"start\":203,\"end\":205,\"text\":\"5,\",\"ref_id\":null},{\"start\":206,\"end\":207,\"text\":\"6\",\"ref_id\":null}],\"ref_spans\":[],\"section\":\"Methodology for Estimating R0\"},{\"text\":\"Maximum Likelihood\",\"cite_spans\":[],\"ref_spans\":[],\"section\":\"Table S4. Fit Parameters for R0 estimation Exponential Growth\"},{\"text\":\"Best Fit Time-period 32 days 5 days\",\"cite_spans\":[],\"ref_spans\":[],\"section\":\"Goodness of fit (R 2 ) 0·972 0·914\"},{\"text\":\"The R0 could be estimated for the states of Kerala, Maharashtra, Delhi, Rajasthan, Tamil Nadu, Uttar Pradesh, Telangana, Andhra Pradesh, Karnataka, Jammu & Kashmir, Haryana and Punjab. The ML algorithm failed to converge for the states of Gujarat, West Bengal, Madhya Pradesh and Bihar. The fits for the states had a very low R 2 due to multiple factors such as a major impact of import of new cases from other states (significant for some states due to import of cases from the Delhi cluster) in the estimation of R0 and policies implemented by the government to curb the spread. When calculating the R0, we were unable to adjust for imported cases as state-wise imported case data was not available. Thus, we used Maximum Likelihood approach for estimating R0 for the states as it is more robust for unaccounted import of cases. . CC-BY-NC 4.0 International license It is made available under a is the author/funder, who has granted medRxiv a license to display the preprint in perpetuity.\",\"cite_spans\":[],\"ref_spans\":[],\"section\":\"R0 Estimation for States with more than 50 cases on 20/04/20\"},{\"text\":\"The copyright holder for this preprint this version posted May 18, 2020. . https://doi.org/10.1101/2020.05.13.20096826 doi: medRxiv preprint 3.5 Figure S1 . Sensitivity of India R0 estimates to Serial Interval and Time Period. (A,B) Sensitivity Analysis of R0 estimates with respect to the choice of the time period over which the R0 was calculated for EG and ML methods. (C,D) Goodness of Fit across a choice of time periods over which the R0 was calculated for EG and ML methods. Red represents the best fit. (E,F) Sensitivity Analysis of R0 estimates with respect to the distribution of Serial Intervals across which the R0 was calculated for EG and ML methods. All graphs were generated in R0 package with R 3·6·3.\",\"cite_spans\":[],\"ref_spans\":[{\"start\":145,\"end\":154,\"text\":\"Figure S1\",\"ref_id\":null}],\"section\":\"(which was not certified by peer review)\"},{\"text\":\". CC-BY-NC 4.0 International license It is made available under a is the author/funder, who has granted medRxiv a license to display the preprint in perpetuity.\",\"cite_spans\":[],\"ref_spans\":[],\"section\":\"(which was not certified by peer review)\"},{\"text\":\"The copyright holder for this preprint this version posted May 18, 2020. . https://doi.org/10.1101/2020.05. 13.20096826 doi: medRxiv preprint Testing policies are updated with time to reflect the pandemic situation. Newly added criteria are written in bold. MoHFW = Ministry of Health and Family Welfare, Government of India. *Symptomatic refers to fever/cough/shortness of breath. # Direct and high-risk contacts include those who live in the same household with a confirmed case and HCP who examined a confirmed case.\",\"cite_spans\":[{\"start\":108,\"end\":141,\"text\":\"13.20096826 doi: medRxiv preprint\",\"ref_id\":null}],\"ref_spans\":[],\"section\":\"(which was not certified by peer review)\"},{\"text\":\". CC-BY-NC 4.0 International license It is made available under a is the author/funder, who has granted medRxiv a license to display the preprint in perpetuity.\",\"cite_spans\":[],\"ref_spans\":[],\"section\":\"(which was not certified by peer review)\"},{\"text\":\"The copyright holder for this preprint this version posted May 18, 2020. . https://doi.org/10.1101/2020.05.13.20096826 doi: medRxiv preprint\",\"cite_spans\":[],\"ref_spans\":[],\"section\":\"(which was not certified by peer review)\"},{\"text\":\"When evaluating the Rt in EpiEstim package in R 3·6·3 with the method described by Wallinga and Teunis, we consider a gamma prior with mean 2·6 and SD 2, and 5-day sliding windows. 8 The serial interval distribution was assumed to follow a gamma distribution with mean 3·96 days (95% CI 3·53-4·39, SD = 0·215) and a standard deviation of 4·75 (95% CI 4·46-5·07, SD = 0·145) days based on a study done in Wuhan on 468 infector-infectee pairs. 9 Correction for the imported cases was done for the national incidence data after adjusting for reporting lag. The estimates of the effective reproduction number for each day were combined for the 1000 lag adjusted datasets by calculating pooled mean and pooled standard deviation and a net estimate for 50% and 95% confidence intervals were calculated. All simulations were done in Python 3·6 and plots were made in matplotlib 2·2·2. is the author/funder, who has granted medRxiv a license to display the preprint in perpetuity.\",\"cite_spans\":[{\"start\":181,\"end\":182,\"text\":\"8\",\"ref_id\":null},{\"start\":442,\"end\":443,\"text\":\"9\",\"ref_id\":null}],\"ref_spans\":[],\"section\":\"Additional Information about estimation of Rt\"},{\"text\":\"The copyright holder for this preprint this version posted May 18, 2020. . https://doi.org/10.1101/2020.05.13.20096826 doi: medRxiv preprint\",\"cite_spans\":[],\"ref_spans\":[],\"section\":\"(which was not certified by peer review)\"},{\"text\":\"The Rt was evaluated for states with more than 50 cases on 20th April 2020 other than Odisha due to a lack of active cases until very recently. The method to estimate was the same as the method used for the national data. Imported cases could not be adjusted due to lack of state-wise data of internationally imported cases and for interstate transport of COVID-19 cases. The estimates of the effective reproduction number for each day were combined for the 100 lag adjusted datasets by calculating pooled mean and pooled standard deviation and a net estimate for 50% and 95% confidence intervals were calculated. All bootstraps were done in Python 3·6 and plots were made in matplotlib 2·2·2.\",\"cite_spans\":[],\"ref_spans\":[],\"section\":\"Rt trends for States\"},{\"text\":\"We examined the Rt curves of the states of Maharashtra, Gujarat, Delhi, Rajasthan and Madhya Pradesh which together accounted for 66% of total cases in India as on 28 April 2020. Delhi, Maharashtra, Rajasthan and Madhya Pradesh showed the Nizammudin clusterrelated rise in Rt during late-March, with Delhi being the origin of the cluster showing the highest rise. Gujarat, in contrast, showed a rise later in early-April which was probably linked to increased local transmission in the state capital of Ahmedabad. We also included Kerala since it was the first state to reach Rt=1 in early April and has sustained low transmission levels since then. All states except Madhya Pradesh showed a continuing downtrend on the last examined date. The composite of these trends roughly depicts the trend of Rt of India. Kerala\\'s ability to maintain a low Rt may be attributed to its high literacy rate, active community participation and decentralisation of power-village councils taking the initiative to contain cases locally, use of drones for cluster containment, and social welfare initiatives which provided isolation rooms for people with cramped homes which didn\\'t allow social distancing from family. Kerala\\'s health-system response has been proven to be robust in earlier outbreaks like the Nipah virus outbreak in 2018. Figure S2 : Incidence by onset and effective reproduction rates (Rt) up to 11 April 2020 for Indian states of Maharashtra, Gujarat, Kerala, Delhi, Rajasthan, and Madhya Pradesh. The state name is green if the most recent 50% CI of Rt is below 1 as on 11 April 2020, otherwise red. State-level Incidence by Onset and Effective Reproductive Number (Rt) number calculated with timedependent Maximum Likelihood Method with 5 day sliding windows and 100 lag adjusted datasets. All bootstraps were done in Python 3·6 and plots were made in matplotlib 2·2·2.\",\"cite_spans\":[],\"ref_spans\":[{\"start\":1323,\"end\":1332,\"text\":\"Figure S2\",\"ref_id\":\"FIGREF0\"}],\"section\":\"Rt trends for States\"},{\"text\":\". CC-BY-NC 4.0 International license It is made available under a is the author/funder, who has granted medRxiv a license to display the preprint in perpetuity. is the author/funder, who has granted medRxiv a license to display the preprint in perpetuity.\",\"cite_spans\":[],\"ref_spans\":[],\"section\":\"5.5\"},{\"text\":\"The copyright holder for this preprint this version posted May 18, 2020. . https://doi.org/10.1101/2020.05. 13.20096826 doi: medRxiv preprint Maximum Likelihood Method with 5 day sliding windows and 100 lag adjusted datasets. All bootstraps were done in Python 3·6 and plots were made in matplotlib 2·2·2.\",\"cite_spans\":[{\"start\":108,\"end\":141,\"text\":\"13.20096826 doi: medRxiv preprint\",\"ref_id\":null}],\"ref_spans\":[],\"section\":\"(which was not certified by peer review)\"},{\"text\":\"Fitting was done using Least-Square Fitting with Trust Region Reflective algorithm in Scipy package (Python 3·7). This method was chosen as it allows for a bound on the fitted parameters and was found to converge reliably. The data was fit from the date the number of active cases crossed 100 individuals. Due to lack of data for E(t) and Is(t) compartment, we also fit for the initial conditions for these compartments. Initial conditions for Ia(t) and Ru(t) were set in the ratio of asymptomatics to symptomatics with respect to the initial values of Is(t) and R(t) compartments respectively. Since the number of detected recovered cases was very small we assume all of them were asymptomatic and thus Ra(t) was initially set to zero. All other compartments were set to zero with the exception of S(t) which was set to ensure the sum of all compartments was N. Newer values were given higher weightage for the fitting by supplying the fitting algorithm with errors given by e = w (1-w) t where t is the index of the sample and w = 0·5 is an arbitrary error weightage parameter as described by Chowell. 11 In order to estimate the uncertainty in the parameter fit we adapt the Bootstrap approach described by Chowell using a Poissonian error structure without overdispersion and determine the 95% confidence intervals of the parameters with 1000 bootstrap samples. 11 All simulations were done in Python 3·6 and plots were made in matplotlib 2·2·2. Figure S4 . Best Fit to Data for Base Assumptions (ai = 0·5, pa = 0·6, fa = 0·1). \\'+\\' represent data with which the model was trained, \\'o\\' refers to data points for dates after the training limit. Bands represent 95% confidence intervals for the mean prediction. All simulations were done in Python 3·6 and plots were made in matplotlib 2·2·2.\",\"cite_spans\":[{\"start\":1095,\"end\":1106,\"text\":\"Chowell. 11\",\"ref_id\":null},{\"start\":1366,\"end\":1368,\"text\":\"11\",\"ref_id\":null}],\"ref_spans\":[{\"start\":1450,\"end\":1459,\"text\":\"Figure S4\",\"ref_id\":\"FIGREF3\"}],\"section\":\"Fitting Methods, Initial Conditions and Uncertainty estimation\"},{\"text\":\"Our model fails to predict the increased rise in recovery as it assumes a constant recovery rate (λ) but in reality, the recovery rate (λ) is often found to increase during the progress of an outbreak due to multiple factors. Similarly, mortality (κ) is also found to reduce. Due to lack of sufficient data about the nature of the increase in these rates, the model was assumed to have a constant value that fits well to early dynamics of epidemics. In reality, a more flexible form such as a sigmoid may be a better assumption.\",\"cite_spans\":[],\"ref_spans\":[],\"section\":\"Assumption of constant Recovery Rate (λ) and Mortality Rate (κ)\"},{\"text\":\". CC-BY-NC 4.0 International license It is made available under a is the author/funder, who has granted medRxiv a license to display the preprint in perpetuity.\",\"cite_spans\":[],\"ref_spans\":[],\"section\":\"Assumption of constant Recovery Rate (λ) and Mortality Rate (κ)\"},{\"text\":\"The copyright holder for this preprint this version posted May 18, 2020. . https://doi.org/10.1101/2020.05. 13.20096826 doi: medRxiv preprint 6.4 Sensitivity of estimated parameters to assumptions of ai, pa, and fa The sensitivity of the fit parameters to our assumptions were evaluated and it was found that recovery rate (λ) and mortality rate (κ) is independent of the assumptions, which is expected as these parameters are directly dependent on the relation between quarantine, recovery and fatality data. On the other hand, while there was some variability in the values of protection rate (between 0·032-0·048) and reporting rate (between 0·40-0·48) many of which were within the confidence interval, a large variability was observed in the value of transmission rate (0·8-2·0) with higher transmission rates favoured when the ratio of asymptomatic was low and their relative infectivity is also low. Figure S5 . Sensitivity of fit parameters α and β to assumptions of ai, pa, and fa. All values are reported with 95% CI (empirical estimate) with 1000 bootstrapped fits to the dataset as described in Chowell (2012) 11 . All plots were made in matplotlib 2·2·2.\",\"cite_spans\":[{\"start\":108,\"end\":119,\"text\":\"13.20096826\",\"ref_id\":null},{\"start\":1122,\"end\":1124,\"text\":\"11\",\"ref_id\":null}],\"ref_spans\":[{\"start\":907,\"end\":916,\"text\":\"Figure S5\",\"ref_id\":\"FIGREF5\"}],\"section\":\"(which was not certified by peer review)\"},{\"text\":\". CC-BY-NC 4.0 International license It is made available under a is the author/funder, who has granted medRxiv a license to display the preprint in perpetuity.\",\"cite_spans\":[],\"ref_spans\":[],\"section\":\"6.5\"},{\"text\":\"The copyright holder for this preprint this version posted May 18, 2020. . https://doi.org/10.1101/2020.05. 13.20096826 doi: medRxiv preprint 6.6 Figure S6 . Sensitivity of fit parameters λ and κ to assumptions of ai, pa, and fa. All values are reported with 95% CI with 1000 bootstrapped fits to the dataset as described in Chowell (2012) 11 . All plots were made in matplotlib 2·2·2.\",\"cite_spans\":[{\"start\":108,\"end\":119,\"text\":\"13.20096826\",\"ref_id\":null},{\"start\":325,\"end\":339,\"text\":\"Chowell (2012)\",\"ref_id\":null},{\"start\":340,\"end\":342,\"text\":\"11\",\"ref_id\":null}],\"ref_spans\":[{\"start\":146,\"end\":155,\"text\":\"Figure S6\",\"ref_id\":null}],\"section\":\"(which was not certified by peer review)\"},{\"text\":\". CC-BY-NC 4.0 International license It is made available under a is the author/funder, who has granted medRxiv a license to display the preprint in perpetuity.\",\"cite_spans\":[],\"ref_spans\":[],\"section\":\"(which was not certified by peer review)\"},{\"text\":\"The copyright holder for this preprint this version posted May 18, 2020. . https://doi.org/10.1101/2020.05. 13.20096826 doi: medRxiv preprint 6.7 Figure S7 . Sensitivity of fit parameters δs to assumptions of ai, pa, and fa. All values are reported with 95% CI with 1000 bootstrapped fits to the dataset as described in Chowell (2012) 11 . All plots were made in matplotlib 2·2·2.\",\"cite_spans\":[{\"start\":108,\"end\":119,\"text\":\"13.20096826\",\"ref_id\":null},{\"start\":320,\"end\":334,\"text\":\"Chowell (2012)\",\"ref_id\":null},{\"start\":335,\"end\":337,\"text\":\"11\",\"ref_id\":null}],\"ref_spans\":[{\"start\":146,\"end\":155,\"text\":\"Figure S7\",\"ref_id\":null}],\"section\":\"(which was not certified by peer review)\"},{\"text\":\". CC-BY-NC 4.0 International license It is made available under a is the author/funder, who has granted medRxiv a license to display the preprint in perpetuity.\",\"cite_spans\":[],\"ref_spans\":[],\"section\":\"(which was not certified by peer review)\"},{\"text\":\"The copyright holder for this preprint this version posted May 18, 2020. Figure S8 . Sensitivity of predictions to assumptions of ai, pa, and fa. All values are reported with 95% CI with 1000 bootstrapped fits to the dataset as described in Chowell (2012) . 11 Cases counts are reported in thousands and dates are reported with respect to 18th April 2020. All plots were made in matplotlib 2·2·2.\",\"cite_spans\":[{\"start\":241,\"end\":255,\"text\":\"Chowell (2012)\",\"ref_id\":null},{\"start\":258,\"end\":260,\"text\":\"11\",\"ref_id\":null}],\"ref_spans\":[{\"start\":73,\"end\":82,\"text\":\"Figure S8\",\"ref_id\":null}],\"section\":\"(which was not certified by peer review)\"},{\"text\":\". CC-BY-NC 4.0 International license It is made available under a is the author/funder, who has granted medRxiv a license to display the preprint in perpetuity.\",\"cite_spans\":[],\"ref_spans\":[],\"section\":\"(which was not certified by peer review)\"},{\"text\":\"The copyright holder for this preprint this version posted May 18, 2020. \",\"cite_spans\":[],\"ref_spans\":[],\"section\":\"(which was not certified by peer review)\"},{\"text\":\"The Basic Reproduction number (R0) can be calculated for the model using the next-generation matrix method as described by van den Driessche (2017). 12 When there is a non-zero probability of asymptomaticity (pa), the R0 is given by: R0 = (δaβ(1+at) + δsaiβr)/(δaδs(1+r)(1+at)) When the probability of asymptomaticity is zero, the model reduces to an SEIR at the initial time point and the R0 is simply given by:\",\"cite_spans\":[{\"start\":149,\"end\":151,\"text\":\"12\",\"ref_id\":null}],\"ref_spans\":[],\"section\":\"Calculating R0 from SEIR-QDPA Model\"},{\"text\":\"A very important factor that should be taken into consideration when interpreting the value of R0 given by the model is that unlike other simpler models such as SIR or SEIR models, R0 is not a descriptor of the dynamics at all points of time of the epidemic. This is because of the introduction of the \\\\\"Protected\\\\\" compartment. The better descriptor of the dynamics is given by the effective R0 given by:\",\"cite_spans\":[],\"ref_spans\":[],\"section\":\"R0=β/δs\"},{\"text\":\"which is a function of time that takes into account the reduction in the number of susceptibles in the population as they enter the \\\\\"Protected\\\\\" compartment. The true effective reproductive number Rt is given by:\",\"cite_spans\":[],\"ref_spans\":[],\"section\":\"R0=β/δs\"},{\"text\":\"Since our reduction in susceptible population necessarily decays exponentially from N and asymptotic to zero, our estimates of R0 from the model are artificially higher than R0 directly estimated from data in order to explain the dynamics of the epidemic where the spread is very fast in early stages but saturates before the spread to less than the growth limit of Rt = 1. While our assumption of the constant protection rate with no leakage, may stand true for small ideal communities, for a country with non-homogenous responses to the crisis this assumption may not stand true.\",\"cite_spans\":[],\"ref_spans\":[],\"section\":\"R0=β/δs\"},{\"text\":\". CC-BY-NC 4.0 International license It is made available under a is the author/funder, who has granted medRxiv a license to display the preprint in perpetuity.\",\"cite_spans\":[],\"ref_spans\":[],\"section\":\"R0=β/δs\"},{\"text\":\"The copyright holder for this preprint this version posted May 18, 2020. . https://doi.org/10.1101/2020.05.13.20096826 doi: medRxiv preprint 8.2 Figure S9 . Estimation and Sensitivity of Model R0 to assumptions. All values are reported with 95% CI with 1000 bootstrapped fits to the dataset as described in Chowell (2012) . 11 The R0 is found to be lowest in the scenarios of low asymptomatic infectivity, high probability of asymptomaticity and high detection rate and conversely the highest at high asymptomatic infectivity, low probability of asymptomaticity and low detection rate. All plots were made in matplotlib 2·2·2.\",\"cite_spans\":[{\"start\":307,\"end\":321,\"text\":\"Chowell (2012)\",\"ref_id\":null},{\"start\":324,\"end\":326,\"text\":\"11\",\"ref_id\":null}],\"ref_spans\":[{\"start\":145,\"end\":154,\"text\":\"Figure S9\",\"ref_id\":null}],\"section\":\"(which was not certified by peer review)\"},{\"text\":\". CC-BY-NC 4.0 International license It is made available under a is the author/funder, who has granted medRxiv a license to display the preprint in perpetuity.\",\"cite_spans\":[],\"ref_spans\":[],\"section\":\"(which was not certified by peer review)\"},{\"text\":\"The copyright holder for this preprint this version posted May 18, 2020. . https://doi.org/10.1101/2020.05. 13.20096826 doi: medRxiv preprint 9. Sensitivity Analysis of effect of testing rate and social distancing policies 9.1 Figure S10 . Sensitivity of effect of testing rate and social distancing policies on total symptomatic cases to the probability of asymptomaticity at 15 days after lockdown relaxation. All values are reported in thousands of cases. All simulations were done in Python 3·6 and plots were made in matplotlib 2·2·2. When the proportion of asymptomatics is 80%, and detection is increased from 10% to 20% for 15 days-for every extra asymptomatic detected by increased testing, the number of infections prevented is 7.2 at β, 5.5 at 0·8β and 3.8 at 0·5β. When the proportion of asymptomatics is 40%, and detection is increased from 10% to 20% for 15 days-for every extra asymptomatic detected by increased testing, the number of infections prevented is 9.2 at β, 7.1 at 0·8β and 3.8 at 0·5β.\",\"cite_spans\":[{\"start\":108,\"end\":119,\"text\":\"13.20096826\",\"ref_id\":null}],\"ref_spans\":[{\"start\":227,\"end\":237,\"text\":\"Figure S10\",\"ref_id\":null}],\"section\":\"(which was not certified by peer review)\"},{\"text\":\". CC-BY-NC 4.0 International license It is made available under a is the author/funder, who has granted medRxiv a license to display the preprint in perpetuity.\",\"cite_spans\":[],\"ref_spans\":[],\"section\":\"(which was not certified by peer review)\"},{\"text\":\"The copyright holder for this preprint this version posted May 18, 2020. . https://doi.org/10.1101/2020.05. 13.20096826 doi: medRxiv preprint 9.2 Figure S11 . Sensitivity of effect of testing rate and social distancing policies on total symptomatic cases to probability of asymptomaticity at 45 days after lockdown relaxation. All values are reported in thousands of cases. All simulations were done in Python 3·6 and plots were made in matplotlib 2·2·2.\",\"cite_spans\":[{\"start\":108,\"end\":119,\"text\":\"13.20096826\",\"ref_id\":null}],\"ref_spans\":[{\"start\":146,\"end\":156,\"text\":\"Figure S11\",\"ref_id\":null}],\"section\":\"(which was not certified by peer review)\"},{\"text\":\". CC-BY-NC 4.0 International license It is made available under a is the author/funder, who has granted medRxiv a license to display the preprint in perpetuity. (which was not certified by peer review)\",\"cite_spans\":[],\"ref_spans\":[],\"section\":\"(which was not certified by peer review)\"},{\"text\":\"The copyright holder for this preprint this version posted May 18, 2020. . https://doi.org/10.1101/2020.05. 13.20096826 doi: medRxiv preprint 9.3 Figure S12 . Sensitivity of the number of symptomatic cases to the probability of asymptomaticity over a 75-day period after lockdown relaxation if the testing rate and social distancing policies are not changed after relaxation. It is observed that the order of the trends reverses over time. This can be explained by the fact that when the epidemic was under control due to a large fraction of the population being protected, lower values of pa reduced the total number of infections due to decreased asymptomatic spread. But when the lockdown was relaxed, the incidence of symptomatic cases reflected the probability of being symptomatic which is higher when pa is lower and vice versa. All simulations were done in Python 3·6 and plots were made in matplotlib 2·2·2.\",\"cite_spans\":[{\"start\":108,\"end\":119,\"text\":\"13.20096826\",\"ref_id\":null}],\"ref_spans\":[{\"start\":146,\"end\":156,\"text\":\"Figure S12\",\"ref_id\":\"FIGREF0\"}],\"section\":\"(which was not certified by peer review)\"},{\"text\":\". CC-BY-NC 4.0 International license It is made available under a is the author/funder, who has granted medRxiv a license to display the preprint in perpetuity. (which was not certified by peer review)\",\"cite_spans\":[],\"ref_spans\":[],\"section\":\"(which was not certified by peer review)\"},{\"text\":\"The copyright holder for this preprint this version posted May 18, 2020. . https://doi.org/10.1101/2020.05. 13.20096826 doi: medRxiv preprint 9.4 Figure S13 . Sensitivity of effect of testing rate and social distancing policies on total infections to the probability of asymptomaticity at 15 days after lockdown relaxation. All values are reported in thousands of cases. All simulations were done in Python 3·6 and plots were made in matplotlib 2·2·2. Figure S14 . Sensitivity of effect of testing rate and social distancing policies on total infections to probability of asymptomaticity at 45 days after lockdown relaxation. All values are reported in thousands of cases. All simulations were done in Python 3·6 and plots were made in matplotlib 2·2·2.\",\"cite_spans\":[{\"start\":108,\"end\":119,\"text\":\"13.20096826\",\"ref_id\":null}],\"ref_spans\":[{\"start\":146,\"end\":156,\"text\":\"Figure S13\",\"ref_id\":\"FIGREF2\"},{\"start\":452,\"end\":462,\"text\":\"Figure S14\",\"ref_id\":\"FIGREF3\"}],\"section\":\"(which was not certified by peer review)\"},{\"text\":\". CC-BY-NC 4.0 International license It is made available under a is the author/funder, who has granted medRxiv a license to display the preprint in perpetuity. (which was not certified by peer review)\",\"cite_spans\":[],\"ref_spans\":[],\"section\":\"9.5\"},{\"text\":\"The copyright holder for this preprint this version posted May 18, 2020. . https://doi.org/10.1101/2020.05. 13.20096826 doi: medRxiv preprint\",\"cite_spans\":[{\"start\":108,\"end\":119,\"text\":\"13.20096826\",\"ref_id\":null}],\"ref_spans\":[],\"section\":\"9.5\"},{\"text\":\"In order to simulate a slow lockdown release, instead of setting the value of deprotection rate (σ) as a large value, we set it equal to the value of protection rate (α) such that the lockdown reverts itself at the same rate as it occurred. All simulations were done in Python 3·6 and plots were made in matplotlib 2·2·2. Figure S15 . Gradual complete lockdown relaxation at three different points of time. The delayed gradual relaxation of the lockdown buys more time before the number of active cases starts rising again as observed in the fast lockdown relaxation. Bands represent 95% confidence intervals for the mean prediction. All simulations were done in Python 3·6 and plots were made in matplotlib 2·2·2. Figure S16 . Lag before new rise in active case after Slow Lockdown Relaxation. The time gained by delaying the relaxation is found to be linearly increasing (Pearson\\'s R: 0·987; 95% CI 0·949-0·997; p<0·0001). The gain in time in the case of a slow lockdown relaxation is found to be more than the case of a fast lockdown relaxation. All simulations were done in Python 3·6 and plots were made in matplotlib 2·2·2.\",\"cite_spans\":[],\"ref_spans\":[{\"start\":322,\"end\":332,\"text\":\"Figure S15\",\"ref_id\":\"FIGREF5\"},{\"start\":715,\"end\":725,\"text\":\"Figure S16\",\"ref_id\":null}],\"section\":\"Simulating gradual lockdown relaxation\"},{\"text\":\". CC-BY-NC 4.0 International license It is made available under a is the author/funder, who has granted medRxiv a license to display the preprint in perpetuity. (which was not certified by peer review)\",\"cite_spans\":[],\"ref_spans\":[],\"section\":\"10.3\"},{\"text\":\"The copyright holder for this preprint this version posted May 18, 2020. . https://doi.org/10.1101/2020.05. 13.20096826 doi: medRxiv preprint 10.4 Figure S17 . Gradual lockdown relaxation for 14 days at two different points of time. The delayed gradual relaxation of the lockdown reduced the number of active cases in the second as observed in the fast lockdown relaxation. A slow relaxation reduced the effect of relaxation on the growth of the second peak compared to the fast lockdown relaxation. Bands represent 95% confidence intervals for the mean prediction. All simulations were done in Python 3·6 and plots were made in matplotlib 2·2·2.\",\"cite_spans\":[{\"start\":108,\"end\":119,\"text\":\"13.20096826\",\"ref_id\":null}],\"ref_spans\":[{\"start\":147,\"end\":157,\"text\":\"Figure S17\",\"ref_id\":null}],\"section\":\"10.3\"},{\"text\":\". CC-BY-NC 4.0 International license It is made available under a is the author/funder, who has granted medRxiv a license to display the preprint in perpetuity. (which was not certified by peer review)\",\"cite_spans\":[],\"ref_spans\":[],\"section\":\"10.3\"},{\"text\":\"The copyright holder for this preprint this version posted May 18, 2020. . https://doi.org/10.1101/2020.05.13.20096826 doi: medRxiv preprint\",\"cite_spans\":[],\"ref_spans\":[],\"section\":\"10.3\"},{\"text\":\"Previous studies have estimated the number of ICU beds in India to be around 35,699 to 57,119 ICU beds. 13 We assume the number of ICU beds in India to be around 70,000 to account for growth in the healthcare system. If we assume that 50% of these beds are equipped with ventilators and are allocated exclusively to COVID-19 patients, that gives us 35,000 COVID-19 ready ICU beds. Previous studies suggest that approximately 5% of symptomatic patients need ICU support, 14 that gives us an upper bound for the healthcare system capacity of 7,00,00 active symptomatic cases.\",\"cite_spans\":[{\"start\":104,\"end\":106,\"text\":\"13\",\"ref_id\":null}],\"ref_spans\":[],\"section\":\"Estimating the Indian Healthcare System Capacity\"},{\"text\":\"We simulate the model under the different (fast) lockdown relaxation scenarios we described earlier and determined the time taken to reach the healthcare system capacity of 7,00,000 active symptomatic cases from the date of relaxation. We find that for all finite relaxation durations, there exists a delay in lockdown relaxation that prevents the scenario of the health capacity being overloaded. For smaller relaxation periods, this delay is found to be smaller. It should be noted that these assumptions assume fast and complete lockdown relaxations periods for the entire country at once. In reality, the lockdown relaxations will likely be introduced on a state-by-state basis and may be more of a slow staggered response. Figure S18 . Time taken to reach the healthcare system capacity under lockdown relaxation scenarios. Blank blocks represent the scenario where the healthcare system capacity is never reached and the epidemic is under control. Figure shows the heatmap for the mean time taken to hit the healthcare capacity under different lockdown durations and dates of start of lockdown relaxations.\",\"cite_spans\":[],\"ref_spans\":[{\"start\":728,\"end\":738,\"text\":\"Figure S18\",\"ref_id\":null}],\"section\":\"Estimating the time taken to reach the Healthcare system capacity under lockdown relaxation scenarios.\"},{\"text\":\". CC-BY-NC 4.0 International license It is made available under a is the author/funder, who has granted medRxiv a license to display the preprint in perpetuity. (which was not certified by peer review)\",\"cite_spans\":[],\"ref_spans\":[],\"section\":\"11.3\"},{\"text\":\"The copyright holder for this preprint this version posted May 18, 2020. . https://doi.org/10.1101/2020.05.13.20096826 doi: medRxiv preprint\",\"cite_spans\":[],\"ref_spans\":[],\"section\":\"11.3\"},{\"text\":\"The mobility scores are calculated by comparing visits and length of stay at different places change compared to a baseline value for the day of the week. The baseline values were calculated from the median values during the 5-week period Jan 3-Feb 6, 2020. These values were calculated on the basis of anonymized data from users who have opted-in to Location History for their Google Account. We acknowledge that this mobility data may be biased towards users of this service, and may or may not represent the exact behavior of a wider population.\",\"cite_spans\":[],\"ref_spans\":[],\"section\":\"Background Information on how Google\\'s mobility reports are generated 15\"},{\"text\":\"For the analysis of mobility, Google has divided the mobility into 6 categories relevant to social distancing policies and practices. They are: Grocery & Pharmacy (places like grocery markets, food warehouses, farmers markets, speciality food shops, drug stores, and pharmacies), Parks (places like local parks, national parks, public beaches, marinas, dog parks, plazas, and public gardens), Transit stations (places like public transport hubs such as subway, bus, and train stations), Retail & Recreation (places like restaurants, cafes, shopping centres, theme parks, museums, libraries, and movie theatres), Residential (places of residence), Workplaces (places of work such as offices).\",\"cite_spans\":[],\"ref_spans\":[],\"section\":\"Background Information on how Google\\'s mobility reports are generated 15\"},{\"text\":\". CC-BY-NC 4.0 International license It is made available under a is the author/funder, who has granted medRxiv a license to display the preprint in perpetuity. (which was not certified by peer review)\",\"cite_spans\":[],\"ref_spans\":[],\"section\":\"Background Information on how Google\\'s mobility reports are generated 15\"},{\"text\":\"The copyright holder for this preprint this version posted May 18, 2020. . https://doi.org/10.1101/2020.05. 13.20096826 doi: medRxiv preprint \",\"cite_spans\":[{\"start\":108,\"end\":141,\"text\":\"13.20096826 doi: medRxiv preprint\",\"ref_id\":null}],\"ref_spans\":[],\"section\":\"Background Information on how Google\\'s mobility reports are generated 15\"}],\"bib_entries\":{\"BIBREF0\":{\"ref_id\":\"b0\",\"title\":\"A Novel Coronavirus from Patients with Pneumonia in China\",\"authors\":[{\"first\":\"N\",\"middle\":[],\"last\":\"Zhu\",\"suffix\":\"\"},{\"first\":\"D\",\"middle\":[],\"last\":\"Zhang\",\"suffix\":\"\"},{\"first\":\"W\",\"middle\":[],\"last\":\"Wang\",\"suffix\":\"\"}],\"year\":2019,\"venue\":\"N Engl J Med\",\"volume\":\"382\",\"issn\":\"\",\"pages\":\"727--760\",\"other_ids\":{}},\"BIBREF1\":{\"ref_id\":\"b1\",\"title\":\"WHO DirectorGeneral\\'s opening remarks at the media briefing on COVID19 11\",\"authors\":[],\"year\":2020,\"venue\":\"\",\"volume\":\"\",\"issn\":\"\",\"pages\":\"\",\"other_ids\":{}},\"BIBREF2\":{\"ref_id\":\"b2\",\"title\":\"Novel Coronavirus COVID19 Data Repository by Johns Hopkins CSSE\",\"authors\":[],\"year\":null,\"venue\":\"\",\"volume\":\"\",\"issn\":\"\",\"pages\":\"\",\"other_ids\":{}},\"BIBREF3\":{\"ref_id\":\"b3\",\"title\":\"COVID19India Database API\",\"authors\":[],\"year\":null,\"venue\":\"\",\"volume\":\"\",\"issn\":\"\",\"pages\":\"\",\"other_ids\":{}},\"BIBREF4\":{\"ref_id\":\"b4\",\"title\":\"Containing Pandemic Influenza at the Source\",\"authors\":[{\"first\":\"I\",\"middle\":[\"M\"],\"last\":\"Longini\",\"suffix\":\"\"},{\"first\":\"A\",\"middle\":[],\"last\":\"Nizam\",\"suffix\":\"\"},{\"first\":\"S\",\"middle\":[],\"last\":\"Xu\",\"suffix\":\"\"}],\"year\":2005,\"venue\":\"Science\",\"volume\":\"309\",\"issn\":\"\",\"pages\":\"1083--1090\",\"other_ids\":{}},\"BIBREF5\":{\"ref_id\":\"b5\",\"title\":\"Firstwave COVID19 transmissibility and severity in China outside Hubei after control measures, and secondwave scenario planning: a modelling impact assessment\",\"authors\":[{\"first\":\"K\",\"middle\":[],\"last\":\"Leung\",\"suffix\":\"\"},{\"first\":\"J\",\"middle\":[\"T\"],\"last\":\"Wu\",\"suffix\":\"\"},{\"first\":\"D\",\"middle\":[],\"last\":\"Liu\",\"suffix\":\"\"},{\"first\":\"G\",\"middle\":[\"M\"],\"last\":\"Leung\",\"suffix\":\"\"}],\"year\":2020,\"venue\":\"The Lancet\",\"volume\":\"\",\"issn\":\"\",\"pages\":\"\",\"other_ids\":{}},\"BIBREF6\":{\"ref_id\":\"b6\",\"title\":\"Early dynamics of transmission and control of COVID19: a mathematical modelling study\",\"authors\":[{\"first\":\"A\",\"middle\":[\"J\"],\"last\":\"Kucharski\",\"suffix\":\"\"},{\"first\":\"T\",\"middle\":[\"W\"],\"last\":\"Russell\",\"suffix\":\"\"},{\"first\":\"C\",\"middle\":[],\"last\":\"Diamond\",\"suffix\":\"\"}],\"year\":2020,\"venue\":\"Lancet Infect Dis\",\"volume\":\"\",\"issn\":\"\",\"pages\":\"\",\"other_ids\":{\"DOI\":[\"10.1016/S14733099(20)301444\"]}},\"BIBREF7\":{\"ref_id\":\"b7\",\"title\":\"Association of Public Health Interventions With the Epidemiology of the COVID19 Outbreak in Wuhan, China\",\"authors\":[{\"first\":\"A\",\"middle\":[],\"last\":\"Pan\",\"suffix\":\"\"},{\"first\":\"L\",\"middle\":[],\"last\":\"Liu\",\"suffix\":\"\"},{\"first\":\"C\",\"middle\":[],\"last\":\"Wang\",\"suffix\":\"\"}],\"year\":2020,\"venue\":\"JAMA\",\"volume\":\"\",\"issn\":\"\",\"pages\":\"\",\"other_ids\":{\"DOI\":[\"10.1001/jama.2020.6130\"]}},\"BIBREF8\":{\"ref_id\":\"b8\",\"title\":\"Impact of nonpharmaceutical interventions (NPIs) to reduce COVID19 mortality and healthcare demand\",\"authors\":[{\"first\":\"N\",\"middle\":[],\"last\":\"Ferguson\",\"suffix\":\"\"},{\"first\":\"D\",\"middle\":[],\"last\":\"Laydon\",\"suffix\":\"\"},{\"first\":\"Nedjati\",\"middle\":[],\"last\":\"Gilani\",\"suffix\":\"\"},{\"first\":\"G\",\"middle\":[],\"last\":\"\",\"suffix\":\"\"}],\"year\":2020,\"venue\":\"\",\"volume\":\"9\",\"issn\":\"\",\"pages\":\"\",\"other_ids\":{\"DOI\":[\"10.25561/77482\"]}},\"BIBREF9\":{\"ref_id\":\"b9\",\"title\":\"A third of the global population is on coronavirus lockdown\",\"authors\":[{\"first\":\"Lauren\",\"middle\":[],\"last\":\"Mcfalljohnsen\",\"suffix\":\"\"},{\"first\":\"Morgan\",\"middle\":[],\"last\":\"Frias\",\"suffix\":\"\"}],\"year\":2020,\"venue\":\"Bus. Insid\",\"volume\":\"\",\"issn\":\"\",\"pages\":\"\",\"other_ids\":{}},\"BIBREF10\":{\"ref_id\":\"b10\",\"title\":\"Extended lockdown to cause $234.4 billion economic loss\",\"authors\":[],\"year\":2020,\"venue\":\"Econ. Times\",\"volume\":\"\",\"issn\":\"\",\"pages\":\"\",\"other_ids\":{}},\"BIBREF11\":{\"ref_id\":\"b11\",\"title\":\"Social distancing is a luxury Indians earning just Rs 150 a day cannot afford\",\"authors\":[{\"first\":\"B\",\"middle\":[],\"last\":\"Pradhan\",\"suffix\":\"\"}],\"year\":2020,\"venue\":\"ThePrint\",\"volume\":\"\",\"issn\":\"\",\"pages\":\"\",\"other_ids\":{}},\"BIBREF12\":{\"ref_id\":\"b12\",\"title\":\"More than 40 crore workers in India\\'s unorganized sector may be affected due to the lockdown: ILO. Gaonconnection Your Connect\",\"authors\":[],\"year\":2020,\"venue\":\"Rural India\",\"volume\":\"\",\"issn\":\"\",\"pages\":\"\",\"other_ids\":{}},\"BIBREF13\":{\"ref_id\":\"b13\",\"title\":\"Covid19: collateral damage of lockdown in India | The BMJ\",\"authors\":[],\"year\":2020,\"venue\":\"\",\"volume\":\"\",\"issn\":\"\",\"pages\":\"\",\"other_ids\":{}},\"BIBREF14\":{\"ref_id\":\"b14\",\"title\":\"Feasibility of controlling COVID19 outbreaks by isolation of cases and contacts\",\"authors\":[{\"first\":\"J\",\"middle\":[],\"last\":\"Hellewell\",\"suffix\":\"\"},{\"first\":\"S\",\"middle\":[],\"last\":\"Abbott\",\"suffix\":\"\"},{\"first\":\"A\",\"middle\":[],\"last\":\"Gimma\",\"suffix\":\"\"}],\"year\":2020,\"venue\":\"Lancet Glob Health\",\"volume\":\"8\",\"issn\":\"\",\"pages\":\"488--96\",\"other_ids\":{}},\"BIBREF15\":{\"ref_id\":\"b15\",\"title\":\"Clinical characteristics of 24 asymptomatic infections with COVID19 screened among close contacts in Nanjing\",\"authors\":[{\"first\":\"Z\",\"middle\":[],\"last\":\"Hu\",\"suffix\":\"\"},{\"first\":\"C\",\"middle\":[],\"last\":\"Song\",\"suffix\":\"\"},{\"first\":\"C\",\"middle\":[],\"last\":\"Xu\",\"suffix\":\"\"}],\"year\":2020,\"venue\":\"China. Sci China Life Sci\",\"volume\":\"\",\"issn\":\"\",\"pages\":\"\",\"other_ids\":{}},\"BIBREF17\":{\"ref_id\":\"b17\",\"title\":\"Suppression of COVID19 outbreak in the municipality of Vo\",\"authors\":[{\"first\":\"E\",\"middle\":[],\"last\":\"Lavezzo\",\"suffix\":\"\"},{\"first\":\"E\",\"middle\":[],\"last\":\"Franchin\",\"suffix\":\"\"},{\"first\":\"C\",\"middle\":[],\"last\":\"Ciavarella\",\"suffix\":\"\"}],\"year\":2020,\"venue\":\"Italy. medRxiv\",\"volume\":\"\",\"issn\":\"\",\"pages\":\"\",\"other_ids\":{}},\"BIBREF18\":{\"ref_id\":\"b18\",\"title\":\"Spread of SARSCoV2 in the Icelandic Population\",\"authors\":[{\"first\":\"D\",\"middle\":[\"F\"],\"last\":\"Gudbjartsson\",\"suffix\":\"\"},{\"first\":\"A\",\"middle\":[],\"last\":\"Helgason\",\"suffix\":\"\"},{\"first\":\"H\",\"middle\":[],\"last\":\"Jonsson\",\"suffix\":\"\"}],\"year\":2020,\"venue\":\"N Engl J Med\",\"volume\":\"\",\"issn\":\"\",\"pages\":\"\",\"other_ids\":{}},\"BIBREF19\":{\"ref_id\":\"b19\",\"title\":\"Asymptomatic Transmission, the Achilles\\' Heel of Current Strategies to Control Covid19\",\"authors\":[{\"first\":\"M\",\"middle\":[],\"last\":\"Gandhi\",\"suffix\":\"\"},{\"first\":\"D\",\"middle\":[\"S\"],\"last\":\"Yokoe\",\"suffix\":\"\"},{\"first\":\"D\",\"middle\":[\"V\"],\"last\":\"Havlir\",\"suffix\":\"\"}],\"year\":2020,\"venue\":\"N Engl J Med\",\"volume\":\"\",\"issn\":\"\",\"pages\":\"\",\"other_ids\":{}},\"BIBREF20\":{\"ref_id\":\"b20\",\"title\":\"World Bank Population Database\",\"authors\":[],\"year\":null,\"venue\":\"\",\"volume\":\"\",\"issn\":\"\",\"pages\":\"\",\"other_ids\":{}},\"BIBREF21\":{\"ref_id\":\"b21\",\"title\":\"The R0 package: a toolbox to estimate reproduction numbers for epidemic outbreaks\",\"authors\":[{\"first\":\"T\",\"middle\":[],\"last\":\"Obadia\",\"suffix\":\"\"},{\"first\":\"R\",\"middle\":[],\"last\":\"Haneef\",\"suffix\":\"\"},{\"first\":\"P\",\"middle\":[\"Y\"],\"last\":\"Boëlle\",\"suffix\":\"\"}],\"year\":null,\"venue\":\"\",\"volume\":\"\",\"issn\":\"\",\"pages\":\"\",\"other_ids\":{}},\"BIBREF23\":{\"ref_id\":\"b23\",\"title\":\"A likelihoodbased method for real time estimation of the serial interval and reproductive number of an epidemic\",\"authors\":[{\"first\":\"L\",\"middle\":[\"F\"],\"last\":\"White\",\"suffix\":\"\"},{\"first\":\"M\",\"middle\":[],\"last\":\"Pagano\",\"suffix\":\"\"}],\"year\":2008,\"venue\":\"Stat Med\",\"volume\":\"27\",\"issn\":\"\",\"pages\":\"2999--3016\",\"other_ids\":{}},\"BIBREF24\":{\"ref_id\":\"b24\",\"title\":\"How generation intervals shape the relationship between growth rates and reproductive numbers\",\"authors\":[{\"first\":\"J\",\"middle\":[],\"last\":\"Wallinga\",\"suffix\":\"\"},{\"first\":\"M\",\"middle\":[],\"last\":\"Lipsitch\",\"suffix\":\"\"}],\"year\":2007,\"venue\":\"Proc R Soc B Biol Sci\",\"volume\":\"274\",\"issn\":\"\",\"pages\":\"599--604\",\"other_ids\":{}},\"BIBREF25\":{\"ref_id\":\"b25\",\"title\":\"Early Release Serial Interval of COVID19 among Publicly Reported Confirmed Cases Volume\",\"authors\":[{\"first\":\"Z\",\"middle\":[],\"last\":\"Du\",\"suffix\":\"\"},{\"first\":\"X\",\"middle\":[],\"last\":\"Xu\",\"suffix\":\"\"},{\"first\":\"Y\",\"middle\":[],\"last\":\"Wu\",\"suffix\":\"\"},{\"first\":\"L\",\"middle\":[],\"last\":\"Wang\",\"suffix\":\"\"},{\"first\":\"B\",\"middle\":[\"J\"],\"last\":\"Cowling\",\"suffix\":\"\"},{\"first\":\"L\",\"middle\":[\"A\"],\"last\":\"Meyers\",\"suffix\":\"\"}],\"year\":2020,\"venue\":\"Emerging Infectious Diseases journal CDC\",\"volume\":\"26\",\"issn\":\"6\",\"pages\":\"\",\"other_ids\":{\"DOI\":[\"10.3201/eid2606.200357\"]}},\"BIBREF26\":{\"ref_id\":\"b26\",\"title\":\"A New Framework and Software to Estimate TimeVarying Reproduction Numbers During Epidemics\",\"authors\":[{\"first\":\"A\",\"middle\":[],\"last\":\"Cori\",\"suffix\":\"\"},{\"first\":\"N\",\"middle\":[\"M\"],\"last\":\"Ferguson\",\"suffix\":\"\"},{\"first\":\"C\",\"middle\":[],\"last\":\"Fraser\",\"suffix\":\"\"},{\"first\":\"S\",\"middle\":[],\"last\":\"Cauchemez\",\"suffix\":\"\"}],\"year\":2013,\"venue\":\"Am J Epidemiol\",\"volume\":\"178\",\"issn\":\"\",\"pages\":\"1505--1517\",\"other_ids\":{}},\"BIBREF27\":{\"ref_id\":\"b27\",\"title\":\"Different Epidemic Curves for Severe Acute Respiratory Syndrome Reveal Similar Impacts of Control Measures\",\"authors\":[{\"first\":\"J\",\"middle\":[],\"last\":\"Wallinga\",\"suffix\":\"\"},{\"first\":\"P\",\"middle\":[],\"last\":\"Teunis\",\"suffix\":\"\"}],\"year\":2004,\"venue\":\"Am J Epidemiol\",\"volume\":\"160\",\"issn\":\"\",\"pages\":\"509--525\",\"other_ids\":{}},\"BIBREF28\":{\"ref_id\":\"b28\",\"title\":\"Google COVID19 Community Mobility Reports\",\"authors\":[{\"first\":\"Llc\",\"middle\":[],\"last\":\"Google\",\"suffix\":\"\"}],\"year\":2020,\"venue\":\"\",\"volume\":\"\",\"issn\":\"\",\"pages\":\"\",\"other_ids\":{}},\"BIBREF29\":{\"ref_id\":\"b29\",\"title\":\"Global analysis of an SEIR model with varying population size and vaccination\",\"authors\":[{\"first\":\"C\",\"middle\":[],\"last\":\"Sun\",\"suffix\":\"\"},{\"first\":\"Y\",\"middle\":[\"H\"],\"last\":\"Hsieh\",\"suffix\":\"\"}],\"year\":2010,\"venue\":\"Appl Math Model\",\"volume\":\"34\",\"issn\":\"\",\"pages\":\"2685--97\",\"other_ids\":{}},\"BIBREF30\":{\"ref_id\":\"b30\",\"title\":\"The Incubation Period of Coronavirus Disease 2019 (COVID19) From Publicly Reported Confirmed Cases: Estimation and Application\",\"authors\":[{\"first\":\"S\",\"middle\":[\"A\"],\"last\":\"Lauer\",\"suffix\":\"\"},{\"first\":\"K\",\"middle\":[\"H\"],\"last\":\"Grantz\",\"suffix\":\"\"},{\"first\":\"Q\",\"middle\":[],\"last\":\"Bi\",\"suffix\":\"\"}],\"year\":null,\"venue\":\"\",\"volume\":\"\",\"issn\":\"\",\"pages\":\"\",\"other_ids\":{}},\"BIBREF31\":{\"ref_id\":\"b31\",\"title\":\"Federal testing recommendations provided by the Indian Council of Medical Research (ICMR) Date ICMR testing criteria for COVID-19\",\"authors\":[{\"first\":\"S6\",\"middle\":[],\"last\":\"Table\",\"suffix\":\"\"}],\"year\":null,\"venue\":\"\",\"volume\":\"\",\"issn\":\"\",\"pages\":\"\",\"other_ids\":{}},\"BIBREF32\":{\"ref_id\":\"b32\",\"title\":\"All contacts of laboratory confirmed positive cases IF they become symptomatic (fever, cough, difficulty in breathing etc.) within 14 days of home quarantine\",\"authors\":[],\"year\":2020,\"venue\":\"\",\"volume\":\"\",\"issn\":\"\",\"pages\":\"\",\"other_ids\":{}},\"BIBREF33\":{\"ref_id\":\"b33\",\"title\":\"All people with history of international travel to COVID-19 affected countries within the last 14 days IF they become symptomatic (fever, cough, difficulty in breathing etc.) within 14 days of home quarantine\",\"authors\":[],\"year\":2020,\"venue\":\"\",\"volume\":\"\",\"issn\":\"\",\"pages\":\"\",\"other_ids\":{}},\"BIBREF34\":{\"ref_id\":\"b34\",\"title\":\"All people with history of international travel IF they become symptomatic (fever, cough, difficulty in breathing etc.) within 14 days of home quarantine\",\"authors\":[],\"year\":null,\"venue\":\"\",\"volume\":\"\",\"issn\":\"\",\"pages\":\"\",\"other_ids\":{}},\"BIBREF35\":{\"ref_id\":\"b35\",\"title\":\"Health care workers managing respiratory distress / Severe Acute Respiratory Illness should be tested when they are symptomatic\",\"authors\":[],\"year\":null,\"venue\":\"\",\"volume\":\"\",\"issn\":\"\",\"pages\":\"\",\"other_ids\":{}},\"BIBREF36\":{\"ref_id\":\"b36\",\"title\":\"All symptomatic* individuals who have undertaken international travel in the last 14 days\",\"authors\":[],\"year\":2020,\"venue\":\"\",\"volume\":\"\",\"issn\":\"\",\"pages\":\"\",\"other_ids\":{}},\"BIBREF37\":{\"ref_id\":\"b37\",\"title\":\"All symptomatic contacts of laboratory confirmed cases\",\"authors\":[],\"year\":null,\"venue\":\"\",\"volume\":\"\",\"issn\":\"\",\"pages\":\"\",\"other_ids\":{}},\"BIBREF38\":{\"ref_id\":\"b38\",\"title\":\"All symptomatic health care workers. 4. All hospitalized patients with Severe Acute Respiratory Illness (SARI: fever AND cough and/or shortness of breath)\",\"authors\":[],\"year\":null,\"venue\":\"\",\"volume\":\"\",\"issn\":\"\",\"pages\":\"\",\"other_ids\":{}},\"BIBREF39\":{\"ref_id\":\"b39\",\"title\":\"Asymptomatic direct and high-risk contacts** of a confirmed case should be tested once between day 5 and day 14 of coming in his/her contact\",\"authors\":[],\"year\":null,\"venue\":\"\",\"volume\":\"\",\"issn\":\"\",\"pages\":\"\",\"other_ids\":{}},\"BIBREF40\":{\"ref_id\":\"b40\",\"title\":\"All symptomatic individuals who have undertaken international travel in the last 14 days 2. All symptomatic contacts of laboratory confirmed cases 3. All symptomatic health care workers 4. All patients with Severe Acute Respiratory Illness (fever AND cough and/or shortness of breath)\",\"authors\":[],\"year\":2020,\"venue\":\"\",\"volume\":\"\",\"issn\":\"\",\"pages\":\"\",\"other_ids\":{}},\"BIBREF41\":{\"ref_id\":\"b41\",\"title\":\"Asymptomatic direct and high-risk contacts # of a confirmed case should be tested once between day 5 and day 14 of coming in his/her contact 6. In hotspots/cluster (as per MoHFW) and in large migration gatherings/ evacuees centres: All symptomatic Influenza like illness (ILI: fever, cough, sore throat, runny nose) a. Within 7 days of illness -rRT-PCR b\",\"authors\":[],\"year\":null,\"venue\":\"\",\"volume\":\"\",\"issn\":\"\",\"pages\":\"\",\"other_ids\":{}},\"BIBREF42\":{\"ref_id\":\"b42\",\"title\":\"Rt point estimates for national COVID-19 incidence data (without import adjustment)\",\"authors\":[{\"first\":\"S8\",\"middle\":[],\"last\":\"Table\",\"suffix\":\"\"}],\"year\":null,\"venue\":\"\",\"volume\":\"\",\"issn\":\"\",\"pages\":\"\",\"other_ids\":{}},\"BIBREF43\":{\"ref_id\":\"b43\",\"title\":\"Date Rt Estimate (95% CI) Date Rt Estimate (95% CI)\",\"authors\":[],\"year\":null,\"venue\":\"\",\"volume\":\"\",\"issn\":\"\",\"pages\":\"\",\"other_ids\":{}},\"BIBREF44\":{\"ref_id\":\"b44\",\"title\":\"Rt point estimates for national COVID-19 incidence data\",\"authors\":[{\"first\":\"S9\",\"middle\":[],\"last\":\"Table\",\"suffix\":\"\"}],\"year\":null,\"venue\":\"\",\"volume\":\"\",\"issn\":\"\",\"pages\":\"\",\"other_ids\":{}},\"BIBREF45\":{\"ref_id\":\"b45\",\"title\":\"Date Rt Estimate (95% CI) Date Rt Estimate (95% CI)\",\"authors\":[],\"year\":null,\"venue\":\"\",\"volume\":\"\",\"issn\":\"\",\"pages\":\"\",\"other_ids\":{}},\"BIBREF46\":{\"ref_id\":\"b46\",\"title\":\"Temporal dynamics in viral shedding and transmissibility of COVID-19\",\"authors\":[{\"first\":\"X\",\"middle\":[],\"last\":\"He\",\"suffix\":\"\"},{\"first\":\"Ehy\",\"middle\":[],\"last\":\"Lau\",\"suffix\":\"\"},{\"first\":\"P\",\"middle\":[],\"last\":\"Wu\",\"suffix\":\"\"}],\"year\":2020,\"venue\":\"Nat Med\",\"volume\":\"\",\"issn\":\"\",\"pages\":\"1--4\",\"other_ids\":{}},\"BIBREF47\":{\"ref_id\":\"b47\",\"title\":\"Virological assessment of hospitalized patients with COVID-2019\",\"authors\":[{\"first\":\"R\",\"middle\":[],\"last\":\"Wölfel\",\"suffix\":\"\"},{\"first\":\"V\",\"middle\":[\"M\"],\"last\":\"Corman\",\"suffix\":\"\"},{\"first\":\"W\",\"middle\":[],\"last\":\"Guggemos\",\"suffix\":\"\"}],\"year\":2020,\"venue\":\"Nature\",\"volume\":\"\",\"issn\":\"\",\"pages\":\"\",\"other_ids\":{}},\"BIBREF48\":{\"ref_id\":\"b48\",\"title\":\"Epidemic analysis of COVID-19 in China by dynamical modeling\",\"authors\":[{\"first\":\"L\",\"middle\":[],\"last\":\"Peng\",\"suffix\":\"\"},{\"first\":\"W\",\"middle\":[],\"last\":\"Yang\",\"suffix\":\"\"},{\"first\":\"D\",\"middle\":[],\"last\":\"Zhang\",\"suffix\":\"\"},{\"first\":\"C\",\"middle\":[],\"last\":\"Zhuge\",\"suffix\":\"\"},{\"first\":\"L\",\"middle\":[],\"last\":\"Hong\",\"suffix\":\"\"}],\"year\":2002,\"venue\":\"\",\"volume\":\"\",\"issn\":\"\",\"pages\":\"\",\"other_ids\":{}},\"BIBREF49\":{\"ref_id\":\"b49\",\"title\":\"fitdistrplus: An R Package for Fitting Distributions\",\"authors\":[{\"first\":\"M\",\"middle\":[\"L\"],\"last\":\"Delignette-Muller\",\"suffix\":\"\"},{\"first\":\"C\",\"middle\":[],\"last\":\"Dutang\",\"suffix\":\"\"}],\"year\":2015,\"venue\":\"J Stat Softw\",\"volume\":\"064\",\"issn\":\"\",\"pages\":\"\",\"other_ids\":{}},\"BIBREF50\":{\"ref_id\":\"b50\",\"title\":\"A likelihood-based method for real-time estimation of the serial interval and reproductive number of an epidemic\",\"authors\":[{\"first\":\"L\",\"middle\":[\"F\"],\"last\":\"White\",\"suffix\":\"\"},{\"first\":\"M\",\"middle\":[],\"last\":\"Pagano\",\"suffix\":\"\"}],\"year\":2008,\"venue\":\"Stat Med\",\"volume\":\"27\",\"issn\":\"\",\"pages\":\"2999--3016\",\"other_ids\":{}},\"BIBREF51\":{\"ref_id\":\"b51\",\"title\":\"How generation intervals shape the relationship between growth rates and reproductive numbers\",\"authors\":[{\"first\":\"J\",\"middle\":[],\"last\":\"Wallinga\",\"suffix\":\"\"},{\"first\":\"M\",\"middle\":[],\"last\":\"Lipsitch\",\"suffix\":\"\"}],\"year\":2007,\"venue\":\"Proc R Soc B Biol Sci\",\"volume\":\"274\",\"issn\":\"\",\"pages\":\"599--604\",\"other_ids\":{}},\"BIBREF52\":{\"ref_id\":\"b52\",\"title\":\"Testing Strategy Updates for COVID-19 in India\",\"authors\":[{\"first\":\"\",\"middle\":[],\"last\":\"Icmr\",\"suffix\":\"\"}],\"year\":2020,\"venue\":\"Indian Counc. Med. Res\",\"volume\":\"\",\"issn\":\"\",\"pages\":\"\",\"other_ids\":{}},\"BIBREF53\":{\"ref_id\":\"b53\",\"title\":\"Nowcasting and forecasting the potential domestic and international spread of the 2019-nCoV outbreak originating in Wuhan, China: a modelling study\",\"authors\":[{\"first\":\"J\",\"middle\":[\"T\"],\"last\":\"Wu\",\"suffix\":\"\"},{\"first\":\"K\",\"middle\":[],\"last\":\"Leung\",\"suffix\":\"\"},{\"first\":\"G\",\"middle\":[\"M\"],\"last\":\"Leung\",\"suffix\":\"\"}],\"year\":2020,\"venue\":\"The Lancet\",\"volume\":\"395\",\"issn\":\"\",\"pages\":\"689--97\",\"other_ids\":{}},\"BIBREF54\":{\"ref_id\":\"b54\",\"title\":\"Early Release -Serial Interval of COVID-19 among Publicly Reported Confirmed Cases\",\"authors\":[{\"first\":\"Z\",\"middle\":[],\"last\":\"Du\",\"suffix\":\"\"},{\"first\":\"X\",\"middle\":[],\"last\":\"Xu\",\"suffix\":\"\"},{\"first\":\"Y\",\"middle\":[],\"last\":\"Wu\",\"suffix\":\"\"},{\"first\":\"L\",\"middle\":[],\"last\":\"Wang\",\"suffix\":\"\"},{\"first\":\"B\",\"middle\":[\"J\"],\"last\":\"Cowling\",\"suffix\":\"\"},{\"first\":\"L\",\"middle\":[\"A\"],\"last\":\"Meyers\",\"suffix\":\"\"}],\"year\":2020,\"venue\":\"Emerging Infectious Diseases journal -CDC\",\"volume\":\"26\",\"issn\":\"6\",\"pages\":\"\",\"other_ids\":{\"DOI\":[\"10.3201/eid2606.200357\"]}},\"BIBREF55\":{\"ref_id\":\"b55\",\"title\":\"COVID19India Database API\",\"authors\":[],\"year\":null,\"venue\":\"\",\"volume\":\"\",\"issn\":\"\",\"pages\":\"\",\"other_ids\":{}},\"BIBREF56\":{\"ref_id\":\"b56\",\"title\":\"Fitting dynamic models to epidemic outbreaks with quantified uncertainty: A primer for parameter uncertainty, identifiability, and forecasts\",\"authors\":[{\"first\":\"G\",\"middle\":[],\"last\":\"Chowell\",\"suffix\":\"\"}],\"year\":2017,\"venue\":\"Infect Dis Model\",\"volume\":\"2\",\"issn\":\"\",\"pages\":\"379--98\",\"other_ids\":{}},\"BIBREF57\":{\"ref_id\":\"b57\",\"title\":\"Reproduction numbers of infectious disease models\",\"authors\":[{\"first\":\"P\",\"middle\":[],\"last\":\"Van Den Driessche\",\"suffix\":\"\"}],\"year\":2017,\"venue\":\"Infect Dis Model\",\"volume\":\"2\",\"issn\":\"\",\"pages\":\"288--303\",\"other_ids\":{}},\"BIBREF58\":{\"ref_id\":\"b58\",\"title\":\"Cost of intensive care in India\",\"authors\":[{\"first\":\"R\",\"middle\":[],\"last\":\"Jayaram\",\"suffix\":\"\"},{\"first\":\"N\",\"middle\":[],\"last\":\"Ramakrishnan\",\"suffix\":\"\"}],\"year\":2008,\"venue\":\"Indian J Crit Care Med Peer-Rev Off Publ Indian Soc Crit Care Med\",\"volume\":\"12\",\"issn\":\"\",\"pages\":\"55--61\",\"other_ids\":{}},\"BIBREF59\":{\"ref_id\":\"b59\",\"title\":\"Characteristics of and Important Lessons From the Coronavirus Disease 2019 (COVID-19) Outbreak in China: Summary of a Report of 72 314 Cases From the Chinese Center for Disease Control and Prevention\",\"authors\":[{\"first\":\"Z\",\"middle\":[],\"last\":\"Wu\",\"suffix\":\"\"},{\"first\":\"J\",\"middle\":[\"M\"],\"last\":\"Mcgoogan\",\"suffix\":\"\"}],\"year\":2020,\"venue\":\"JAMA\",\"volume\":\"323\",\"issn\":\"\",\"pages\":\"1239--1281\",\"other_ids\":{}}},\"ref_entries\":{\"FIGREF0\":{\"text\":\"Transmission dynamics and incidence of COVID-19 in India, along with major events and mobility trends. [A] Daily new cases by confirmation date in India up to 2 May 2020 stratified as imported (red) and local (dark blue). The dates of testing criteria updates are overlaid since the scope of testing influences the number of confirmed cases (appendix p9). 41 [B] Daily new cases by onset date (estimated epidemic curve) up to.\",\"latex\":null,\"type\":\"figure\"},\"FIGREF1\":{\"text\":\"For the base assumptions, our model predicted 19741 (95% CI 17187-21870) maximum active cases, 34049 (30330-38648) cumulative detected cases, of which 29610 (26377-33609) were symptomatic till the end of first wave. The total infections were 73820 (65746-83811). Key time points were predicted as time at peak of daily new reported cases (t1) between 16 April and 19 April 2020, time at peak of active cases (t2) between 3 May and 8 May 2020, and time when recovered cases > active cases (t3) between 25 May and 29 May 2020 (Figure 3). 95% CI of 1000 bootstrapped predictions are reported here. The predicted case counts increased and key points were delayed with higher assumptions of asymptomatic proportion (p a ).\",\"latex\":null,\"type\":\"figure\"},\"FIGREF2\":{\"text\":\"Model simulation of the first wave of COVID-19 in India, assuming the lockdown continues indefinitely with the initial stringency. Bands represent 95% CI for the mean prediction over 1000 bootstraps. Three key time points in epidemic progression are shown time at peak of daily new reported cases (t1), time at peak of active cases (t2), and time when recovered cases > active cases (t3). Results shown for the baseline scenario (asymptomatics are 50% infectious compared to symptomatic, 60% of total infections are asymptomatic, 10% asymptomatics are detected and quarantined). Results for other assumptions in appendix. [A] Simulated values of model compartments over time. Quarantined cases are equivalent to the active cases at a particular time. \\'+\\' represents data with which the model was trained. [B] Predicted total infections, detected cases, and symptomatic cases over time. [C] Predicted daily new cases over time.\",\"latex\":null,\"type\":\"figure\"},\"FIGREF3\":{\"text\":\"Effect of complete lockdown relaxation under various scenarios. Results are shown for the baseline scenario (asymptomatics are 50% infectious compared to symptomatics, 60% of total infections are asymptomatic, 10% of asymptomatics are detected and quarantined). Bands represent 95% CI for the mean prediction over 1000 bootstraps for all model plots. [A] Simulated values of the model compartments Q (active cases), Qs (active symptomatic cases) and R (recovered) under complete and sustained lockdown relaxation starting 4 May, 25 May, and 15 June 2020; showing increasing delay to start of the second wave with later relaxation. Inlay shows the underlying depletion of undetected infectious pool as the first wave crosses the peak. [B] Days to new rise in active cases (time delay after respective relaxation date) at different dates for lockdown relaxation. This effect is expected to be generalizable when interpreted with respect to the actual date of peak of active cases (compare with red dot). Black line represents the line joining\",\"latex\":null,\"type\":\"figure\"},\"FIGREF4\":{\"text\":\"to start of the second wave and lower magnitude of the second wave with later relaxation. [D] Heatmap for the peak active cases under different lockdown relaxation durations and dates of start of relaxation. These values are counterfactuals in the worstcase scenario, where lockdown has been completely lifted across the country.\",\"latex\":null,\"type\":\"figure\"},\"FIGREF5\":{\"text\":\"Effect of expanded testing and varying social mixing after complete lockdown relaxation. Results shown for the baseline scenario (asymptomatics are 50% infectious compared to symptomatic, 60% of total infections are asymptomatic, 10% asymptomatics are detected before lockdown relaxation). Any increase in testing or any decrease in social mixing starts from the day of lockdown relaxation. Results for other assumptions in appendix. Error bars represent 95% confidence intervals for 1000 bootstrapped predictions. All values are given in thousands of individuals.[A] and [B]Total number of infections, detected cases and symptomatic cases at 15 days and 45 days after lockdown relaxation with varying levels of testing.[C] Effect of increasing testing and decreasing social mixing on the number of symptomatic cases at 15 days after the lockdown relaxation.[D] Heatmap for total symptomatic cases after 15 days under different reductions in transmission rate (proxy for social distancing policies) and asymptomatic detection rate (proxy for testing policy). An example of a feasible combination of testing and social distancing policy is indicated by the area between two watershed lines (grey)\",\"latex\":null,\"type\":\"figure\"},\"FIGREF6\":{\"text\":\"and GGP conceptualised the study. MG and SSM designed the model. SSM programmed the model and performed formal analyses. MG wrote the original draft. SSM, AR, MAg, MAr and AMa assisted in manuscript preparation and reviewed existing evidence. GGP, AL, PB and AB consulted on the analyses and reviewed the draft. SSM and MG made the figures. RK, VPM, PT, SB and AMo collected and curated primary patient data and enabled interdepartment coordination at the hospital. GGP and MG supervised the project. All authors interpreted the results, contributed to writing the manuscript, and approved the final version for submission.\",\"latex\":null,\"type\":\"figure\"},\"FIGREF7\":{\"text\":\"of the COVID-19 epidemic in India, and evaluating the impact of asymptomatic carriers and role of expanded testing in the lockdown exit strategy: a modelling approach Mohak Gupta 1# (MBBS), Saptarshi Soham Mohanta 2# , Aditi Rao 1* , Giridara Gopal Parameswaran 1* (MD)India Institute of Medical Sciences (AIIMS), Bhubaneswar, India\",\"latex\":null,\"type\":\"figure\"},\"FIGREF8\":{\"text\":\"Rt for other Indian States up to 11 April 2020. The state name is green if the most recent 50% CI of Rt is below 1, otherwise red. State-level Incidence by Onset and Effective Reproductive Number (Rt) number calculated with time-dependent\",\"latex\":null,\"type\":\"figure\"},\"TABREF0\":{\"text\":\"Parameters for SEIR-QDPA model.\",\"latex\":null,\"type\":\"table\",\"html\":\"<html><body><table><tr><td>PARAMETER </td><td>VALUE </td><td>REFERENCE </td></tr><tr><td>Protection rate (α) </td><td>\\xad </td><td>Estimated </td></tr><tr><td>Deprotection rate (σ) </td><td>0.66 for fast lockdown relaxation, same as α for slow lockdown relaxation </td><td>Tested </td></tr><tr><td>Transmission rate (β) </td><td>\\xad </td><td>Estimated </td></tr><tr><td>0·9, 0·8, 0·7, 0·6, 0·5, 0·3 of β for social mixing levels </td><td>Tested </td></tr><tr><td>Median incubation period (γ\\xad1) </td><td>5·1 days </td><td>Lauer et al29 </td></tr><tr><td>\\xad1) Reporting lag for symptomatic (δs\\\\n</td><td>\\xad </td><td>Estimated </td></tr><tr><td>\\xad1) Infectious period for asymptomatic (δa\\\\n</td><td>8 days </td><td>Wolfel et al and He et al 30,31 </td></tr><tr><td>Mortality rate (κ) </td><td>\\xad </td><td>Estimated </td></tr><tr><td>Recovery rate (λ) </td><td>\\xad </td><td>Estimated </td></tr><tr><td>Infectivity of asymptomatic compared to symptomatic (ai) </td><td>0·5 (0•25, 0•75 for Sensitivity </td><td>Assumed </td></tr><tr><td>Analysis) </td><td>\\xa0</td></tr><tr><td>Probability of infected case being asymptomatic (pa) </td><td>0·2, 0·4, 0.6, 0·8 </td><td>Mizumoto et al, Gudbjartsson et al, </td></tr><tr><td>\\xa0</td><td>\\xa0</td><td>Lavezzo et al 17,18,32-34 </td></tr><tr><td>Probability of detection of asymptomatic case (fa) </td><td>0·1 (0•05,0•2 for Sensitivity </td><td>Russel et al 35 </td></tr><tr><td>Analysis) </td><td>\\xa0</td></tr><tr><td>\\xa0</td><td>0·2,0·3,0·4,0·5,0·6,0·8 for increased testing </td><td>Tested </td></tr></table></body></html>\"},\"TABREF3\":{\"text\":\"Estimated parameters for the model\",\"latex\":null,\"type\":\"table\",\"html\":\"<html><body><table><tr><td>PARAMETER </td><td>BEST-FIT ESTIMATE (95% CI) </td></tr><tr><td>Transmission Rate (β) </td><td>1•421 (1•287-1•553) </td></tr><tr><td>\\xad1) Reporting Lag (δs\\\\n</td><td>2•118 (2•069-2•200) </td></tr><tr><td>Protection Rate (α) </td><td>0•043 (0•038-0•048) </td></tr><tr><td>Recovery Rate (λ) </td><td>0•0191 (0•0184-0•0198) </td></tr><tr><td>Mortality Rate (κ) </td><td>0•0047 (0•0043-0•005) </td></tr><tr><td>Initial Exposed (E0) </td><td>50 (24-74) </td></tr><tr><td>Initial Symptomatic Infected (I0) </td><td>40 (29-54) </td></tr></table></body></html>\"},\"TABREF4\":{\"text\":\"Nizammudin cluster (a superspreading event originating in Delhi)-which represented about 30% of total COVID 19 cases in India in early April, with latest data linking the cluster to 4291 cases across more than 15 Indian states. 50 This event adds to the list of multiple COVID19 superspreader events around the world, which have caused unexpected spikes in cases. 51 It should be noted that clusters may disproportionately inflate transmission estimates, because targeted testing of people linked to the cluster leads to higher test positivity rates. The R t down trended 30 March onwards, with the most recent estimated R t of 1•159 (95% CI 1•128-1•189) on 22 April which was the lowest value of R t yet. Since there was no significant susceptible depletion, this decrease in transmission can be attributed to the intensive social restrictions in place. The trend of R t from 23 April onwards\",\"latex\":null,\"type\":\"table\"},\"TABREF5\":{\"text\":\"All relevant ethical guidelines have been followed; necessary IRB and/or ethics committee approvals have been obtained (through Institute Ethics Committee AIIMS Delhi; Ref. No. IECPG-166/23.04.2020). All necessary patient/participant consent has been obtained.\",\"latex\":null,\"type\":\"table\"},\"TABREF6\":{\"text\":\"He X, Lau EHY, Wu P, et al. Temporal dynamics in viral shedding and transmissibility of COVID19. Peng L, Yang W, Zhang D, Zhuge C, Hong L. Epidemic analysis of COVID19 in China by dynamical modeling. medRxiv 2020; : 2020.02.16.20023465. 37 Tindale L, Coombe M, Stockdale JE, et al. Transmission interval estimates suggest presymptomatic spread of COVID19. medRxiv 2020; : 2020.03.03.20029983. 38 Nishiura H, Linton NM, Akhmetzhanov AR. You C, Deng Y, Hu W, et al. Estimation of the TimeVarying Reproduction Number of COVID19 Outbreak in China. Advisory: Travel and Visa restrictions related to COVID19. Bur. Immigr. Gov. India. https://boi.gov.Guan X, Wu P, et al. Early Transmission Dynamics in Wuhan, China, of Novel Coronavirus-Infected Pneumonia. OxCGRT: Oxford COVID19 Government Response Tracker. https://covidtracker.bsg.ox.ac.uk/stringencyscatter (accessed April 29, 2020). 53 Peto J, Alwan NA, Godfrey KM, et al. Universal weekly testing as the UK COVID19 lockdown exit strategy. The\",\"latex\":null,\"type\":\"table\"},\"TABREF7\":{\"text\":\"pools | medRxiv. https://www.medrxiv.org/content/10.1101/2020.03.26.20039 438v1 (accessed April 21, 2020). 60 Abaluck J, Chevalier JA, Christakis NA, et al. The Case for Universal Cloth Mask Adoption and Policies to Increase Supply of Medical Masks for Health Workers.\",\"latex\":null,\"type\":\"table\"},\"TABREF10\":{\"text\":\"Fitting of the Exponential distribution by Maximum Likelihood Estimation (MLE)\",\"latex\":null,\"type\":\"table\",\"html\":\"<html><body><table><tr><td>Parameter </td><td>Estimate </td><td>Std. Error (SE) </td><td>Median (Bootstrap) </td><td>95% CI (Bootstrap) </td></tr><tr><td>rate </td><td>0·294 </td><td>0·040 </td><td>0·296 </td><td>0·229-0·389 </td></tr></table></body></html>\"},\"TABREF11\":{\"text\":\"R0 estimates for 12 Indian States\",\"latex\":null,\"type\":\"table\"},\"TABREF12\":{\"text\":\"Raw Data for Imported Cases. (Source-COVID19India 10 )\",\"latex\":null,\"type\":\"table\"},\"TABREF13\":{\"text\":\". https://doi.org/10.1101/2020.05.13.\",\"latex\":null,\"type\":\"table\"},\"TABREF14\":{\"text\":\". https://doi.org/10.1101/2020.05.13.20096826 doi: medRxiv preprint\",\"latex\":null,\"type\":\"table\"}},\"back_matter\":[],\"cord_uid\":\"5v1tpi9n\",\"has_full_text\":true,\"csv_metadata\":{\"abstract\":\"Background: The coronavirus disease 2019 (COVID-19) has caused over 3 200 000 cases and 230 000 deaths as on 2 May 2020, and has quickly become an unprecedented global health threat. India, with its unique challenges in fighting this pandemic, imposed one of the worlds strictest and largest population-wide lockdown on 25 March 2020. Here, we estimated key epidemiological parameters and evaluated the effect of control measures on the COVID-19 epidemic in India and its states. Through a modeling approach that accounted for asymptomatics, we assessed the impact of lockdown relaxation and increased testing. Methods: We estimated the basic reproduction number and effective reproduction number at a national and state level in India after adjusting for imported cases and reporting lag using established statistical methods, using time-series data from 4 March to 25 April 2020. Using a dynamic SEIR-QDPA model fitted to data from India, we forecasted the size and temporality of the ongoing first wave while accounting for the interventions in place. We used the model to simulate lockdown relaxation under various scenarios to evaluate its effect on the size and temporality of the second wave. We also evaluated the feasibility of increased testing as a containment strategy after restrictions are relaxed and its impact on the epidemic size and resumption of socio-economic activities, while taking into account the changes in transmission dynamics brought about by asymptomatic carriers. Findings: The median delay from symptom onset to detection (reporting lag) was estimated to be 2{middle dot}68 days (95% CI 2{middle dot}00-3{middle dot}00) with an IQR of 2{middle dot}03 days (95% CI 1{middle dot}00-3{middle dot}00). The R0 for India was estimated to be 2{middle dot}083 (95% CI 2{middle dot}044-2{middle dot}122 ; R2 = 0{middle dot}972), while the Rt gradually down trended from 1{middle dot}665 (95%CI 1{middle dot}539-1{middle dot}789) on 30 March to 1{middle dot}159 (95% CI 1{middle dot}128-1{middle dot}189) on 21 April. 60{middle dot}7% of confirmed COVID-19 cases in our sample were found to be asymptomatic. We observed that delaying the lockdown relaxation increases the time to new rise in active cases after the relaxation in a linear fashion. If lockdown was reintroduced after a fixed relaxation period, the magnitude of the second peak could be reduced by delaying the relaxation and decreasing the duration of relaxation. These benefits were greater in case of a gradual relaxation as compared to a sudden lifting of lockdown. We found that detecting a higher proportion of cases through testing significantly decreases the total infections. This positive impact of testing progressively increased at higher transmission rates when restrictions were relaxed. We found that similar containment targets could be achieved by both, a combination of high testing and less social restrictions, and a combination of lower testing with intensive social distancing. Interpretation: The nationwide social distancing interventions in India since 25 March have reduced the effective transmission levels, though sub-threshold Rt remains to be achieved. If lockdown is to be extended, additional benefits for mitigating the second wave can be achieved if it is extended farther after the peak of active cases has passed. Intensive social distancing is inherently enough to contain the epidemic, however, testing will play a pivotal role in the lockdown exit strategy by impeding the epidemic growth enough to allow for a greater resumption of socio-economic activities, thus minimizing the social and economic fallout resulting from severe restrictions. Considering that asymptomatics play an undeniable role in the transmission of COVID-19, dependence on presence of symptoms for control strategies, behavioural changes and testing should be reduced.\",\"arxiv_id\":\"\",\"authors\":\"Gupta, M.; Mohanta, S. S.; Rao, A.; Parameswaran, G. G.; Agarwal, M.; Arora, M.; Mazumder, A.; Lohiya, A.; Behera, P.; Bansal, A.; Kumar, R.; Meena, V. P.; Tiwari, P.; Mohan, A.; Bhatnagar, S.\",\"cord_uid\":\"5v1tpi9n\",\"doi\":\"10.1101/2020.05.13.20096826\",\"journal\":\"\",\"license\":\"medrxiv\",\"mag_id\":\"\",\"pdf_json_files\":\"document_parses/pdf_json/0dc4c9c4851bb6fc41b70b449a9fc27dcec3f002.json\",\"pmc_json_files\":\"\",\"pmcid\":\"\",\"publish_time\":\"2020-05-18\",\"pubmed_id\":\"\",\"s2_id\":\"218672786\",\"sha\":\"0dc4c9c4851bb6fc41b70b449a9fc27dcec3f002\",\"source_x\":\"MedRxiv\",\"title\":\"Transmission dynamics of the COVID-19 epidemic in India, and evaluating the impact of asymptomatic carriers and role of expanded testing in the lockdown exit strategy: a modelling approach\",\"url\":\"http://medrxiv.org/cgi/content/short/2020.05.13.20096826v1?rss=1\",\"who_covidence_id\":\"\"}}'"
      ]
     },
     "execution_count": 95,
     "metadata": {},
     "output_type": "execute_result"
    }
   ],
   "source": [
    "doc = full_searcher.doc('5v1tpi9n')\n",
    "doc.raw()"
   ]
  }
 ],
 "metadata": {
  "kernelspec": {
   "display_name": "Python 3",
   "language": "python",
   "name": "python3"
  },
  "language_info": {
   "codemirror_mode": {
    "name": "ipython",
    "version": 3
   },
   "file_extension": ".py",
   "mimetype": "text/x-python",
   "name": "python",
   "nbconvert_exporter": "python",
   "pygments_lexer": "ipython3",
   "version": "3.6.10"
  },
  "varInspector": {
   "cols": {
    "lenName": 16,
    "lenType": 16,
    "lenVar": 40
   },
   "kernels_config": {
    "python": {
     "delete_cmd_postfix": "",
     "delete_cmd_prefix": "del ",
     "library": "var_list.py",
     "varRefreshCmd": "print(var_dic_list())"
    },
    "r": {
     "delete_cmd_postfix": ") ",
     "delete_cmd_prefix": "rm(",
     "library": "var_list.r",
     "varRefreshCmd": "cat(var_dic_list()) "
    }
   },
   "types_to_exclude": [
    "module",
    "function",
    "builtin_function_or_method",
    "instance",
    "_Feature"
   ],
   "window_display": false
  }
 },
 "nbformat": 4,
 "nbformat_minor": 4
}
