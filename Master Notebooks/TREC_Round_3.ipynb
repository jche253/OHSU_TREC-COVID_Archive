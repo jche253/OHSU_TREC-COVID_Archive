{
 "cells": [
  {
   "cell_type": "code",
   "execution_count": 2,
   "metadata": {},
   "outputs": [],
   "source": [
    "import pandas as pd\n",
    "import numpy as np\n",
    "import torch\n",
    "import os\n",
    "from tqdm.auto import tqdm\n",
    "import json\n",
    "from datetime import datetime\n",
    "\n",
    "#Pyserini search\n",
    "from pyserini.search import SimpleSearcher, SimpleFusionSearcher\n",
    "from jnius import autoclass\n",
    "\n",
    "#XML parsing\n",
    "import xml.etree.ElementTree as ET\n",
    "\n",
    "#TREC_EVAL\n",
    "from trectools import misc, TrecRun, TrecQrel, procedures, fusion\n"
   ]
  },
  {
   "cell_type": "code",
   "execution_count": 3,
   "metadata": {},
   "outputs": [],
   "source": [
    "#Code can start here\n",
    "Pyserini_files = r'C:\\Users\\Jimmy Chen\\Box\\COVID19\\CORD19\\Pyserini_Lucene_CORD_index'\n",
    "TREC_COVID_root = r'C:\\Users\\Jimmy Chen\\Box\\COVID19\\CORD19\\TREC_COVID'\n",
    "\n",
    "#Round 2 indexes\n",
    "R3_abstract = os.path.join(Pyserini_files, 'lucene-index-cord19-abstract-2020-05-19')\n",
    "R3_fulltext = os.path.join(Pyserini_files, 'lucene-index-cord19-full-text-2020-05-19')\n",
    "R3_paragraphs = os.path.join(Pyserini_files, 'lucene-index-cord19-paragraph-2020-05-19')\n",
    "with open(os.path.join(Pyserini_files, 'docids-rnd3.txt')) as f:\n",
    "    R3_valid = f.read().splitlines()\n",
    "    \n",
    "#Load R1 qrels and extract docids searched already for each topic\n",
    "qrels_file1 = os.path.join(TREC_COVID_root, 'Round_1_Results', 'qrels-1.txt')\n",
    "qrels_file2 = os.path.join(TREC_COVID_root, 'Round_2_Results', 'qrels-rnd2.txt')\n",
    "qrels_table1 = pd.read_csv(qrels_file1, sep = ' ', header = None)\n",
    "qrels_table2 = pd.read_csv(qrels_file2, sep = ' ', header = None)\n",
    "qrels_table = qrels_table1.append(qrels_table2, ignore_index=True)\n",
    "qrels_table.columns = ['Topic', 'Q0' , 'Unnamed', 'docid', 'relevance']\n",
    "qrels_table.drop('Unnamed', axis=1, inplace=True)"
   ]
  },
  {
   "cell_type": "code",
   "execution_count": 4,
   "metadata": {},
   "outputs": [
    {
     "data": {
      "text/html": [
       "<div>\n",
       "<style scoped>\n",
       "    .dataframe tbody tr th:only-of-type {\n",
       "        vertical-align: middle;\n",
       "    }\n",
       "\n",
       "    .dataframe tbody tr th {\n",
       "        vertical-align: top;\n",
       "    }\n",
       "\n",
       "    .dataframe thead th {\n",
       "        text-align: right;\n",
       "    }\n",
       "</style>\n",
       "<table border=\"1\" class=\"dataframe\">\n",
       "  <thead>\n",
       "    <tr style=\"text-align: right;\">\n",
       "      <th></th>\n",
       "      <th>Topic</th>\n",
       "      <th>Query</th>\n",
       "      <th>Question</th>\n",
       "      <th>Narrative</th>\n",
       "    </tr>\n",
       "  </thead>\n",
       "  <tbody>\n",
       "    <tr>\n",
       "      <th>0</th>\n",
       "      <td>1</td>\n",
       "      <td>coronavirus origin</td>\n",
       "      <td>what is the origin of COVID-19</td>\n",
       "      <td>seeking range of information about the SARS-Co...</td>\n",
       "    </tr>\n",
       "    <tr>\n",
       "      <th>1</th>\n",
       "      <td>2</td>\n",
       "      <td>coronavirus response to weather changes</td>\n",
       "      <td>how does the coronavirus respond to changes in...</td>\n",
       "      <td>seeking range of information about the SARS-Co...</td>\n",
       "    </tr>\n",
       "    <tr>\n",
       "      <th>2</th>\n",
       "      <td>3</td>\n",
       "      <td>coronavirus immunity</td>\n",
       "      <td>will SARS-CoV2 infected people develop immunit...</td>\n",
       "      <td>seeking studies of immunity developed due to i...</td>\n",
       "    </tr>\n",
       "    <tr>\n",
       "      <th>3</th>\n",
       "      <td>4</td>\n",
       "      <td>how do people die from the coronavirus</td>\n",
       "      <td>what causes death from Covid-19?</td>\n",
       "      <td>Studies looking at mechanisms of death from Co...</td>\n",
       "    </tr>\n",
       "    <tr>\n",
       "      <th>4</th>\n",
       "      <td>5</td>\n",
       "      <td>animal models of COVID-19</td>\n",
       "      <td>what drugs have been active against SARS-CoV o...</td>\n",
       "      <td>Papers that describe the results  of testing d...</td>\n",
       "    </tr>\n",
       "    <tr>\n",
       "      <th>5</th>\n",
       "      <td>6</td>\n",
       "      <td>coronavirus test rapid testing</td>\n",
       "      <td>what types of rapid testing for Covid-19 have ...</td>\n",
       "      <td>Looking for studies identifying ways to diagno...</td>\n",
       "    </tr>\n",
       "    <tr>\n",
       "      <th>6</th>\n",
       "      <td>7</td>\n",
       "      <td>serological tests for coronavirus</td>\n",
       "      <td>are there serological tests that detect antibo...</td>\n",
       "      <td>Looking for assays that measure immune respons...</td>\n",
       "    </tr>\n",
       "    <tr>\n",
       "      <th>7</th>\n",
       "      <td>8</td>\n",
       "      <td>coronavirus under reporting</td>\n",
       "      <td>how has lack of testing availability led to un...</td>\n",
       "      <td>Looking for studies answering questions of imp...</td>\n",
       "    </tr>\n",
       "    <tr>\n",
       "      <th>8</th>\n",
       "      <td>9</td>\n",
       "      <td>coronavirus in Canada</td>\n",
       "      <td>how has COVID-19 affected Canada</td>\n",
       "      <td>seeking data related to infections (confirm, s...</td>\n",
       "    </tr>\n",
       "    <tr>\n",
       "      <th>9</th>\n",
       "      <td>10</td>\n",
       "      <td>coronavirus social distancing impact</td>\n",
       "      <td>has social distancing had an impact on slowing...</td>\n",
       "      <td>seeking specific information on studies that h...</td>\n",
       "    </tr>\n",
       "    <tr>\n",
       "      <th>10</th>\n",
       "      <td>11</td>\n",
       "      <td>coronavirus hospital rationing</td>\n",
       "      <td>what are the guidelines for triaging patients ...</td>\n",
       "      <td>Seeking information on any guidelines for prio...</td>\n",
       "    </tr>\n",
       "    <tr>\n",
       "      <th>11</th>\n",
       "      <td>12</td>\n",
       "      <td>coronavirus quarantine</td>\n",
       "      <td>what are best practices in hospitals and at ho...</td>\n",
       "      <td>Seeking information on best practices for acti...</td>\n",
       "    </tr>\n",
       "    <tr>\n",
       "      <th>12</th>\n",
       "      <td>13</td>\n",
       "      <td>how does coronavirus spread</td>\n",
       "      <td>what are the transmission routes of coronavirus?</td>\n",
       "      <td>Looking for information on all possible ways t...</td>\n",
       "    </tr>\n",
       "    <tr>\n",
       "      <th>13</th>\n",
       "      <td>14</td>\n",
       "      <td>coronavirus super spreaders</td>\n",
       "      <td>what evidence is there related to COVID-19 sup...</td>\n",
       "      <td>seeking range of information related to the nu...</td>\n",
       "    </tr>\n",
       "    <tr>\n",
       "      <th>14</th>\n",
       "      <td>15</td>\n",
       "      <td>coronavirus outside body</td>\n",
       "      <td>how long can the coronavirus live outside the ...</td>\n",
       "      <td>seeking range of information on the SARS-CoV-2...</td>\n",
       "    </tr>\n",
       "    <tr>\n",
       "      <th>15</th>\n",
       "      <td>16</td>\n",
       "      <td>how long does coronavirus survive on surfaces</td>\n",
       "      <td>how long does coronavirus remain stable  on su...</td>\n",
       "      <td>Studies of time SARS-CoV-2 remains stable afte...</td>\n",
       "    </tr>\n",
       "    <tr>\n",
       "      <th>16</th>\n",
       "      <td>17</td>\n",
       "      <td>coronavirus clinical trials</td>\n",
       "      <td>are there any clinical trials available for th...</td>\n",
       "      <td>seeking specific COVID-19 clinical trials rang...</td>\n",
       "    </tr>\n",
       "    <tr>\n",
       "      <th>17</th>\n",
       "      <td>18</td>\n",
       "      <td>masks prevent coronavirus</td>\n",
       "      <td>what are the best masks for preventing infecti...</td>\n",
       "      <td>What types of masks should or should not be us...</td>\n",
       "    </tr>\n",
       "    <tr>\n",
       "      <th>18</th>\n",
       "      <td>19</td>\n",
       "      <td>what alcohol sanitizer kills coronavirus</td>\n",
       "      <td>what type of hand sanitizer is needed to destr...</td>\n",
       "      <td>Studies assessing chemicals and their concentr...</td>\n",
       "    </tr>\n",
       "    <tr>\n",
       "      <th>19</th>\n",
       "      <td>20</td>\n",
       "      <td>coronavirus and ACE inhibitors</td>\n",
       "      <td>are patients taking Angiotensin-converting enz...</td>\n",
       "      <td>Looking for information on interactions betwee...</td>\n",
       "    </tr>\n",
       "    <tr>\n",
       "      <th>20</th>\n",
       "      <td>21</td>\n",
       "      <td>coronavirus mortality</td>\n",
       "      <td>what are the mortality rates overall and in sp...</td>\n",
       "      <td>Seeking  information on COVID-19 fatality rate...</td>\n",
       "    </tr>\n",
       "    <tr>\n",
       "      <th>21</th>\n",
       "      <td>22</td>\n",
       "      <td>coronavirus heart impacts</td>\n",
       "      <td>are cardiac complications likely in patients w...</td>\n",
       "      <td>Seeking information on the types, frequency an...</td>\n",
       "    </tr>\n",
       "    <tr>\n",
       "      <th>22</th>\n",
       "      <td>23</td>\n",
       "      <td>coronavirus hypertension</td>\n",
       "      <td>what kinds of complications related to COVID-1...</td>\n",
       "      <td>seeking specific outcomes that hypertensive  (...</td>\n",
       "    </tr>\n",
       "    <tr>\n",
       "      <th>23</th>\n",
       "      <td>24</td>\n",
       "      <td>coronavirus diabetes</td>\n",
       "      <td>what kinds of complications related to COVID-1...</td>\n",
       "      <td>seeking specific outcomes that diabetic (any t...</td>\n",
       "    </tr>\n",
       "    <tr>\n",
       "      <th>24</th>\n",
       "      <td>25</td>\n",
       "      <td>coronavirus biomarkers</td>\n",
       "      <td>which biomarkers predict the severe clinical c...</td>\n",
       "      <td>Looking for information on biomarkers that pre...</td>\n",
       "    </tr>\n",
       "    <tr>\n",
       "      <th>25</th>\n",
       "      <td>26</td>\n",
       "      <td>coronavirus early symptoms</td>\n",
       "      <td>what are the initial symptoms of Covid-19?</td>\n",
       "      <td>Studies of patients and the first clinical man...</td>\n",
       "    </tr>\n",
       "    <tr>\n",
       "      <th>26</th>\n",
       "      <td>27</td>\n",
       "      <td>coronavirus asymptomatic</td>\n",
       "      <td>what is known about those infected with Covid-...</td>\n",
       "      <td>Studies of people who are known to be infected...</td>\n",
       "    </tr>\n",
       "    <tr>\n",
       "      <th>27</th>\n",
       "      <td>28</td>\n",
       "      <td>coronavirus hydroxychloroquine</td>\n",
       "      <td>what evidence is there for the value of hydrox...</td>\n",
       "      <td>Basic science or clinical studies assessing th...</td>\n",
       "    </tr>\n",
       "    <tr>\n",
       "      <th>28</th>\n",
       "      <td>29</td>\n",
       "      <td>coronavirus drug repurposing</td>\n",
       "      <td>which SARS-CoV-2 proteins-human proteins inter...</td>\n",
       "      <td>Seeking information about protein-protein inte...</td>\n",
       "    </tr>\n",
       "    <tr>\n",
       "      <th>29</th>\n",
       "      <td>30</td>\n",
       "      <td>coronavirus remdesivir</td>\n",
       "      <td>is remdesivir an effective treatment for COVID-19</td>\n",
       "      <td>seeking specific information on clinical outco...</td>\n",
       "    </tr>\n",
       "    <tr>\n",
       "      <th>30</th>\n",
       "      <td>31</td>\n",
       "      <td>difference between coronavirus and flu</td>\n",
       "      <td>How does the coronavirus differ from seasonal ...</td>\n",
       "      <td>Includes studies ranging from those focusing o...</td>\n",
       "    </tr>\n",
       "    <tr>\n",
       "      <th>31</th>\n",
       "      <td>32</td>\n",
       "      <td>coronavirus subtypes</td>\n",
       "      <td>Does SARS-CoV-2 have any subtypes, and if so w...</td>\n",
       "      <td>Papers that discuss subtypes of the virus, fro...</td>\n",
       "    </tr>\n",
       "    <tr>\n",
       "      <th>32</th>\n",
       "      <td>33</td>\n",
       "      <td>coronavirus vaccine candidates</td>\n",
       "      <td>What vaccine candidates are being tested for C...</td>\n",
       "      <td>Seeking studies that discuss possible, but spe...</td>\n",
       "    </tr>\n",
       "    <tr>\n",
       "      <th>33</th>\n",
       "      <td>34</td>\n",
       "      <td>coronavirus recovery</td>\n",
       "      <td>What are the longer-term complications of thos...</td>\n",
       "      <td>Seeking information on the health outcomes for...</td>\n",
       "    </tr>\n",
       "    <tr>\n",
       "      <th>34</th>\n",
       "      <td>35</td>\n",
       "      <td>coronavirus public datasets</td>\n",
       "      <td>What new public datasets are available related...</td>\n",
       "      <td>Seeking articles that specifically release new...</td>\n",
       "    </tr>\n",
       "    <tr>\n",
       "      <th>35</th>\n",
       "      <td>36</td>\n",
       "      <td>SARS-CoV-2 spike structure</td>\n",
       "      <td>What is the protein structure of the SARS-CoV-...</td>\n",
       "      <td>Looking for studies of the structure of the sp...</td>\n",
       "    </tr>\n",
       "    <tr>\n",
       "      <th>36</th>\n",
       "      <td>37</td>\n",
       "      <td>SARS-CoV-2 phylogenetic analysis</td>\n",
       "      <td>What is the result of phylogenetic analysis of...</td>\n",
       "      <td>Looking for a range of studies which provide t...</td>\n",
       "    </tr>\n",
       "    <tr>\n",
       "      <th>37</th>\n",
       "      <td>38</td>\n",
       "      <td>COVID inflammatory response</td>\n",
       "      <td>What is the mechanism of inflammatory response...</td>\n",
       "      <td>Looking for a range of studies which describes...</td>\n",
       "    </tr>\n",
       "    <tr>\n",
       "      <th>38</th>\n",
       "      <td>39</td>\n",
       "      <td>COVID-19 cytokine storm</td>\n",
       "      <td>What is the mechanism of cytokine storm syndro...</td>\n",
       "      <td>Looking for studies that describes mechanism o...</td>\n",
       "    </tr>\n",
       "    <tr>\n",
       "      <th>39</th>\n",
       "      <td>40</td>\n",
       "      <td>coronavirus mutations</td>\n",
       "      <td>What are the observed mutations in the SARS-Co...</td>\n",
       "      <td>Looking for studies that describes the emergen...</td>\n",
       "    </tr>\n",
       "  </tbody>\n",
       "</table>\n",
       "</div>"
      ],
      "text/plain": [
       "   Topic                                          Query  \\\n",
       "0      1                             coronavirus origin   \n",
       "1      2        coronavirus response to weather changes   \n",
       "2      3                           coronavirus immunity   \n",
       "3      4         how do people die from the coronavirus   \n",
       "4      5                      animal models of COVID-19   \n",
       "5      6                 coronavirus test rapid testing   \n",
       "6      7              serological tests for coronavirus   \n",
       "7      8                    coronavirus under reporting   \n",
       "8      9                          coronavirus in Canada   \n",
       "9     10           coronavirus social distancing impact   \n",
       "10    11                 coronavirus hospital rationing   \n",
       "11    12                         coronavirus quarantine   \n",
       "12    13                    how does coronavirus spread   \n",
       "13    14                    coronavirus super spreaders   \n",
       "14    15                       coronavirus outside body   \n",
       "15    16  how long does coronavirus survive on surfaces   \n",
       "16    17                    coronavirus clinical trials   \n",
       "17    18                      masks prevent coronavirus   \n",
       "18    19       what alcohol sanitizer kills coronavirus   \n",
       "19    20                 coronavirus and ACE inhibitors   \n",
       "20    21                          coronavirus mortality   \n",
       "21    22                      coronavirus heart impacts   \n",
       "22    23                       coronavirus hypertension   \n",
       "23    24                           coronavirus diabetes   \n",
       "24    25                         coronavirus biomarkers   \n",
       "25    26                     coronavirus early symptoms   \n",
       "26    27                       coronavirus asymptomatic   \n",
       "27    28                 coronavirus hydroxychloroquine   \n",
       "28    29                   coronavirus drug repurposing   \n",
       "29    30                         coronavirus remdesivir   \n",
       "30    31         difference between coronavirus and flu   \n",
       "31    32                           coronavirus subtypes   \n",
       "32    33                 coronavirus vaccine candidates   \n",
       "33    34                           coronavirus recovery   \n",
       "34    35                    coronavirus public datasets   \n",
       "35    36                     SARS-CoV-2 spike structure   \n",
       "36    37               SARS-CoV-2 phylogenetic analysis   \n",
       "37    38                    COVID inflammatory response   \n",
       "38    39                        COVID-19 cytokine storm   \n",
       "39    40                          coronavirus mutations   \n",
       "\n",
       "                                             Question  \\\n",
       "0                      what is the origin of COVID-19   \n",
       "1   how does the coronavirus respond to changes in...   \n",
       "2   will SARS-CoV2 infected people develop immunit...   \n",
       "3                    what causes death from Covid-19?   \n",
       "4   what drugs have been active against SARS-CoV o...   \n",
       "5   what types of rapid testing for Covid-19 have ...   \n",
       "6   are there serological tests that detect antibo...   \n",
       "7   how has lack of testing availability led to un...   \n",
       "8                    how has COVID-19 affected Canada   \n",
       "9   has social distancing had an impact on slowing...   \n",
       "10  what are the guidelines for triaging patients ...   \n",
       "11  what are best practices in hospitals and at ho...   \n",
       "12   what are the transmission routes of coronavirus?   \n",
       "13  what evidence is there related to COVID-19 sup...   \n",
       "14  how long can the coronavirus live outside the ...   \n",
       "15  how long does coronavirus remain stable  on su...   \n",
       "16  are there any clinical trials available for th...   \n",
       "17  what are the best masks for preventing infecti...   \n",
       "18  what type of hand sanitizer is needed to destr...   \n",
       "19  are patients taking Angiotensin-converting enz...   \n",
       "20  what are the mortality rates overall and in sp...   \n",
       "21  are cardiac complications likely in patients w...   \n",
       "22  what kinds of complications related to COVID-1...   \n",
       "23  what kinds of complications related to COVID-1...   \n",
       "24  which biomarkers predict the severe clinical c...   \n",
       "25         what are the initial symptoms of Covid-19?   \n",
       "26  what is known about those infected with Covid-...   \n",
       "27  what evidence is there for the value of hydrox...   \n",
       "28  which SARS-CoV-2 proteins-human proteins inter...   \n",
       "29  is remdesivir an effective treatment for COVID-19   \n",
       "30  How does the coronavirus differ from seasonal ...   \n",
       "31  Does SARS-CoV-2 have any subtypes, and if so w...   \n",
       "32  What vaccine candidates are being tested for C...   \n",
       "33  What are the longer-term complications of thos...   \n",
       "34  What new public datasets are available related...   \n",
       "35  What is the protein structure of the SARS-CoV-...   \n",
       "36  What is the result of phylogenetic analysis of...   \n",
       "37  What is the mechanism of inflammatory response...   \n",
       "38  What is the mechanism of cytokine storm syndro...   \n",
       "39  What are the observed mutations in the SARS-Co...   \n",
       "\n",
       "                                            Narrative  \n",
       "0   seeking range of information about the SARS-Co...  \n",
       "1   seeking range of information about the SARS-Co...  \n",
       "2   seeking studies of immunity developed due to i...  \n",
       "3   Studies looking at mechanisms of death from Co...  \n",
       "4   Papers that describe the results  of testing d...  \n",
       "5   Looking for studies identifying ways to diagno...  \n",
       "6   Looking for assays that measure immune respons...  \n",
       "7   Looking for studies answering questions of imp...  \n",
       "8   seeking data related to infections (confirm, s...  \n",
       "9   seeking specific information on studies that h...  \n",
       "10  Seeking information on any guidelines for prio...  \n",
       "11  Seeking information on best practices for acti...  \n",
       "12  Looking for information on all possible ways t...  \n",
       "13  seeking range of information related to the nu...  \n",
       "14  seeking range of information on the SARS-CoV-2...  \n",
       "15  Studies of time SARS-CoV-2 remains stable afte...  \n",
       "16  seeking specific COVID-19 clinical trials rang...  \n",
       "17  What types of masks should or should not be us...  \n",
       "18  Studies assessing chemicals and their concentr...  \n",
       "19  Looking for information on interactions betwee...  \n",
       "20  Seeking  information on COVID-19 fatality rate...  \n",
       "21  Seeking information on the types, frequency an...  \n",
       "22  seeking specific outcomes that hypertensive  (...  \n",
       "23  seeking specific outcomes that diabetic (any t...  \n",
       "24  Looking for information on biomarkers that pre...  \n",
       "25  Studies of patients and the first clinical man...  \n",
       "26  Studies of people who are known to be infected...  \n",
       "27  Basic science or clinical studies assessing th...  \n",
       "28  Seeking information about protein-protein inte...  \n",
       "29  seeking specific information on clinical outco...  \n",
       "30  Includes studies ranging from those focusing o...  \n",
       "31  Papers that discuss subtypes of the virus, fro...  \n",
       "32  Seeking studies that discuss possible, but spe...  \n",
       "33  Seeking information on the health outcomes for...  \n",
       "34  Seeking articles that specifically release new...  \n",
       "35  Looking for studies of the structure of the sp...  \n",
       "36  Looking for a range of studies which provide t...  \n",
       "37  Looking for a range of studies which describes...  \n",
       "38  Looking for studies that describes mechanism o...  \n",
       "39  Looking for studies that describes the emergen...  "
      ]
     },
     "execution_count": 4,
     "metadata": {},
     "output_type": "execute_result"
    }
   ],
   "source": [
    "#XML files for TREC-COVID rounds\n",
    "Topics = os.path.join(Pyserini_files, 'topics-rnd3.xml')\n",
    "Tree = ET.parse(Topics)\n",
    "\n",
    "Root = Tree.getroot()\n",
    "\n",
    "topicid = []\n",
    "query = []\n",
    "question = []\n",
    "narrative = []\n",
    "\n",
    "for child in Root.iter():\n",
    "    tag =child.tag\n",
    "    text = child.text\n",
    "    attrib = child.attrib\n",
    "    if (tag == 'topic'):\n",
    "        topicid.append(attrib['number'])\n",
    "    if (tag == 'query'):\n",
    "        query.append(text)\n",
    "    if (tag == 'question'):\n",
    "        question.append(text)\n",
    "    if (tag == 'narrative'):\n",
    "        narrative.append(text)\n",
    "\n",
    "#Join to CSV\n",
    "Round_dict  = {'Topic':topicid, 'Query':query, 'Question':question , 'Narrative':narrative}\n",
    "Round_df = pd.DataFrame(Round_dict)\n",
    "Round_df = Round_df[['Topic', 'Query', 'Question', 'Narrative']]\n",
    "Round_df.to_csv(os.path.join(Pyserini_files, 'Round3_Topics.csv'), sep = ' ', header = True)\n",
    "Round_df"
   ]
  },
  {
   "cell_type": "code",
   "execution_count": 5,
   "metadata": {},
   "outputs": [
    {
     "name": "stderr",
     "output_type": "stream",
     "text": [
      "[nltk_data] Downloading package stopwords to C:\\Users\\Jimmy\n",
      "[nltk_data]     Chen\\AppData\\Roaming\\nltk_data...\n",
      "[nltk_data]   Package stopwords is already up-to-date!\n"
     ]
    }
   ],
   "source": [
    "#Query design\n",
    "from pyserini.analysis import Analyzer, get_lucene_analyzer\n",
    "import nltk\n",
    "from nltk.corpus import stopwords \n",
    "nltk.download('stopwords')\n",
    "\n",
    "#Stopwords for tokenization - manual review\n",
    "stopwords_manual = ['seek', 'seeking', 'look', 'looking', 'studies', 'study', 'information', \n",
    "             'about', 'range', 'studies', 'its', 'coronaviru',\n",
    "            'other', '2', '19', 'well', ' will', 'from', 'have', 'more', 'covid', 'any', 'what', \n",
    "            'should', 'may', 'due', 'help', 'non', 's', 'those', 'people', 'ways', 'all', 'gain',\n",
    "            'possible', 'toward', 'specifically', 'learned', 'number', 'proportion', 'including',\n",
    "            'etc', 'still', 'while', 'human', 'specific', 'result', 'results', 'assess', 'need',\n",
    "            'between', 'take', 'taking', 'patient', 'type', 'cause' ,'frequency', 'less', 'face',\n",
    "            'likely', 'infect', 'upon', 'develop', 'represent', 'promising', 'step', 'related',\n",
    "            'papers', 'describe', 'also', 'relevant', 'who', 'show', 'science', 'basic', 'complete',\n",
    "            'do', 'how', 'been', 'against', 'use', 'to', 'had', 'has', 'approach', 'Studies', 'Stud', 'Inst', 'Divi' ,'Thomae',\n",
    "            'Brigham', 'Young', 'Univ', 'studies', 'volition', 'severe acute respiratory syndrome', 'affect', 'affected',\n",
    "            'focus', 'discuss', 'speculative', 'must', 'include', 'draw', 'everyday', 'person', 'another', 'everyday', 'kind',\n",
    "            'comparison', 'direct', 'previous', 'articles', 'among', 'ncov', 'mechanism', 'implication', 'anti',\n",
    "            'potential', 'occur', 'often','pathogenesi', 'observe', 'provide', 'em', '2019']\n",
    "\n",
    "stopwords = list(set(stopwords.words('english')))\n",
    "stopwords_manual = list(np.append(stopwords_manual, stopwords))\n",
    "\n",
    "token_narrative_list = []\n",
    "\n",
    "#Extract important narrative text\n",
    "for i in range(len(Round_df)):\n",
    "    analyzer = Analyzer(get_lucene_analyzer(stemmer='krovetz'))\n",
    "    tokens = analyzer.analyze(Round_df['Narrative'][i])\n",
    "    for i, word in enumerate(tokens):\n",
    "        if ('exclud' in word):\n",
    "            tokens = tokens[:i]\n",
    "            break\n",
    "    #Remove stopwords and duplicates from token\n",
    "    tokens = [w for w in tokens if not w in stopwords_manual]\n",
    "    tokens = list(set(tokens))\n",
    "    #Remove all tokens after exclude\n",
    "    \n",
    "    token_narrative_list.append(tokens)\n",
    "\n",
    "#Tokenize question\n",
    "token_question_list = []\n",
    "\n",
    "#Extract important question text - NOT USED YET\n",
    "for i in range(len(Round_df)):\n",
    "    analyzer = Analyzer(get_lucene_analyzer(stemmer='krovetz'))\n",
    "    tokens = analyzer.analyze(Round_df['Question'][i])\n",
    "    #Remove stopwords and duplicates from token\n",
    "    tokens = [w for w in tokens if not w in stopwords_manual]\n",
    "    tokens = list(set(tokens))\n",
    "    token_question_list.append(tokens)\n",
    "\n",
    "#Anserini searcher can take both query and keywords\n",
    "#keywords_list = '2019-nCoV, SARS-CoV-2, COVID-19'\n",
    "keywords_list = 'COVID-19'\n",
    "\n",
    "#Manual keywords\n",
    "manual = [\n",
    "            'originated', #1\n",
    "            'temperature, humidity',\n",
    "            'cross-reactive, crossprotective, cross immunity, specific antibody response, neutralize, adaptive immunity',\n",
    "            'harms, mortality, dead, risk factors',\n",
    "            'non-human',\n",
    "            'identification, detection, PCR, point of care',\n",
    "            'serology, antigen, antibodies',\n",
    "            'ascertainment, underestimate',\n",
    "            'cov, canadian',\n",
    "            'home, restriction, social-distancing', #10\n",
    "            'resources, stratification',\n",
    "            'closure, restricted, movement, gathering',\n",
    "            'source, route, transmitted',\n",
    "            'super-spreader',\n",
    "            'aerosol, contact, droplet',\n",
    "            'live, days, contaminated',\n",
    "            'randomized, randomised, controlled',\n",
    "            'personal, protective, equipment, PPE, face',\n",
    "            'hygiene, alcohol-based',\n",
    "            'ARBs, blocker', #20\n",
    "            'death',\n",
    "            'coronary',\n",
    "            'blood, pressure',\n",
    "            'mellitus',\n",
    "            '',\n",
    "            'onset, new, presentation',\n",
    "            'SARS-CoV-2, 2019-nCoV',\n",
    "            'chloroquine ',\n",
    "            'binding',\n",
    "            '', #30\n",
    "            '', #31\n",
    "            'type', #32\n",
    "            '', #33\n",
    "            'long-term, survivors', #34\n",
    "            '', #35\n",
    "            'S-protein, S Protein',\n",
    "            '',\n",
    "            'pathogenesis, immune',\n",
    "            'treatment',\n",
    "            '',\n",
    "]"
   ]
  },
  {
   "cell_type": "code",
   "execution_count": 7,
   "metadata": {},
   "outputs": [],
   "source": [
    "#Create SimpleSearcher for full text and paragraph indexes - Do this for Round 3 data\n",
    "abstract_searcher = SimpleSearcher(R3_abstract)\n",
    "full_searcher = SimpleSearcher(R3_fulltext)\n",
    "paragraph_searcher = SimpleSearcher(R3_paragraphs)\n",
    "\n",
    "#Tuned hyperparameters\n",
    "abstract_searcher.set_bm25(k1=1.5, b=0.4)\n",
    "abstract_searcher.set_qld(mu = 2000)\n",
    "abstract_searcher.set_rm3(fb_terms=20, fb_docs=10, original_query_weight=0.7) #Pseudo-reranker\n",
    "\n",
    "full_searcher.set_bm25(k1=1.5, b=0.4)\n",
    "full_searcher.set_qld(mu = 2000)\n",
    "full_searcher.set_rm3(fb_terms=20, fb_docs=10, original_query_weight=0.7)\n",
    "\n",
    "paragraph_searcher.set_bm25(k1=1.5, b=0.4)\n",
    "paragraph_searcher.set_qld(mu = 2000)\n",
    "paragraph_searcher.set_rm3(fb_terms=20, fb_docs=10, original_query_weight=0.7)"
   ]
  },
  {
   "cell_type": "code",
   "execution_count": 96,
   "metadata": {},
   "outputs": [],
   "source": [
    "input_queries = []\n",
    "\n",
    "for ii, row in Round_df.iterrows():\n",
    "    query = Round_df['Query'][ii]\n",
    "    question = Round_df['Question'][ii]\n",
    "    topic_num = Round_df['Topic'][ii]\n",
    "    token_topic = ', '.join(token_narrative_list[ii])\n",
    "    token_question = ','.join(token_question_list[ii])\n",
    "    manual_query = manual[ii] \n",
    "    input_query = query + '. ' + token_question + '. ' +  token_topic + ', ' + manual_query + ' . ' + keywords_list \n",
    "    input_queries.append(input_query)\n",
    "\n",
    "#Save\n",
    "with open(r\"C:\\Users\\Jimmy Chen\\Box\\COVID19\\CORD19\\TREC_COVID\\Search Queries\\Round3_QQNTokens.txt\", \"w\") as outfile:\n",
    "    outfile.write(\"\\n\".join(input_queries))"
   ]
  },
  {
   "cell_type": "code",
   "execution_count": 8,
   "metadata": {},
   "outputs": [],
   "source": [
    "#Extract search results from the searcher\n",
    "def get_search_res_list(index_searcher, n_papers, paragraph = False):\n",
    "    docid_list = []\n",
    "    rank_list = []\n",
    "    score_list = []\n",
    "    topic_id_list = []\n",
    "    title_list = []\n",
    "    doi_list = []\n",
    "    publish_list = []\n",
    "    \n",
    "    if (paragraph == True):\n",
    "        n_papers = n_papers * 20\n",
    "    \n",
    "    #Search all 3 indices (abstract, full text, and paragraphs) using question as a query\n",
    "    for ii, row in Round_df.iterrows():\n",
    "        query = Round_df['Query'][ii]\n",
    "        question = Round_df['Question'][ii]\n",
    "        topic_num = Round_df['Topic'][ii]\n",
    "        token_topic = ', '.join(token_narrative_list[ii])\n",
    "        token_question = ','.join(token_question_list[ii])\n",
    "        manual_query = manual[ii] \n",
    "        input_query = query + '. ' + token_question + '. ' +  token_topic + ', ' + manual_query + ' . ' + keywords_list \n",
    "        \n",
    "        hits = index_searcher.search(q = input_query, k=n_papers)\n",
    "        print(topic_num)\n",
    "        #Each key is a qid, value is the anserini search list\n",
    "        for i in tqdm(range(0, n_papers), position = 0, leave = True):\n",
    "            topic_id_list.append(topic_num)\n",
    "            if (paragraph == True):\n",
    "                docid_list.append(str(hits[i].docid).split('.')[0])\n",
    "            else:\n",
    "                docid_list.append(hits[i].docid)\n",
    "            rank_list.append(str(i+1))\n",
    "            score_list.append(hits[i].score)\n",
    "            title_list.append(hits[i].lucene_document.get(\"title\"))\n",
    "            doi_list.append('https://doi.org/' + str(hits[i].lucene_document.get(\"doi\")))  \n",
    "            \n",
    "            #Get published date\n",
    "            doc_json = json.loads(hits[i].raw)\n",
    "            metadata = json.loads(json.dumps(doc_json['csv_metadata']))\n",
    "            publish_time_str = metadata['publish_time']\n",
    "            if len(publish_time_str) > 0:\n",
    "                try:\n",
    "                    publish_time = datetime.strptime(publish_time_str, '%Y-%m-%d')\n",
    "                except:\n",
    "                    publish_time = datetime.strptime(publish_time_str, '%Y')\n",
    "            else:\n",
    "                publish_time = ''\n",
    "            \n",
    "            publish_list.append(publish_time)\n",
    "\n",
    "    return topic_id_list, docid_list, rank_list, score_list, title_list, doi_list, publish_list"
   ]
  },
  {
   "cell_type": "code",
   "execution_count": 9,
   "metadata": {},
   "outputs": [
    {
     "name": "stdout",
     "output_type": "stream",
     "text": [
      "1\n"
     ]
    },
    {
     "data": {
      "application/vnd.jupyter.widget-view+json": {
       "model_id": "d4bc53c8096e4a8d97b0f9bc89266adb",
       "version_major": 2,
       "version_minor": 0
      },
      "text/plain": [
       "HBox(children=(FloatProgress(value=0.0, max=1200.0), HTML(value='')))"
      ]
     },
     "metadata": {},
     "output_type": "display_data"
    },
    {
     "name": "stdout",
     "output_type": "stream",
     "text": [
      "\n",
      "2\n"
     ]
    },
    {
     "data": {
      "application/vnd.jupyter.widget-view+json": {
       "model_id": "9a9b2bf68deb49649eeda9f2ee9c94b9",
       "version_major": 2,
       "version_minor": 0
      },
      "text/plain": [
       "HBox(children=(FloatProgress(value=0.0, max=1200.0), HTML(value='')))"
      ]
     },
     "metadata": {},
     "output_type": "display_data"
    },
    {
     "name": "stdout",
     "output_type": "stream",
     "text": [
      "\n",
      "3\n"
     ]
    },
    {
     "data": {
      "application/vnd.jupyter.widget-view+json": {
       "model_id": "e44389ad39ed4b3fa98d9156e8ea340a",
       "version_major": 2,
       "version_minor": 0
      },
      "text/plain": [
       "HBox(children=(FloatProgress(value=0.0, max=1200.0), HTML(value='')))"
      ]
     },
     "metadata": {},
     "output_type": "display_data"
    },
    {
     "name": "stdout",
     "output_type": "stream",
     "text": [
      "\n",
      "4\n"
     ]
    },
    {
     "data": {
      "application/vnd.jupyter.widget-view+json": {
       "model_id": "d0b328c9639d47668f0e4d0b57788c90",
       "version_major": 2,
       "version_minor": 0
      },
      "text/plain": [
       "HBox(children=(FloatProgress(value=0.0, max=1200.0), HTML(value='')))"
      ]
     },
     "metadata": {},
     "output_type": "display_data"
    },
    {
     "name": "stdout",
     "output_type": "stream",
     "text": [
      "\n",
      "5\n"
     ]
    },
    {
     "data": {
      "application/vnd.jupyter.widget-view+json": {
       "model_id": "695031c43c124372baea02f1cdd56399",
       "version_major": 2,
       "version_minor": 0
      },
      "text/plain": [
       "HBox(children=(FloatProgress(value=0.0, max=1200.0), HTML(value='')))"
      ]
     },
     "metadata": {},
     "output_type": "display_data"
    },
    {
     "name": "stdout",
     "output_type": "stream",
     "text": [
      "\n",
      "6\n"
     ]
    },
    {
     "data": {
      "application/vnd.jupyter.widget-view+json": {
       "model_id": "543584b5d83f421a8b1a71ca2432084d",
       "version_major": 2,
       "version_minor": 0
      },
      "text/plain": [
       "HBox(children=(FloatProgress(value=0.0, max=1200.0), HTML(value='')))"
      ]
     },
     "metadata": {},
     "output_type": "display_data"
    },
    {
     "name": "stdout",
     "output_type": "stream",
     "text": [
      "\n",
      "7\n"
     ]
    },
    {
     "data": {
      "application/vnd.jupyter.widget-view+json": {
       "model_id": "1bb7589228474e23a6bb5d533429d382",
       "version_major": 2,
       "version_minor": 0
      },
      "text/plain": [
       "HBox(children=(FloatProgress(value=0.0, max=1200.0), HTML(value='')))"
      ]
     },
     "metadata": {},
     "output_type": "display_data"
    },
    {
     "name": "stdout",
     "output_type": "stream",
     "text": [
      "\n",
      "8\n"
     ]
    },
    {
     "data": {
      "application/vnd.jupyter.widget-view+json": {
       "model_id": "74ac591c322e4415a508f0f5faaddb0d",
       "version_major": 2,
       "version_minor": 0
      },
      "text/plain": [
       "HBox(children=(FloatProgress(value=0.0, max=1200.0), HTML(value='')))"
      ]
     },
     "metadata": {},
     "output_type": "display_data"
    },
    {
     "name": "stdout",
     "output_type": "stream",
     "text": [
      "\n",
      "9\n"
     ]
    },
    {
     "data": {
      "application/vnd.jupyter.widget-view+json": {
       "model_id": "4c801b838013458692f3edb3b721190e",
       "version_major": 2,
       "version_minor": 0
      },
      "text/plain": [
       "HBox(children=(FloatProgress(value=0.0, max=1200.0), HTML(value='')))"
      ]
     },
     "metadata": {},
     "output_type": "display_data"
    },
    {
     "name": "stdout",
     "output_type": "stream",
     "text": [
      "\n",
      "10\n"
     ]
    },
    {
     "data": {
      "application/vnd.jupyter.widget-view+json": {
       "model_id": "306cc052b08641d4a08bb34b751a63d7",
       "version_major": 2,
       "version_minor": 0
      },
      "text/plain": [
       "HBox(children=(FloatProgress(value=0.0, max=1200.0), HTML(value='')))"
      ]
     },
     "metadata": {},
     "output_type": "display_data"
    },
    {
     "name": "stdout",
     "output_type": "stream",
     "text": [
      "\n",
      "11\n"
     ]
    },
    {
     "data": {
      "application/vnd.jupyter.widget-view+json": {
       "model_id": "4b5118bc31544bdfa6d510c24d7d519a",
       "version_major": 2,
       "version_minor": 0
      },
      "text/plain": [
       "HBox(children=(FloatProgress(value=0.0, max=1200.0), HTML(value='')))"
      ]
     },
     "metadata": {},
     "output_type": "display_data"
    },
    {
     "name": "stdout",
     "output_type": "stream",
     "text": [
      "\n",
      "12\n"
     ]
    },
    {
     "data": {
      "application/vnd.jupyter.widget-view+json": {
       "model_id": "67081d68efbe4d05b0dd94b2cbfe18a0",
       "version_major": 2,
       "version_minor": 0
      },
      "text/plain": [
       "HBox(children=(FloatProgress(value=0.0, max=1200.0), HTML(value='')))"
      ]
     },
     "metadata": {},
     "output_type": "display_data"
    },
    {
     "name": "stdout",
     "output_type": "stream",
     "text": [
      "\n",
      "13\n"
     ]
    },
    {
     "data": {
      "application/vnd.jupyter.widget-view+json": {
       "model_id": "3d0fe04eae554a05adc9a65ca84122ed",
       "version_major": 2,
       "version_minor": 0
      },
      "text/plain": [
       "HBox(children=(FloatProgress(value=0.0, max=1200.0), HTML(value='')))"
      ]
     },
     "metadata": {},
     "output_type": "display_data"
    },
    {
     "name": "stdout",
     "output_type": "stream",
     "text": [
      "\n",
      "14\n"
     ]
    },
    {
     "data": {
      "application/vnd.jupyter.widget-view+json": {
       "model_id": "92c160f711884087ac3195410e039ebc",
       "version_major": 2,
       "version_minor": 0
      },
      "text/plain": [
       "HBox(children=(FloatProgress(value=0.0, max=1200.0), HTML(value='')))"
      ]
     },
     "metadata": {},
     "output_type": "display_data"
    },
    {
     "name": "stdout",
     "output_type": "stream",
     "text": [
      "\n",
      "15\n"
     ]
    },
    {
     "data": {
      "application/vnd.jupyter.widget-view+json": {
       "model_id": "fe6984ff99ba463c85107a179869ca5c",
       "version_major": 2,
       "version_minor": 0
      },
      "text/plain": [
       "HBox(children=(FloatProgress(value=0.0, max=1200.0), HTML(value='')))"
      ]
     },
     "metadata": {},
     "output_type": "display_data"
    },
    {
     "name": "stdout",
     "output_type": "stream",
     "text": [
      "\n",
      "16\n"
     ]
    },
    {
     "data": {
      "application/vnd.jupyter.widget-view+json": {
       "model_id": "71aa68d88b8f49ce9e3faca5f7710a3e",
       "version_major": 2,
       "version_minor": 0
      },
      "text/plain": [
       "HBox(children=(FloatProgress(value=0.0, max=1200.0), HTML(value='')))"
      ]
     },
     "metadata": {},
     "output_type": "display_data"
    },
    {
     "name": "stdout",
     "output_type": "stream",
     "text": [
      "\n",
      "17\n"
     ]
    },
    {
     "data": {
      "application/vnd.jupyter.widget-view+json": {
       "model_id": "4acb709edc184cc1a815ebc581fdf95e",
       "version_major": 2,
       "version_minor": 0
      },
      "text/plain": [
       "HBox(children=(FloatProgress(value=0.0, max=1200.0), HTML(value='')))"
      ]
     },
     "metadata": {},
     "output_type": "display_data"
    },
    {
     "name": "stdout",
     "output_type": "stream",
     "text": [
      "\n",
      "18\n"
     ]
    },
    {
     "data": {
      "application/vnd.jupyter.widget-view+json": {
       "model_id": "1946b03fd7b44eae9a73af641979d90a",
       "version_major": 2,
       "version_minor": 0
      },
      "text/plain": [
       "HBox(children=(FloatProgress(value=0.0, max=1200.0), HTML(value='')))"
      ]
     },
     "metadata": {},
     "output_type": "display_data"
    },
    {
     "name": "stdout",
     "output_type": "stream",
     "text": [
      "\n",
      "19\n"
     ]
    },
    {
     "data": {
      "application/vnd.jupyter.widget-view+json": {
       "model_id": "dbc4dfe53d494b36a0e64de1b4cff0db",
       "version_major": 2,
       "version_minor": 0
      },
      "text/plain": [
       "HBox(children=(FloatProgress(value=0.0, max=1200.0), HTML(value='')))"
      ]
     },
     "metadata": {},
     "output_type": "display_data"
    },
    {
     "name": "stdout",
     "output_type": "stream",
     "text": [
      "\n",
      "20\n"
     ]
    },
    {
     "data": {
      "application/vnd.jupyter.widget-view+json": {
       "model_id": "9b392431d39641da8eb76ace2f442056",
       "version_major": 2,
       "version_minor": 0
      },
      "text/plain": [
       "HBox(children=(FloatProgress(value=0.0, max=1200.0), HTML(value='')))"
      ]
     },
     "metadata": {},
     "output_type": "display_data"
    },
    {
     "name": "stdout",
     "output_type": "stream",
     "text": [
      "\n",
      "21\n"
     ]
    },
    {
     "data": {
      "application/vnd.jupyter.widget-view+json": {
       "model_id": "a5b747f92fa04f889a6e9426937b2a58",
       "version_major": 2,
       "version_minor": 0
      },
      "text/plain": [
       "HBox(children=(FloatProgress(value=0.0, max=1200.0), HTML(value='')))"
      ]
     },
     "metadata": {},
     "output_type": "display_data"
    },
    {
     "name": "stdout",
     "output_type": "stream",
     "text": [
      "\n",
      "22\n"
     ]
    },
    {
     "data": {
      "application/vnd.jupyter.widget-view+json": {
       "model_id": "d453481bcf1b4be09f76a84dd45a5fa5",
       "version_major": 2,
       "version_minor": 0
      },
      "text/plain": [
       "HBox(children=(FloatProgress(value=0.0, max=1200.0), HTML(value='')))"
      ]
     },
     "metadata": {},
     "output_type": "display_data"
    },
    {
     "name": "stdout",
     "output_type": "stream",
     "text": [
      "\n",
      "23\n"
     ]
    },
    {
     "data": {
      "application/vnd.jupyter.widget-view+json": {
       "model_id": "5bf9dc5a4d1a4449bab29eb5d8ec95d0",
       "version_major": 2,
       "version_minor": 0
      },
      "text/plain": [
       "HBox(children=(FloatProgress(value=0.0, max=1200.0), HTML(value='')))"
      ]
     },
     "metadata": {},
     "output_type": "display_data"
    },
    {
     "name": "stdout",
     "output_type": "stream",
     "text": [
      "\n",
      "24\n"
     ]
    },
    {
     "data": {
      "application/vnd.jupyter.widget-view+json": {
       "model_id": "24eebf80bc954011ab06f0f7124b5645",
       "version_major": 2,
       "version_minor": 0
      },
      "text/plain": [
       "HBox(children=(FloatProgress(value=0.0, max=1200.0), HTML(value='')))"
      ]
     },
     "metadata": {},
     "output_type": "display_data"
    },
    {
     "name": "stdout",
     "output_type": "stream",
     "text": [
      "\n",
      "25\n"
     ]
    },
    {
     "data": {
      "application/vnd.jupyter.widget-view+json": {
       "model_id": "47608925fa744c279a8f9773791935c1",
       "version_major": 2,
       "version_minor": 0
      },
      "text/plain": [
       "HBox(children=(FloatProgress(value=0.0, max=1200.0), HTML(value='')))"
      ]
     },
     "metadata": {},
     "output_type": "display_data"
    },
    {
     "name": "stdout",
     "output_type": "stream",
     "text": [
      "\n",
      "26\n"
     ]
    },
    {
     "data": {
      "application/vnd.jupyter.widget-view+json": {
       "model_id": "32fcd025487c49e9be4736cbf28f3251",
       "version_major": 2,
       "version_minor": 0
      },
      "text/plain": [
       "HBox(children=(FloatProgress(value=0.0, max=1200.0), HTML(value='')))"
      ]
     },
     "metadata": {},
     "output_type": "display_data"
    },
    {
     "name": "stdout",
     "output_type": "stream",
     "text": [
      "\n",
      "27\n"
     ]
    },
    {
     "data": {
      "application/vnd.jupyter.widget-view+json": {
       "model_id": "5ba431a7f8f44c088decb118e7d7d433",
       "version_major": 2,
       "version_minor": 0
      },
      "text/plain": [
       "HBox(children=(FloatProgress(value=0.0, max=1200.0), HTML(value='')))"
      ]
     },
     "metadata": {},
     "output_type": "display_data"
    },
    {
     "name": "stdout",
     "output_type": "stream",
     "text": [
      "\n",
      "28\n"
     ]
    },
    {
     "data": {
      "application/vnd.jupyter.widget-view+json": {
       "model_id": "4be22e6807cc4488868106bf0dca23fe",
       "version_major": 2,
       "version_minor": 0
      },
      "text/plain": [
       "HBox(children=(FloatProgress(value=0.0, max=1200.0), HTML(value='')))"
      ]
     },
     "metadata": {},
     "output_type": "display_data"
    },
    {
     "name": "stdout",
     "output_type": "stream",
     "text": [
      "\n",
      "29\n"
     ]
    },
    {
     "data": {
      "application/vnd.jupyter.widget-view+json": {
       "model_id": "e28ba53902f2443382c3a9d6306b05c0",
       "version_major": 2,
       "version_minor": 0
      },
      "text/plain": [
       "HBox(children=(FloatProgress(value=0.0, max=1200.0), HTML(value='')))"
      ]
     },
     "metadata": {},
     "output_type": "display_data"
    },
    {
     "name": "stdout",
     "output_type": "stream",
     "text": [
      "\n",
      "30\n"
     ]
    },
    {
     "data": {
      "application/vnd.jupyter.widget-view+json": {
       "model_id": "9b21fd9724fa4390bab2f02014479dc7",
       "version_major": 2,
       "version_minor": 0
      },
      "text/plain": [
       "HBox(children=(FloatProgress(value=0.0, max=1200.0), HTML(value='')))"
      ]
     },
     "metadata": {},
     "output_type": "display_data"
    },
    {
     "name": "stdout",
     "output_type": "stream",
     "text": [
      "\n",
      "31\n"
     ]
    },
    {
     "data": {
      "application/vnd.jupyter.widget-view+json": {
       "model_id": "503b83f0025e4aa58d89e3852a20073e",
       "version_major": 2,
       "version_minor": 0
      },
      "text/plain": [
       "HBox(children=(FloatProgress(value=0.0, max=1200.0), HTML(value='')))"
      ]
     },
     "metadata": {},
     "output_type": "display_data"
    },
    {
     "name": "stdout",
     "output_type": "stream",
     "text": [
      "\n",
      "32\n"
     ]
    },
    {
     "data": {
      "application/vnd.jupyter.widget-view+json": {
       "model_id": "b98745dd64ae415f8a547e6fbf8341f0",
       "version_major": 2,
       "version_minor": 0
      },
      "text/plain": [
       "HBox(children=(FloatProgress(value=0.0, max=1200.0), HTML(value='')))"
      ]
     },
     "metadata": {},
     "output_type": "display_data"
    },
    {
     "name": "stdout",
     "output_type": "stream",
     "text": [
      "\n",
      "33\n"
     ]
    },
    {
     "data": {
      "application/vnd.jupyter.widget-view+json": {
       "model_id": "8cd4bd4cc10d467897757ea989d0f9e8",
       "version_major": 2,
       "version_minor": 0
      },
      "text/plain": [
       "HBox(children=(FloatProgress(value=0.0, max=1200.0), HTML(value='')))"
      ]
     },
     "metadata": {},
     "output_type": "display_data"
    },
    {
     "name": "stdout",
     "output_type": "stream",
     "text": [
      "\n",
      "34\n"
     ]
    },
    {
     "data": {
      "application/vnd.jupyter.widget-view+json": {
       "model_id": "1a201ec05c8b44d58cf67aa9b065c08c",
       "version_major": 2,
       "version_minor": 0
      },
      "text/plain": [
       "HBox(children=(FloatProgress(value=0.0, max=1200.0), HTML(value='')))"
      ]
     },
     "metadata": {},
     "output_type": "display_data"
    },
    {
     "name": "stdout",
     "output_type": "stream",
     "text": [
      "\n",
      "35\n"
     ]
    },
    {
     "data": {
      "application/vnd.jupyter.widget-view+json": {
       "model_id": "b1296bfdc486400fa3f812abaa147583",
       "version_major": 2,
       "version_minor": 0
      },
      "text/plain": [
       "HBox(children=(FloatProgress(value=0.0, max=1200.0), HTML(value='')))"
      ]
     },
     "metadata": {},
     "output_type": "display_data"
    },
    {
     "name": "stdout",
     "output_type": "stream",
     "text": [
      "\n",
      "36\n"
     ]
    },
    {
     "data": {
      "application/vnd.jupyter.widget-view+json": {
       "model_id": "cec33eb44c504ff28222cf71f3ae6e40",
       "version_major": 2,
       "version_minor": 0
      },
      "text/plain": [
       "HBox(children=(FloatProgress(value=0.0, max=1200.0), HTML(value='')))"
      ]
     },
     "metadata": {},
     "output_type": "display_data"
    },
    {
     "name": "stdout",
     "output_type": "stream",
     "text": [
      "\n",
      "37\n"
     ]
    },
    {
     "data": {
      "application/vnd.jupyter.widget-view+json": {
       "model_id": "4f20790e18554ce0b3c67ac16f6bd61b",
       "version_major": 2,
       "version_minor": 0
      },
      "text/plain": [
       "HBox(children=(FloatProgress(value=0.0, max=1200.0), HTML(value='')))"
      ]
     },
     "metadata": {},
     "output_type": "display_data"
    },
    {
     "name": "stdout",
     "output_type": "stream",
     "text": [
      "\n",
      "38\n"
     ]
    },
    {
     "data": {
      "application/vnd.jupyter.widget-view+json": {
       "model_id": "9f6964e353be400ead76b61b7551d285",
       "version_major": 2,
       "version_minor": 0
      },
      "text/plain": [
       "HBox(children=(FloatProgress(value=0.0, max=1200.0), HTML(value='')))"
      ]
     },
     "metadata": {},
     "output_type": "display_data"
    },
    {
     "name": "stdout",
     "output_type": "stream",
     "text": [
      "\n",
      "39\n"
     ]
    },
    {
     "data": {
      "application/vnd.jupyter.widget-view+json": {
       "model_id": "27d533bdde7b4712893b5c9106dbda7a",
       "version_major": 2,
       "version_minor": 0
      },
      "text/plain": [
       "HBox(children=(FloatProgress(value=0.0, max=1200.0), HTML(value='')))"
      ]
     },
     "metadata": {},
     "output_type": "display_data"
    },
    {
     "name": "stdout",
     "output_type": "stream",
     "text": [
      "\n",
      "40\n"
     ]
    },
    {
     "data": {
      "application/vnd.jupyter.widget-view+json": {
       "model_id": "3b88f5ce74414a629279ed2f181ee538",
       "version_major": 2,
       "version_minor": 0
      },
      "text/plain": [
       "HBox(children=(FloatProgress(value=0.0, max=1200.0), HTML(value='')))"
      ]
     },
     "metadata": {},
     "output_type": "display_data"
    },
    {
     "name": "stdout",
     "output_type": "stream",
     "text": [
      "\n",
      "1\n"
     ]
    },
    {
     "data": {
      "application/vnd.jupyter.widget-view+json": {
       "model_id": "643fff70efdf46ab8217417d8a45a7bc",
       "version_major": 2,
       "version_minor": 0
      },
      "text/plain": [
       "HBox(children=(FloatProgress(value=0.0, max=24000.0), HTML(value='')))"
      ]
     },
     "metadata": {},
     "output_type": "display_data"
    },
    {
     "name": "stdout",
     "output_type": "stream",
     "text": [
      "\n",
      "2\n"
     ]
    },
    {
     "data": {
      "application/vnd.jupyter.widget-view+json": {
       "model_id": "7b16dbb90881456eac2441473bdc6172",
       "version_major": 2,
       "version_minor": 0
      },
      "text/plain": [
       "HBox(children=(FloatProgress(value=0.0, max=24000.0), HTML(value='')))"
      ]
     },
     "metadata": {},
     "output_type": "display_data"
    },
    {
     "name": "stdout",
     "output_type": "stream",
     "text": [
      "\n",
      "3\n"
     ]
    },
    {
     "data": {
      "application/vnd.jupyter.widget-view+json": {
       "model_id": "325c6e2da8124ef69a07cd18de1e8d76",
       "version_major": 2,
       "version_minor": 0
      },
      "text/plain": [
       "HBox(children=(FloatProgress(value=0.0, max=24000.0), HTML(value='')))"
      ]
     },
     "metadata": {},
     "output_type": "display_data"
    },
    {
     "name": "stdout",
     "output_type": "stream",
     "text": [
      "\n",
      "4\n"
     ]
    },
    {
     "data": {
      "application/vnd.jupyter.widget-view+json": {
       "model_id": "a67d1539a5f8448faa7f07d381cfbe32",
       "version_major": 2,
       "version_minor": 0
      },
      "text/plain": [
       "HBox(children=(FloatProgress(value=0.0, max=24000.0), HTML(value='')))"
      ]
     },
     "metadata": {},
     "output_type": "display_data"
    },
    {
     "name": "stdout",
     "output_type": "stream",
     "text": [
      "\n",
      "5\n"
     ]
    },
    {
     "data": {
      "application/vnd.jupyter.widget-view+json": {
       "model_id": "5ca28078dfe34915b1fcca970cce7286",
       "version_major": 2,
       "version_minor": 0
      },
      "text/plain": [
       "HBox(children=(FloatProgress(value=0.0, max=24000.0), HTML(value='')))"
      ]
     },
     "metadata": {},
     "output_type": "display_data"
    },
    {
     "name": "stdout",
     "output_type": "stream",
     "text": [
      "\n",
      "6\n"
     ]
    },
    {
     "data": {
      "application/vnd.jupyter.widget-view+json": {
       "model_id": "2fdfa1a162a3458b8e54ca8a52440e22",
       "version_major": 2,
       "version_minor": 0
      },
      "text/plain": [
       "HBox(children=(FloatProgress(value=0.0, max=24000.0), HTML(value='')))"
      ]
     },
     "metadata": {},
     "output_type": "display_data"
    },
    {
     "name": "stdout",
     "output_type": "stream",
     "text": [
      "\n",
      "7\n"
     ]
    },
    {
     "data": {
      "application/vnd.jupyter.widget-view+json": {
       "model_id": "00499b1878374cefaaad6e05e8ff25f3",
       "version_major": 2,
       "version_minor": 0
      },
      "text/plain": [
       "HBox(children=(FloatProgress(value=0.0, max=24000.0), HTML(value='')))"
      ]
     },
     "metadata": {},
     "output_type": "display_data"
    },
    {
     "name": "stdout",
     "output_type": "stream",
     "text": [
      "\n",
      "8\n"
     ]
    },
    {
     "data": {
      "application/vnd.jupyter.widget-view+json": {
       "model_id": "7047fcc903e5452eb3ae45cc7f428eda",
       "version_major": 2,
       "version_minor": 0
      },
      "text/plain": [
       "HBox(children=(FloatProgress(value=0.0, max=24000.0), HTML(value='')))"
      ]
     },
     "metadata": {},
     "output_type": "display_data"
    },
    {
     "name": "stdout",
     "output_type": "stream",
     "text": [
      "\n",
      "9\n"
     ]
    },
    {
     "data": {
      "application/vnd.jupyter.widget-view+json": {
       "model_id": "4f45a81d3fbe4bf098db51e29cc45e44",
       "version_major": 2,
       "version_minor": 0
      },
      "text/plain": [
       "HBox(children=(FloatProgress(value=0.0, max=24000.0), HTML(value='')))"
      ]
     },
     "metadata": {},
     "output_type": "display_data"
    },
    {
     "name": "stdout",
     "output_type": "stream",
     "text": [
      "\n",
      "10\n"
     ]
    },
    {
     "data": {
      "application/vnd.jupyter.widget-view+json": {
       "model_id": "6ebfdf3446e544aa9bf2b09122e2375e",
       "version_major": 2,
       "version_minor": 0
      },
      "text/plain": [
       "HBox(children=(FloatProgress(value=0.0, max=24000.0), HTML(value='')))"
      ]
     },
     "metadata": {},
     "output_type": "display_data"
    },
    {
     "name": "stdout",
     "output_type": "stream",
     "text": [
      "\n",
      "11\n"
     ]
    },
    {
     "data": {
      "application/vnd.jupyter.widget-view+json": {
       "model_id": "d69cb36467c94141bfd454c901c3809c",
       "version_major": 2,
       "version_minor": 0
      },
      "text/plain": [
       "HBox(children=(FloatProgress(value=0.0, max=24000.0), HTML(value='')))"
      ]
     },
     "metadata": {},
     "output_type": "display_data"
    },
    {
     "name": "stdout",
     "output_type": "stream",
     "text": [
      "\n",
      "12\n"
     ]
    },
    {
     "data": {
      "application/vnd.jupyter.widget-view+json": {
       "model_id": "51701b4964f1455aa286f2c8586fd2c2",
       "version_major": 2,
       "version_minor": 0
      },
      "text/plain": [
       "HBox(children=(FloatProgress(value=0.0, max=24000.0), HTML(value='')))"
      ]
     },
     "metadata": {},
     "output_type": "display_data"
    },
    {
     "name": "stdout",
     "output_type": "stream",
     "text": [
      "\n",
      "13\n"
     ]
    },
    {
     "data": {
      "application/vnd.jupyter.widget-view+json": {
       "model_id": "7c486daeb9f54b56970a63be9c0152cd",
       "version_major": 2,
       "version_minor": 0
      },
      "text/plain": [
       "HBox(children=(FloatProgress(value=0.0, max=24000.0), HTML(value='')))"
      ]
     },
     "metadata": {},
     "output_type": "display_data"
    },
    {
     "name": "stdout",
     "output_type": "stream",
     "text": [
      "\n",
      "14\n"
     ]
    },
    {
     "data": {
      "application/vnd.jupyter.widget-view+json": {
       "model_id": "b261c751d05d49bcad11b8c9b27998a5",
       "version_major": 2,
       "version_minor": 0
      },
      "text/plain": [
       "HBox(children=(FloatProgress(value=0.0, max=24000.0), HTML(value='')))"
      ]
     },
     "metadata": {},
     "output_type": "display_data"
    },
    {
     "name": "stdout",
     "output_type": "stream",
     "text": [
      "\n",
      "15\n"
     ]
    },
    {
     "data": {
      "application/vnd.jupyter.widget-view+json": {
       "model_id": "0d9db8f29229427fb43624312cbadbd3",
       "version_major": 2,
       "version_minor": 0
      },
      "text/plain": [
       "HBox(children=(FloatProgress(value=0.0, max=24000.0), HTML(value='')))"
      ]
     },
     "metadata": {},
     "output_type": "display_data"
    },
    {
     "name": "stdout",
     "output_type": "stream",
     "text": [
      "\n",
      "16\n"
     ]
    },
    {
     "data": {
      "application/vnd.jupyter.widget-view+json": {
       "model_id": "c98c3807a4fe43d68b55297a17f08d07",
       "version_major": 2,
       "version_minor": 0
      },
      "text/plain": [
       "HBox(children=(FloatProgress(value=0.0, max=24000.0), HTML(value='')))"
      ]
     },
     "metadata": {},
     "output_type": "display_data"
    },
    {
     "name": "stdout",
     "output_type": "stream",
     "text": [
      "\n",
      "17\n"
     ]
    },
    {
     "data": {
      "application/vnd.jupyter.widget-view+json": {
       "model_id": "f262cc62ffef4ce38f72c5f0917b6e6f",
       "version_major": 2,
       "version_minor": 0
      },
      "text/plain": [
       "HBox(children=(FloatProgress(value=0.0, max=24000.0), HTML(value='')))"
      ]
     },
     "metadata": {},
     "output_type": "display_data"
    },
    {
     "name": "stdout",
     "output_type": "stream",
     "text": [
      "\n",
      "18\n"
     ]
    },
    {
     "data": {
      "application/vnd.jupyter.widget-view+json": {
       "model_id": "79da695a32134759bb10649e27fb53da",
       "version_major": 2,
       "version_minor": 0
      },
      "text/plain": [
       "HBox(children=(FloatProgress(value=0.0, max=24000.0), HTML(value='')))"
      ]
     },
     "metadata": {},
     "output_type": "display_data"
    },
    {
     "name": "stdout",
     "output_type": "stream",
     "text": [
      "\n",
      "19\n"
     ]
    },
    {
     "data": {
      "application/vnd.jupyter.widget-view+json": {
       "model_id": "e42b15feb29d415eb5a4314fc6c9ed7f",
       "version_major": 2,
       "version_minor": 0
      },
      "text/plain": [
       "HBox(children=(FloatProgress(value=0.0, max=24000.0), HTML(value='')))"
      ]
     },
     "metadata": {},
     "output_type": "display_data"
    },
    {
     "name": "stdout",
     "output_type": "stream",
     "text": [
      "\n",
      "20\n"
     ]
    },
    {
     "data": {
      "application/vnd.jupyter.widget-view+json": {
       "model_id": "b9afe4198b3d4f629b37eec7b31aa939",
       "version_major": 2,
       "version_minor": 0
      },
      "text/plain": [
       "HBox(children=(FloatProgress(value=0.0, max=24000.0), HTML(value='')))"
      ]
     },
     "metadata": {},
     "output_type": "display_data"
    },
    {
     "name": "stdout",
     "output_type": "stream",
     "text": [
      "\n",
      "21\n"
     ]
    },
    {
     "data": {
      "application/vnd.jupyter.widget-view+json": {
       "model_id": "cd5b03f6a23046d1bee81d865526334d",
       "version_major": 2,
       "version_minor": 0
      },
      "text/plain": [
       "HBox(children=(FloatProgress(value=0.0, max=24000.0), HTML(value='')))"
      ]
     },
     "metadata": {},
     "output_type": "display_data"
    },
    {
     "name": "stdout",
     "output_type": "stream",
     "text": [
      "\n",
      "22\n"
     ]
    },
    {
     "data": {
      "application/vnd.jupyter.widget-view+json": {
       "model_id": "82ddd38f4c4147e2ac42f07d47b8d7c5",
       "version_major": 2,
       "version_minor": 0
      },
      "text/plain": [
       "HBox(children=(FloatProgress(value=0.0, max=24000.0), HTML(value='')))"
      ]
     },
     "metadata": {},
     "output_type": "display_data"
    },
    {
     "name": "stdout",
     "output_type": "stream",
     "text": [
      "\n",
      "23\n"
     ]
    },
    {
     "data": {
      "application/vnd.jupyter.widget-view+json": {
       "model_id": "8dd7872c0dfb406aa5823ae16115bd76",
       "version_major": 2,
       "version_minor": 0
      },
      "text/plain": [
       "HBox(children=(FloatProgress(value=0.0, max=24000.0), HTML(value='')))"
      ]
     },
     "metadata": {},
     "output_type": "display_data"
    },
    {
     "name": "stdout",
     "output_type": "stream",
     "text": [
      "\n",
      "24\n"
     ]
    },
    {
     "data": {
      "application/vnd.jupyter.widget-view+json": {
       "model_id": "d7f538c3025945b983d055742ebb3243",
       "version_major": 2,
       "version_minor": 0
      },
      "text/plain": [
       "HBox(children=(FloatProgress(value=0.0, max=24000.0), HTML(value='')))"
      ]
     },
     "metadata": {},
     "output_type": "display_data"
    },
    {
     "name": "stdout",
     "output_type": "stream",
     "text": [
      "\n",
      "25\n"
     ]
    },
    {
     "data": {
      "application/vnd.jupyter.widget-view+json": {
       "model_id": "4a3951d4147945e2a3b14e5ecb4ef241",
       "version_major": 2,
       "version_minor": 0
      },
      "text/plain": [
       "HBox(children=(FloatProgress(value=0.0, max=24000.0), HTML(value='')))"
      ]
     },
     "metadata": {},
     "output_type": "display_data"
    },
    {
     "name": "stdout",
     "output_type": "stream",
     "text": [
      "\n",
      "26\n"
     ]
    },
    {
     "data": {
      "application/vnd.jupyter.widget-view+json": {
       "model_id": "620646cd19fd45199941450ff53091d1",
       "version_major": 2,
       "version_minor": 0
      },
      "text/plain": [
       "HBox(children=(FloatProgress(value=0.0, max=24000.0), HTML(value='')))"
      ]
     },
     "metadata": {},
     "output_type": "display_data"
    },
    {
     "name": "stdout",
     "output_type": "stream",
     "text": [
      "\n",
      "27\n"
     ]
    },
    {
     "data": {
      "application/vnd.jupyter.widget-view+json": {
       "model_id": "8272f70922624003b3eea521b0e2078d",
       "version_major": 2,
       "version_minor": 0
      },
      "text/plain": [
       "HBox(children=(FloatProgress(value=0.0, max=24000.0), HTML(value='')))"
      ]
     },
     "metadata": {},
     "output_type": "display_data"
    },
    {
     "name": "stdout",
     "output_type": "stream",
     "text": [
      "\n",
      "28\n"
     ]
    },
    {
     "data": {
      "application/vnd.jupyter.widget-view+json": {
       "model_id": "eb561e4a030d4b45b0c9f72a14f3dcba",
       "version_major": 2,
       "version_minor": 0
      },
      "text/plain": [
       "HBox(children=(FloatProgress(value=0.0, max=24000.0), HTML(value='')))"
      ]
     },
     "metadata": {},
     "output_type": "display_data"
    },
    {
     "name": "stdout",
     "output_type": "stream",
     "text": [
      "\n",
      "29\n"
     ]
    },
    {
     "data": {
      "application/vnd.jupyter.widget-view+json": {
       "model_id": "93c6a2e6e6064817a4fd7120ddedd223",
       "version_major": 2,
       "version_minor": 0
      },
      "text/plain": [
       "HBox(children=(FloatProgress(value=0.0, max=24000.0), HTML(value='')))"
      ]
     },
     "metadata": {},
     "output_type": "display_data"
    },
    {
     "name": "stdout",
     "output_type": "stream",
     "text": [
      "\n",
      "30\n"
     ]
    },
    {
     "data": {
      "application/vnd.jupyter.widget-view+json": {
       "model_id": "01242f6fd22b4a58917d4fcd2fe96720",
       "version_major": 2,
       "version_minor": 0
      },
      "text/plain": [
       "HBox(children=(FloatProgress(value=0.0, max=24000.0), HTML(value='')))"
      ]
     },
     "metadata": {},
     "output_type": "display_data"
    },
    {
     "name": "stdout",
     "output_type": "stream",
     "text": [
      "\n",
      "31\n"
     ]
    },
    {
     "data": {
      "application/vnd.jupyter.widget-view+json": {
       "model_id": "74ffded231b0473ea5c2fae07cf83d02",
       "version_major": 2,
       "version_minor": 0
      },
      "text/plain": [
       "HBox(children=(FloatProgress(value=0.0, max=24000.0), HTML(value='')))"
      ]
     },
     "metadata": {},
     "output_type": "display_data"
    },
    {
     "name": "stdout",
     "output_type": "stream",
     "text": [
      "\n",
      "32\n"
     ]
    },
    {
     "data": {
      "application/vnd.jupyter.widget-view+json": {
       "model_id": "eb0e5143f1e2499da4dd377e1c268a8f",
       "version_major": 2,
       "version_minor": 0
      },
      "text/plain": [
       "HBox(children=(FloatProgress(value=0.0, max=24000.0), HTML(value='')))"
      ]
     },
     "metadata": {},
     "output_type": "display_data"
    },
    {
     "name": "stdout",
     "output_type": "stream",
     "text": [
      "\n",
      "33\n"
     ]
    },
    {
     "data": {
      "application/vnd.jupyter.widget-view+json": {
       "model_id": "18128ba9f11f4dbebeb6d0aa241bf10c",
       "version_major": 2,
       "version_minor": 0
      },
      "text/plain": [
       "HBox(children=(FloatProgress(value=0.0, max=24000.0), HTML(value='')))"
      ]
     },
     "metadata": {},
     "output_type": "display_data"
    },
    {
     "name": "stdout",
     "output_type": "stream",
     "text": [
      "\n",
      "34\n"
     ]
    },
    {
     "data": {
      "application/vnd.jupyter.widget-view+json": {
       "model_id": "dd8b929a2d544e8c9fe7b79114c24fe8",
       "version_major": 2,
       "version_minor": 0
      },
      "text/plain": [
       "HBox(children=(FloatProgress(value=0.0, max=24000.0), HTML(value='')))"
      ]
     },
     "metadata": {},
     "output_type": "display_data"
    },
    {
     "name": "stdout",
     "output_type": "stream",
     "text": [
      "\n",
      "35\n"
     ]
    },
    {
     "data": {
      "application/vnd.jupyter.widget-view+json": {
       "model_id": "74e25f882831405bb8ed79041c4868e9",
       "version_major": 2,
       "version_minor": 0
      },
      "text/plain": [
       "HBox(children=(FloatProgress(value=0.0, max=24000.0), HTML(value='')))"
      ]
     },
     "metadata": {},
     "output_type": "display_data"
    },
    {
     "name": "stdout",
     "output_type": "stream",
     "text": [
      "\n",
      "36\n"
     ]
    },
    {
     "data": {
      "application/vnd.jupyter.widget-view+json": {
       "model_id": "95952dcc78af4a4286106ea4e51f6c45",
       "version_major": 2,
       "version_minor": 0
      },
      "text/plain": [
       "HBox(children=(FloatProgress(value=0.0, max=24000.0), HTML(value='')))"
      ]
     },
     "metadata": {},
     "output_type": "display_data"
    },
    {
     "name": "stdout",
     "output_type": "stream",
     "text": [
      "\n",
      "37\n"
     ]
    },
    {
     "data": {
      "application/vnd.jupyter.widget-view+json": {
       "model_id": "1f1b498fb70347a49469dab5cc37b5fe",
       "version_major": 2,
       "version_minor": 0
      },
      "text/plain": [
       "HBox(children=(FloatProgress(value=0.0, max=24000.0), HTML(value='')))"
      ]
     },
     "metadata": {},
     "output_type": "display_data"
    },
    {
     "name": "stdout",
     "output_type": "stream",
     "text": [
      "\n",
      "38\n"
     ]
    },
    {
     "data": {
      "application/vnd.jupyter.widget-view+json": {
       "model_id": "7cfa42d4aa0a416fb367c53c49a6a6b6",
       "version_major": 2,
       "version_minor": 0
      },
      "text/plain": [
       "HBox(children=(FloatProgress(value=0.0, max=24000.0), HTML(value='')))"
      ]
     },
     "metadata": {},
     "output_type": "display_data"
    },
    {
     "name": "stdout",
     "output_type": "stream",
     "text": [
      "\n",
      "39\n"
     ]
    },
    {
     "data": {
      "application/vnd.jupyter.widget-view+json": {
       "model_id": "30b6cb5e05994f06bed8fc2cc91138c8",
       "version_major": 2,
       "version_minor": 0
      },
      "text/plain": [
       "HBox(children=(FloatProgress(value=0.0, max=24000.0), HTML(value='')))"
      ]
     },
     "metadata": {},
     "output_type": "display_data"
    },
    {
     "name": "stdout",
     "output_type": "stream",
     "text": [
      "\n",
      "40\n"
     ]
    },
    {
     "data": {
      "application/vnd.jupyter.widget-view+json": {
       "model_id": "7da491850b414888b9752b6b1ec8bef7",
       "version_major": 2,
       "version_minor": 0
      },
      "text/plain": [
       "HBox(children=(FloatProgress(value=0.0, max=24000.0), HTML(value='')))"
      ]
     },
     "metadata": {},
     "output_type": "display_data"
    },
    {
     "name": "stdout",
     "output_type": "stream",
     "text": [
      "\n",
      "1\n"
     ]
    },
    {
     "data": {
      "application/vnd.jupyter.widget-view+json": {
       "model_id": "848a807034094d7880450a23c82bda49",
       "version_major": 2,
       "version_minor": 0
      },
      "text/plain": [
       "HBox(children=(FloatProgress(value=0.0, max=1200.0), HTML(value='')))"
      ]
     },
     "metadata": {},
     "output_type": "display_data"
    },
    {
     "name": "stdout",
     "output_type": "stream",
     "text": [
      "\n",
      "2\n"
     ]
    },
    {
     "data": {
      "application/vnd.jupyter.widget-view+json": {
       "model_id": "05067cb3de6e48cb84f02a767c5bff94",
       "version_major": 2,
       "version_minor": 0
      },
      "text/plain": [
       "HBox(children=(FloatProgress(value=0.0, max=1200.0), HTML(value='')))"
      ]
     },
     "metadata": {},
     "output_type": "display_data"
    },
    {
     "name": "stdout",
     "output_type": "stream",
     "text": [
      "\n",
      "3\n"
     ]
    },
    {
     "data": {
      "application/vnd.jupyter.widget-view+json": {
       "model_id": "6c7a05d5fc9e4feba8ee424c107671a7",
       "version_major": 2,
       "version_minor": 0
      },
      "text/plain": [
       "HBox(children=(FloatProgress(value=0.0, max=1200.0), HTML(value='')))"
      ]
     },
     "metadata": {},
     "output_type": "display_data"
    },
    {
     "name": "stdout",
     "output_type": "stream",
     "text": [
      "\n",
      "4\n"
     ]
    },
    {
     "data": {
      "application/vnd.jupyter.widget-view+json": {
       "model_id": "c2778166f07847eca9a75fb91bdf8b46",
       "version_major": 2,
       "version_minor": 0
      },
      "text/plain": [
       "HBox(children=(FloatProgress(value=0.0, max=1200.0), HTML(value='')))"
      ]
     },
     "metadata": {},
     "output_type": "display_data"
    },
    {
     "name": "stdout",
     "output_type": "stream",
     "text": [
      "\n",
      "5\n"
     ]
    },
    {
     "data": {
      "application/vnd.jupyter.widget-view+json": {
       "model_id": "24d80f3d63df4f448b717a3024aec390",
       "version_major": 2,
       "version_minor": 0
      },
      "text/plain": [
       "HBox(children=(FloatProgress(value=0.0, max=1200.0), HTML(value='')))"
      ]
     },
     "metadata": {},
     "output_type": "display_data"
    },
    {
     "name": "stdout",
     "output_type": "stream",
     "text": [
      "\n",
      "6\n"
     ]
    },
    {
     "data": {
      "application/vnd.jupyter.widget-view+json": {
       "model_id": "96b76475edaf4c7180f8c4d90c330006",
       "version_major": 2,
       "version_minor": 0
      },
      "text/plain": [
       "HBox(children=(FloatProgress(value=0.0, max=1200.0), HTML(value='')))"
      ]
     },
     "metadata": {},
     "output_type": "display_data"
    },
    {
     "name": "stdout",
     "output_type": "stream",
     "text": [
      "\n",
      "7\n"
     ]
    },
    {
     "data": {
      "application/vnd.jupyter.widget-view+json": {
       "model_id": "ffe9104687a24f409d9e128f427bb40b",
       "version_major": 2,
       "version_minor": 0
      },
      "text/plain": [
       "HBox(children=(FloatProgress(value=0.0, max=1200.0), HTML(value='')))"
      ]
     },
     "metadata": {},
     "output_type": "display_data"
    },
    {
     "name": "stdout",
     "output_type": "stream",
     "text": [
      "\n",
      "8\n"
     ]
    },
    {
     "data": {
      "application/vnd.jupyter.widget-view+json": {
       "model_id": "9d38ee63c32947b1aa491ff92e8f8d6f",
       "version_major": 2,
       "version_minor": 0
      },
      "text/plain": [
       "HBox(children=(FloatProgress(value=0.0, max=1200.0), HTML(value='')))"
      ]
     },
     "metadata": {},
     "output_type": "display_data"
    },
    {
     "name": "stdout",
     "output_type": "stream",
     "text": [
      "\n",
      "9\n"
     ]
    },
    {
     "data": {
      "application/vnd.jupyter.widget-view+json": {
       "model_id": "40a3df943bc044c59b0f0ddb79c16496",
       "version_major": 2,
       "version_minor": 0
      },
      "text/plain": [
       "HBox(children=(FloatProgress(value=0.0, max=1200.0), HTML(value='')))"
      ]
     },
     "metadata": {},
     "output_type": "display_data"
    },
    {
     "name": "stdout",
     "output_type": "stream",
     "text": [
      "\n",
      "10\n"
     ]
    },
    {
     "data": {
      "application/vnd.jupyter.widget-view+json": {
       "model_id": "5c267f8081314eff87e9f0c7a19f4c1b",
       "version_major": 2,
       "version_minor": 0
      },
      "text/plain": [
       "HBox(children=(FloatProgress(value=0.0, max=1200.0), HTML(value='')))"
      ]
     },
     "metadata": {},
     "output_type": "display_data"
    },
    {
     "name": "stdout",
     "output_type": "stream",
     "text": [
      "\n",
      "11\n"
     ]
    },
    {
     "data": {
      "application/vnd.jupyter.widget-view+json": {
       "model_id": "7f27feef6207402a95aaa2bf2b210d56",
       "version_major": 2,
       "version_minor": 0
      },
      "text/plain": [
       "HBox(children=(FloatProgress(value=0.0, max=1200.0), HTML(value='')))"
      ]
     },
     "metadata": {},
     "output_type": "display_data"
    },
    {
     "name": "stdout",
     "output_type": "stream",
     "text": [
      "\n",
      "12\n"
     ]
    },
    {
     "data": {
      "application/vnd.jupyter.widget-view+json": {
       "model_id": "1e05c4afc4df462fa11a743cf5b4fea9",
       "version_major": 2,
       "version_minor": 0
      },
      "text/plain": [
       "HBox(children=(FloatProgress(value=0.0, max=1200.0), HTML(value='')))"
      ]
     },
     "metadata": {},
     "output_type": "display_data"
    },
    {
     "name": "stdout",
     "output_type": "stream",
     "text": [
      "\n",
      "13\n"
     ]
    },
    {
     "data": {
      "application/vnd.jupyter.widget-view+json": {
       "model_id": "22cf6dad19e74cb98cedc09c78980355",
       "version_major": 2,
       "version_minor": 0
      },
      "text/plain": [
       "HBox(children=(FloatProgress(value=0.0, max=1200.0), HTML(value='')))"
      ]
     },
     "metadata": {},
     "output_type": "display_data"
    },
    {
     "name": "stdout",
     "output_type": "stream",
     "text": [
      "\n",
      "14\n"
     ]
    },
    {
     "data": {
      "application/vnd.jupyter.widget-view+json": {
       "model_id": "3e5ab05bf0c540998ea0d2ee54224466",
       "version_major": 2,
       "version_minor": 0
      },
      "text/plain": [
       "HBox(children=(FloatProgress(value=0.0, max=1200.0), HTML(value='')))"
      ]
     },
     "metadata": {},
     "output_type": "display_data"
    },
    {
     "name": "stdout",
     "output_type": "stream",
     "text": [
      "\n",
      "15\n"
     ]
    },
    {
     "data": {
      "application/vnd.jupyter.widget-view+json": {
       "model_id": "04419b0f915c48db8eec0beecbb3c64e",
       "version_major": 2,
       "version_minor": 0
      },
      "text/plain": [
       "HBox(children=(FloatProgress(value=0.0, max=1200.0), HTML(value='')))"
      ]
     },
     "metadata": {},
     "output_type": "display_data"
    },
    {
     "name": "stdout",
     "output_type": "stream",
     "text": [
      "\n",
      "16\n"
     ]
    },
    {
     "data": {
      "application/vnd.jupyter.widget-view+json": {
       "model_id": "fca056d8b1b340baabb4b9bf904c790f",
       "version_major": 2,
       "version_minor": 0
      },
      "text/plain": [
       "HBox(children=(FloatProgress(value=0.0, max=1200.0), HTML(value='')))"
      ]
     },
     "metadata": {},
     "output_type": "display_data"
    },
    {
     "name": "stdout",
     "output_type": "stream",
     "text": [
      "\n",
      "17\n"
     ]
    },
    {
     "data": {
      "application/vnd.jupyter.widget-view+json": {
       "model_id": "083a9e5e64354d5e906c77cc9d2d7b89",
       "version_major": 2,
       "version_minor": 0
      },
      "text/plain": [
       "HBox(children=(FloatProgress(value=0.0, max=1200.0), HTML(value='')))"
      ]
     },
     "metadata": {},
     "output_type": "display_data"
    },
    {
     "name": "stdout",
     "output_type": "stream",
     "text": [
      "\n",
      "18\n"
     ]
    },
    {
     "data": {
      "application/vnd.jupyter.widget-view+json": {
       "model_id": "6251e16e2756479fa5e7a0bdfd43f357",
       "version_major": 2,
       "version_minor": 0
      },
      "text/plain": [
       "HBox(children=(FloatProgress(value=0.0, max=1200.0), HTML(value='')))"
      ]
     },
     "metadata": {},
     "output_type": "display_data"
    },
    {
     "name": "stdout",
     "output_type": "stream",
     "text": [
      "\n",
      "19\n"
     ]
    },
    {
     "data": {
      "application/vnd.jupyter.widget-view+json": {
       "model_id": "4a3e200e5c5b497f8007d0c47b9f65f6",
       "version_major": 2,
       "version_minor": 0
      },
      "text/plain": [
       "HBox(children=(FloatProgress(value=0.0, max=1200.0), HTML(value='')))"
      ]
     },
     "metadata": {},
     "output_type": "display_data"
    },
    {
     "name": "stdout",
     "output_type": "stream",
     "text": [
      "\n",
      "20\n"
     ]
    },
    {
     "data": {
      "application/vnd.jupyter.widget-view+json": {
       "model_id": "7cde67b0a581442a897fcef9fc95fd1a",
       "version_major": 2,
       "version_minor": 0
      },
      "text/plain": [
       "HBox(children=(FloatProgress(value=0.0, max=1200.0), HTML(value='')))"
      ]
     },
     "metadata": {},
     "output_type": "display_data"
    },
    {
     "name": "stdout",
     "output_type": "stream",
     "text": [
      "\n",
      "21\n"
     ]
    },
    {
     "data": {
      "application/vnd.jupyter.widget-view+json": {
       "model_id": "c71c8e619c2243d5aa0546221728cbeb",
       "version_major": 2,
       "version_minor": 0
      },
      "text/plain": [
       "HBox(children=(FloatProgress(value=0.0, max=1200.0), HTML(value='')))"
      ]
     },
     "metadata": {},
     "output_type": "display_data"
    },
    {
     "name": "stdout",
     "output_type": "stream",
     "text": [
      "\n",
      "22\n"
     ]
    },
    {
     "data": {
      "application/vnd.jupyter.widget-view+json": {
       "model_id": "549f072bed0c4c7ab3dc3c3f7fed8dc0",
       "version_major": 2,
       "version_minor": 0
      },
      "text/plain": [
       "HBox(children=(FloatProgress(value=0.0, max=1200.0), HTML(value='')))"
      ]
     },
     "metadata": {},
     "output_type": "display_data"
    },
    {
     "name": "stdout",
     "output_type": "stream",
     "text": [
      "\n",
      "23\n"
     ]
    },
    {
     "data": {
      "application/vnd.jupyter.widget-view+json": {
       "model_id": "3f08f2d9330e4d9daa2c253bec52e4f8",
       "version_major": 2,
       "version_minor": 0
      },
      "text/plain": [
       "HBox(children=(FloatProgress(value=0.0, max=1200.0), HTML(value='')))"
      ]
     },
     "metadata": {},
     "output_type": "display_data"
    },
    {
     "name": "stdout",
     "output_type": "stream",
     "text": [
      "\n",
      "24\n"
     ]
    },
    {
     "data": {
      "application/vnd.jupyter.widget-view+json": {
       "model_id": "9f75e4d71ba5450f9cc0690b85e7c395",
       "version_major": 2,
       "version_minor": 0
      },
      "text/plain": [
       "HBox(children=(FloatProgress(value=0.0, max=1200.0), HTML(value='')))"
      ]
     },
     "metadata": {},
     "output_type": "display_data"
    },
    {
     "name": "stdout",
     "output_type": "stream",
     "text": [
      "\n",
      "25\n"
     ]
    },
    {
     "data": {
      "application/vnd.jupyter.widget-view+json": {
       "model_id": "98fea8fb383149518feabf67d40bef79",
       "version_major": 2,
       "version_minor": 0
      },
      "text/plain": [
       "HBox(children=(FloatProgress(value=0.0, max=1200.0), HTML(value='')))"
      ]
     },
     "metadata": {},
     "output_type": "display_data"
    },
    {
     "name": "stdout",
     "output_type": "stream",
     "text": [
      "\n",
      "26\n"
     ]
    },
    {
     "data": {
      "application/vnd.jupyter.widget-view+json": {
       "model_id": "64614e8236fb4717a2cf3b364a389f3f",
       "version_major": 2,
       "version_minor": 0
      },
      "text/plain": [
       "HBox(children=(FloatProgress(value=0.0, max=1200.0), HTML(value='')))"
      ]
     },
     "metadata": {},
     "output_type": "display_data"
    },
    {
     "name": "stdout",
     "output_type": "stream",
     "text": [
      "\n",
      "27\n"
     ]
    },
    {
     "data": {
      "application/vnd.jupyter.widget-view+json": {
       "model_id": "c7f4032317c440ddb173e2ec9bd1ce60",
       "version_major": 2,
       "version_minor": 0
      },
      "text/plain": [
       "HBox(children=(FloatProgress(value=0.0, max=1200.0), HTML(value='')))"
      ]
     },
     "metadata": {},
     "output_type": "display_data"
    },
    {
     "name": "stdout",
     "output_type": "stream",
     "text": [
      "\n",
      "28\n"
     ]
    },
    {
     "data": {
      "application/vnd.jupyter.widget-view+json": {
       "model_id": "3a80c1841f624d6d91029376ff70f8de",
       "version_major": 2,
       "version_minor": 0
      },
      "text/plain": [
       "HBox(children=(FloatProgress(value=0.0, max=1200.0), HTML(value='')))"
      ]
     },
     "metadata": {},
     "output_type": "display_data"
    },
    {
     "name": "stdout",
     "output_type": "stream",
     "text": [
      "\n",
      "29\n"
     ]
    },
    {
     "data": {
      "application/vnd.jupyter.widget-view+json": {
       "model_id": "5a923f94b3594a6e9e220a83e23c997d",
       "version_major": 2,
       "version_minor": 0
      },
      "text/plain": [
       "HBox(children=(FloatProgress(value=0.0, max=1200.0), HTML(value='')))"
      ]
     },
     "metadata": {},
     "output_type": "display_data"
    },
    {
     "name": "stdout",
     "output_type": "stream",
     "text": [
      "\n",
      "30\n"
     ]
    },
    {
     "data": {
      "application/vnd.jupyter.widget-view+json": {
       "model_id": "6ec2b453da6f44ba9ec15d7327db05f6",
       "version_major": 2,
       "version_minor": 0
      },
      "text/plain": [
       "HBox(children=(FloatProgress(value=0.0, max=1200.0), HTML(value='')))"
      ]
     },
     "metadata": {},
     "output_type": "display_data"
    },
    {
     "name": "stdout",
     "output_type": "stream",
     "text": [
      "\n",
      "31\n"
     ]
    },
    {
     "data": {
      "application/vnd.jupyter.widget-view+json": {
       "model_id": "9a50c63f3f5949c28c3d67d0d9dc3d22",
       "version_major": 2,
       "version_minor": 0
      },
      "text/plain": [
       "HBox(children=(FloatProgress(value=0.0, max=1200.0), HTML(value='')))"
      ]
     },
     "metadata": {},
     "output_type": "display_data"
    },
    {
     "name": "stdout",
     "output_type": "stream",
     "text": [
      "\n",
      "32\n"
     ]
    },
    {
     "data": {
      "application/vnd.jupyter.widget-view+json": {
       "model_id": "315d34e5943949a9a89cc7395e399d29",
       "version_major": 2,
       "version_minor": 0
      },
      "text/plain": [
       "HBox(children=(FloatProgress(value=0.0, max=1200.0), HTML(value='')))"
      ]
     },
     "metadata": {},
     "output_type": "display_data"
    },
    {
     "name": "stdout",
     "output_type": "stream",
     "text": [
      "\n",
      "33\n"
     ]
    },
    {
     "data": {
      "application/vnd.jupyter.widget-view+json": {
       "model_id": "091b190083e0488fa408a1d794d450a9",
       "version_major": 2,
       "version_minor": 0
      },
      "text/plain": [
       "HBox(children=(FloatProgress(value=0.0, max=1200.0), HTML(value='')))"
      ]
     },
     "metadata": {},
     "output_type": "display_data"
    },
    {
     "name": "stdout",
     "output_type": "stream",
     "text": [
      "\n",
      "34\n"
     ]
    },
    {
     "data": {
      "application/vnd.jupyter.widget-view+json": {
       "model_id": "43c6be257ba246058c3b1ad555f3ad64",
       "version_major": 2,
       "version_minor": 0
      },
      "text/plain": [
       "HBox(children=(FloatProgress(value=0.0, max=1200.0), HTML(value='')))"
      ]
     },
     "metadata": {},
     "output_type": "display_data"
    },
    {
     "name": "stdout",
     "output_type": "stream",
     "text": [
      "\n",
      "35\n"
     ]
    },
    {
     "data": {
      "application/vnd.jupyter.widget-view+json": {
       "model_id": "e3e7329961444c9d9c1992e289fe759c",
       "version_major": 2,
       "version_minor": 0
      },
      "text/plain": [
       "HBox(children=(FloatProgress(value=0.0, max=1200.0), HTML(value='')))"
      ]
     },
     "metadata": {},
     "output_type": "display_data"
    },
    {
     "name": "stdout",
     "output_type": "stream",
     "text": [
      "\n",
      "36\n"
     ]
    },
    {
     "data": {
      "application/vnd.jupyter.widget-view+json": {
       "model_id": "d3fffb80729c4f13a00c1cd921654146",
       "version_major": 2,
       "version_minor": 0
      },
      "text/plain": [
       "HBox(children=(FloatProgress(value=0.0, max=1200.0), HTML(value='')))"
      ]
     },
     "metadata": {},
     "output_type": "display_data"
    },
    {
     "name": "stdout",
     "output_type": "stream",
     "text": [
      "\n",
      "37\n"
     ]
    },
    {
     "data": {
      "application/vnd.jupyter.widget-view+json": {
       "model_id": "3fd7df094b8a462ca7253de813f71f7d",
       "version_major": 2,
       "version_minor": 0
      },
      "text/plain": [
       "HBox(children=(FloatProgress(value=0.0, max=1200.0), HTML(value='')))"
      ]
     },
     "metadata": {},
     "output_type": "display_data"
    },
    {
     "name": "stdout",
     "output_type": "stream",
     "text": [
      "\n",
      "38\n"
     ]
    },
    {
     "data": {
      "application/vnd.jupyter.widget-view+json": {
       "model_id": "e6aef3e81355410c859d93d5c99734cb",
       "version_major": 2,
       "version_minor": 0
      },
      "text/plain": [
       "HBox(children=(FloatProgress(value=0.0, max=1200.0), HTML(value='')))"
      ]
     },
     "metadata": {},
     "output_type": "display_data"
    },
    {
     "name": "stdout",
     "output_type": "stream",
     "text": [
      "\n",
      "39\n"
     ]
    },
    {
     "data": {
      "application/vnd.jupyter.widget-view+json": {
       "model_id": "6c3209c899b44d99bf388edb3dd1edf4",
       "version_major": 2,
       "version_minor": 0
      },
      "text/plain": [
       "HBox(children=(FloatProgress(value=0.0, max=1200.0), HTML(value='')))"
      ]
     },
     "metadata": {},
     "output_type": "display_data"
    },
    {
     "name": "stdout",
     "output_type": "stream",
     "text": [
      "\n",
      "40\n"
     ]
    },
    {
     "data": {
      "application/vnd.jupyter.widget-view+json": {
       "model_id": "377f5626b3584ec4980ce634af47199c",
       "version_major": 2,
       "version_minor": 0
      },
      "text/plain": [
       "HBox(children=(FloatProgress(value=0.0, max=1200.0), HTML(value='')))"
      ]
     },
     "metadata": {},
     "output_type": "display_data"
    },
    {
     "name": "stdout",
     "output_type": "stream",
     "text": [
      "\n"
     ]
    }
   ],
   "source": [
    "#Search 2000 so that we have room to remove up to 1000 docs from Round 1\n",
    "#Search extra - will drop duplicates and will use extra for BERT reranking\n",
    "n_papers = 1200\n",
    "\n",
    "#Each key is a qid, value is the anserini search list\n",
    "full_topic, full_docid, full_rank, full_score, full_title, full_doi, full_publish = get_search_res_list(full_searcher, n_papers)\n",
    "paragraph_topic, paragraph_docid, paragraph_rank, paragraph_score, paragraph_title, paragraph_doi, paragraph_publish = get_search_res_list(paragraph_searcher, n_papers, paragraph = True)\n",
    "abstract_topic, abstract_docid, abstract_rank, abstract_score, abstract_title, abstract_doi, abstract_publish = get_search_res_list(abstract_searcher, n_papers)\n"
   ]
  },
  {
   "cell_type": "code",
   "execution_count": 79,
   "metadata": {},
   "outputs": [],
   "source": [
    "#Make dataframe from lists generated from search\n",
    "def TREC_df(topic_id_list, docid_list, rank_list, score_list, title_list, doi_list, publish_list, run_param, date_param, drop_1000, drop_dups):\n",
    "    #Run-tag for TREC run requirements\n",
    "    Q0 = ['q0'] * len(topic_id_list) \n",
    "    qid = [run_param] * len(topic_id_list)\n",
    "\n",
    "    df  = {'topic': topic_id_list , 'q0':Q0, 'docid':docid_list, 'rank':rank_list, \n",
    "                                 'score':score_list, 'title': title_list, 'doi':doi_list,'date':publish_list, 'qid':qid}\n",
    "    df = pd.DataFrame(df)\n",
    "    df = df[['topic', 'q0', 'docid', 'rank', 'score', 'title', 'doi', 'date', 'qid']]\n",
    "    \n",
    "    #Filter by time\n",
    "    if (date_param == True):\n",
    "        df = df[df['date'].dt.year >= 2020]\n",
    "    \n",
    "    #Remove duplicates\n",
    "    if (drop_dups == True):\n",
    "        df.drop_duplicates(subset=['topic', 'docid'], keep='first', inplace = True)\n",
    "        df.reset_index(drop=True, inplace=True) #Reset indexes to match row\n",
    "    \n",
    "    #Drop judged docids in R1 + R2\n",
    "    index_list = []\n",
    "    qrel_topics = qrels_table.groupby('Topic')   \n",
    "    for topic, group in tqdm(qrel_topics, position=0, leave = True):\n",
    "        #Get all docids of that topic from qrels\n",
    "        topic_docid = list(group['docid'])\n",
    "        for i in range(len(df)):\n",
    "            if(topic == int(df['topic'][i]) and df['docid'][i] in topic_docid):\n",
    "                index_list.append(i)\n",
    "    \n",
    "    df.drop(df.index[index_list], inplace=True)\n",
    "    \n",
    "    #Make sure all docids are valid\n",
    "    df.reset_index(inplace = True)\n",
    "    index_list = []\n",
    "    for i in range(len(df)):\n",
    "        if(df['docid'][i] not in R3_valid):\n",
    "            index_list.append(i)\n",
    "    \n",
    "    df.drop(df.index[index_list], inplace=True)\n",
    "    #Re-rank\n",
    "    df['rank'] = df.groupby('topic')['score'].rank(ascending=False)\n",
    "    df['rank'] = df['rank'].astype(int)\n",
    "    \n",
    "    #For each topic, save up to 1000 searches (since we drop duplicates)\n",
    "    if (drop_1000 == True):\n",
    "        df = df[df['rank'] <= 1000] \n",
    "    #Reset index\n",
    "    df.reset_index(drop=True, inplace=True)\n",
    "    \n",
    "    #Get columns for submission\n",
    "    df = df[['topic', 'q0', 'docid', 'rank', 'score', 'qid']]\n",
    "    \n",
    "    return df"
   ]
  },
  {
   "cell_type": "code",
   "execution_count": 11,
   "metadata": {},
   "outputs": [],
   "source": [
    "#Make dataframe from lists generated from search\n",
    "#Instead of grouping qrels, just remove any qrels t\n",
    "def TREC_df_v2(topic_id_list, docid_list, rank_list, score_list, title_list, doi_list, publish_list, run_param, date_param, drop_1000, drop_dups):\n",
    "    #Run-tag for TREC run requirements\n",
    "    Q0 = ['q0'] * len(topic_id_list) \n",
    "    qid = [run_param] * len(topic_id_list)\n",
    "\n",
    "    df  = {'topic': topic_id_list , 'q0':Q0, 'docid':docid_list, 'rank':rank_list, \n",
    "                                 'score':score_list, 'title': title_list, 'doi':doi_list,'date':publish_list, 'qid':qid}\n",
    "    df = pd.DataFrame(df)\n",
    "    df = df[['topic', 'q0', 'docid', 'rank', 'score', 'title', 'doi', 'date', 'qid']]\n",
    "    \n",
    "    #Filter by time\n",
    "    if (date_param == True):\n",
    "        df = df[df['date'].dt.year >= 2020]\n",
    "    \n",
    "    #Remove duplicates\n",
    "    if (drop_dups == True):\n",
    "        df.drop_duplicates(subset=['topic', 'docid'], keep='first', inplace = True)\n",
    "        df.reset_index(drop=True, inplace=True) #Reset indexes to match row\n",
    "    \n",
    "    #Drop judged docids in R1 + R2\n",
    "    index_list = []\n",
    "    judged_docids = qrels_table['docid'].tolist()\n",
    "    for i in range(len(df)):\n",
    "        if(df['docid'][i] in judged_docids):\n",
    "            index_list.append(i)\n",
    "    \n",
    "    df.drop(df.index[index_list], inplace=True)\n",
    "    \n",
    "    #Make sure all docids are valid\n",
    "    df.reset_index(inplace = True)\n",
    "    index_list = []\n",
    "    for i in range(len(df)):\n",
    "        if(df['docid'][i] not in R3_valid):\n",
    "            index_list.append(i)\n",
    "    \n",
    "    df.drop(df.index[index_list], inplace=True)\n",
    "    #Re-rank\n",
    "    df['rank'] = df.groupby('topic')['score'].rank(ascending=False)\n",
    "    df['rank'] = df['rank'].astype(int)\n",
    "    \n",
    "    #For each topic, save up to 1000 searches (since we drop duplicates)\n",
    "    if (drop_1000 == True):\n",
    "        df = df[df['rank'] <= 1000] \n",
    "    #Reset index\n",
    "    df.reset_index(drop=True, inplace=True)\n",
    "    \n",
    "    #Get columns for submission\n",
    "    df = df[['topic', 'q0', 'docid', 'rank', 'score', 'qid']]\n",
    "    \n",
    "    return df"
   ]
  },
  {
   "cell_type": "code",
   "execution_count": 17,
   "metadata": {},
   "outputs": [],
   "source": [
    "#v2 dfs\n",
    "full_df_v2 = TREC_df_v2(full_topic, full_docid, full_rank, full_score, full_title, full_doi, full_publish, 'FullTxt_R3_Orig', False, True, True)\n",
    "full_df_time_v2 = TREC_df_v2(full_topic, full_docid, full_rank, full_score, full_title, full_doi, full_publish, 'FullTxt_R3_Time', True, True, True)\n",
    "paragraph_df_v2 = TREC_df_v2(paragraph_topic, paragraph_docid, paragraph_rank, paragraph_score, paragraph_title, paragraph_doi, paragraph_publish, 'paragraphTxt_R3_Orig', False, True, True)\n",
    "paragraph_df_time_v2 = TREC_df_v2(paragraph_topic, paragraph_docid, paragraph_rank, paragraph_score, paragraph_title, paragraph_doi, paragraph_publish, 'paragraphTxt_R3_Time', True, True, True)\n",
    "abstract_df_v2 = TREC_df_v2(abstract_topic, abstract_docid, abstract_rank, abstract_score, abstract_title, abstract_doi, abstract_publish, 'abstractTxt_R3_Orig', False, True, True)\n",
    "abstract_df_time_v2 = TREC_df_v2(abstract_topic, abstract_docid, abstract_rank, abstract_score, abstract_title, abstract_doi, abstract_publish, 'abstractTxt_R3_Time', True, True, True)"
   ]
  },
  {
   "cell_type": "code",
   "execution_count": 59,
   "metadata": {},
   "outputs": [
    {
     "data": {
      "application/vnd.jupyter.widget-view+json": {
       "model_id": "5948c901e7ec4bd39c4cbcf9df88aa0e",
       "version_major": 2,
       "version_minor": 0
      },
      "text/plain": [
       "HBox(children=(FloatProgress(value=0.0, max=35.0), HTML(value='')))"
      ]
     },
     "metadata": {},
     "output_type": "display_data"
    },
    {
     "name": "stdout",
     "output_type": "stream",
     "text": [
      "\n"
     ]
    },
    {
     "data": {
      "application/vnd.jupyter.widget-view+json": {
       "model_id": "db3f603bcd864f3d84c03d5a1ec80c71",
       "version_major": 2,
       "version_minor": 0
      },
      "text/plain": [
       "HBox(children=(FloatProgress(value=0.0, max=35.0), HTML(value='')))"
      ]
     },
     "metadata": {},
     "output_type": "display_data"
    },
    {
     "name": "stdout",
     "output_type": "stream",
     "text": [
      "\n"
     ]
    },
    {
     "data": {
      "application/vnd.jupyter.widget-view+json": {
       "model_id": "cae1102858b84b2f870abb5f6e054aeb",
       "version_major": 2,
       "version_minor": 0
      },
      "text/plain": [
       "HBox(children=(FloatProgress(value=0.0, max=35.0), HTML(value='')))"
      ]
     },
     "metadata": {},
     "output_type": "display_data"
    },
    {
     "name": "stdout",
     "output_type": "stream",
     "text": [
      "\n"
     ]
    },
    {
     "data": {
      "application/vnd.jupyter.widget-view+json": {
       "model_id": "c0a8fc507e47434a8519c991a358b27e",
       "version_major": 2,
       "version_minor": 0
      },
      "text/plain": [
       "HBox(children=(FloatProgress(value=0.0, max=35.0), HTML(value='')))"
      ]
     },
     "metadata": {},
     "output_type": "display_data"
    },
    {
     "name": "stdout",
     "output_type": "stream",
     "text": [
      "\n"
     ]
    },
    {
     "data": {
      "application/vnd.jupyter.widget-view+json": {
       "model_id": "f5b4c3cd9f1e46f7bf1aa298a18a61de",
       "version_major": 2,
       "version_minor": 0
      },
      "text/plain": [
       "HBox(children=(FloatProgress(value=0.0, max=35.0), HTML(value='')))"
      ]
     },
     "metadata": {},
     "output_type": "display_data"
    },
    {
     "name": "stdout",
     "output_type": "stream",
     "text": [
      "\n"
     ]
    },
    {
     "data": {
      "application/vnd.jupyter.widget-view+json": {
       "model_id": "2601943b4cd34dcfbe4b2341634feb2a",
       "version_major": 2,
       "version_minor": 0
      },
      "text/plain": [
       "HBox(children=(FloatProgress(value=0.0, max=35.0), HTML(value='')))"
      ]
     },
     "metadata": {},
     "output_type": "display_data"
    },
    {
     "name": "stdout",
     "output_type": "stream",
     "text": [
      "\n"
     ]
    }
   ],
   "source": [
    "full_df = TREC_df(full_topic, full_docid, full_rank, full_score, full_title, full_doi, full_publish, 'FullTxt_R3_Orig', False, False, True)\n",
    "full_df_time = TREC_df(full_topic, full_docid, full_rank, full_score, full_title, full_doi, full_publish, 'FullTxt_R3_Time', True, False, True)\n",
    "paragraph_df = TREC_df(paragraph_topic, paragraph_docid, paragraph_rank, paragraph_score, paragraph_title, paragraph_doi, paragraph_publish, 'paragraphTxt_R3_Orig', False, False, True)\n",
    "paragraph_df_time = TREC_df(paragraph_topic, paragraph_docid, paragraph_rank, paragraph_score, paragraph_title, paragraph_doi, paragraph_publish, 'paragraphTxt_R3_Time', True, False, True)\n",
    "abstract_df = TREC_df(abstract_topic, abstract_docid, abstract_rank, abstract_score, abstract_title, abstract_doi, abstract_publish, 'abstractTxt_R3_Orig', False, False, True)\n",
    "abstract_df_time = TREC_df(abstract_topic, abstract_docid, abstract_rank, abstract_score, abstract_title, abstract_doi, abstract_publish, 'abstractTxt_R3_Time', True, False, True)"
   ]
  },
  {
   "cell_type": "code",
   "execution_count": 71,
   "metadata": {
    "scrolled": true
   },
   "outputs": [
    {
     "data": {
      "application/vnd.jupyter.widget-view+json": {
       "model_id": "9fbb4d73369841a9b8a433b981d189fe",
       "version_major": 2,
       "version_minor": 0
      },
      "text/plain": [
       "HBox(children=(FloatProgress(value=0.0, max=35.0), HTML(value='')))"
      ]
     },
     "metadata": {},
     "output_type": "display_data"
    },
    {
     "name": "stdout",
     "output_type": "stream",
     "text": [
      "\n"
     ]
    },
    {
     "data": {
      "application/vnd.jupyter.widget-view+json": {
       "model_id": "6c660229977c4f07867ab3a142d187b9",
       "version_major": 2,
       "version_minor": 0
      },
      "text/plain": [
       "HBox(children=(FloatProgress(value=0.0, max=35.0), HTML(value='')))"
      ]
     },
     "metadata": {},
     "output_type": "display_data"
    },
    {
     "name": "stdout",
     "output_type": "stream",
     "text": [
      "\n"
     ]
    },
    {
     "data": {
      "application/vnd.jupyter.widget-view+json": {
       "model_id": "e0753b0dd8ce472c8bec4bd349ecbd0a",
       "version_major": 2,
       "version_minor": 0
      },
      "text/plain": [
       "HBox(children=(FloatProgress(value=0.0, max=35.0), HTML(value='')))"
      ]
     },
     "metadata": {},
     "output_type": "display_data"
    },
    {
     "name": "stdout",
     "output_type": "stream",
     "text": [
      "\n"
     ]
    },
    {
     "data": {
      "application/vnd.jupyter.widget-view+json": {
       "model_id": "14a2bc6d93ad48e9b9453b13ffb5fb4c",
       "version_major": 2,
       "version_minor": 0
      },
      "text/plain": [
       "HBox(children=(FloatProgress(value=0.0, max=35.0), HTML(value='')))"
      ]
     },
     "metadata": {},
     "output_type": "display_data"
    },
    {
     "name": "stdout",
     "output_type": "stream",
     "text": [
      "\n"
     ]
    },
    {
     "data": {
      "application/vnd.jupyter.widget-view+json": {
       "model_id": "cc60526e33d54c8b85445e8153c97045",
       "version_major": 2,
       "version_minor": 0
      },
      "text/plain": [
       "HBox(children=(FloatProgress(value=0.0, max=35.0), HTML(value='')))"
      ]
     },
     "metadata": {},
     "output_type": "display_data"
    },
    {
     "name": "stdout",
     "output_type": "stream",
     "text": [
      "\n"
     ]
    },
    {
     "data": {
      "application/vnd.jupyter.widget-view+json": {
       "model_id": "6b510100ba404e1282df451735a8dbe1",
       "version_major": 2,
       "version_minor": 0
      },
      "text/plain": [
       "HBox(children=(FloatProgress(value=0.0, max=35.0), HTML(value='')))"
      ]
     },
     "metadata": {},
     "output_type": "display_data"
    },
    {
     "name": "stdout",
     "output_type": "stream",
     "text": [
      "\n"
     ]
    }
   ],
   "source": [
    "full_df_1000 = TREC_df(full_topic, full_docid, full_rank, full_score, full_title, full_doi, full_publish, 'OHSU_FullTxt_R3_Orig', False, True, True)\n",
    "full_df_time_1000 = TREC_df(full_topic, full_docid, full_rank, full_score, full_title, full_doi, full_publish, 'OHSU_FullTxt_R3_Time', True, True, True)\n",
    "paragraph_df_1000 = TREC_df(paragraph_topic, paragraph_docid, paragraph_rank, paragraph_score, paragraph_title, paragraph_doi, paragraph_publish, 'OHSU_paragraphTxt_R3_Orig', False, True, True)\n",
    "paragraph_df_time_1000 = TREC_df(paragraph_topic, paragraph_docid, paragraph_rank, paragraph_score, paragraph_title, paragraph_doi, paragraph_publish, 'OHSU_paragraphTxt_R3_Time', True, True, True)\n",
    "abstract_df_1000 = TREC_df(abstract_topic, abstract_docid, abstract_rank, abstract_score, abstract_title, abstract_doi, abstract_publish, 'OHSU_abstractTxt_R3_Orig', False, True, True)\n",
    "abstract_df_time_1000 = TREC_df(abstract_topic, abstract_docid, abstract_rank, abstract_score, abstract_title, abstract_doi, abstract_publish, 'OHSU_abstractTxt_R3_Time', True, True, True)"
   ]
  },
  {
   "cell_type": "code",
   "execution_count": 72,
   "metadata": {},
   "outputs": [],
   "source": [
    "Results_folder = r'C:\\Users\\Jimmy Chen\\Box\\COVID19\\CORD19\\TREC_COVID\\Round3_Runs'\n",
    "if(os.path.exists(Results_folder) == False):\n",
    "    os.mkdir(Results_folder)\n",
    "    \n",
    "full_df.to_csv(os.path.join(Results_folder, 'FullTxt.txt'), sep=' ', index=False, header=None)\n",
    "full_df_time.to_csv(os.path.join(Results_folder, 'FullTxt_time.txt'), sep=' ', index=False, header=None)\n",
    "\n",
    "paragraph_df.to_csv(os.path.join(Results_folder, 'ParaTxt.txt'), sep=' ', index=False, header=None)\n",
    "paragraph_df_time.to_csv(os.path.join(Results_folder, 'ParaTxt_time.txt'), sep=' ', index=False, header=None)\n",
    "\n",
    "abstract_df.to_csv(os.path.join(Results_folder, 'AbstractTxt.txt'), sep=' ', index=False, header=None)\n",
    "abstract_df_time.to_csv(os.path.join(Results_folder, 'AbstractTxt_time.txt'), sep=' ', index=False, header=None)\n",
    "\n",
    "full_df_time_1000.to_csv(os.path.join(Results_folder, 'FullTxt_1000.txt'), sep=' ', index=False, header=None)\n",
    "full_df_time_1000.to_csv(os.path.join(Results_folder, 'FullTxt_time_1000.txt'), sep=' ', index=False, header=None)\n",
    "\n",
    "paragraph_df_1000.to_csv(os.path.join(Results_folder, 'ParaTxt_1000.txt'), sep=' ', index=False, header=None)\n",
    "paragraph_df_time_1000.to_csv(os.path.join(Results_folder, 'ParaTxt_time_1000.txt'), sep=' ', index=False, header=None)\n",
    "\n",
    "abstract_df_1000.to_csv(os.path.join(Results_folder, 'AbstractTxt_1000.txt'), sep=' ', index=False, header=None)\n",
    "abstract_df_time_1000.to_csv(os.path.join(Results_folder, 'AbstractTxt_time_1000.txt'), sep=' ', index=False, header=None)\n",
    "\n"
   ]
  },
  {
   "cell_type": "code",
   "execution_count": 22,
   "metadata": {},
   "outputs": [],
   "source": [
    "#For v2 runs\n",
    "Results_folder = r'C:\\Users\\Jimmy Chen\\Box\\COVID19\\CORD19\\TREC_COVID\\Round3_Runs_v2'\n",
    "if(os.path.exists(Results_folder) == False):\n",
    "    os.mkdir(Results_folder)\n",
    "    \n",
    "full_df_v2.to_csv(os.path.join(Results_folder, 'FullTxt_v2.txt'), sep=' ', index=False, header=None)\n",
    "full_df_time_v2.to_csv(os.path.join(Results_folder, 'FullTxt_time_v2.txt'), sep=' ', index=False, header=None)\n",
    "\n",
    "paragraph_df_v2.to_csv(os.path.join(Results_folder, 'ParaTxt_v2.txt'), sep=' ', index=False, header=None)\n",
    "paragraph_df_time_v2.to_csv(os.path.join(Results_folder, 'ParaTxt_time_v2.txt'), sep=' ', index=False, header=None)\n",
    "\n",
    "abstract_df_v2.to_csv(os.path.join(Results_folder, 'AbstractTxt_v2.txt'), sep=' ', index=False, header=None)\n",
    "abstract_df_time_v2.to_csv(os.path.join(Results_folder, 'AbstractTxt_time_v2.txt'), sep=' ', index=False, header=None)"
   ]
  },
  {
   "cell_type": "code",
   "execution_count": 15,
   "metadata": {},
   "outputs": [],
   "source": [
    "#Perform fusion on 3 df\n",
    "def fuse_runs(path1, path2, path3, output_name, max_docs = 1000):\n",
    "    r1 = TrecRun(path1)\n",
    "    r2 = TrecRun(path2)\n",
    "    r3 = TrecRun(path3)\n",
    "\n",
    "    # Easy way to create new baselines by fusing existing runs:\n",
    "    fused_run = fusion.reciprocal_rank_fusion([r1, r2, r3], max_docs=max_docs)\n",
    "    \n",
    "    fused_run.print_subset(os.path.join(Results_folder, str(output_name) + '.txt'), topics=fused_run.topics())\n",
    "\n",
    "    return os.path.join(Results_folder, str(output_name) + '.txt')"
   ]
  },
  {
   "cell_type": "markdown",
   "metadata": {},
   "source": [
    "#### Perform fusion on 3 df\n",
    "def fuse_runs2(path1, path2, path3,path4, path5, path6, output_name, max_docs = 1000):\n",
    "    r1 = TrecRun(path1)\n",
    "    r2 = TrecRun(path2)\n",
    "    r3 = TrecRun(path3)\n",
    "    r4 = TrecRun(path4)\n",
    "    r5 = TrecRun(path5)\n",
    "    r6 = TrecRun(path6)\n",
    "\n",
    "    # Easy way to create new baselines by fusing existing runs:\n",
    "    fused_run = fusion.reciprocal_rank_fusion([r1, r2, r3], max_docs=max_docs)\n",
    "    \n",
    "    fused_run.print_subset(os.path.join(Results_folder, str(output_name) + '.txt'), topics=fused_run.topics())\n",
    "\n",
    "    return os.path.join(Results_folder, str(output_name) + '.txt')"
   ]
  },
  {
   "cell_type": "code",
   "execution_count": 77,
   "metadata": {},
   "outputs": [
    {
     "name": "stdout",
     "output_type": "stream",
     "text": [
      "File C:\\Users\\Jimmy Chen\\Box\\COVID19\\CORD19\\TREC_COVID\\Round3_Runs\\orig_fusion.txt writen.\n",
      "File C:\\Users\\Jimmy Chen\\Box\\COVID19\\CORD19\\TREC_COVID\\Round3_Runs\\time_fusion.txt writen.\n",
      "File C:\\Users\\Jimmy Chen\\Box\\COVID19\\CORD19\\TREC_COVID\\Round3_Runs\\total_fusion.txt writen.\n",
      "File C:\\Users\\Jimmy Chen\\Box\\COVID19\\CORD19\\TREC_COVID\\Round3_Runs\\orig_fusion_1000.txt writen.\n",
      "File C:\\Users\\Jimmy Chen\\Box\\COVID19\\CORD19\\TREC_COVID\\Round3_Runs\\time_fusion_1000.txt writen.\n",
      "File C:\\Users\\Jimmy Chen\\Box\\COVID19\\CORD19\\TREC_COVID\\Round3_Runs\\total_fusion_1000.txt writen.\n"
     ]
    }
   ],
   "source": [
    "#Orig\n",
    "orig_fusion = fuse_runs(\n",
    "    os.path.join(Results_folder, 'FullTxt.txt'), os.path.join(Results_folder, 'ParaTxt.txt'), os.path.join(Results_folder, 'AbstractTxt.txt'),\n",
    "    'orig_fusion', max_docs = 2000\n",
    ")\n",
    "\n",
    "#Time\n",
    "time_fusion = fuse_runs(\n",
    "    os.path.join(Results_folder, 'FullTxt_time.txt'), os.path.join(Results_folder, 'ParaTxt_time.txt'), os.path.join(Results_folder, 'AbstractTxt_time.txt'),\n",
    "    'time_fusion', max_docs = 2000                                                                                                              \n",
    ")\n",
    "                                                                \n",
    "#All 6 fusion\n",
    "total_fusion = fuse_runs2(\n",
    "    os.path.join(Results_folder, 'FullTxt.txt'), os.path.join(Results_folder, 'ParaTxt.txt'), os.path.join(Results_folder, 'AbstractTxt.txt'),\n",
    "    os.path.join(Results_folder, 'FullTxt_time.txt'), os.path.join(Results_folder, 'ParaTxt_time.txt'), os.path.join(Results_folder, 'AbstractTxt_time.txt'),\n",
    "    'total_fusion', max_docs = 2000\n",
    ")\n",
    "\n",
    "#Orig\n",
    "orig_fusion_1000 = fuse_runs(\n",
    "    os.path.join(Results_folder, 'FullTxt_1000.txt'), os.path.join(Results_folder, 'ParaTxt_1000.txt'), os.path.join(Results_folder, 'AbstractTxt_1000.txt'),\n",
    "    'orig_fusion_1000', max_docs = 1000\n",
    ")\n",
    "\n",
    "#Time\n",
    "time_fusion_1000 = fuse_runs(\n",
    "    os.path.join(Results_folder, 'FullTxt_time_1000.txt'), os.path.join(Results_folder, 'ParaTxt_time_1000.txt'), os.path.join(Results_folder, 'AbstractTxt_time_1000.txt'),\n",
    "    'time_fusion_1000', max_docs = 1000                                                                                                              \n",
    ")\n",
    "                                                                \n",
    "#All 6 fusion\n",
    "total_fusion_1000 = fuse_runs2(\n",
    "    os.path.join(Results_folder, 'FullTxt_1000.txt'), os.path.join(Results_folder, 'ParaTxt_1000.txt'), os.path.join(Results_folder, 'AbstractTxt_1000.txt'),\n",
    "    os.path.join(Results_folder, 'FullTxt_time_1000.txt'), os.path.join(Results_folder, 'ParaTxt_time_1000.txt'), os.path.join(Results_folder, 'AbstractTxt_time_1000.txt'),\n",
    "    'total_fusion_1000', max_docs = 1000\n",
    ")"
   ]
  },
  {
   "cell_type": "code",
   "execution_count": 23,
   "metadata": {},
   "outputs": [
    {
     "name": "stdout",
     "output_type": "stream",
     "text": [
      "File C:\\Users\\Jimmy Chen\\Box\\COVID19\\CORD19\\TREC_COVID\\Round3_Runs_v2\\orig_fusion_v2.txt writen.\n"
     ]
    }
   ],
   "source": [
    "#Fuse v2 runs\n",
    "#Orig\n",
    "orig_fusion = fuse_runs(\n",
    "    os.path.join(Results_folder, 'FullTxt_v2.txt'), os.path.join(Results_folder, 'ParaTxt_v2.txt'), os.path.join(Results_folder, 'AbstractTxt_v2.txt'),\n",
    "    'orig_fusion_v2', max_docs = 1000\n",
    ")"
   ]
  },
  {
   "cell_type": "code",
   "execution_count": 78,
   "metadata": {},
   "outputs": [],
   "source": [
    "#Load fused files for 2000 docs\n",
    "orig_fusion_csv = pd.read_csv(orig_fusion, sep = ' ', header = None)\n",
    "time_fusion_csv = pd.read_csv(time_fusion, sep = ' ', header = None)\n",
    "total_fusion_csv = pd.read_csv(time_fusion, sep = ' ', header = None)\n",
    "#Load fused files for 1000 docs\n",
    "orig_fusion_1000_csv = pd.read_csv(orig_fusion_1000, sep = ' ', header = None)\n",
    "time_fusion_1000_csv = pd.read_csv(time_fusion_1000, sep = ' ', header = None)\n",
    "total_fusion_1000_csv = pd.read_csv(time_fusion_1000, sep = ' ', header = None)\n",
    "\n",
    "\n",
    "#Re-name fusion runtags\n",
    "orig_fusion_csv[5] = 'OHSU_R3_origfusion'\n",
    "time_fusion_csv[5] = 'OHSU_R3_timefusion'\n",
    "total_fusion_csv[5] = 'OHSU_R3_totalfusion'\n",
    "orig_fusion_1000_csv[5] = 'OHSU_R3_origfusion1000'\n",
    "time_fusion_1000_csv[5] = 'OHSU_R3_timefusion1000'\n",
    "total_fusion_1000_csv[5] = 'OHSU_R3_totalfusion1000'\n",
    "\n",
    "#Save csvs again\n",
    "orig_fusion_csv.to_csv(os.path.join(Results_folder, 'R3_orig_fusion.txt'), sep=' ', index=False, header=None)\n",
    "time_fusion_csv.to_csv(os.path.join(Results_folder, 'R3_time_fusion.txt'), sep=' ', index=False, header=None)\n",
    "total_fusion_csv.to_csv(os.path.join(Results_folder, 'R3_time_fusion.txt'), sep=' ', index=False, header=None)\n",
    "orig_fusion_1000_csv.to_csv(os.path.join(Results_folder, 'R3_orig_fusion_1000.txt'), sep=' ', index=False, header=None)\n",
    "time_fusion_1000_csv.to_csv(os.path.join(Results_folder, 'R3_time_fusion_1000.txt'), sep=' ', index=False, header=None)\n",
    "total_fusion_1000_csv.to_csv(os.path.join(Results_folder, 'R3_time_fusion_1000.txt'), sep=' ', index=False, header=None)"
   ]
  },
  {
   "cell_type": "markdown",
   "metadata": {},
   "source": [
    "# TREC Tools"
   ]
  },
  {
   "cell_type": "code",
   "execution_count": 24,
   "metadata": {},
   "outputs": [],
   "source": [
    "def trectools_eval(res_fol, qrels_file):\n",
    "    \n",
    "    qrels = TrecQrel(qrels_file)\n",
    "\n",
    "    #Generate metrics for all 3 indices (1000 docs retrieved for each)\n",
    "    runs = procedures.list_of_runs_from_path(res_fol, \"*.txt\")\n",
    "    results = procedures.evaluate_runs(runs, qrels, per_query=True)\n",
    "    p5 = procedures.extract_metric_from_results(results, \"P_5\")\n",
    "    p10 = procedures.extract_metric_from_results(results, \"P_10\")\n",
    "    Bpref = procedures.extract_metric_from_results(results, \"bpref\")\n",
    "    Mean_avgP = procedures.extract_metric_from_results(results, 'map')\n",
    "\n",
    "    #Aggregate results to dataframe\n",
    "    runs_names = [os.path.basename(str(x)).split('.')[0] for x in runs]\n",
    "    p5_list = []\n",
    "    p10_list = []\n",
    "    map_list = []\n",
    "    bpref_list = []\n",
    "    ndcg_list = []\n",
    "\n",
    "    for i in range(len(runs)):\n",
    "        p5_list.append(p5[i][1])\n",
    "        p10_list.append(p10[i][1])\n",
    "        map_list.append(Mean_avgP[i][1])\n",
    "        bpref_list.append(Bpref[i][1])\n",
    "\n",
    "    Result_df  = {'Run':runs_names, 'P@5': p5_list, 'P@10': p10_list, 'MAP': map_list, 'Bpref': bpref_list}\n",
    "    Result_df = pd.DataFrame(Result_df)\n",
    "    \n",
    "    print(Result_df.sort_values('MAP', ascending = False))"
   ]
  },
  {
   "cell_type": "code",
   "execution_count": 25,
   "metadata": {},
   "outputs": [
    {
     "name": "stdout",
     "output_type": "stream",
     "text": [
      "Found 11 runs in path C:\\Users\\Jimmy Chen\\Box\\COVID19\\CORD19\\TREC_COVID\\Round3_Runs_v2\n",
      "                    Run    P@5    P@10       MAP     Bpref\n",
      "4          combo_fusion  0.790  0.7425  0.322697  0.582784\n",
      "7      orig_fusion_1000  0.690  0.6025  0.240156  0.512049\n",
      "0   AbstractTxt_time_v2  0.640  0.6075  0.200943  0.384932\n",
      "9       ParaTxt_time_v2  0.635  0.5650  0.187657  0.446578\n",
      "8        orig_fusion_v2  0.605  0.5175  0.176317  0.435190\n",
      "2              anserini  0.380  0.3775  0.175438  0.520830\n",
      "5       FullTxt_time_v2  0.615  0.5500  0.151317  0.331003\n",
      "3              anserini  0.345  0.3625  0.147120  0.535081\n",
      "1        AbstractTxt_v2  0.480  0.4450  0.141236  0.402371\n",
      "10           ParaTxt_v2  0.485  0.4225  0.130786  0.390150\n",
      "6            FullTxt_v2  0.545  0.4975  0.129651  0.343574\n"
     ]
    }
   ],
   "source": [
    "trectools_eval(res_fol= Results_folder,\n",
    "               qrels_file=os.path.join(Pyserini_files, 'qrels-covid_d3_j2.5-3.txt'))"
   ]
  },
  {
   "cell_type": "markdown",
   "metadata": {},
   "source": [
    "# BERT setup"
   ]
  },
  {
   "cell_type": "code",
   "execution_count": 97,
   "metadata": {},
   "outputs": [],
   "source": [
    "#Use Pyjnius to extract full texts from collection\n",
    "JString = autoclass('java.lang.String')\n",
    "JIndexReaderUtils = autoclass('io.anserini.index.IndexReaderUtils')\n",
    "reader = JIndexReaderUtils.getReader(R3_fulltext)"
   ]
  },
  {
   "cell_type": "code",
   "execution_count": 104,
   "metadata": {},
   "outputs": [],
   "source": [
    "total_fusion_csv.columns = ['topic', 'q0', 'docid', 'rank', 'score', 'qid']"
   ]
  },
  {
   "cell_type": "code",
   "execution_count": 127,
   "metadata": {},
   "outputs": [
    {
     "name": "stdout",
     "output_type": "stream",
     "text": [
      "Background: Mounting evidence suggests that there is an undetected pool of COVID-19 asymptomatic but infectious cases. Estimating the number of asymptomatic infections has been crucial to understand the virus and contain its spread, which is, however, hard to be accurately counted. Methods: We propose an approach of machine learning based fine-grained simulator (MLSim), which integrates multiple practical factors including disease progress in the incubation period, cross-region population movement, undetected asymptomatic patients, and prevention and containment strength. The interactions among these factors are modeled by virtual transmission dynamics with several undetermined parameters, which are determined from epidemic data by machine learning techniques. When MLSim learns to match the real data closely, it also models the number of asymptomatic patients. MLSim is learned from the open Chinese global epidemic data. Findings: MLSim showed better forecast accuracy than the SEIR and LSTM-based prediction models. The MLSim learned from the data of China's mainland reveals that there could have been 150,408 (142,178-157,417) asymptomatic and had self-healed patients, which is 65% (64% - 65%) of the inferred total infections including undetected ones. The numbers of asymptomatic but infectious patients on April 15, 2020, were inferred as, Italy: 41,387 (29,037 - 57,151), Germany: 21,118 (11,484 - 41,646), USA: 354,657 (277,641 - 495,128), France: 40,379 (10,807 - 186,878), and UK: 144,424 (127,215 - 171,930). To control the virus transmission, the containment measures taken by the government were crucial. The learned MLSim also reveals that if the date of containment measures in China's mainland was postponed for 1, 3, 5, and 7 days later than Jan. 23, there would be 109,039 (129%), 183,930 (218%), 313,342 (371%), 537,555 (637%) confirmed cases on June 12. Conclusions: Machine learning based fine-grained simulators can better model the complex real-world disease transmission process, and thus can help decision-making of balanced containment measures. The simulator also revealed the potential great number of undetected asymptomatic infections, which poses a great risk to the virus containment.\n",
      "COVID-19 Asymptomatic Infection Estimation\n"
     ]
    }
   ],
   "source": [
    "# Fetch raw document contents by docid:\n",
    "rawdoc = JIndexReaderUtils.documentRaw(reader, JString(total_fusion_csv['docid'][12224]))\n",
    "json_doc = json.dumps(rawdoc) # dict to string\n",
    "doc_json = json.loads(json_doc)\n",
    "doc_json = doc_json.replace('\\n        ', '')\n",
    "doc_json = json.loads(doc_json)\n",
    "\n",
    "print(doc_json['csv_metadata']['abstract'])\n",
    "print(doc_json['csv_metadata']['title'])\n",
    "\n",
    "# try:\n",
    "#     abstract_doc = doc_json['abstract'][0]['text']\n",
    "# except:\n",
    "#     abstract_doc = ''\n",
    "# try:\n",
    "#     title_doc = str(doc_json['metadata']['title']).strip(\"[]\")\n",
    "# except:\n",
    "#     title_doc = str(doc_json['title']).strip(\"[]\")\n",
    "\n",
    "    \n",
    "# print(abstract_doc)\n",
    "# print(title_doc)"
   ]
  },
  {
   "cell_type": "code",
   "execution_count": 99,
   "metadata": {},
   "outputs": [
    {
     "data": {
      "text/html": [
       "<div>\n",
       "<style scoped>\n",
       "    .dataframe tbody tr th:only-of-type {\n",
       "        vertical-align: middle;\n",
       "    }\n",
       "\n",
       "    .dataframe tbody tr th {\n",
       "        vertical-align: top;\n",
       "    }\n",
       "\n",
       "    .dataframe thead th {\n",
       "        text-align: right;\n",
       "    }\n",
       "</style>\n",
       "<table border=\"1\" class=\"dataframe\">\n",
       "  <thead>\n",
       "    <tr style=\"text-align: right;\">\n",
       "      <th></th>\n",
       "      <th>0</th>\n",
       "      <th>1</th>\n",
       "      <th>2</th>\n",
       "      <th>3</th>\n",
       "      <th>4</th>\n",
       "      <th>5</th>\n",
       "    </tr>\n",
       "  </thead>\n",
       "  <tbody>\n",
       "    <tr>\n",
       "      <th>0</th>\n",
       "      <td>1</td>\n",
       "      <td>Q0</td>\n",
       "      <td>4dtk1kyh</td>\n",
       "      <td>1</td>\n",
       "      <td>0.046155</td>\n",
       "      <td>OHSU_R3_totalfusion</td>\n",
       "    </tr>\n",
       "    <tr>\n",
       "      <th>1</th>\n",
       "      <td>1</td>\n",
       "      <td>Q0</td>\n",
       "      <td>8ybfiz8f</td>\n",
       "      <td>2</td>\n",
       "      <td>0.043278</td>\n",
       "      <td>OHSU_R3_totalfusion</td>\n",
       "    </tr>\n",
       "    <tr>\n",
       "      <th>2</th>\n",
       "      <td>1</td>\n",
       "      <td>Q0</td>\n",
       "      <td>puqcbf8t</td>\n",
       "      <td>3</td>\n",
       "      <td>0.040643</td>\n",
       "      <td>OHSU_R3_totalfusion</td>\n",
       "    </tr>\n",
       "    <tr>\n",
       "      <th>3</th>\n",
       "      <td>1</td>\n",
       "      <td>Q0</td>\n",
       "      <td>yqeifpoy</td>\n",
       "      <td>4</td>\n",
       "      <td>0.040640</td>\n",
       "      <td>OHSU_R3_totalfusion</td>\n",
       "    </tr>\n",
       "    <tr>\n",
       "      <th>4</th>\n",
       "      <td>1</td>\n",
       "      <td>Q0</td>\n",
       "      <td>wim5q9a5</td>\n",
       "      <td>5</td>\n",
       "      <td>0.039433</td>\n",
       "      <td>OHSU_R3_totalfusion</td>\n",
       "    </tr>\n",
       "    <tr>\n",
       "      <th>...</th>\n",
       "      <td>...</td>\n",
       "      <td>...</td>\n",
       "      <td>...</td>\n",
       "      <td>...</td>\n",
       "      <td>...</td>\n",
       "      <td>...</td>\n",
       "    </tr>\n",
       "    <tr>\n",
       "      <th>61230</th>\n",
       "      <td>40</td>\n",
       "      <td>Q0</td>\n",
       "      <td>dxabs45r</td>\n",
       "      <td>1210</td>\n",
       "      <td>0.000947</td>\n",
       "      <td>OHSU_R3_totalfusion</td>\n",
       "    </tr>\n",
       "    <tr>\n",
       "      <th>61231</th>\n",
       "      <td>40</td>\n",
       "      <td>Q0</td>\n",
       "      <td>xkg0ylz8</td>\n",
       "      <td>1211</td>\n",
       "      <td>0.000946</td>\n",
       "      <td>OHSU_R3_totalfusion</td>\n",
       "    </tr>\n",
       "    <tr>\n",
       "      <th>61232</th>\n",
       "      <td>40</td>\n",
       "      <td>Q0</td>\n",
       "      <td>7zxuh0f1</td>\n",
       "      <td>1212</td>\n",
       "      <td>0.000945</td>\n",
       "      <td>OHSU_R3_totalfusion</td>\n",
       "    </tr>\n",
       "    <tr>\n",
       "      <th>61233</th>\n",
       "      <td>40</td>\n",
       "      <td>Q0</td>\n",
       "      <td>6wolrfvk</td>\n",
       "      <td>1213</td>\n",
       "      <td>0.000944</td>\n",
       "      <td>OHSU_R3_totalfusion</td>\n",
       "    </tr>\n",
       "    <tr>\n",
       "      <th>61234</th>\n",
       "      <td>40</td>\n",
       "      <td>Q0</td>\n",
       "      <td>3l4mntw2</td>\n",
       "      <td>1214</td>\n",
       "      <td>0.000943</td>\n",
       "      <td>OHSU_R3_totalfusion</td>\n",
       "    </tr>\n",
       "  </tbody>\n",
       "</table>\n",
       "<p>61235 rows × 6 columns</p>\n",
       "</div>"
      ],
      "text/plain": [
       "        0   1         2     3         4                    5\n",
       "0       1  Q0  4dtk1kyh     1  0.046155  OHSU_R3_totalfusion\n",
       "1       1  Q0  8ybfiz8f     2  0.043278  OHSU_R3_totalfusion\n",
       "2       1  Q0  puqcbf8t     3  0.040643  OHSU_R3_totalfusion\n",
       "3       1  Q0  yqeifpoy     4  0.040640  OHSU_R3_totalfusion\n",
       "4       1  Q0  wim5q9a5     5  0.039433  OHSU_R3_totalfusion\n",
       "...    ..  ..       ...   ...       ...                  ...\n",
       "61230  40  Q0  dxabs45r  1210  0.000947  OHSU_R3_totalfusion\n",
       "61231  40  Q0  xkg0ylz8  1211  0.000946  OHSU_R3_totalfusion\n",
       "61232  40  Q0  7zxuh0f1  1212  0.000945  OHSU_R3_totalfusion\n",
       "61233  40  Q0  6wolrfvk  1213  0.000944  OHSU_R3_totalfusion\n",
       "61234  40  Q0  3l4mntw2  1214  0.000943  OHSU_R3_totalfusion\n",
       "\n",
       "[61235 rows x 6 columns]"
      ]
     },
     "execution_count": 99,
     "metadata": {},
     "output_type": "execute_result"
    }
   ],
   "source": [
    "for i in tqdm(range(len(full_df_BERT)), position = 0, leave = True):\n",
    "    query = queries[int(full_df_BERT['topic'][i]) - 1]\n",
    "    docid = full_df_BERT['docid'][i]\n",
    "    rank = full_df_BERT['rank'][i]\n",
    "    score = full_df_BERT['score'][i]\n",
    "      \n",
    "    # Fetch raw document contents by docid:\n",
    "    rawdoc = JIndexReaderUtils.documentRaw(reader, JString(docid))\n",
    "    json_doc = json.dumps(rawdoc) # dict to string\n",
    "    doc_json = json.loads(json_doc)\n",
    "    doc_json = doc_json.replace('\\n        ', '')\n",
    "    doc_json = json.loads(doc_json)\n",
    "    \n",
    "    \n",
    "    \n",
    "    paragraph_states = []\n",
    "    #Load document as title + abstract + paragraph\n",
    "    try:\n",
    "        abstract_doc = doc_json['abstract'][0]['text']\n",
    "    except:\n",
    "        abstract_doc = ''\n",
    "    try:\n",
    "        title_doc = str(doc_json['metadata']['title']).strip(\"[]\")\n",
    "    except:\n",
    "        title_doc = str(doc_json['title']).strip(\"[]\")"
   ]
  }
 ],
 "metadata": {
  "kernelspec": {
   "display_name": "Python 3",
   "language": "python",
   "name": "python3"
  },
  "language_info": {
   "codemirror_mode": {
    "name": "ipython",
    "version": 3
   },
   "file_extension": ".py",
   "mimetype": "text/x-python",
   "name": "python",
   "nbconvert_exporter": "python",
   "pygments_lexer": "ipython3",
   "version": "3.6.10"
  },
  "varInspector": {
   "cols": {
    "lenName": 16,
    "lenType": 16,
    "lenVar": 40
   },
   "kernels_config": {
    "python": {
     "delete_cmd_postfix": "",
     "delete_cmd_prefix": "del ",
     "library": "var_list.py",
     "varRefreshCmd": "print(var_dic_list())"
    },
    "r": {
     "delete_cmd_postfix": ") ",
     "delete_cmd_prefix": "rm(",
     "library": "var_list.r",
     "varRefreshCmd": "cat(var_dic_list()) "
    }
   },
   "types_to_exclude": [
    "module",
    "function",
    "builtin_function_or_method",
    "instance",
    "_Feature"
   ],
   "window_display": false
  }
 },
 "nbformat": 4,
 "nbformat_minor": 4
}
