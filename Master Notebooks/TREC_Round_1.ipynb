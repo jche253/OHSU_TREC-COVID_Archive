{
 "cells": [
  {
   "cell_type": "code",
   "execution_count": 1,
   "metadata": {},
   "outputs": [],
   "source": [
    "import pandas as pd\n",
    "import numpy as np\n",
    "#import torch\n",
    "import os\n",
    "from tqdm.auto import tqdm\n",
    "import json\n",
    "import gzip\n",
    "\n",
    "#Pyserini search\n",
    "from pyserini.search import pysearch\n",
    "\n",
    "#XML parsing\n",
    "import xml.etree.ElementTree as ET\n",
    "\n",
    "#TREC_EVAL\n",
    "from trectools import misc, TrecRun, TrecQrel, procedures"
   ]
  },
  {
   "cell_type": "code",
   "execution_count": 35,
   "metadata": {},
   "outputs": [],
   "source": [
    "Pyserini_files = r'C:\\Users\\Jimmy Chen\\Box\\COVID19\\CORD19\\Pyserini_Lucene_CORD_index'\n",
    "COVID_INDEX_full_text = os.path.join(Pyserini_files, 'lucene-index-covid-full-text-2020-04-10')\n",
    "COVID_INDEX_paragraph = os.path.join(Pyserini_files, 'lucene-index-covid-paragraph-2020-04-10')\n",
    "TREC_COVID_root = r'C:\\Users\\Jimmy Chen\\Box\\COVID19\\CORD19\\TREC_COVID'\n",
    "#Load CSV\n",
    "R1_topics= pd.read_csv(os.path.join(Pyserini_files, 'Round1_Topics.csv'))"
   ]
  },
  {
   "cell_type": "code",
   "execution_count": 36,
   "metadata": {},
   "outputs": [],
   "source": [
    "full_searcher = pysearch.SimpleSearcher(COVID_INDEX_full_text)\n",
    "\n",
    "full_searcher.set_bm25_similarity(k1=1.5, b=0.4)\n",
    "full_searcher.set_lm_dirichlet_similarity(mu = 2000)\n",
    "full_searcher.set_rm3_reranker(fb_terms=20, fb_docs=10, original_query_weight=0.7)"
   ]
  },
  {
   "cell_type": "code",
   "execution_count": 4,
   "metadata": {},
   "outputs": [],
   "source": [
    "#Query design\n",
    "from pyserini.analysis.pyanalysis import get_lucene_analyzer, Analyzer\n",
    "import nltk\n",
    "from nltk.corpus import stopwords \n",
    "\n",
    "#Stopwords for tokenization - manual review\n",
    "stopwords_manual = ['seek', 'seeking', 'look', 'looking', 'studies', 'study', 'information', \n",
    "             'about', 'range', 'studies', 'its', 'coronaviru',\n",
    "            'other', '2', '19', 'well', ' will', 'from', 'have', 'more', 'covid', 'any', 'what', \n",
    "            'should', 'may', 'due', 'help', 'non', 's', 'those', 'people', 'ways', 'all', 'gain',\n",
    "            'possible', 'toward', 'specifically', 'learned', 'number', 'proportion', 'including',\n",
    "            'etc', 'still', 'while', 'human', 'specific', 'result', 'results', 'assess', 'need',\n",
    "            'between', 'take', 'taking', 'patient', 'type', 'cause' ,'frequency', 'less', 'face',\n",
    "            'likely', 'infect', 'upon', 'develop', 'represent', 'promising', 'step', 'related',\n",
    "            'papers', 'describe', 'also', 'relevant', 'who', 'show', 'science', 'basic', 'complete',\n",
    "            'do', 'how', 'been', 'against', 'use', 'to', 'had', 'has', 'approach', 'Studies', 'Stud', 'Inst', 'Divi' ,'Thomae',\n",
    "            'Brigham', 'Young', 'Univ', 'studies', 'volition', 'severe acute respiratory syndrome', 'affect', 'affected',\n",
    "            'focus', 'discuss', 'speculative', 'must', 'include', 'draw', 'everyday', 'person', 'another', 'everyday', 'kind']\n",
    "\n",
    "stopwords = list(set(stopwords.words('english')))\n",
    "stopwords_manual = list(np.append(stopwords_manual, stopwords))\n",
    "\n",
    "token_narrative_list = []\n",
    "\n",
    "#Extract important narrative text\n",
    "for i in range(len(R1_topics)):\n",
    "    analyzer = Analyzer(get_lucene_analyzer(stemmer='krovetz'))\n",
    "    tokens = analyzer.analyze(R1_topics['Narrative'][i])\n",
    "    #Remove stopwords and duplicates from token\n",
    "    tokens = [w for w in tokens if not w in stopwords_manual]\n",
    "    tokens = list(set(tokens))\n",
    "    token_narrative_list.append(tokens)\n",
    "\n",
    "#Tokenize question\n",
    "token_question_list = []\n",
    "\n",
    "#Extract important question text - NOT USED YET\n",
    "for i in range(len(R1_topics)):\n",
    "    analyzer = Analyzer(get_lucene_analyzer(stemmer='krovetz'))\n",
    "    tokens = analyzer.analyze(R1_topics['Question'][i])\n",
    "    #Remove stopwords and duplicates from token\n",
    "    tokens = [w for w in tokens if not w in stopwords_manual]\n",
    "    tokens = list(set(tokens))\n",
    "    token_question_list.append(tokens)\n",
    "\n",
    "#Anserini searcher can take both query and keywords\n",
    "keywords_list2 = '2019-nCoV, SARS-CoV-2, COVID-19'\n",
    "keywords_list = 'COVID-19'"
   ]
  },
  {
   "cell_type": "code",
   "execution_count": 5,
   "metadata": {},
   "outputs": [],
   "source": [
    "#Manual keywords\n",
    "manual = [\n",
    "            'originated', #1\n",
    "            'temperature, humidity',\n",
    "            'cross-reactive, crossprotective, cross immunity, specific antibody response, neutralize, adaptive immunity',\n",
    "            'harms, mortality, dead, risk factors',\n",
    "            'non-human',\n",
    "            'identification, detection, PCR, point of care',\n",
    "            'serology, antigen, antibodies',\n",
    "            'ascertainment, underestimate',\n",
    "            'cov, canadian',\n",
    "            'home, restriction, social-distancing', #10\n",
    "            'resources, stratification',\n",
    "            'closure, restricted, movement, gathering',\n",
    "            'source, route, transmitted',\n",
    "            'super-spreader',\n",
    "            'aerosol, contact, droplet',\n",
    "            'live, days, contaminated',\n",
    "            'randomized, randomised, controlled',\n",
    "            'personal, protective, equipment, PPE, face',\n",
    "            'hygiene, alcohol-based',\n",
    "            'ARBs, blocker', #20\n",
    "            'death',\n",
    "            'coronary',\n",
    "            'blood, pressure',\n",
    "            'mellitus',\n",
    "            '',\n",
    "            'onset, new, presentation',\n",
    "            'SARS-CoV-2, 2019-nCoV',\n",
    "            'chloroquine ',\n",
    "            'binding',\n",
    "            ''\n",
    "            ]"
   ]
  },
  {
   "cell_type": "code",
   "execution_count": 37,
   "metadata": {},
   "outputs": [],
   "source": [
    "#Extract search results from the searcher\n",
    "def get_search_res_list(index_searcher, n_papers, paragraph=False):\n",
    "    docid_list = []\n",
    "    rank_list = []\n",
    "    score_list = []\n",
    "    topic_id_list = []\n",
    "    title_list = []\n",
    "    doi_list = []\n",
    "    \n",
    "    #Search more papers if searching the paragraph index\n",
    "    if (paragraph == True):\n",
    "        n_papers = n_papers * 15\n",
    "\n",
    "    #Search all 3 indices (abstract, full text, and paragraphs) using question as a query\n",
    "    for ii, row in R1_topics.iterrows():\n",
    "        query = R1_topics['Query'][ii]\n",
    "        question = R1_topics['Question'][ii]\n",
    "        topic_num = R1_topics['Topic'][ii]\n",
    "        token_topic = ', '.join(token_narrative_list[ii])\n",
    "        token_question = ','.join(token_question_list[ii])\n",
    "        manual_query = manual[ii] \n",
    "        input_query = query + '. ' + token_question + '. ' +  token_topic + ', ' + manual_query + ' . ' + keywords_list \n",
    "\n",
    "        hits = index_searcher.search(q = input_query, k=n_papers)\n",
    "        print(topic_num)\n",
    "        #Each key is a qid, value is the anserini search list\n",
    "        for i in tqdm(range(0, n_papers), position = 0, leave = True):\n",
    "            topic_id_list.append(topic_num)\n",
    "            if (paragraph == True):\n",
    "                docid_list.append(str(hits[i].docid).split('.')[0])\n",
    "            else:\n",
    "                docid_list.append(hits[i].docid)\n",
    "            rank_list.append(str(i+1))\n",
    "            score_list.append(hits[i].score)\n",
    "            title_list.append(hits[i].lucene_document.get(\"title\"))\n",
    "            doi_list.append('https://doi.org/' + str(hits[i].lucene_document.get(\"doi\")))  \n",
    "\n",
    "    return topic_id_list, docid_list, rank_list, score_list, title_list, doi_list"
   ]
  },
  {
   "cell_type": "code",
   "execution_count": 38,
   "metadata": {
    "scrolled": true
   },
   "outputs": [
    {
     "name": "stdout",
     "output_type": "stream",
     "text": [
      "1\n"
     ]
    },
    {
     "data": {
      "application/vnd.jupyter.widget-view+json": {
       "model_id": "a80299919629424e8e1badfe8a00856f",
       "version_major": 2,
       "version_minor": 0
      },
      "text/plain": [
       "HBox(children=(FloatProgress(value=0.0, max=3000.0), HTML(value='')))"
      ]
     },
     "metadata": {},
     "output_type": "display_data"
    },
    {
     "name": "stdout",
     "output_type": "stream",
     "text": [
      "\n",
      "2\n"
     ]
    },
    {
     "data": {
      "application/vnd.jupyter.widget-view+json": {
       "model_id": "51eac71342674a6bbdc6ff6a065d73e3",
       "version_major": 2,
       "version_minor": 0
      },
      "text/plain": [
       "HBox(children=(FloatProgress(value=0.0, max=3000.0), HTML(value='')))"
      ]
     },
     "metadata": {},
     "output_type": "display_data"
    },
    {
     "name": "stdout",
     "output_type": "stream",
     "text": [
      "\n",
      "3\n"
     ]
    },
    {
     "data": {
      "application/vnd.jupyter.widget-view+json": {
       "model_id": "1175fc36cad34e088fa45a48866843f5",
       "version_major": 2,
       "version_minor": 0
      },
      "text/plain": [
       "HBox(children=(FloatProgress(value=0.0, max=3000.0), HTML(value='')))"
      ]
     },
     "metadata": {},
     "output_type": "display_data"
    },
    {
     "name": "stdout",
     "output_type": "stream",
     "text": [
      "\n",
      "4\n"
     ]
    },
    {
     "data": {
      "application/vnd.jupyter.widget-view+json": {
       "model_id": "878ab1c1a602443ebea9bcb4e4347c54",
       "version_major": 2,
       "version_minor": 0
      },
      "text/plain": [
       "HBox(children=(FloatProgress(value=0.0, max=3000.0), HTML(value='')))"
      ]
     },
     "metadata": {},
     "output_type": "display_data"
    },
    {
     "name": "stdout",
     "output_type": "stream",
     "text": [
      "\n",
      "5\n"
     ]
    },
    {
     "data": {
      "application/vnd.jupyter.widget-view+json": {
       "model_id": "793f9dce03814cb9b31047ad53749ee0",
       "version_major": 2,
       "version_minor": 0
      },
      "text/plain": [
       "HBox(children=(FloatProgress(value=0.0, max=3000.0), HTML(value='')))"
      ]
     },
     "metadata": {},
     "output_type": "display_data"
    },
    {
     "name": "stdout",
     "output_type": "stream",
     "text": [
      "\n",
      "6\n"
     ]
    },
    {
     "data": {
      "application/vnd.jupyter.widget-view+json": {
       "model_id": "7f347889712a4644a85c848ad05a8680",
       "version_major": 2,
       "version_minor": 0
      },
      "text/plain": [
       "HBox(children=(FloatProgress(value=0.0, max=3000.0), HTML(value='')))"
      ]
     },
     "metadata": {},
     "output_type": "display_data"
    },
    {
     "name": "stdout",
     "output_type": "stream",
     "text": [
      "\n",
      "7\n"
     ]
    },
    {
     "data": {
      "application/vnd.jupyter.widget-view+json": {
       "model_id": "4bc1d6be64614cceac89d5aba5de4466",
       "version_major": 2,
       "version_minor": 0
      },
      "text/plain": [
       "HBox(children=(FloatProgress(value=0.0, max=3000.0), HTML(value='')))"
      ]
     },
     "metadata": {},
     "output_type": "display_data"
    },
    {
     "name": "stdout",
     "output_type": "stream",
     "text": [
      "\n",
      "8\n"
     ]
    },
    {
     "data": {
      "application/vnd.jupyter.widget-view+json": {
       "model_id": "b1b5da4a939947f79240b612d8d4b1cd",
       "version_major": 2,
       "version_minor": 0
      },
      "text/plain": [
       "HBox(children=(FloatProgress(value=0.0, max=3000.0), HTML(value='')))"
      ]
     },
     "metadata": {},
     "output_type": "display_data"
    },
    {
     "name": "stdout",
     "output_type": "stream",
     "text": [
      "\n",
      "9\n"
     ]
    },
    {
     "data": {
      "application/vnd.jupyter.widget-view+json": {
       "model_id": "0d00c0680bba495790598b54fc253ca6",
       "version_major": 2,
       "version_minor": 0
      },
      "text/plain": [
       "HBox(children=(FloatProgress(value=0.0, max=3000.0), HTML(value='')))"
      ]
     },
     "metadata": {},
     "output_type": "display_data"
    },
    {
     "name": "stdout",
     "output_type": "stream",
     "text": [
      "\n",
      "10\n"
     ]
    },
    {
     "data": {
      "application/vnd.jupyter.widget-view+json": {
       "model_id": "45fb88954366478d852c870bd34af49b",
       "version_major": 2,
       "version_minor": 0
      },
      "text/plain": [
       "HBox(children=(FloatProgress(value=0.0, max=3000.0), HTML(value='')))"
      ]
     },
     "metadata": {},
     "output_type": "display_data"
    },
    {
     "name": "stdout",
     "output_type": "stream",
     "text": [
      "\n",
      "11\n"
     ]
    },
    {
     "data": {
      "application/vnd.jupyter.widget-view+json": {
       "model_id": "fec4f191886240b4afeb91930a7441b6",
       "version_major": 2,
       "version_minor": 0
      },
      "text/plain": [
       "HBox(children=(FloatProgress(value=0.0, max=3000.0), HTML(value='')))"
      ]
     },
     "metadata": {},
     "output_type": "display_data"
    },
    {
     "name": "stdout",
     "output_type": "stream",
     "text": [
      "\n",
      "12\n"
     ]
    },
    {
     "data": {
      "application/vnd.jupyter.widget-view+json": {
       "model_id": "28ff910235c844d7bf729286a00abfa5",
       "version_major": 2,
       "version_minor": 0
      },
      "text/plain": [
       "HBox(children=(FloatProgress(value=0.0, max=3000.0), HTML(value='')))"
      ]
     },
     "metadata": {},
     "output_type": "display_data"
    },
    {
     "name": "stdout",
     "output_type": "stream",
     "text": [
      "\n",
      "13\n"
     ]
    },
    {
     "data": {
      "application/vnd.jupyter.widget-view+json": {
       "model_id": "1da5b5463ed7431a96dad31cd7190f11",
       "version_major": 2,
       "version_minor": 0
      },
      "text/plain": [
       "HBox(children=(FloatProgress(value=0.0, max=3000.0), HTML(value='')))"
      ]
     },
     "metadata": {},
     "output_type": "display_data"
    },
    {
     "name": "stdout",
     "output_type": "stream",
     "text": [
      "\n",
      "14\n"
     ]
    },
    {
     "data": {
      "application/vnd.jupyter.widget-view+json": {
       "model_id": "d4b9c5673ac94ea7bcdc611a281de560",
       "version_major": 2,
       "version_minor": 0
      },
      "text/plain": [
       "HBox(children=(FloatProgress(value=0.0, max=3000.0), HTML(value='')))"
      ]
     },
     "metadata": {},
     "output_type": "display_data"
    },
    {
     "name": "stdout",
     "output_type": "stream",
     "text": [
      "\n",
      "15\n"
     ]
    },
    {
     "data": {
      "application/vnd.jupyter.widget-view+json": {
       "model_id": "94ec8f32a41e4d1b8c13ce677f289796",
       "version_major": 2,
       "version_minor": 0
      },
      "text/plain": [
       "HBox(children=(FloatProgress(value=0.0, max=3000.0), HTML(value='')))"
      ]
     },
     "metadata": {},
     "output_type": "display_data"
    },
    {
     "name": "stdout",
     "output_type": "stream",
     "text": [
      "\n",
      "16\n"
     ]
    },
    {
     "data": {
      "application/vnd.jupyter.widget-view+json": {
       "model_id": "ca882fba01384606b84964b67a6159da",
       "version_major": 2,
       "version_minor": 0
      },
      "text/plain": [
       "HBox(children=(FloatProgress(value=0.0, max=3000.0), HTML(value='')))"
      ]
     },
     "metadata": {},
     "output_type": "display_data"
    },
    {
     "name": "stdout",
     "output_type": "stream",
     "text": [
      "\n",
      "17\n"
     ]
    },
    {
     "data": {
      "application/vnd.jupyter.widget-view+json": {
       "model_id": "12976389f3234e0592f4f950155f48e5",
       "version_major": 2,
       "version_minor": 0
      },
      "text/plain": [
       "HBox(children=(FloatProgress(value=0.0, max=3000.0), HTML(value='')))"
      ]
     },
     "metadata": {},
     "output_type": "display_data"
    },
    {
     "name": "stdout",
     "output_type": "stream",
     "text": [
      "\n",
      "18\n"
     ]
    },
    {
     "data": {
      "application/vnd.jupyter.widget-view+json": {
       "model_id": "4b59846b18bd4e169ca93b41b2acbc15",
       "version_major": 2,
       "version_minor": 0
      },
      "text/plain": [
       "HBox(children=(FloatProgress(value=0.0, max=3000.0), HTML(value='')))"
      ]
     },
     "metadata": {},
     "output_type": "display_data"
    },
    {
     "name": "stdout",
     "output_type": "stream",
     "text": [
      "\n",
      "19\n"
     ]
    },
    {
     "data": {
      "application/vnd.jupyter.widget-view+json": {
       "model_id": "cbdacbfc8b364ccf8b3ea715f97afa39",
       "version_major": 2,
       "version_minor": 0
      },
      "text/plain": [
       "HBox(children=(FloatProgress(value=0.0, max=3000.0), HTML(value='')))"
      ]
     },
     "metadata": {},
     "output_type": "display_data"
    },
    {
     "name": "stdout",
     "output_type": "stream",
     "text": [
      "\n",
      "20\n"
     ]
    },
    {
     "data": {
      "application/vnd.jupyter.widget-view+json": {
       "model_id": "746a3d658bf142f1875d2eb12790cae0",
       "version_major": 2,
       "version_minor": 0
      },
      "text/plain": [
       "HBox(children=(FloatProgress(value=0.0, max=3000.0), HTML(value='')))"
      ]
     },
     "metadata": {},
     "output_type": "display_data"
    },
    {
     "name": "stdout",
     "output_type": "stream",
     "text": [
      "\n",
      "21\n"
     ]
    },
    {
     "data": {
      "application/vnd.jupyter.widget-view+json": {
       "model_id": "e8a5faf77c9641ca8f42ae649bd858c9",
       "version_major": 2,
       "version_minor": 0
      },
      "text/plain": [
       "HBox(children=(FloatProgress(value=0.0, max=3000.0), HTML(value='')))"
      ]
     },
     "metadata": {},
     "output_type": "display_data"
    },
    {
     "name": "stdout",
     "output_type": "stream",
     "text": [
      "\n",
      "22\n"
     ]
    },
    {
     "data": {
      "application/vnd.jupyter.widget-view+json": {
       "model_id": "12ed23e5a26146a79ae041f28ca276a9",
       "version_major": 2,
       "version_minor": 0
      },
      "text/plain": [
       "HBox(children=(FloatProgress(value=0.0, max=3000.0), HTML(value='')))"
      ]
     },
     "metadata": {},
     "output_type": "display_data"
    },
    {
     "name": "stdout",
     "output_type": "stream",
     "text": [
      "\n",
      "23\n"
     ]
    },
    {
     "data": {
      "application/vnd.jupyter.widget-view+json": {
       "model_id": "1288373e2789445ab3bcf2cf4eeb2dc2",
       "version_major": 2,
       "version_minor": 0
      },
      "text/plain": [
       "HBox(children=(FloatProgress(value=0.0, max=3000.0), HTML(value='')))"
      ]
     },
     "metadata": {},
     "output_type": "display_data"
    },
    {
     "name": "stdout",
     "output_type": "stream",
     "text": [
      "\n",
      "24\n"
     ]
    },
    {
     "data": {
      "application/vnd.jupyter.widget-view+json": {
       "model_id": "cfac584ccbb44de8b939f97833cee696",
       "version_major": 2,
       "version_minor": 0
      },
      "text/plain": [
       "HBox(children=(FloatProgress(value=0.0, max=3000.0), HTML(value='')))"
      ]
     },
     "metadata": {},
     "output_type": "display_data"
    },
    {
     "name": "stdout",
     "output_type": "stream",
     "text": [
      "\n",
      "25\n"
     ]
    },
    {
     "data": {
      "application/vnd.jupyter.widget-view+json": {
       "model_id": "2a0ddd702f5e44f497c2cb2093a99d25",
       "version_major": 2,
       "version_minor": 0
      },
      "text/plain": [
       "HBox(children=(FloatProgress(value=0.0, max=3000.0), HTML(value='')))"
      ]
     },
     "metadata": {},
     "output_type": "display_data"
    },
    {
     "name": "stdout",
     "output_type": "stream",
     "text": [
      "\n",
      "26\n"
     ]
    },
    {
     "data": {
      "application/vnd.jupyter.widget-view+json": {
       "model_id": "46bc3e6f3d4f47f8b1c3762a6fced361",
       "version_major": 2,
       "version_minor": 0
      },
      "text/plain": [
       "HBox(children=(FloatProgress(value=0.0, max=3000.0), HTML(value='')))"
      ]
     },
     "metadata": {},
     "output_type": "display_data"
    },
    {
     "name": "stdout",
     "output_type": "stream",
     "text": [
      "\n",
      "27\n"
     ]
    },
    {
     "data": {
      "application/vnd.jupyter.widget-view+json": {
       "model_id": "722187c222964a9ebe1eeb8d25a18a6d",
       "version_major": 2,
       "version_minor": 0
      },
      "text/plain": [
       "HBox(children=(FloatProgress(value=0.0, max=3000.0), HTML(value='')))"
      ]
     },
     "metadata": {},
     "output_type": "display_data"
    },
    {
     "name": "stdout",
     "output_type": "stream",
     "text": [
      "\n",
      "28\n"
     ]
    },
    {
     "data": {
      "application/vnd.jupyter.widget-view+json": {
       "model_id": "178e63412ec6453b91eeb997795e7f0d",
       "version_major": 2,
       "version_minor": 0
      },
      "text/plain": [
       "HBox(children=(FloatProgress(value=0.0, max=3000.0), HTML(value='')))"
      ]
     },
     "metadata": {},
     "output_type": "display_data"
    },
    {
     "name": "stdout",
     "output_type": "stream",
     "text": [
      "\n",
      "29\n"
     ]
    },
    {
     "data": {
      "application/vnd.jupyter.widget-view+json": {
       "model_id": "d6ae13f3532f4579b9f0917fca5ca5fc",
       "version_major": 2,
       "version_minor": 0
      },
      "text/plain": [
       "HBox(children=(FloatProgress(value=0.0, max=3000.0), HTML(value='')))"
      ]
     },
     "metadata": {},
     "output_type": "display_data"
    },
    {
     "name": "stdout",
     "output_type": "stream",
     "text": [
      "\n",
      "30\n"
     ]
    },
    {
     "data": {
      "application/vnd.jupyter.widget-view+json": {
       "model_id": "a0ce72474f114fa2b8b9afea6c787c26",
       "version_major": 2,
       "version_minor": 0
      },
      "text/plain": [
       "HBox(children=(FloatProgress(value=0.0, max=3000.0), HTML(value='')))"
      ]
     },
     "metadata": {},
     "output_type": "display_data"
    },
    {
     "name": "stdout",
     "output_type": "stream",
     "text": [
      "\n"
     ]
    }
   ],
   "source": [
    "#Search extra - will drop excess documents later since the index has duplicates\n",
    "n_papers = 3000\n",
    "\n",
    "#Each key is a qid, value is the anserini search list\n",
    "full_topic, full_docid, full_rank, full_score, full_title, full_doi = get_search_res_list(full_searcher, n_papers, paragraph=False)\n",
    "     "
   ]
  },
  {
   "cell_type": "code",
   "execution_count": 44,
   "metadata": {},
   "outputs": [],
   "source": [
    "#Make the dataframe TREC_EVAL compliant\n",
    "#Make dataframe from lists generated from search\n",
    "def TREC_df(topic_id_list, docid_list, rank_list, score_list, title_list, doi_list, run_param):\n",
    "    #Run-tag for TREC run requirements\n",
    "    Q0 = ['q0'] * len(topic_id_list) \n",
    "    qid = [run_param] * len(topic_id_list)\n",
    "\n",
    "    df  = {'topic': topic_id_list , 'q0':Q0, 'docid':docid_list, 'rank':rank_list, \n",
    "                                 'score':score_list, 'title': title_list, 'doi':doi_list, 'qid':qid}\n",
    "    df = pd.DataFrame(df)\n",
    "    df = df[['topic', 'q0', 'docid', 'rank', 'score', 'title', 'doi', 'qid']]\n",
    "    \n",
    "\n",
    "    #Remove duplicates\n",
    "    df.drop_duplicates(subset=['topic', 'docid'], keep='first', inplace = True)\n",
    "    df.reset_index(drop=True, inplace=True) #Reset indexes to match row\n",
    "    \n",
    "    #Re-rank\n",
    "    df['rank'] = df.groupby('topic')['score'].rank(ascending=False)\n",
    "    df['rank'] = df['rank'].astype(int)\n",
    "    \n",
    "    #For each topic, save up to 1000 searches (since we drop duplicates)\n",
    "    #TODO: Temporary condition, cut down to 2000 for BERT\n",
    "    #df = df[df['rank'] <= 2000] \n",
    "    #Reset index\n",
    "    df.reset_index(drop=True, inplace=True)\n",
    "    \n",
    "    #Get columns for submission\n",
    "    #df = df[['topic', 'q0', 'docid', 'rank', 'score', 'qid']]\n",
    "    \n",
    "    return df"
   ]
  },
  {
   "cell_type": "code",
   "execution_count": 45,
   "metadata": {},
   "outputs": [],
   "source": [
    "#Run-tag for TREC run requirements\n",
    "full_df = TREC_df(full_topic, full_docid, full_rank, full_score, full_title, full_doi, 'R1_BERT')"
   ]
  },
  {
   "cell_type": "code",
   "execution_count": 46,
   "metadata": {},
   "outputs": [],
   "source": [
    "#Save output\n",
    "results_folder = r'C:\\Users\\Jimmy Chen\\Box\\COVID19\\CORD19\\TREC_COVID\\Results_Before_BERT'\n",
    "if(os.path.exists(results_folder) == False):\n",
    "    os.mkdir(results_folder)\n",
    "#full_df.to_csv(os.path.join(results_folder, 'R1_forBert.txt'), sep=' ', index=False, header=None)\n",
    "\n",
    "full_df.to_csv(os.path.join(results_folder, 'R1_forBert.txt'), sep=' ', index=False, header=True)"
   ]
  },
  {
   "cell_type": "code",
   "execution_count": 22,
   "metadata": {},
   "outputs": [],
   "source": [
    "def trectools_eval(res_fol, qrels_file):\n",
    "    \n",
    "    qrels = TrecQrel(qrels_file)\n",
    "\n",
    "    #Generate metrics for all 3 indices (1000 docs retrieved for each)\n",
    "    runs = procedures.list_of_runs_from_path(res_fol, \"*.txt\")\n",
    "    results = procedures.evaluate_runs(runs, qrels, per_query=True)\n",
    "    p5 = procedures.extract_metric_from_results(results, \"P_5\")\n",
    "    p10 = procedures.extract_metric_from_results(results, \"P_10\")\n",
    "    Bpref = procedures.extract_metric_from_results(results, \"bpref\")\n",
    "    Mean_avgP = procedures.extract_metric_from_results(results, 'map')\n",
    "\n",
    "    #Aggregate results to dataframe\n",
    "    runs_names = [os.path.basename(str(x)).split('.')[0] for x in runs]\n",
    "    p5_list = []\n",
    "    p10_list = []\n",
    "    map_list = []\n",
    "    bpref_list = []\n",
    "    ndcg_list = []\n",
    "\n",
    "    for i in range(len(runs)):\n",
    "        p5_list.append(p5[i][1])\n",
    "        p10_list.append(p10[i][1])\n",
    "        map_list.append(Mean_avgP[i][1])\n",
    "        bpref_list.append(Bpref[i][1])\n",
    "\n",
    "    Result_df  = {'Run':runs_names, 'P@5': p5_list, 'P@10': p10_list, 'MAP': map_list, 'Bpref': bpref_list}\n",
    "    Result_df = pd.DataFrame(Result_df)\n",
    "    \n",
    "    print(Result_df.sort_values('Bpref'))"
   ]
  },
  {
   "cell_type": "code",
   "execution_count": 42,
   "metadata": {
    "scrolled": true
   },
   "outputs": [
    {
     "name": "stdout",
     "output_type": "stream",
     "text": [
      "Found 4 runs in path C:\\Users\\Jimmy Chen\\Box\\COVID19\\CORD19\\TREC_COVID\\Results_Before_BERT\n",
      "            Run       P@5      P@10       MAP     Bpref\n",
      "0   abstract_R1  0.493333  0.463333  0.220424  0.425081\n",
      "2  paragraph_R1  0.566667  0.466667  0.265508  0.444095\n",
      "1       full_R1  0.700000  0.626667  0.277332  0.448437\n",
      "3    R1_forBert  0.746667  0.683333  0.327621  0.530201\n"
     ]
    }
   ],
   "source": [
    "trectools_eval(res_fol= r'C:\\Users\\Jimmy Chen\\Box\\COVID19\\CORD19\\TREC_COVID\\Results_Before_BERT',\n",
    "               qrels_file=r'C:\\Users\\Jimmy Chen\\Box\\COVID19\\CORD19\\TREC_COVID\\Round_1_Results\\qrels-1.txt')"
   ]
  }
 ],
 "metadata": {
  "kernelspec": {
   "display_name": "Python 3",
   "language": "python",
   "name": "python3"
  },
  "language_info": {
   "codemirror_mode": {
    "name": "ipython",
    "version": 3
   },
   "file_extension": ".py",
   "mimetype": "text/x-python",
   "name": "python",
   "nbconvert_exporter": "python",
   "pygments_lexer": "ipython3",
   "version": "3.7.4"
  },
  "varInspector": {
   "cols": {
    "lenName": 16,
    "lenType": 16,
    "lenVar": 40
   },
   "kernels_config": {
    "python": {
     "delete_cmd_postfix": "",
     "delete_cmd_prefix": "del ",
     "library": "var_list.py",
     "varRefreshCmd": "print(var_dic_list())"
    },
    "r": {
     "delete_cmd_postfix": ") ",
     "delete_cmd_prefix": "rm(",
     "library": "var_list.r",
     "varRefreshCmd": "cat(var_dic_list()) "
    }
   },
   "types_to_exclude": [
    "module",
    "function",
    "builtin_function_or_method",
    "instance",
    "_Feature"
   ],
   "window_display": false
  }
 },
 "nbformat": 4,
 "nbformat_minor": 4
}
